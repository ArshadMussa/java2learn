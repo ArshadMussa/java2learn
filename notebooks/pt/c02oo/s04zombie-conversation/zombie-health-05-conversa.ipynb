{
 "cells": [
  {
   "cell_type": "markdown",
   "metadata": {},
   "source": [
    "# Zumbie Health\n",
    "\n",
    "## Conversa entre Zumbis\n",
    "\n",
    "Considere que zumbis podem conversar entre si através de um método especial `pergunta`, este método recebe uma pergunta (`String`) e retorna uma resposta (`String`). Podem ser feitas perguntas como a idade, nome e estado. Por exemplo, o método pode receber a pergunta:\n",
    "~~~\n",
    "\"Qual a sua idade?\"\n",
    "~~~\n",
    "\n",
    "e então retorna a idade.\n",
    "\n",
    "Implemente este método nas três classes (`GarotoZumbi`, `Monstro` e `Perfeito`)."
   ]
  },
  {
   "cell_type": "code",
   "execution_count": null,
   "metadata": {},
   "outputs": [],
   "source": []
  },
  {
   "cell_type": "markdown",
   "metadata": {},
   "source": [
    "## Engajando zumbis na conversa\n",
    "\n",
    "Escreva um método que permita *engajar* dois objetos zumbi em uma conversa. Após engajar dois zumbis, um deles deve ser capaz de contactar o outro para fazer perguntas.\n",
    "\n",
    "Construa uma classe zumbi entrevistador que faça perguntas a outros zumbis para selecionar o mais velho entre eles. Se dois ou mais zumbis têm a mesma idade é dado preferência ao primeiro.\n",
    "\n",
    "Escreva um programa em que um zumbi entrevistador entreviste três zumbis candidatos. Ele deve imprimir uma mensagem indicando o nome do mais velho entre os zumbis. Você deve *engajar*  cada um dos candidatos com o entrevistador, que informará o resultado quando o método `resultado` for acionado."
   ]
  },
  {
   "cell_type": "code",
   "execution_count": null,
   "metadata": {},
   "outputs": [],
   "source": []
  }
 ],
 "metadata": {
  "kernelspec": {
   "display_name": "Java",
   "language": "java",
   "name": "java"
  },
  "language_info": {
   "codemirror_mode": "java",
   "file_extension": ".java",
   "mimetype": "text/x-java-source",
   "name": "Java",
   "pygments_lexer": "java",
   "version": "10.0.1+10-Debian-4"
  }
 },
 "nbformat": 4,
 "nbformat_minor": 2
}
