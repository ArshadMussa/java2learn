{
 "cells": [
  {
   "cell_type": "markdown",
   "metadata": {},
   "source": [
    "# Sobrecarga de Métodos\n",
    "\n",
    "## Assinatura de um Método\n",
    "\n",
    "* Formada por:\n",
    "  * nome do método\n",
    "  * número de parâmetros\n",
    "  * tipos dos parâmetros (considerando a ordem)\n",
    "* Métodos tenham o mesmo nome, mesmo número de parâmetros com os mesmos tipos (na ordem) têm a mesma assinatura\n",
    "\n",
    "## Sobrecarga de Métodos\n",
    "\n",
    "* Técnica que envolve criar vários métodos com o **mesmo nome** e implementações diferentes\n",
    "* Tipos:\n",
    "  * sobrecarga na mesma classe\n",
    "    * assinaturas diferentes\n",
    "  * sobrecarga em classes herdeiras\n",
    "    * assinaturas podem ser iguais ou diferentes\n",
    "    * tratado na aula de polimorfismo"
   ]
  },
  {
   "cell_type": "code",
   "execution_count": 1,
   "metadata": {},
   "outputs": [
    {
     "data": {
      "text/plain": [
       "com.twosigma.beaker.javash.bkrc2b204f3.Horario"
      ]
     },
     "execution_count": 1,
     "metadata": {},
     "output_type": "execute_result"
    }
   ],
   "source": [
    "public class Horario {\n",
    "   private int hora, minuto, segundo;\n",
    "   \n",
    "   public void define() {\n",
    "      this.define(0, 0, 0);\n",
    "   }\n",
    "   \n",
    "   public void define(int hora, int minuto, int segundo) {\n",
    "      this.hora = hora;\n",
    "      this.minuto = minuto;\n",
    "      this.segundo = segundo;\n",
    "   }\n",
    "   \n",
    "   public void define(String horario) {\n",
    "      this.hora = Integer.parseInt(horario.substring(0,2));\n",
    "      this.minuto = Integer.parseInt(horario.substring(3,5));\n",
    "      this.segundo = Integer.parseInt(horario.substring(6));\n",
    "   }\n",
    "   \n",
    "   public void tick() {\n",
    "      segundo++;\n",
    "      if (segundo == 60) {\n",
    "         minuto++;\n",
    "         segundo = 0;\n",
    "      }\n",
    "      if (minuto == 60) {\n",
    "         hora++;\n",
    "         minuto = 0;\n",
    "      }\n",
    "      if (hora == 24) {\n",
    "         hora = 0;\n",
    "         minuto = 0;\n",
    "         segundo = 0;\n",
    "      }\n",
    "   }\n",
    "   \n",
    "   public String toString() {\n",
    "      return hora + \":\" + minuto + \":\" + segundo;\n",
    "   }\n",
    "}"
   ]
  },
  {
   "cell_type": "code",
   "execution_count": 2,
   "metadata": {},
   "outputs": [
    {
     "name": "stdout",
     "output_type": "stream",
     "text": [
      "Horario 1: 0:0:1\n",
      "Horario 2: 10:16:0\n",
      "Horario 3: 7:53:3\n"
     ]
    },
    {
     "data": {
      "text/plain": [
       "null"
      ]
     },
     "execution_count": 2,
     "metadata": {},
     "output_type": "execute_result"
    }
   ],
   "source": [
    "Horario h1 = new Horario(),\n",
    "        h2 = new Horario(),\n",
    "        h3 = new Horario();\n",
    "\n",
    "h1.define();\n",
    "h2.define(10, 15, 59);\n",
    "h3.define(\"07:53:02\");\n",
    "\n",
    "h1.tick();\n",
    "h2.tick();\n",
    "h3.tick();\n",
    "\n",
    "System.out.println(\"Horario 1: \" + h1);\n",
    "System.out.println(\"Horario 2: \" + h2);\n",
    "System.out.println(\"Horario 3: \" + h3);"
   ]
  },
  {
   "cell_type": "markdown",
   "metadata": {},
   "source": [
    "# Tarefa - Sobrecarga em Métodos `Circulo`\n",
    "\n",
    "Dada a classe `Circulo` apresentada anteriormente (versão sem construtor), escreva dois métodos `define` sobrecarregados que inicializem `centroX`, `centroY` e `raio`.\n",
    "\n",
    "![classe-circulo](classe-circulo.png)"
   ]
  },
  {
   "cell_type": "markdown",
   "metadata": {},
   "source": [
    "# Sobrecarga de Construtor\n",
    "\n",
    "Construtor também pode ser sobrecarregado."
   ]
  },
  {
   "cell_type": "code",
   "execution_count": 3,
   "metadata": {},
   "outputs": [
    {
     "data": {
      "text/plain": [
       "com.twosigma.beaker.javash.bkrc2b204f3.Circulo"
      ]
     },
     "execution_count": 3,
     "metadata": {},
     "output_type": "execute_result"
    }
   ],
   "source": [
    "public class Circulo {\n",
    "   int centroX, centroY;\n",
    "   int raio;\n",
    "   \n",
    "   Circulo() {\n",
    "      this(5, 3, 10);\n",
    "   }\n",
    "\n",
    "   Circulo(int centroX, int centroY, int raio) {\n",
    "      this.centroX = centroX;\n",
    "      this.centroY = centroY;\n",
    "      this.raio = raio;\n",
    "   }\n",
    "   \n",
    "   double area() {\n",
    "      return Math.PI * raio * raio;\n",
    "   }\n",
    "}"
   ]
  },
  {
   "cell_type": "code",
   "execution_count": 4,
   "metadata": {},
   "outputs": [
    {
     "name": "stdout",
     "output_type": "stream",
     "text": [
      "Circulo: centro(5, 3), raio 10\n",
      "Area do circulo: 314.1592653589793\n",
      "Circulo: centro(4, 2), raio 8\n",
      "Area do circulo: 201.06192982974676\n"
     ]
    },
    {
     "data": {
      "text/plain": [
       "null"
      ]
     },
     "execution_count": 4,
     "metadata": {},
     "output_type": "execute_result"
    }
   ],
   "source": [
    "Circulo circ1 = new Circulo(), \n",
    "        circ2 = new Circulo(4, 2, 8);\n",
    "  \n",
    "System.out.println(\"Circulo: centro(\" + circ1.centroX + \", \" +\n",
    "                   circ1.centroY + \"), raio \" + circ1.raio);\n",
    "System.out.println(\"Area do circulo: \" + circ1.area());\n",
    "System.out.println(\"Circulo: centro(\" + circ2.centroX + \", \" +\n",
    "                   circ2.centroY + \"), raio \" + circ2.raio);\n",
    "System.out.println(\"Area do circulo: \" + circ2.area());"
   ]
  },
  {
   "cell_type": "markdown",
   "metadata": {},
   "source": [
    "# Tarefa - Sobrecarga do Construtor em `Circulo`\n",
    "\n",
    "Dada a classe `Circulo` apresentada anteriormente (versão sem construtor), escreva dois métodos `define` sobrecarregados que inicializem `centroX`, `centroY` e `raio`.\n",
    "\n",
    "Adapte a tarefa anterior de modo que a inicialização de `centroX`, `centroY` e `raio` possa ser feita por dois construtores sobrecarregados.\n",
    "\n",
    "![classe-circulo](classe-circulo.png)"
   ]
  },
  {
   "cell_type": "code",
   "execution_count": null,
   "metadata": {},
   "outputs": [],
   "source": []
  }
 ],
 "metadata": {
  "kernelspec": {
   "display_name": "Java",
   "language": "java",
   "name": "java"
  },
  "language_info": {
   "codemirror_mode": "text/x-java",
   "file_extension": ".java",
   "mimetype": "",
   "name": "Java",
   "nbconverter_exporter": "",
   "version": "11.0.6"
  }
 },
 "nbformat": 4,
 "nbformat_minor": 4
}
