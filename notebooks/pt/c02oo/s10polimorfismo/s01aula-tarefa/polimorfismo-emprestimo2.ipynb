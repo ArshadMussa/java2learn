{
 "cells": [
  {
   "cell_type": "markdown",
   "metadata": {},
   "source": [
    "# Exercício\n",
    "\n",
    "Dada a classe `EmprestimoComposto` desenvolvida anteriormente em sala de aula.\n",
    "    \n",
    "Crie uma classe `Emprestimo` que generalize qualquer emprestimo e `EmprestimoComposto` passa a ser herdeira da mesma. Transfira para a superclasse o máximo de atributos e métodos, de tal modo que possam ser reusados pelos herdeiros.\n",
    "\n",
    "Crie uma classe `EmprestimoSimples` herdeira de `Emprestimo` que também disponha dos métodos `parcela()` e `proximaParcela()`."
   ]
  },
  {
   "cell_type": "code",
   "execution_count": 5,
   "metadata": {},
   "outputs": [
    {
     "data": {
      "text/plain": [
       "com.twosigma.beaker.javash.bkr7aec922e.EmprestimoComposto"
      ]
     },
     "execution_count": 5,
     "metadata": {},
     "output_type": "execute_result"
    }
   ],
   "source": [
    "import java.lang.Math;\n",
    "\n",
    "class EmprestimoComposto {\n",
    "    private float s;\n",
    "    private int   n;\n",
    "    private float j;\n",
    "    private int   corrente;\n",
    "    private float p,\n",
    "                  proxima;\n",
    "\n",
    "    public EmprestimoComposto(float s, int n, float j) {\n",
    "        this.s = s;\n",
    "        this.n = n;\n",
    "        this.j = j;\n",
    "        corrente = 1;\n",
    "        this.p = -1;  // antes da primeira parcela\n",
    "        this.proxima = s;\n",
    "    }\n",
    "\n",
    "    float getS() {\n",
    "        return s;\n",
    "    }\n",
    "\n",
    "    int getN() {\n",
    "        return n;\n",
    "    }\n",
    "    \n",
    "    float getJ() {\n",
    "        return j;\n",
    "    }\n",
    "\n",
    "    public float proximaParcela() {\n",
    "        p = proxima;\n",
    "        corrente++;\n",
    "        if (corrente <= n)\n",
    "            proxima += (proxima * (j/100));\n",
    "        else\n",
    "            proxima = 0;\n",
    "        return p;\n",
    "    }\n",
    "    \n",
    "    public float parcela() {\n",
    "        return p;\n",
    "    }\n",
    "    \n",
    "    public float parcela(int numero) {\n",
    "        float resultado = 0;\n",
    "        if (numero <= n)\n",
    "            resultado = s * (float)Math.pow(1 + j/100, numero-1);\n",
    "        return resultado;\n",
    "    }\n",
    "}"
   ]
  },
  {
   "cell_type": "code",
   "execution_count": 6,
   "metadata": {},
   "outputs": [
    {
     "name": "stdout",
     "output_type": "stream",
     "text": [
      "Emprestimo 1: parcela 1 eh 200.0\n",
      "              parcela 1 eh 200.0\n",
      "Emprestimo 2: parcela 1 eh 500.0\n",
      "              parcela 1 eh 500.0\n",
      "Emprestimo 1: parcela 2 eh 202.0\n",
      "              parcela 2 eh 202.0\n",
      "Emprestimo 2: parcela 2 eh 510.0\n",
      "              parcela 2 eh 510.0\n",
      "Emprestimo 1: parcela 3 eh 204.02\n",
      "              parcela 3 eh 204.02\n",
      "Emprestimo 2: parcela 3 eh 520.2\n",
      "              parcela 3 eh 520.19995\n",
      "Emprestimo 1: parcela 4 eh 206.06021\n",
      "              parcela 4 eh 206.0602\n",
      "Emprestimo 2: parcela 4 eh 530.604\n",
      "              parcela 4 eh 530.60394\n",
      "Emprestimo 1: parcela 5 eh 208.12082\n",
      "              parcela 5 eh 208.1208\n",
      "Emprestimo 2: parcela 5 eh 541.21606\n",
      "              parcela 5 eh 541.216\n",
      "Emprestimo 2: parcela 6 eh 552.0404\n",
      "              parcela 6 eh 552.04034\n",
      "Emprestimo 2: parcela 7 eh 563.08124\n",
      "              parcela 7 eh 563.0811\n"
     ]
    },
    {
     "data": {
      "text/plain": [
       "null"
      ]
     },
     "execution_count": 6,
     "metadata": {},
     "output_type": "execute_result"
    }
   ],
   "source": [
    "// codigo principal\n",
    "\n",
    "EmprestimoComposto emprestimo1 = new EmprestimoComposto(200, 5, 1),\n",
    "                   emprestimo2 = new EmprestimoComposto(500, 7, 2);\n",
    "\n",
    "int i = 1;\n",
    "emprestimo1.proximaParcela();\n",
    "emprestimo2.proximaParcela();\n",
    "while (emprestimo1.parcela() > 0 || emprestimo2.parcela() > 0) {\n",
    "    if (emprestimo1.parcela() > 0) {\n",
    "        System.out.println(\"Emprestimo 1: parcela \" + i + \" eh \" + emprestimo1.parcela());\n",
    "        System.out.println(\"              parcela \" + i + \" eh \" + emprestimo1.parcela(i));\n",
    "    }\n",
    "    if (emprestimo2.parcela() > 0) {\n",
    "        System.out.println(\"Emprestimo 2: parcela \" + i + \" eh \" + emprestimo2.parcela());\n",
    "        System.out.println(\"              parcela \" + i + \" eh \" + emprestimo2.parcela(i));\n",
    "    }\n",
    "    emprestimo1.proximaParcela();\n",
    "    emprestimo2.proximaParcela();\n",
    "    i++;\n",
    "}"
   ]
  },
  {
   "cell_type": "code",
   "execution_count": null,
   "metadata": {},
   "outputs": [],
   "source": []
  },
  {
   "cell_type": "markdown",
   "metadata": {},
   "source": [
    "# Exercício\n",
    "\n",
    "Escreva um programa que defina um vetor de `Emprestimos` que pode conter tanto instâncias de `EmprestimoSimples` quanto `EmprestimoComposto`. O programa deve percorrer o vetor e imprimir a próxima parcela de cada financiamento."
   ]
  },
  {
   "cell_type": "code",
   "execution_count": null,
   "metadata": {},
   "outputs": [],
   "source": []
  }
 ],
 "metadata": {
  "kernelspec": {
   "display_name": "Java",
   "language": "java",
   "name": "java"
  },
  "language_info": {
   "codemirror_mode": "text/x-java",
   "file_extension": ".java",
   "mimetype": "",
   "name": "Java",
   "nbconverter_exporter": "",
   "version": "11.0.7"
  }
 },
 "nbformat": 4,
 "nbformat_minor": 4
}
