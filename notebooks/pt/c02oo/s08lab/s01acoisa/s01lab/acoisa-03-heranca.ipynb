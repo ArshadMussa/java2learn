{
 "cells": [
  {
   "cell_type": "markdown",
   "metadata": {},
   "source": [
    "# A Coisa\n",
    "\n",
    "Considere o laboratório desenvolvido anteriormente sobre duas classes que representam *A Coisa*.\n",
    "\n",
    "Releia os slides abaixo para relembrar o contexto da aplicação proposta, que envolve a apresentação de um ser virtual chamado `A Coisa`:\n",
    "\n",
    "[![A Coisa](lab-a-coisa.png)](lab-a-coisa.pdf)"
   ]
  },
  {
   "cell_type": "markdown",
   "metadata": {},
   "source": [
    "# A Coisa\n",
    "\n",
    "Abaixo seguem as implementações das classes `Alongado` e `Entremeado` que representam as espécies de *A Coisa*.\n",
    "\n",
    "### Atributos\n",
    "* `idade` - número inteiro que inicia com 1 e representa a idade da Coisa;\n",
    "* `vivo` - indica se a coisa está viva ou morta.\n",
    "\n",
    "### Métodos\n",
    "* `mostrar` - mostra no console um caractere que representa A Coisa; este caractere será diferente conforme a idade e se A Coisa está viva ou não;\n",
    "* `crescer` - aumenta a idade da coisa e a mostra no console;\n",
    "* `morrer` - a coisa se torna morta - mostra A Coisa no console."
   ]
  },
  {
   "cell_type": "code",
   "execution_count": 1,
   "metadata": {},
   "outputs": [
    {
     "data": {
      "text/plain": [
       "com.twosigma.beaker.javash.bkrb595d333.Alongado"
      ]
     },
     "execution_count": 1,
     "metadata": {},
     "output_type": "execute_result"
    }
   ],
   "source": [
    "public class Alongado {\n",
    "   int idade;\n",
    "   boolean vivo;\n",
    "    \n",
    "   public Alongado(int idade, boolean vivo) {\n",
    "      this.idade = idade;\n",
    "      this.vivo = vivo;\n",
    "   }\n",
    "\n",
    "   public void mostrar() {\n",
    "      String saida = \"\";\n",
    "      if (!vivo)\n",
    "         saida = \"#\";\n",
    "      else\n",
    "         switch (idade) {\n",
    "            case 1: saida = \".\"; break;\n",
    "            case 2: saida = \",\"; break;              \n",
    "            case 3: saida = \"-\"; break;              \n",
    "            default: if (idade >= 4)\n",
    "                        saida = \"~\";\n",
    "                     break;              \n",
    "         }\n",
    "      System.out.println(saida);\n",
    "   }\n",
    "\n",
    "   public void crescer() {\n",
    "      idade++;\n",
    "      mostrar();\n",
    "   }\n",
    " \n",
    "   public void morrer() {\n",
    "      vivo = false;\n",
    "      mostrar();\n",
    "   }\n",
    "}"
   ]
  },
  {
   "cell_type": "code",
   "execution_count": 2,
   "metadata": {},
   "outputs": [
    {
     "data": {
      "text/plain": [
       "com.twosigma.beaker.javash.bkrb595d333.Entremeado"
      ]
     },
     "execution_count": 2,
     "metadata": {},
     "output_type": "execute_result"
    }
   ],
   "source": [
    "public class Entremeado {\n",
    "   int idade;\n",
    "   boolean vivo;\n",
    "    \n",
    "   public Entremeado(int idade, boolean vivo) {\n",
    "      this.idade = idade;\n",
    "      this.vivo = vivo;\n",
    "   }\n",
    "\n",
    "   public void mostrar() {\n",
    "      String saida = \"\";\n",
    "      if (!vivo)\n",
    "         saida = \"#\";\n",
    "      else\n",
    "         switch (idade) {\n",
    "            case 1: saida = \".\"; break;\n",
    "            case 2: saida = \"+\"; break;              \n",
    "            case 3: saida = \"@\"; break;              \n",
    "            default: if (idade >= 4)\n",
    "                        saida = \"*\";\n",
    "                     break;              \n",
    "         }\n",
    "      System.out.println(saida);\n",
    "   }\n",
    "\n",
    "   public void crescer() {\n",
    "      idade++;\n",
    "      mostrar();\n",
    "   }\n",
    " \n",
    "   public void morrer() {\n",
    "      vivo = false;\n",
    "      mostrar();\n",
    "   }\n",
    "}"
   ]
  },
  {
   "cell_type": "markdown",
   "metadata": {},
   "source": [
    "## Aplicação"
   ]
  },
  {
   "cell_type": "code",
   "execution_count": 3,
   "metadata": {},
   "outputs": [
    {
     "name": "stdout",
     "output_type": "stream",
     "text": [
      ",\n",
      "#\n",
      "@\n",
      ".\n",
      "-\n",
      "#\n",
      "*\n",
      "+\n",
      "#\n",
      "@\n",
      "*\n",
      "*\n"
     ]
    },
    {
     "data": {
      "text/plain": [
       "null"
      ]
     },
     "execution_count": 3,
     "metadata": {},
     "output_type": "execute_result"
    }
   ],
   "source": [
    "Alongado a1 = new Alongado(2, true),\n",
    "         a2 = new Alongado(1, false);\n",
    "Entremeado e1 = new Entremeado(3, true),\n",
    "           e2 = new Entremeado(1, true);\n",
    "\n",
    "a1.mostrar();\n",
    "a2.mostrar();\n",
    "e1.mostrar();\n",
    "e2.mostrar();\n",
    "\n",
    "a1.crescer();\n",
    "a2.crescer();\n",
    "e1.crescer();\n",
    "e2.crescer();\n",
    "\n",
    "e1.morrer();\n",
    "e2.crescer();\n",
    "e2.crescer();\n",
    "e2.crescer();"
   ]
  },
  {
   "cell_type": "markdown",
   "metadata": {},
   "source": [
    "## Tarefa\n",
    "\n",
    "Considerando que você pode melhorar a implementação das classes acima através do uso de herança. Reescreva o código das classes (acrescentando classes se necessário). Neste primeiro estágio, para fins de simplificação, não utilize métodos sobrescritos."
   ]
  },
  {
   "cell_type": "code",
   "execution_count": null,
   "metadata": {},
   "outputs": [],
   "source": []
  },
  {
   "cell_type": "code",
   "execution_count": null,
   "metadata": {},
   "outputs": [],
   "source": []
  },
  {
   "cell_type": "code",
   "execution_count": null,
   "metadata": {},
   "outputs": [],
   "source": []
  },
  {
   "cell_type": "code",
   "execution_count": null,
   "metadata": {},
   "outputs": [],
   "source": []
  },
  {
   "cell_type": "markdown",
   "metadata": {},
   "source": [
    "# Tarefa\n",
    "\n",
    "Fazendo uso da técnica de extensão de métodos através de métodos sobrescritos, ajuste as classes de forma que partes de método que possam ser compartilhadas vão para a superclasse."
   ]
  },
  {
   "cell_type": "code",
   "execution_count": null,
   "metadata": {},
   "outputs": [],
   "source": []
  },
  {
   "cell_type": "code",
   "execution_count": null,
   "metadata": {},
   "outputs": [],
   "source": []
  },
  {
   "cell_type": "code",
   "execution_count": null,
   "metadata": {},
   "outputs": [],
   "source": []
  }
 ],
 "metadata": {
  "kernelspec": {
   "display_name": "Java",
   "language": "java",
   "name": "java"
  },
  "language_info": {
   "codemirror_mode": "text/x-java",
   "file_extension": ".java",
   "mimetype": "",
   "name": "Java",
   "nbconverter_exporter": "",
   "version": "11.0.6"
  }
 },
 "nbformat": 4,
 "nbformat_minor": 4
}
