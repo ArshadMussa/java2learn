{
 "cells": [
  {
   "cell_type": "markdown",
   "metadata": {},
   "source": [
    "# Interfaces\n",
    "\n",
    "As classes incorporam duas funções interligadas:\n",
    "* elas são um mecanismo de reúso de código;\n",
    "* elas estabelecem a \"interface\" dos objetos, ou seja, que atributos e métodos estão disponíveis para serem usados por um cliente externo.\n",
    "\n",
    "Já vimos anteriormente alguns problemas de usar somente a herança como mecanismo de reúso. O mesmo acontece com a interface. Muitas vezes queremos que objetos compartilhem a mesma interface, sem que usem a herança para isso.\n",
    "\n",
    "Por essa razão o Java define o mecanismo chamado `interface`. Ele permite a declaração de um interface que será garantida por um conjunto de classes, sem a necessidade que elas estejam ligadas por herança.\n",
    "\n",
    "Considere as duas classes a seguir que representam formas geométricas. Ambas oferecem métodos para cálculo do perímetro e área, entretanto, não compartilham código.\n",
    "\n",
    "Suponha que se deseja padronizar o acesso às interfaces de ambos objetos resolvendo a chamada de métodos de modo polimórfico. É possível se fazer isso sem herança, como será apresentado no próximo bloco."
   ]
  },
  {
   "cell_type": "code",
   "execution_count": 1,
   "metadata": {},
   "outputs": [
    {
     "data": {
      "text/plain": [
       "com.twosigma.beaker.javash.bkr60a7d4cf.Retangulo"
      ]
     },
     "execution_count": 1,
     "metadata": {},
     "output_type": "execute_result"
    }
   ],
   "source": [
    "public class Retangulo {\n",
    "    private int altura;\n",
    "    private int largura;\n",
    "\n",
    "    public Retangulo(int altura, int largura) {\n",
    "        this.altura = altura;\n",
    "        this.largura = largura;\n",
    "    }\n",
    "    \n",
    "    public int getAltura() {\n",
    "        return altura;\n",
    "    }\n",
    "    \n",
    "    public int getLargura() {\n",
    "        return largura;\n",
    "    }\n",
    "    \n",
    "    public float getPerimetro() {\n",
    "        return 2 * (altura + largura);\n",
    "    }\n",
    "    \n",
    "    public float getArea() {\n",
    "        return altura * largura;\n",
    "    }\n",
    "}"
   ]
  },
  {
   "cell_type": "code",
   "execution_count": 2,
   "metadata": {},
   "outputs": [
    {
     "data": {
      "text/plain": [
       "com.twosigma.beaker.javash.bkr60a7d4cf.Circulo"
      ]
     },
     "execution_count": 2,
     "metadata": {},
     "output_type": "execute_result"
    }
   ],
   "source": [
    "public class Circulo {\n",
    "    public static float PI = 3.1416f;\n",
    "    \n",
    "    private int raio;\n",
    "    \n",
    "    public Circulo(int raio) {\n",
    "        this.raio = raio;\n",
    "    }\n",
    "    \n",
    "    public int getRaio() {\n",
    "        return raio;\n",
    "    }\n",
    "    \n",
    "    public float getPerimetro() {\n",
    "        return 2 * Circulo.PI * raio;\n",
    "    }\n",
    "    \n",
    "    public float getArea() {\n",
    "        return Circulo.PI * raio * raio;\n",
    "    }\n",
    "}"
   ]
  },
  {
   "cell_type": "code",
   "execution_count": 3,
   "metadata": {},
   "outputs": [
    {
     "name": "stdout",
     "output_type": "stream",
     "text": [
      "Perímetro do retângulo: 32.0\n",
      "Área do retângulo: 60.0\n",
      "Perímetro do círculo: 50.2656\n",
      "Área do círculo: 201.0624\n"
     ]
    },
    {
     "data": {
      "text/plain": [
       "null"
      ]
     },
     "execution_count": 3,
     "metadata": {},
     "output_type": "execute_result"
    }
   ],
   "source": [
    "Retangulo rt = new Retangulo(6, 10);\n",
    "System.out.println(\"Perímetro do retângulo: \" + rt.getPerimetro());\n",
    "System.out.println(\"Área do retângulo: \" + rt.getArea());\n",
    "\n",
    "Circulo cc = new Circulo(8);\n",
    "System.out.println(\"Perímetro do círculo: \" + cc.getPerimetro());\n",
    "System.out.println(\"Área do círculo: \" + cc.getArea());"
   ]
  },
  {
   "cell_type": "markdown",
   "metadata": {},
   "source": [
    "## Declarando e Implementando uma `interface`\n",
    "\n",
    "Uma `interface` em Java declara um conjunto de métodos que deverão ser implementados por todas as classes que implementa a interface. A seguinte declaração da `interface Geometria`:\n",
    "~~~java\n",
    "public interface Geometria {\n",
    "    public float getPerimetro();\n",
    "    public float getArea();\n",
    "}\n",
    "~~~\n",
    "\n",
    "Indica que todos as classes que a implementarem precisarão implementar `getPerimetro()` e `getArea()` com as assinaturas indicadas.\n",
    "\n",
    "Qualquer classe pode indicar que implementará a `interface Geometria` com a cláusula `implements`. Uma vantagem das interfaces sobre a herança (quando a intenção é padronizar a interface) é que uma classe pode implementar várias interfaces.\n",
    "\n",
    "A seguinte declaração:\n",
    "~~~java\n",
    "Geometria g;\n",
    "~~~\n",
    "\n",
    "Define uma variável `g` que é capaz de manter uma referência para qualquer objeto de classe que implementa a `interface Geometria`. Por essa razão são permitidas as instanciações:\n",
    "~~~java\n",
    "Geometria g = new Retangulo(6, 10);\n",
    "g = new Circulo(8);\n",
    "~~~\n",
    "\n",
    "Pode-se chamar qualquer método declarado da `interface Geometria` e a execução é polimórfica, ou seja, depende da instância."
   ]
  },
  {
   "cell_type": "code",
   "execution_count": 4,
   "metadata": {},
   "outputs": [
    {
     "data": {
      "text/plain": [
       "com.twosigma.beaker.javash.bkr60a7d4cf.Geometria"
      ]
     },
     "execution_count": 4,
     "metadata": {},
     "output_type": "execute_result"
    }
   ],
   "source": [
    "public interface Geometria {\n",
    "    public float getPerimetro();\n",
    "    public float getArea();\n",
    "}"
   ]
  },
  {
   "cell_type": "code",
   "execution_count": 5,
   "metadata": {},
   "outputs": [
    {
     "data": {
      "text/plain": [
       "com.twosigma.beaker.javash.bkr60a7d4cf.Retangulo"
      ]
     },
     "execution_count": 5,
     "metadata": {},
     "output_type": "execute_result"
    }
   ],
   "source": [
    "public class Retangulo implements Geometria {\n",
    "    private int altura;\n",
    "    private int largura;\n",
    "\n",
    "    public Retangulo(int altura, int largura) {\n",
    "        this.altura = altura;\n",
    "        this.largura = largura;\n",
    "    }\n",
    "    \n",
    "    public int getAltura() {\n",
    "        return altura;\n",
    "    }\n",
    "    \n",
    "    public int getLargura() {\n",
    "        return largura;\n",
    "    }\n",
    "    \n",
    "    public float getPerimetro() {\n",
    "        return 2 * (altura + largura);\n",
    "    }\n",
    "    \n",
    "    public float getArea() {\n",
    "        return altura * largura;\n",
    "    }\n",
    "}"
   ]
  },
  {
   "cell_type": "code",
   "execution_count": 6,
   "metadata": {},
   "outputs": [
    {
     "data": {
      "text/plain": [
       "com.twosigma.beaker.javash.bkr60a7d4cf.Circulo"
      ]
     },
     "execution_count": 6,
     "metadata": {},
     "output_type": "execute_result"
    }
   ],
   "source": [
    "public class Circulo implements Geometria {\n",
    "    public static float PI = 3.1416f;\n",
    "    \n",
    "    private int raio;\n",
    "    \n",
    "    public Circulo(int raio) {\n",
    "        this.raio = raio;\n",
    "    }\n",
    "    \n",
    "    public int getRaio() {\n",
    "        return raio;\n",
    "    }\n",
    "    \n",
    "    public float getPerimetro() {\n",
    "        return 2 * Circulo.PI * raio;\n",
    "    }\n",
    "    \n",
    "    public float getArea() {\n",
    "        return Circulo.PI * raio * raio;\n",
    "    }\n",
    "}"
   ]
  },
  {
   "cell_type": "code",
   "execution_count": 7,
   "metadata": {},
   "outputs": [
    {
     "name": "stdout",
     "output_type": "stream",
     "text": [
      "Perímetro do retângulo: 32.0\n",
      "Área do retângulo: 60.0\n",
      "Perímetro do círculo: 50.2656\n",
      "Área do círculo: 201.0624\n"
     ]
    },
    {
     "data": {
      "text/plain": [
       "null"
      ]
     },
     "execution_count": 7,
     "metadata": {},
     "output_type": "execute_result"
    }
   ],
   "source": [
    "Geometria g = new Retangulo(6, 10);\n",
    "\n",
    "System.out.println(\"Perímetro do retângulo: \" + g.getPerimetro());\n",
    "System.out.println(\"Área do retângulo: \" + g.getArea());\n",
    "\n",
    "g = new Circulo(8);\n",
    "\n",
    "System.out.println(\"Perímetro do círculo: \" + g.getPerimetro());\n",
    "System.out.println(\"Área do círculo: \" + g.getArea());"
   ]
  },
  {
   "cell_type": "markdown",
   "metadata": {},
   "source": [
    "# Classes Abstratas x Interfaces\n",
    "\n",
    "As classes abstratas e interfaces têm uma sobreposição de funções. Alguns são levados a acreditar que uma interface é uma classe com todos os métodos abstratos.\n",
    "\n",
    "## Tarefa\n",
    "\n",
    "Para entender as diferenças, retome a classe abstrata `ListStr` cuja herdeira você implementou mo notebook de classes abstratas. Se você transformar `ListStr` na interface `IListStr` com o intuito de não usar mais classes abstratas, escreva abaixo como ficaria o código da interface e o código modificado das classes. Escreva uma sequência de instruções que usem a interface e as respectivas classes."
   ]
  },
  {
   "cell_type": "code",
   "execution_count": null,
   "metadata": {},
   "outputs": [],
   "source": []
  },
  {
   "cell_type": "markdown",
   "metadata": {},
   "source": [
    "## Discussão\n",
    "\n",
    "### Rotinas genéricas que usam métodos abstratos\n",
    "\n",
    "Por um lado, você notará que não é possível se implementar nenhum método na interface, o que impede de criar abordagem de métodos que usam outros métodos potenciais abstratos, como é o caso do `list()`. Isso é uma vantagem das classes abstratas que você terá que simular de outro modo.\n",
    "\n",
    "### Múltiplas interfaces\n",
    "\n",
    "Por outro lado, uma classe pode ter inúmeras interfaces mas só pode ser herdeira de uma classe abstrata, o que limita o poder dessas classes de agir como padronizador de interfaces."
   ]
  },
  {
   "cell_type": "markdown",
   "metadata": {},
   "source": [
    "# Empréstimo Simples e Composto\n",
    "\n",
    "## Tarefa\n",
    "\n",
    "Dadas as classes abaixo que representam um empréstimo simples (todas as parcelas iguais com juros fixo) e um empréstimo composto (visto anteriormente), construa uma interface que generalize os tipos diferentes de empréstimo."
   ]
  },
  {
   "cell_type": "code",
   "execution_count": 16,
   "metadata": {},
   "outputs": [
    {
     "data": {
      "text/plain": [
       "com.twosigma.beaker.javash.bkr60a7d4cf.EmprestimoSimples"
      ]
     },
     "execution_count": 16,
     "metadata": {},
     "output_type": "execute_result"
    }
   ],
   "source": [
    "public class EmprestimoSimples {\n",
    "   float s;\n",
    "   int   n;\n",
    "   float j;\n",
    "   int   corrente;\n",
    "   float p;\n",
    "\n",
    "   EmprestimoSimples(float s, int n, float j) {\n",
    "      this.s = s;\n",
    "      this.n = n;\n",
    "      this.j = j;\n",
    "      corrente = 0;\n",
    "      this.p = s;\n",
    "   }\n",
    "\n",
    "   float proximaParcela() {\n",
    "      corrente++;\n",
    "      return (corrente <= n) ? p + (p * (j/100)) : 0;\n",
    "   }\n",
    "}"
   ]
  },
  {
   "cell_type": "code",
   "execution_count": 13,
   "metadata": {},
   "outputs": [
    {
     "data": {
      "text/plain": [
       "com.twosigma.beaker.javash.bkr60a7d4cf.EmprestimoComposto"
      ]
     },
     "execution_count": 13,
     "metadata": {},
     "output_type": "execute_result"
    }
   ],
   "source": [
    "public class EmprestimoComposto {\n",
    "   float s;\n",
    "   int   n;\n",
    "   float j;\n",
    "   int   corrente;\n",
    "   float p;\n",
    "\n",
    "   EmprestimoComposto(float s, int n, float j) {\n",
    "      this.s = s;\n",
    "      this.n = n;\n",
    "      this.j = j;\n",
    "      corrente = 1;\n",
    "      this.p = s;\n",
    "   }\n",
    "\n",
    "   float proximaParcela() {\n",
    "      float retorno = p;\n",
    "      corrente++;\n",
    "      if (corrente <= n)\n",
    "         p = p + (p * (j/100));\n",
    "      else\n",
    "         p = 0;\n",
    "      return retorno;\n",
    "   }\n",
    "}"
   ]
  },
  {
   "cell_type": "code",
   "execution_count": 17,
   "metadata": {},
   "outputs": [
    {
     "name": "stdout",
     "output_type": "stream",
     "text": [
      "Emprestimo simples: parcela 1 eh 202.0\n",
      "Emprestimo composto: parcela 1 eh 200.0\n",
      "Emprestimo simples: parcela 2 eh 202.0\n",
      "Emprestimo composto: parcela 2 eh 202.0\n",
      "Emprestimo simples: parcela 3 eh 202.0\n",
      "Emprestimo composto: parcela 3 eh 204.02\n",
      "Emprestimo simples: parcela 4 eh 202.0\n",
      "Emprestimo composto: parcela 4 eh 206.06021\n",
      "Emprestimo simples: parcela 5 eh 202.0\n",
      "Emprestimo composto: parcela 5 eh 208.12082\n"
     ]
    },
    {
     "data": {
      "text/plain": [
       "null"
      ]
     },
     "execution_count": 17,
     "metadata": {},
     "output_type": "execute_result"
    }
   ],
   "source": [
    "EmprestimoSimples empS = new EmprestimoSimples(200, 5, 1);\n",
    "EmprestimoComposto empC = new EmprestimoComposto(200, 5, 1);\n",
    "\n",
    "int i = 1;\n",
    "float ps = empS.proximaParcela();\n",
    "float pc = empC.proximaParcela();\n",
    "while (ps > 0 || pc > 0) {\n",
    "   if (ps > 0)\n",
    "      System.out.println(\"Emprestimo simples: parcela \" + i + \" eh \" + ps);\n",
    "   if (pc > 0)\n",
    "      System.out.println(\"Emprestimo composto: parcela \" + i + \" eh \" + pc);\n",
    "   ps = empS.proximaParcela();\n",
    "   pc = empC.proximaParcela();\n",
    "   i++;\n",
    "}"
   ]
  }
 ],
 "metadata": {
  "kernelspec": {
   "display_name": "Java",
   "language": "java",
   "name": "java"
  },
  "language_info": {
   "codemirror_mode": "text/x-java",
   "file_extension": ".java",
   "mimetype": "",
   "name": "Java",
   "nbconverter_exporter": "",
   "version": "11.0.7"
  }
 },
 "nbformat": 4,
 "nbformat_minor": 4
}
