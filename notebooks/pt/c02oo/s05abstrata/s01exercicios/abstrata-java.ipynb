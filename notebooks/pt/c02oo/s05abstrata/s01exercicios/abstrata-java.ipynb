{
 "cells": [
  {
   "cell_type": "markdown",
   "metadata": {},
   "source": [
    "# Classe Abstrata\n",
    "\n",
    "## Retomando o exemplo do Polígono\n",
    "\n",
    "Estude novamente o exemplo de polígono a seguir, que foi trabalhado na aula de polimorfismo. Observe que na classe `Poligono` o método `getArea()` não faz sentido, já que se trata de uma abstração de polígono que não tem área. Entretanto, ele teve que ser declarado para permitir o polimorfismo desse método, ou seja, para que fosse possível declarar uma referência para `Poligono` e, mesmo assim, se realizar a chamada para o método `getArea()` nas subclasses."
   ]
  },
  {
   "cell_type": "code",
   "execution_count": 1,
   "metadata": {},
   "outputs": [
    {
     "name": "stdout",
     "output_type": "stream",
     "text": [
      "Área do triangulo retângulo: 30.0\n",
      "Área do retângulo: 60.0\n"
     ]
    }
   ],
   "source": [
    "public class Poligono {\n",
    "    private int altura;\n",
    "    private int largura;\n",
    "\n",
    "    \n",
    "    public Poligono(int altura, int largura) {\n",
    "        this.altura = altura;\n",
    "        this.largura = largura;\n",
    "    }\n",
    "    \n",
    "    public int getAltura() {\n",
    "        return altura;\n",
    "    }\n",
    "    \n",
    "    public int getLargura() {\n",
    "        return largura;\n",
    "    }\n",
    "    \n",
    "    public float getArea() {\n",
    "        return 0;\n",
    "    }\n",
    "}\n",
    "\n",
    "public class TrianguloRetangulo extends Poligono {\n",
    "    public TrianguloRetangulo(int altura, int largura) {\n",
    "        super(altura, largura);\n",
    "    }\n",
    "    \n",
    "    public float getArea() {\n",
    "        return getAltura() * getLargura() / 2;\n",
    "    }\n",
    "}\n",
    "\n",
    "public class Retangulo extends Poligono {\n",
    "    public Retangulo(int altura, int largura) {\n",
    "        super(altura, largura);\n",
    "    }\n",
    "    \n",
    "    public float getArea() {\n",
    "        return getAltura() * getLargura();\n",
    "    }\n",
    "}\n",
    "\n",
    "Poligono tr = new TrianguloRetangulo(6, 10);\n",
    "Poligono rt = new Retangulo(6, 10);\n",
    "\n",
    "System.out.println(\"Área do triangulo retângulo: \" + tr.getArea());\n",
    "System.out.println(\"Área do retângulo: \" + rt.getArea());"
   ]
  },
  {
   "cell_type": "markdown",
   "metadata": {},
   "source": [
    "## Usando uma Classes Abstratas e Métodos Abstratos\n",
    "\n",
    "Essa estratégia de declarar métodos na superclasse que só serão definidos nas subclasses é comum. Nesses casos, a superclasse é tida como uma abstração, que declara interfaces de métodos potenciais, cuja implementação faz sentido nas subclasses.\n",
    "\n",
    "Para esses casos o Java dispõe do recurso de **Classe Abstrata**.\n",
    "\n",
    "Uma classe abstrata é declarada usando-se a cláusula `abstract` antes do `class`. No caso do `Poligono` seria:\n",
    "~~~java\n",
    "public abstract class Poligono\n",
    "~~~\n",
    "\n",
    "Uma classe abstrata ganha a possibilidade de declarar **Métodos Abstratos**, que são métodos apneas com a assinatura mas sem implementação. Esses métodos serão obrigatoriamente implementados pelos herdeiros, a menos que os herdeiros também os declare como abstratos, repassando a responsabilidade para a geração seguinte (nesse caso as respectivas classes herdeiras também serão abstratas).\n",
    "\n",
    "O método `getArea()` pode se tornar abstrato da seguinte maneira:\n",
    "\n",
    "~~~java\n",
    "public abstract float getArea();\n",
    "~~~\n",
    "\n",
    "Apenas as classes abstratas podem ter métodos abstratos.\n",
    "\n",
    "Nenhuma classe abstrata pode ser instanciada, ou seja, todos os métodos abstratos terão que ser obrigatoriamente implementados por alguém para que se possa instanciar a respectiva classe.\n",
    "\n",
    "Veja abaixo como o `Poligono` foi reimplementado:"
   ]
  },
  {
   "cell_type": "code",
   "execution_count": 2,
   "metadata": {},
   "outputs": [
    {
     "name": "stdout",
     "output_type": "stream",
     "text": [
      "Área do triangulo retângulo: 30.0\n",
      "Área do retângulo: 60.0\n"
     ]
    }
   ],
   "source": [
    "public abstract class Poligono {\n",
    "    private int altura;\n",
    "    private int largura;\n",
    "\n",
    "    \n",
    "    public Poligono(int altura, int largura) {\n",
    "        this.altura = altura;\n",
    "        this.largura = largura;\n",
    "    }\n",
    "    \n",
    "    public int getAltura() {\n",
    "        return altura;\n",
    "    }\n",
    "    \n",
    "    public int getLargura() {\n",
    "        return largura;\n",
    "    }\n",
    "    \n",
    "    public abstract float getArea();\n",
    "}\n",
    "\n",
    "public class TrianguloRetangulo extends Poligono {\n",
    "    public TrianguloRetangulo(int altura, int largura) {\n",
    "        super(altura, largura);\n",
    "    }\n",
    "    \n",
    "    public float getArea() {\n",
    "        return getAltura() * getLargura() / 2;\n",
    "    }\n",
    "}\n",
    "\n",
    "public class Retangulo extends Poligono {\n",
    "    public Retangulo(int altura, int largura) {\n",
    "        super(altura, largura);\n",
    "    }\n",
    "    \n",
    "    public float getArea() {\n",
    "        return getAltura() * getLargura();\n",
    "    }\n",
    "}\n",
    "\n",
    "Poligono tr = new TrianguloRetangulo(6, 10);\n",
    "Poligono rt = new Retangulo(6, 10);\n",
    "\n",
    "System.out.println(\"Área do triangulo retângulo: \" + tr.getArea());\n",
    "System.out.println(\"Área do retângulo: \" + rt.getArea());"
   ]
  },
  {
   "cell_type": "markdown",
   "metadata": {},
   "source": [
    "## Implementando funcionalidades no nível asbtrato\n",
    "\n",
    "É possível se pensar em funcionalidades no nível abstrato que se baseiam na previsão do que será implementado nas subclasses.\n",
    "\n",
    "A seguir é apresentada a classe `ListStr` que representa uma lista de forma abstrata as seguintes duas operações:\n",
    "* **`first()`** - se desloca para a primeira posição da lista e retorna o primeiro elemento (retorna nulo se não houver primeiro);\n",
    "* **`next()`** - se desloca para a próxima posição da lista e retorna o próximo elemento (retorna nulo se não houver próximo).\n",
    "\n",
    "Note que foi implementado um método `list()` que parte do pré-suposto de que existe uma implementação de `first()` e `next()`. Isso faz com que você possa implementar a lista de várias maneiras e o método `list()` se adapte automaticamente às implementações dos herdeiros.\n",
    "\n",
    "## Exercício\n",
    "\n",
    "Implemente uma classe herdeita de `ListStr` (não abstrata) que armazene uma lista de dados e implemente os métodos `first()` e `next()`."
   ]
  },
  {
   "cell_type": "code",
   "execution_count": 6,
   "metadata": {},
   "outputs": [],
   "source": [
    "public abstract class ListStr {\n",
    "   \n",
    "   public abstract String first();\n",
    "   \n",
    "   public abstract String next();\n",
    "   \n",
    "   public void list() {\n",
    "      String element = first();\n",
    "      \n",
    "      while (element != null) {\n",
    "         System.out.println(element);\n",
    "         element = next();\n",
    "      }\n",
    "   }\n",
    "}"
   ]
  },
  {
   "cell_type": "code",
   "execution_count": null,
   "metadata": {},
   "outputs": [],
   "source": []
  }
 ],
 "metadata": {
  "kernelspec": {
   "display_name": "Java",
   "language": "java",
   "name": "java"
  },
  "language_info": {
   "codemirror_mode": "java",
   "file_extension": ".java",
   "mimetype": "text/x-java-source",
   "name": "Java",
   "pygments_lexer": "java",
   "version": "10.0.1+10-Debian-4"
  }
 },
 "nbformat": 4,
 "nbformat_minor": 2
}
