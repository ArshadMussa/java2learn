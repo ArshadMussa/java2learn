{
 "cells": [
  {
   "cell_type": "markdown",
   "metadata": {},
   "source": [
    "# Zombie Health\n",
    "\n",
    "![Zombie Health](zombie-health.png)\n",
    "\n",
    "## Exercício 1\n",
    "\n",
    "Escreva uma classe que represente um zumbi. Esta classe deve ter as seguintes características:\n",
    "\n",
    "* um atributo que guarde o nome do zumbi;\n",
    "* um construtor que receba o nome do zumbi e guarde no atributo;\n",
    "* um método chamado `getNome()` que retorne o nome do zumbi -\n",
    "  vamos dar preferência a usar um método para acessar dados do objeto em vez\n",
    "  de fazer acesso direto aos atributos; debateremos isso adiante.\n",
    "  \n",
    "Sugestão de como fazer isso: use o método comparativo, ou seja, olhando a classe `Emprestimo` vá comparativamente montando cada uma das coisas solicitadas.\n",
    "\n",
    "Orientações adicionais: O tipo string em Java é declarado diferente do C e do C++. Você usa o tipo `String` (com S maiúsculo na declaração). Por exemplo:\n",
    "\n",
    "```java\n",
    "String nome;\n",
    "```\n",
    "\n",
    "Para usá-lo, você atribuir-lhe valores precisa usar comandos como o `strcpy`, basta fazer uma atribuição direta."
   ]
  },
  {
   "cell_type": "code",
   "execution_count": null,
   "metadata": {},
   "outputs": [],
   "source": []
  },
  {
   "cell_type": "markdown",
   "metadata": {},
   "source": [
    "# Exercicício 2\n",
    "\n",
    "Escreva comandos para criar um objeto da classe Zumbi com o nome `Boorthoo Tieppaeth` e imprimir seu nome no console.\n",
    "\n",
    "Este ambiente se comporta como aquele do C++, ou seja, todas as células são parte de um mesmo programa. Então, você não precisará declarar a classe novamente na célula abaixo, apenas usá-la."
   ]
  },
  {
   "cell_type": "code",
   "execution_count": null,
   "metadata": {},
   "outputs": [],
   "source": []
  },
  {
   "cell_type": "markdown",
   "metadata": {},
   "source": [
    "# Exercício 3\n",
    "\n",
    "Crie duas instâncias (objetos) de Zumbi, um com o nome `Boorth Teppeeth` e outro com o nome `Aubuthu Teppeeth`. Imprima o nome de ambos no console."
   ]
  },
  {
   "cell_type": "code",
   "execution_count": null,
   "metadata": {},
   "outputs": [],
   "source": []
  }
 ],
 "metadata": {
  "kernelspec": {
   "display_name": "Java",
   "language": "java",
   "name": "java"
  },
  "language_info": {
   "codemirror_mode": "java",
   "file_extension": ".java",
   "mimetype": "text/x-java-source",
   "name": "Java",
   "pygments_lexer": "java",
   "version": "10.0.1+10-Debian-4"
  }
 },
 "nbformat": 4,
 "nbformat_minor": 2
}
