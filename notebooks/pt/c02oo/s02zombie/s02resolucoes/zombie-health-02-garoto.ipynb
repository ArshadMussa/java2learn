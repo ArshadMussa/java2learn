{
 "cells": [
  {
   "cell_type": "markdown",
   "metadata": {},
   "source": [
    "# Garoto Zumbi\n",
    "\n",
    "## Exercício 4\n",
    "\n",
    "Escreva uma classe que represente um Garoto Zumbi, conforme as especificações:\n",
    "\n",
    "![Garoto Especificação 1](garoto-zumbi-01.png)\n",
    "\n",
    "### Métodos\n",
    "* `mostra` - mostra o zumbi na tela conforme o exemplo, apresentando o nome do Zumbi abaixo dele\n",
    "* `cresce` - aumenta a idade do zumbi (se não passar o máximo) e o mostra\n",
    "* `dorme` - faz o zumbi dormir e o mostra\n",
    "* `acorda` - faz o zumbi acordar e o mostra\n",
    "\n",
    "![Garoto Especificação 2](garoto-zumbi-02.png)\n",
    "![Garoto Especificação 3](garoto-zumbi-03.png)"
   ]
  },
  {
   "cell_type": "code",
   "execution_count": 5,
   "metadata": {},
   "outputs": [],
   "source": [
    "public class GarotoZumbi\n",
    "{\n",
    "    int idade;\n",
    "    String estado;\n",
    "    String nome;\n",
    "    \n",
    "    public GarotoZumbi(int pIdade, String pEstado, String pNome) {\n",
    "        idade = pIdade;\n",
    "        estado = pEstado;\n",
    "        nome = pNome;\n",
    "    }\n",
    "    \n",
    "    public void mostra()\n",
    "    {\n",
    "        // cabeleira\n",
    "        if (idade >= 2)\n",
    "            System.out.println(\"  *\");\n",
    "        \n",
    "        // corpo com olhos\n",
    "        if (estado.equalsIgnoreCase(\"acordado\"))\n",
    "            System.out.println(\" o*o\");\n",
    "        else\n",
    "            System.out.println(\" -*-\");\n",
    "        \n",
    "        // barba\n",
    "        if (idade >= 3)\n",
    "            System.out.println(\"*****\");\n",
    "        \n",
    "        System.out.println(nome);\n",
    "        \n",
    "        System.out.println();\n",
    "    }\n",
    "    \n",
    "    public void cresce()\n",
    "    {\n",
    "        if (idade < 3)\n",
    "            idade++;\n",
    "        mostra();\n",
    "    }\n",
    "    \n",
    "    public void acorda()\n",
    "    {\n",
    "        estado = \"acordado\";\n",
    "        mostra();\n",
    "    }\n",
    "    \n",
    "    public void dorme()\n",
    "    {\n",
    "        estado = \"dormindo\";\n",
    "        mostra();\n",
    "    }\n",
    "}"
   ]
  },
  {
   "cell_type": "markdown",
   "metadata": {},
   "source": [
    "# Exercicício 5\n",
    "\n",
    "Crie três objetos instâncias da classe Garoto Zumbi. Cada um tem um nome diferente, uma idade diferente e está em um estado diferente.\n",
    "\n",
    "Mostre os três garotos no console, depois realize sobre eles diferentes operações de crescimento e mudança de estado (acordado/dormindo)."
   ]
  },
  {
   "cell_type": "code",
   "execution_count": 8,
   "metadata": {},
   "outputs": [
    {
     "name": "stdout",
     "output_type": "stream",
     "text": [
      " o*o\n",
      "Asdrubal\n",
      "\n",
      "  *\n",
      " -*-\n",
      "Doriana\n",
      "\n",
      "  *\n",
      " o*o\n",
      "*****\n",
      "Quincas\n",
      "\n",
      "  *\n",
      " o*o\n",
      "Asdrubal\n",
      "\n",
      "  *\n",
      " o*o\n",
      "Doriana\n",
      "\n",
      "  *\n",
      " -*-\n",
      "*****\n",
      "Quincas\n",
      "\n",
      "  *\n",
      " o*o\n",
      "*****\n",
      "Asdrubal\n",
      "\n",
      "  *\n",
      " -*-\n",
      "*****\n",
      "Asdrubal\n",
      "\n",
      "  *\n",
      " o*o\n",
      "*****\n",
      "Quincas\n",
      "\n"
     ]
    }
   ],
   "source": [
    "GarotoZumbi primeiro = new GarotoZumbi(1, \"acordado\", \"Asdrubal\");\n",
    "primeiro.mostra();\n",
    "\n",
    "GarotoZumbi segundo = new GarotoZumbi(2, \"dormindo\", \"Doriana\");\n",
    "segundo.mostra();\n",
    "\n",
    "GarotoZumbi terceiro = new GarotoZumbi(3, \"acordado\", \"Quincas\");\n",
    "terceiro.mostra();\n",
    "\n",
    "primeiro.cresce();\n",
    "segundo.acorda();\n",
    "terceiro.dorme();\n",
    "primeiro.cresce();\n",
    "primeiro.dorme();\n",
    "terceiro.acorda();"
   ]
  },
  {
   "cell_type": "markdown",
   "metadata": {},
   "source": [
    "# Exercício 6\n",
    "\n",
    "Você pode passar objetos como parâmetros de funções ou métodos da mesma maneira que você faz com valores. Use esse recurso para criar um método que compare dois zumbis e mostre no console o mais velho entre eles. Se tiverem a mesma idade não mostre nenhum.\n",
    "\n",
    "Crie um exemplo que demonstre a comparação.\n",
    "\n",
    "Como você não pode modificar a classe anterior, copie abaixo o código da classe anteior e acrescente o método solicitado."
   ]
  },
  {
   "cell_type": "code",
   "execution_count": null,
   "metadata": {},
   "outputs": [],
   "source": []
  },
  {
   "cell_type": "markdown",
   "metadata": {},
   "source": [
    "# Exercício 7\n",
    "\n",
    "Crie um método capaz de clonar zumbis, ou seja, o método recebe como parâmetro um nome e clona o zumbi (cria um objeto identico com todos os atributos) dando-lhe o novo nome.\n",
    "\n",
    "Crie um exemplo que realize demonstre a clonagem.\n",
    "\n",
    "Como você não pode modificar a classe anterior, copie abaixo o código da classe anteior e acrescente o método solicitado."
   ]
  },
  {
   "cell_type": "code",
   "execution_count": null,
   "metadata": {},
   "outputs": [],
   "source": []
  }
 ],
 "metadata": {
  "kernelspec": {
   "display_name": "Java",
   "language": "java",
   "name": "java"
  },
  "language_info": {
   "codemirror_mode": "java",
   "file_extension": ".java",
   "mimetype": "text/x-java-source",
   "name": "Java",
   "pygments_lexer": "java",
   "version": "10.0.1+10-Debian-4"
  }
 },
 "nbformat": 4,
 "nbformat_minor": 2
}
