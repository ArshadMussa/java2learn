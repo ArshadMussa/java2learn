{
 "cells": [
  {
   "cell_type": "markdown",
   "metadata": {},
   "source": [
    "# Convertendo o `emprestimo` em Java\n",
    "\n",
    "## Tarefa\n",
    "\n",
    "Escreva uma classe em Java cuja instância represente um empréstimo em Java, ou seja, cada objeto da classe `Emprestimo` representará um empréstimo diferente, seguindo o modelo feito em exercícios anteriores:\n",
    "\n",
    "![Enunciado](poo01-orientacao-objetos-exercicio-financiamento.png)\n",
    "\n",
    "Além dos atributos, que você deve definir baseado no problema, deve haver método que calcule a `proximaParcela()`. Esse método não recebe parâmetros e retorna o valor da próxima parcela. Depois que o objeto é criado, na primeira vez que esse método é chamado, ele retornará o valor da primeira parcela; na segunda vez, o valor da segunda parcela e assim por diante.\n",
    "\n",
    "Isso significa que cada objeto deve ser capaz de manter um controle interno da qual foi a última parcela que ele calculou.\n",
    "\n",
    "Se não houver próxima parcela e o método `proximaParcela()` for acionado, ele deve retornar -1."
   ]
  },
  {
   "cell_type": "code",
   "execution_count": null,
   "metadata": {},
   "outputs": [],
   "source": []
  },
  {
   "cell_type": "markdown",
   "metadata": {},
   "source": [
    "## Tarefa\n",
    "\n",
    "Escreva uma sequência de instruções que instancie dois objetos empréstimo `E1` e `E2`diferentes, com valores diferentes para S, N e J. As instruções devem mostrar todas as parcelas de `E1` e `E2` em paralelo, ou seja, a primeira parcela de `E1` com a primeira de `E2`, a segunda parcela de `E1` com a segunda de `E2` e assim por diante."
   ]
  },
  {
   "cell_type": "code",
   "execution_count": null,
   "metadata": {},
   "outputs": [],
   "source": []
  }
 ],
 "metadata": {
  "kernelspec": {
   "display_name": "Java",
   "language": "java",
   "name": "java"
  },
  "language_info": {
   "codemirror_mode": "text/x-java",
   "file_extension": ".java",
   "mimetype": "",
   "name": "Java",
   "nbconverter_exporter": "",
   "version": "11.0.6"
  }
 },
 "nbformat": 4,
 "nbformat_minor": 4
}
