{
 "cells": [
  {
   "cell_type": "markdown",
   "metadata": {},
   "source": [
    "# Exemplo do Círculo (Classe e Objeto)\n",
    "\n",
    "## Classe Círculo\n",
    "\n",
    "Abaixo é defina uma classe `Circulo` com três atributos: `centroX`, `centroY` e `raio`. Nesse exemplo, a classe se comporta como uma estrutura (`struct`) em lingugaem C."
   ]
  },
  {
   "cell_type": "code",
   "execution_count": 1,
   "metadata": {},
   "outputs": [
    {
     "data": {
      "text/plain": [
       "com.twosigma.beaker.javash.bkr3b60346a.Circulo"
      ]
     },
     "execution_count": 1,
     "metadata": {},
     "output_type": "execute_result"
    }
   ],
   "source": [
    "public class Circulo {\n",
    "   int centroX, centroY;\n",
    "   int raio;\n",
    "}"
   ]
  },
  {
   "cell_type": "markdown",
   "metadata": {},
   "source": [
    "## Instância/Objeto da Classe Círculo\n",
    "\n",
    "Abaixo é criada uma instância da classe `Circulo` através do `new` e são atribuídos valores aos atributos. A variável `circ` recebe um ponteiro para o objeto criado."
   ]
  },
  {
   "cell_type": "code",
   "execution_count": 2,
   "metadata": {},
   "outputs": [
    {
     "name": "stdout",
     "output_type": "stream",
     "text": [
      "Circulo: centro(5, 3), raio 10\n"
     ]
    },
    {
     "data": {
      "text/plain": [
       "null"
      ]
     },
     "execution_count": 2,
     "metadata": {},
     "output_type": "execute_result"
    }
   ],
   "source": [
    "Circulo circ = new Circulo();\n",
    "circ.centroX = 5;\n",
    "circ.centroY = 3;\n",
    "circ.raio = 10;\n",
    "\n",
    "System.out.println(\"Circulo: centro(\" + circ.centroX + \", \" + circ.centroY + \"), raio \" + circ.raio);"
   ]
  },
  {
   "cell_type": "markdown",
   "metadata": {},
   "source": [
    "# Exercício do Horário\n",
    "\n",
    "## Classe Horário\n",
    "\n",
    "Escreva na célula abaixo o código para definir uma classe denominada `Horario` que registre um horário - hora, minuto e segundo em campos separados. Escreva somente a classe."
   ]
  },
  {
   "cell_type": "code",
   "execution_count": null,
   "metadata": {},
   "outputs": [],
   "source": []
  },
  {
   "cell_type": "markdown",
   "metadata": {},
   "source": [
    "## Instância/Objeto da Classe Horário\n",
    "\n",
    "Escreva na célula abaixo um código em Java que instancie um horário e o mostre no console no formato `hora:minuto:segundo`."
   ]
  },
  {
   "cell_type": "code",
   "execution_count": null,
   "metadata": {},
   "outputs": [],
   "source": []
  },
  {
   "cell_type": "markdown",
   "metadata": {},
   "source": [
    "# Calculando a Área do Círculo (Método)\n",
    "\n",
    "## Método `area()`\n",
    "\n",
    "Abaixo é acrecentado um método na classe que calcula a área do círculo."
   ]
  },
  {
   "cell_type": "code",
   "execution_count": 3,
   "metadata": {},
   "outputs": [
    {
     "data": {
      "text/plain": [
       "com.twosigma.beaker.javash.bkr3b60346a.Circulo"
      ]
     },
     "execution_count": 3,
     "metadata": {},
     "output_type": "execute_result"
    }
   ],
   "source": [
    "public class Circulo {\n",
    "   int centroX, centroY;\n",
    "   int raio;\n",
    "   \n",
    "   double area() {\n",
    "      return Math.PI * raio * raio;\n",
    "   }\n",
    "}"
   ]
  },
  {
   "cell_type": "markdown",
   "metadata": {},
   "source": [
    "## Acionando o método `area()`\n",
    "\n",
    "Abaixo o programa aciona o método `area()`. Note que a chamada do método é vinculada a variável que mantém a instância (objeto): `circ.area()' ."
   ]
  },
  {
   "cell_type": "code",
   "execution_count": 4,
   "metadata": {},
   "outputs": [
    {
     "name": "stdout",
     "output_type": "stream",
     "text": [
      "Circulo: centro(5, 3), raio 10\n",
      "Area do circulo: 314.1592653589793\n"
     ]
    },
    {
     "data": {
      "text/plain": [
       "null"
      ]
     },
     "execution_count": 4,
     "metadata": {},
     "output_type": "execute_result"
    }
   ],
   "source": [
    "Circulo circ = new Circulo();\n",
    "circ.centroX = 5;\n",
    "circ.centroY = 3;\n",
    "circ.raio = 10;\n",
    "\n",
    "System.out.println(\"Circulo: centro(\" + circ.centroX + \", \" + circ.centroY + \"), raio \" + circ.raio);\n",
    "System.out.println(\"Area do circulo: \" + circ.area());"
   ]
  },
  {
   "cell_type": "code",
   "execution_count": null,
   "metadata": {},
   "outputs": [],
   "source": []
  },
  {
   "cell_type": "markdown",
   "metadata": {},
   "source": [
    "# Exercício do Horário (método)\n",
    "\n",
    "## Classe Horário com método\n",
    "\n",
    "Na célula a seguir, copie a classe `Horario` que você fez anteriormente e acrescente um método `emSegundos()` que retorne o horário convertido para segundos, ou seja, as horas e os minutos sejam convertidos para segundos. Todos os valores são somados em um único número (valor total em segundos) que é retornado pelo método."
   ]
  },
  {
   "cell_type": "code",
   "execution_count": null,
   "metadata": {},
   "outputs": [],
   "source": []
  },
  {
   "cell_type": "markdown",
   "metadata": {},
   "source": [
    "## Acionando o método `emSegundos()`\n",
    "\n",
    "Escreva na célula a seguir um código para instanciar um objeto da classe `Horario` e apresente o horário em segundos acionando o método criado."
   ]
  },
  {
   "cell_type": "code",
   "execution_count": null,
   "metadata": {},
   "outputs": [],
   "source": []
  },
  {
   "cell_type": "markdown",
   "metadata": {},
   "source": [
    "# Valores Iniciais para o Círculo (Construtor)\n",
    "\n",
    "## Método Construtor\n",
    "\n",
    "Como pode ser visto no código abaixo, a classe pode ter um método construtor que tem o mesmo nome da classe. O método construtor é o único que não tem tipo de retorno. Neste caso, o método recebe três parâmetros que são valores iniciais transferidos para seus atributos."
   ]
  },
  {
   "cell_type": "code",
   "execution_count": 5,
   "metadata": {},
   "outputs": [
    {
     "data": {
      "text/plain": [
       "com.twosigma.beaker.javash.bkr3b60346a.Circulo"
      ]
     },
     "execution_count": 5,
     "metadata": {},
     "output_type": "execute_result"
    }
   ],
   "source": [
    "public class Circulo {\n",
    "   int centroX, centroY;\n",
    "   int raio;\n",
    "   \n",
    "   Circulo(int pCentroX, int pCentroY, int pRaio) {\n",
    "      centroX = pCentroX;\n",
    "      centroY = pCentroY;\n",
    "      raio = pRaio;\n",
    "   }\n",
    "   \n",
    "   double area() {\n",
    "      return Math.PI * raio * raio;\n",
    "   }\n",
    "}"
   ]
  },
  {
   "cell_type": "markdown",
   "metadata": {},
   "source": [
    "## Usando o `this` no método construtor\n",
    "\n",
    "Na versão anterior do código criamos parâmetros com nomes diferentes dos atributos para diferenciá-los. É bastante comum que os parâmetros tenham o mesmo nome dos atributos a quem eles transferirão o valor, como no código abaixo. Nesse caso, é necessário o uso da cláusula `this` que representa a instância do objeto corrente e permite a diferenciação dos atributos e parâmetros, como no exemplo abaixo."
   ]
  },
  {
   "cell_type": "code",
   "execution_count": 6,
   "metadata": {},
   "outputs": [
    {
     "data": {
      "text/plain": [
       "com.twosigma.beaker.javash.bkr3b60346a.Circulo"
      ]
     },
     "execution_count": 6,
     "metadata": {},
     "output_type": "execute_result"
    }
   ],
   "source": [
    "public class Circulo {\n",
    "   int centroX, centroY;\n",
    "   int raio;\n",
    "   \n",
    "   Circulo(int centroX, int centroY, int raio) {\n",
    "      this.centroX = centroX;\n",
    "      this.centroY = centroY;\n",
    "      this.raio = raio;\n",
    "   }\n",
    "   \n",
    "   double area() {\n",
    "      return Math.PI * raio * raio;\n",
    "   }\n",
    "}"
   ]
  },
  {
   "cell_type": "markdown",
   "metadata": {},
   "source": [
    "## Acionando o construtor\n",
    "\n",
    "No código a seguir o construtor é acionado na criação do objeto."
   ]
  },
  {
   "cell_type": "code",
   "execution_count": 7,
   "metadata": {},
   "outputs": [
    {
     "name": "stdout",
     "output_type": "stream",
     "text": [
      "Circulo: centro(5, 3), raio 10\n",
      "Area do circulo: 314.1592653589793\n"
     ]
    },
    {
     "data": {
      "text/plain": [
       "null"
      ]
     },
     "execution_count": 7,
     "metadata": {},
     "output_type": "execute_result"
    }
   ],
   "source": [
    "Circulo circ = new Circulo(5, 3, 10);\n",
    "\n",
    "System.out.println(\"Circulo: centro(\" + circ.centroX + \", \" + circ.centroY + \"), raio \" + circ.raio);\n",
    "System.out.println(\"Area do circulo: \" + circ.area());"
   ]
  },
  {
   "cell_type": "markdown",
   "metadata": {},
   "source": [
    "# Exercício do Horário (construtor)\n",
    "\n",
    "## Classe `Horario` com construtor\n",
    "\n",
    "Copie a classe `Horario` criada anteriormente na célula abaixo e acrescente um construtor que receba o horário (hora, minuto e segundo) como parâmetro para inicializar os atributos do objeto."
   ]
  },
  {
   "cell_type": "code",
   "execution_count": null,
   "metadata": {},
   "outputs": [],
   "source": []
  },
  {
   "cell_type": "markdown",
   "metadata": {},
   "source": [
    "## Acionando o construtor\n",
    "\n",
    "Escreva na célula a seguir o código para criar um objeto da classe `Horario` usando o construtor que você criou."
   ]
  },
  {
   "cell_type": "code",
   "execution_count": null,
   "metadata": {},
   "outputs": [],
   "source": []
  }
 ],
 "metadata": {
  "kernelspec": {
   "display_name": "Java",
   "language": "java",
   "name": "java"
  },
  "language_info": {
   "codemirror_mode": "text/x-java",
   "file_extension": ".java",
   "mimetype": "",
   "name": "Java",
   "nbconverter_exporter": "",
   "version": "11.0.6"
  }
 },
 "nbformat": 4,
 "nbformat_minor": 4
}
