{
 "cells": [
  {
   "cell_type": "markdown",
   "metadata": {},
   "source": [
    "# Atributos e Métodos Estáticos\n",
    "\n",
    "Atributos e métodos que pertencem à classe e não precisam de instâncias para serem usados/acionados. Precedidos da cláusula `static`.\n",
    "\n",
    "## Classe `Registro`\n",
    "\n",
    "Veja exemplo da classe `Registro` que define um atributo e um método estáticos. Métodos estáticos só podem se referir a atributos estáticos."
   ]
  },
  {
   "cell_type": "code",
   "execution_count": 1,
   "metadata": {},
   "outputs": [
    {
     "data": {
      "text/plain": [
       "com.twosigma.beaker.javash.bkr486712db.Registro"
      ]
     },
     "execution_count": 1,
     "metadata": {},
     "output_type": "execute_result"
    }
   ],
   "source": [
    "public class Registro {\n",
    "   static int contador = 0;\n",
    "   \n",
    "   static int proximoContador() {\n",
    "      contador++;\n",
    "      return contador;\n",
    "   }\n",
    "}"
   ]
  },
  {
   "cell_type": "markdown",
   "metadata": {},
   "source": [
    "## Usando um atributo estático\n",
    "\n",
    "Precedido apenas pelo nome da classe. Dispensa a criação de instância (objeto)."
   ]
  },
  {
   "cell_type": "code",
   "execution_count": 2,
   "metadata": {},
   "outputs": [
    {
     "name": "stdout",
     "output_type": "stream",
     "text": [
      "Contador: 5\n"
     ]
    },
    {
     "data": {
      "text/plain": [
       "null"
      ]
     },
     "execution_count": 2,
     "metadata": {},
     "output_type": "execute_result"
    }
   ],
   "source": [
    "Registro.contador = 5;\n",
    "System.out.println(\"Contador: \" + Registro.contador);"
   ]
  },
  {
   "cell_type": "markdown",
   "metadata": {},
   "source": [
    "## Usando um Método Estático\n",
    "\n",
    "Também precedido do nome da classe. Tal como o atributo, dispensa a criação de instância."
   ]
  },
  {
   "cell_type": "code",
   "execution_count": 3,
   "metadata": {},
   "outputs": [
    {
     "name": "stdout",
     "output_type": "stream",
     "text": [
      "Contador: 6\n"
     ]
    },
    {
     "data": {
      "text/plain": [
       "null"
      ]
     },
     "execution_count": 3,
     "metadata": {},
     "output_type": "execute_result"
    }
   ],
   "source": [
    "System.out.println(\"Contador: \" + Registro.proximoContador());"
   ]
  },
  {
   "cell_type": "markdown",
   "metadata": {},
   "source": [
    "## Atributos e Métodos Estáticos em Instâncias"
   ]
  },
  {
   "cell_type": "code",
   "execution_count": 6,
   "metadata": {},
   "outputs": [
    {
     "name": "stdout",
     "output_type": "stream",
     "text": [
      "Contador r1: 7\n",
      "Contador r2: 7\n",
      "Contador r1: 8\n",
      "Contador r2: 9\n"
     ]
    },
    {
     "data": {
      "text/plain": [
       "null"
      ]
     },
     "execution_count": 6,
     "metadata": {},
     "output_type": "execute_result"
    }
   ],
   "source": [
    "Registro r1 = new Registro(),\n",
    "         r2 = new Registro();\n",
    "r1.contador = 5;\n",
    "r2.contador = 7;\n",
    "\n",
    "System.out.println(\"Contador r1: \" + r1.contador);\n",
    "System.out.println(\"Contador r2: \" + r2.contador);\n",
    "System.out.println(\"Contador r1: \" + r1.proximoContador());\n",
    "System.out.println(\"Contador r2: \" + r2.proximoContador());"
   ]
  },
  {
   "cell_type": "markdown",
   "metadata": {},
   "source": [
    "## Misturando estáticos com instância\n",
    "\n",
    "Uma classe pode misturar atributos e métodos estáticos e de instância."
   ]
  },
  {
   "cell_type": "code",
   "execution_count": 4,
   "metadata": {},
   "outputs": [
    {
     "data": {
      "text/plain": [
       "com.twosigma.beaker.javash.bkr486712db.Chat"
      ]
     },
     "execution_count": 4,
     "metadata": {},
     "output_type": "execute_result"
    }
   ],
   "source": [
    "public class Chat {\n",
    "   /* Parte Estática\n",
    "    ****************/\n",
    "   \n",
    "   static int contador = 0;\n",
    "   \n",
    "   static int proximoContador() {\n",
    "      contador++;\n",
    "      return contador;\n",
    "   }\n",
    "   \n",
    "   /* Parte Instância\n",
    "    *****************/\n",
    "   \n",
    "   String nome;\n",
    "   \n",
    "   Chat(String nome) {\n",
    "      this.nome = nome;\n",
    "   }\n",
    "   \n",
    "   void mensagem(String msg) {\n",
    "      System.out.println(nome + \"[\" + proximoContador() + \"]: \" + msg);\n",
    "   }\n",
    "}"
   ]
  },
  {
   "cell_type": "code",
   "execution_count": 5,
   "metadata": {},
   "outputs": [
    {
     "name": "stdout",
     "output_type": "stream",
     "text": [
      "Doriana[1]: Quem aqui gosta de dinossauros?\n",
      "Quincas[2]: Eu gosto!\n",
      "Melissa[3]: Dinossauros? Por que dinossauros?\n",
      "Doriana[4]: Deixa de ser chata Melissa, você gosta ou não gosta?\n",
      "Melissa[5]: Ainda não entendi por que dinossauros.\n"
     ]
    },
    {
     "data": {
      "text/plain": [
       "null"
      ]
     },
     "execution_count": 5,
     "metadata": {},
     "output_type": "execute_result"
    }
   ],
   "source": [
    "Chat doriana = new Chat(\"Doriana\"),\n",
    "     quincas = new Chat(\"Quincas\"),\n",
    "     melissa = new Chat(\"Melissa\");\n",
    "\n",
    "doriana.mensagem(\"Quem aqui gosta de dinossauros?\");\n",
    "quincas.mensagem(\"Eu gosto!\");\n",
    "melissa.mensagem(\"Dinossauros? Por que dinossauros?\");\n",
    "doriana.mensagem(\"Deixa de ser chata Melissa, você gosta ou não gosta?\");\n",
    "melissa.mensagem(\"Ainda não entendi por que dinossauros.\");"
   ]
  }
 ],
 "metadata": {
  "kernelspec": {
   "display_name": "Java",
   "language": "java",
   "name": "java"
  },
  "language_info": {
   "codemirror_mode": "text/x-java",
   "file_extension": ".java",
   "mimetype": "",
   "name": "Java",
   "nbconverter_exporter": "",
   "version": "11.0.6"
  }
 },
 "nbformat": 4,
 "nbformat_minor": 4
}
