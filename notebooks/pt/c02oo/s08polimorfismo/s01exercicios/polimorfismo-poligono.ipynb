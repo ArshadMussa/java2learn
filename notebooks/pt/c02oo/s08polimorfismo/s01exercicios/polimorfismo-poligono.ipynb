{
 "cells": [
  {
   "cell_type": "markdown",
   "metadata": {},
   "source": [
    "# Polimorfismo\n",
    "\n",
    "## Polimorfismo no Polígono\n",
    "\n",
    "Reveja a seguir o exemplo de polimorfismo e amarração dinâmica em C++. Estude este exemplo e tente escrevê-lo em Java na célula abaixo.\n",
    "\n",
    "Algumas coisas importantes:\n",
    "* Em linguagens OO modernas como o Java os ponteiros estão sempre presentes implicitamente.\n",
    "* Em linguagens OO modernas como o Java a amarração é sempre dinâmica, portanto, ela não precisa ser declarada explicitamente, a exemplo de como é feito com o `virtual` em C++.\n",
    "\n",
    "~~~cpp\n",
    "#include <iostream>\n",
    "\n",
    "class Poligono {\n",
    "    private:\n",
    "       int altura;\n",
    "       int largura;\n",
    "    public:\n",
    "       Poligono(int altura, int largura) {\n",
    "           this->altura = altura;\n",
    "           this->largura = largura;\n",
    "       }\n",
    "    \n",
    "       int getAltura() {\n",
    "           return altura;\n",
    "       }\n",
    "    \n",
    "       int getLargura() {\n",
    "           return largura;\n",
    "       }\n",
    "    \n",
    "       virtual float getArea() {\n",
    "           return 0;\n",
    "       }\n",
    "};\n",
    "\n",
    "class TrianguloRetangulo : public Poligono {\n",
    "    public:\n",
    "       TrianguloRetangulo(int altura, int largura) : Poligono(altura, largura) {\n",
    "       }\n",
    "       float getArea() {\n",
    "           return getAltura() * getLargura() / 2;\n",
    "       }\n",
    "};\n",
    "\n",
    "class Retangulo : public Poligono {\n",
    "    public:\n",
    "       Retangulo(int altura, int largura) : Poligono(altura, largura) {\n",
    "       }\n",
    "       float getArea() {\n",
    "           return getAltura() * getLargura();\n",
    "       }\n",
    "};\n",
    "\n",
    "Poligono *tr = new TrianguloRetangulo(6, 10);\n",
    "Poligono *rt = new Retangulo(6, 10);\n",
    "\n",
    "std::cout << \"Área do triangulo retângulo: \" << tr->getArea() << std::endl;\n",
    "std::cout << \"Área do retângulo: \" << rt->getArea() << std::endl;\n",
    "~~~"
   ]
  },
  {
   "cell_type": "markdown",
   "metadata": {},
   "source": [
    "# Exercício\n",
    "\n",
    "Escreva o exemplo acima em Java."
   ]
  },
  {
   "cell_type": "code",
   "execution_count": null,
   "metadata": {},
   "outputs": [],
   "source": []
  },
  {
   "cell_type": "markdown",
   "metadata": {},
   "source": [
    "# Resolução\n",
    "\n",
    "Você deve ter construído algo como na solução a seguir."
   ]
  },
  {
   "cell_type": "code",
   "execution_count": 1,
   "metadata": {},
   "outputs": [
    {
     "data": {
      "text/plain": [
       "com.twosigma.beaker.javash.bkr140a331a.Poligono"
      ]
     },
     "execution_count": 1,
     "metadata": {},
     "output_type": "execute_result"
    }
   ],
   "source": [
    "class Poligono {\n",
    "    private int altura;\n",
    "    private int largura;\n",
    "\n",
    "    \n",
    "    public Poligono(int altura, int largura) {\n",
    "        this.altura = altura;\n",
    "        this.largura = largura;\n",
    "    }\n",
    "    \n",
    "    int getAltura() {\n",
    "        return altura;\n",
    "    }\n",
    "    \n",
    "    int getLargura() {\n",
    "        return largura;\n",
    "    }\n",
    "    \n",
    "    float getArea() {\n",
    "        return 0;\n",
    "    }\n",
    "}"
   ]
  },
  {
   "cell_type": "code",
   "execution_count": 2,
   "metadata": {},
   "outputs": [
    {
     "data": {
      "text/plain": [
       "com.twosigma.beaker.javash.bkr140a331a.TrianguloRetangulo"
      ]
     },
     "execution_count": 2,
     "metadata": {},
     "output_type": "execute_result"
    }
   ],
   "source": [
    "class TrianguloRetangulo extends Poligono {\n",
    "    public TrianguloRetangulo(int altura, int largura) {\n",
    "        super(altura, largura);\n",
    "    }\n",
    "    \n",
    "    float getArea() {\n",
    "        return getAltura() * getLargura() / 2;\n",
    "    }\n",
    "}"
   ]
  },
  {
   "cell_type": "code",
   "execution_count": 3,
   "metadata": {},
   "outputs": [
    {
     "data": {
      "text/plain": [
       "com.twosigma.beaker.javash.bkr140a331a.Retangulo"
      ]
     },
     "execution_count": 3,
     "metadata": {},
     "output_type": "execute_result"
    }
   ],
   "source": [
    "class Retangulo extends Poligono {\n",
    "    public Retangulo(int altura, int largura) {\n",
    "        super(altura, largura);\n",
    "    }\n",
    "    \n",
    "    float getArea() {\n",
    "        return getAltura() * getLargura();\n",
    "    }\n",
    "}"
   ]
  },
  {
   "cell_type": "code",
   "execution_count": 4,
   "metadata": {},
   "outputs": [
    {
     "name": "stdout",
     "output_type": "stream",
     "text": [
      "Área do triangulo retângulo: 30.0\n",
      "Área do retângulo: 60.0\n"
     ]
    },
    {
     "data": {
      "text/plain": [
       "null"
      ]
     },
     "execution_count": 4,
     "metadata": {},
     "output_type": "execute_result"
    }
   ],
   "source": [
    "Poligono tr = new TrianguloRetangulo(6, 10);\n",
    "Poligono rt = new Retangulo(6, 10);\n",
    "\n",
    "System.out.println(\"Área do triangulo retângulo: \" + tr.getArea());\n",
    "System.out.println(\"Área do retângulo: \" + rt.getArea());"
   ]
  },
  {
   "cell_type": "markdown",
   "metadata": {},
   "source": [
    "# `toString()` no Garoto Zumbi\n",
    "\n",
    "Veja abaixo como a classe `GarotoZumbi` foi modificada. O método `mostra()` que mostrava o zumbi no console foi substituído pelo método `toString()` que retorna uma String com o desenho do zumbi (mas não o imprime). Com essa nova versão, você precisa receber e imprimir no console da seguinte maneira:\n",
    "\n",
    "~~~java\n",
    "System.out.println(garoto.toString());\n",
    "~~~\n",
    "\n",
    "Os outros métodos também deixaram de imprimir o desenho do zumbi e agora você precisa fazê-lo explicitamente."
   ]
  },
  {
   "cell_type": "code",
   "execution_count": 5,
   "metadata": {},
   "outputs": [
    {
     "ename": "ERROR",
     "evalue": " java.lang.IllegalStateException",
     "output_type": "error",
     "text": "ERROR: java.lang.IllegalStateException: class, interface, or enum expected\n GarotoZumbi garoto = new GarotoZumbi(1, \"a\n             ^                              \n\nclass, interface, or enum expected\n System.out.println(garoto.toString()\n       ^                              \n\nclass, interface, or enum expected\n garoto.dorme()\n       ^        \n\nclass, interface, or enum expected\n System.out.println(garoto.toString()\n       ^                              \n\nclass, interface, or enum expected\n garoto.cresce()\n       ^         \n\nclass, interface, or enum expected\n System.out.println(garoto.toString()\n       ^                              \n\n",
     "traceback": [
      "\u001b[1;31mERROR: java.lang.IllegalStateException: class, interface, or enum expected\u001b[0;0m",
      "\u001b[1;31m GarotoZumbi garoto = new GarotoZumbi(1, \"a\u001b[0;0m",
      "\u001b[1;31m             ^                              \u001b[0;0m",
      "\u001b[1;31m\u001b[0;0m",
      "\u001b[1;31mclass, interface, or enum expected\u001b[0;0m",
      "\u001b[1;31m System.out.println(garoto.toString()\u001b[0;0m",
      "\u001b[1;31m       ^                              \u001b[0;0m",
      "\u001b[1;31m\u001b[0;0m",
      "\u001b[1;31mclass, interface, or enum expected\u001b[0;0m",
      "\u001b[1;31m garoto.dorme()\u001b[0;0m",
      "\u001b[1;31m       ^        \u001b[0;0m",
      "\u001b[1;31m\u001b[0;0m",
      "\u001b[1;31mclass, interface, or enum expected\u001b[0;0m",
      "\u001b[1;31m System.out.println(garoto.toString()\u001b[0;0m",
      "\u001b[1;31m       ^                              \u001b[0;0m",
      "\u001b[1;31m\u001b[0;0m",
      "\u001b[1;31mclass, interface, or enum expected\u001b[0;0m",
      "\u001b[1;31m garoto.cresce()\u001b[0;0m",
      "\u001b[1;31m       ^         \u001b[0;0m",
      "\u001b[1;31m\u001b[0;0m",
      "\u001b[1;31mclass, interface, or enum expected\u001b[0;0m",
      "\u001b[1;31m System.out.println(garoto.toString()\u001b[0;0m",
      "\u001b[1;31m       ^                              \u001b[0;0m"
     ]
    }
   ],
   "source": [
    "public class GarotoZumbi\n",
    "{\n",
    "    protected int idade;\n",
    "    protected String estado;\n",
    "    protected String nome;\n",
    "    \n",
    "    public GarotoZumbi(int idade, String estado, String nome) {\n",
    "        this.idade = idade;\n",
    "        this.estado = estado;\n",
    "        this.nome = nome;\n",
    "    }\n",
    "    \n",
    "    public String toString(boolean imprimeNome) {\n",
    "        String resultado = \"\";\n",
    "        \n",
    "        // cabeleira\n",
    "        if (idade >= 2)\n",
    "            resultado += \"  *\\n\";\n",
    "        \n",
    "        // corpo com olhos\n",
    "        if (estado.equalsIgnoreCase(\"acordado\"))\n",
    "            resultado += \" o*o\\n\";\n",
    "        else\n",
    "            resultado += \" -*-\\n\";\n",
    "        \n",
    "        // barba\n",
    "        if (idade >= 3)\n",
    "            resultado += \"*****\\n\";\n",
    "        \n",
    "        if (imprimeNome) {\n",
    "            resultado += nome + \"\\n\";\n",
    "            resultado += \"\\n\";\n",
    "        }\n",
    "        \n",
    "        return resultado;\n",
    "    }\n",
    "    \n",
    "    public String toString() {\n",
    "        return toString(true);\n",
    "    }\n",
    "    \n",
    "    public void cresce() {\n",
    "        if (idade < 3)\n",
    "            idade++;\n",
    "    }\n",
    "    \n",
    "    public void acorda() {\n",
    "        estado = \"acordado\";\n",
    "    }\n",
    "    \n",
    "    public void dorme() {\n",
    "        estado = \"dormindo\";\n",
    "    }\n",
    "}\n",
    "\n",
    "GarotoZumbi garoto = new GarotoZumbi(1, \"acordado\", \"Asdrubal\");\n",
    "System.out.println(garoto.toString());\n",
    "garoto.dorme();\n",
    "System.out.println(garoto.toString());\n",
    "garoto.cresce();\n",
    "System.out.println(garoto.toString());"
   ]
  },
  {
   "cell_type": "markdown",
   "metadata": {},
   "source": [
    "# Método `toString()` de `Object`\n",
    "\n",
    "O nome do método `toString()` não foi escolhido por acaso. Ele é um método que está defininido na classe especial `Object`, que é aquela classe de onde descencem implicitamente todas as classes. Quando você não sobrescreve o método `toString()` ele retorna uma String o endereço do objeto na memória.\n",
    "\n",
    "O método `toString()` é chamado implicitamente toda vez que você pede para imprimir um objeto sem indicar o método, portanto, no exemplo a seguir:\n",
    "\n",
    "~~~java\n",
    "Poligono tr = new TrianguloRetangulo(6, 10);\n",
    "System.out.println(tr);\n",
    "Poligono rt = new Retangulo(6, 10);\n",
    "System.out.println(rt);\n",
    "~~~\n",
    "\n",
    "Ele imprime umas sequências estranhas que são a identificação única do objeto na memória.\n",
    "\n",
    "Entretanto, se você sobrescreve o método `toString()`, através do polimorfismo, o novo método será chamado implicitamente quando você pede para imprimir o objeto. Por exemplo:\n",
    "\n",
    "~~~java\n",
    "GarotoZumbi garoto = new GarotoZumbi(1, \"acordado\", \"Asdrubal\");\n",
    "System.out.println(garoto);\n",
    "garoto.dorme();\n",
    "System.out.println(garoto);\n",
    "garoto.cresce();\n",
    "System.out.println(garoto);\n",
    "~~~\n",
    "\n",
    "Imprime o desenho do `GarotoZumbi`."
   ]
  },
  {
   "cell_type": "code",
   "execution_count": 6,
   "metadata": {},
   "outputs": [
    {
     "ename": "cannot find symbol",
     "evalue": "cannot find symbol",
     "output_type": "error",
     "text": "cannot find symbol\n  symbol:   class GarotoZumbi\n  location: class com.twosigma.beaker.javash.bkr140a331a.BeakerWrapperClass1261714175Id23e711000a6645f9a98b25ddaf27cc11\n GarotoZumbi garoto = new GarotoZumbi(1, \"\n ^          ^                               \n\ncannot find symbol\n  symbol:   class GarotoZumbi\n  location: class com.twosigma.beaker.javash.bkr140a331a.BeakerWrapperClass1261714175Id23e711000a6645f9a98b25ddaf27cc11\n GarotoZumbi garoto = new GarotoZumbi(1, \"acordado\", \"Asdrubal\")\n                          ^          ^                            \n\n",
     "traceback": [
      "\u001b[1;31mcannot find symbol\u001b[0;0m",
      "\u001b[1;31m  symbol:   class GarotoZumbi\u001b[0;0m",
      "\u001b[0;31m  location: class com.twosigma.beaker.javash.bkr140a331a.BeakerWrapperClass1261714175Id23e711000a6645f9a98b25ddaf27cc11\u001b[0;0m",
      "\u001b[0;31m GarotoZumbi garoto = new GarotoZumbi(1, \"\u001b[0;0m",
      "\u001b[0;31m ^          ^                               \u001b[0;0m",
      "\u001b[0;31m\u001b[0;0m",
      "\u001b[0;31mcannot find symbol\u001b[0;0m",
      "\u001b[0;31m  symbol:   class GarotoZumbi\u001b[0;0m",
      "\u001b[0;31m  location: class com.twosigma.beaker.javash.bkr140a331a.BeakerWrapperClass1261714175Id23e711000a6645f9a98b25ddaf27cc11\u001b[0;0m",
      "\u001b[0;31m GarotoZumbi garoto = new GarotoZumbi(1, \"acordado\", \"Asdrubal\")\u001b[0;0m",
      "\u001b[0;31m                          ^          ^                            \u001b[0;0m"
     ]
    }
   ],
   "source": [
    "Poligono tr = new TrianguloRetangulo(6, 10);\n",
    "System.out.println(tr);\n",
    "Poligono rt = new Retangulo(6, 10);\n",
    "System.out.println(rt);\n",
    "\n",
    "System.out.println(\"===============================\");\n",
    "\n",
    "GarotoZumbi garoto = new GarotoZumbi(1, \"acordado\", \"Asdrubal\");\n",
    "System.out.println(garoto);\n",
    "garoto.dorme();\n",
    "System.out.println(garoto);\n",
    "garoto.cresce();\n",
    "System.out.println(garoto);"
   ]
  },
  {
   "cell_type": "markdown",
   "metadata": {},
   "source": [
    "## Exercício\n",
    "\n",
    "Considere os herdeiros `Monstro` e `Perfeito` abaixo implementados à moda antiga com o método `mostra()` (eles não funcionarão agora se você tentar executá-los porque a superclasse -- `GarotoZumbi` -- não tem mais o `mostra()`).\n",
    "\n",
    "Adapte ambos para que passem a ter o método `toString()` que retorna o desenho na forma de String, substituindo o `mostra()`."
   ]
  },
  {
   "cell_type": "code",
   "execution_count": 7,
   "metadata": {},
   "outputs": [
    {
     "ename": "ERROR",
     "evalue": " java.lang.IllegalStateException",
     "output_type": "error",
     "text": "ERROR: java.lang.IllegalStateException: class, interface, or enum expected\n Monstro monst = new Monstro(1, \"acorda\n         ^                              \n\nclass, interface, or enum expected\n monst.mostra()\n      ^         \n\nclass, interface, or enum expected\n monst.cresce()\n      ^         \n\nclass, interface, or enum expected\n monst.cresce()\n      ^         \n\nclass, interface, or enum expected\n monst.cresce()\n      ^         \n\nclass, interface, or enum expected\n monst.cresce()\n      ^         \n\nclass, interface, or enum expected\n monst.cresce()\n      ^         \n\nclass, interface, or enum expected\n monst.dorme()\n      ^        \n\n",
     "traceback": [
      "\u001b[1;31mERROR: java.lang.IllegalStateException: class, interface, or enum expected\u001b[0;0m",
      "\u001b[1;31m Monstro monst = new Monstro(1, \"acorda\u001b[0;0m",
      "\u001b[1;31m         ^                              \u001b[0;0m",
      "\u001b[1;31m\u001b[0;0m",
      "\u001b[1;31mclass, interface, or enum expected\u001b[0;0m",
      "\u001b[1;31m monst.mostra()\u001b[0;0m",
      "\u001b[1;31m      ^         \u001b[0;0m",
      "\u001b[1;31m\u001b[0;0m",
      "\u001b[1;31mclass, interface, or enum expected\u001b[0;0m",
      "\u001b[1;31m monst.cresce()\u001b[0;0m",
      "\u001b[1;31m      ^         \u001b[0;0m",
      "\u001b[1;31m\u001b[0;0m",
      "\u001b[1;31mclass, interface, or enum expected\u001b[0;0m",
      "\u001b[1;31m monst.cresce()\u001b[0;0m",
      "\u001b[1;31m      ^         \u001b[0;0m",
      "\u001b[1;31m\u001b[0;0m",
      "\u001b[1;31mclass, interface, or enum expected\u001b[0;0m",
      "\u001b[1;31m monst.cresce()\u001b[0;0m",
      "\u001b[1;31m      ^         \u001b[0;0m",
      "\u001b[1;31m\u001b[0;0m",
      "\u001b[1;31mclass, interface, or enum expected\u001b[0;0m",
      "\u001b[1;31m monst.cresce()\u001b[0;0m",
      "\u001b[1;31m      ^         \u001b[0;0m",
      "\u001b[1;31m\u001b[0;0m",
      "\u001b[1;31mclass, interface, or enum expected\u001b[0;0m",
      "\u001b[1;31m monst.cresce()\u001b[0;0m",
      "\u001b[1;31m      ^         \u001b[0;0m",
      "\u001b[1;31m\u001b[0;0m",
      "\u001b[1;31mclass, interface, or enum expected\u001b[0;0m",
      "\u001b[1;31m monst.dorme()\u001b[0;0m",
      "\u001b[1;31m      ^        \u001b[0;0m"
     ]
    }
   ],
   "source": [
    "public class Monstro extends GarotoZumbi\n",
    "{\n",
    "    public Monstro(int idade, String estado, String nome) {\n",
    "        super(idade, estado, nome);\n",
    "    }\n",
    "\n",
    "    public void toString(boolean imprimeNome) {\n",
    "        super.mostra(false);\n",
    "\n",
    "        if (idade >= 4)\n",
    "            System.out.println(\"#####\");\n",
    "        if (idade >= 5)\n",
    "            System.out.println(\"/   \\\\\");\n",
    "\n",
    "        if (imprimeNome)\n",
    "            System.out.println(nome);\n",
    "    }\n",
    "\n",
    "    public void cresce() {\n",
    "        if (idade < 5)\n",
    "            idade++;\n",
    "        mostra();\n",
    "    }\n",
    "}\n",
    "\n",
    "Monstro monst = new Monstro(1, \"acordado\", \"Bonerges\");\n",
    "monst.mostra();\n",
    "monst.cresce();\n",
    "monst.cresce();\n",
    "monst.cresce();\n",
    "monst.cresce();\n",
    "monst.cresce();\n",
    "monst.dorme();"
   ]
  },
  {
   "cell_type": "code",
   "execution_count": 8,
   "metadata": {},
   "outputs": [
    {
     "ename": "ERROR",
     "evalue": " java.lang.IllegalStateException",
     "output_type": "error",
     "text": "ERROR: java.lang.IllegalStateException: class, interface, or enum expected\n Perfeito perf = new Perfeito(1, \"acorda\n          ^                              \n\nclass, interface, or enum expected\n perf.mostra()\n     ^         \n\nclass, interface, or enum expected\n perf.cresce()\n     ^         \n\nclass, interface, or enum expected\n perf.cresce()\n     ^         \n\nclass, interface, or enum expected\n perf.mudaSituacao()\n     ^               \n\nclass, interface, or enum expected\n perf.mudaSituacao()\n     ^               \n\n",
     "traceback": [
      "\u001b[1;31mERROR: java.lang.IllegalStateException: class, interface, or enum expected\u001b[0;0m",
      "\u001b[1;31m Perfeito perf = new Perfeito(1, \"acorda\u001b[0;0m",
      "\u001b[1;31m          ^                              \u001b[0;0m",
      "\u001b[1;31m\u001b[0;0m",
      "\u001b[1;31mclass, interface, or enum expected\u001b[0;0m",
      "\u001b[1;31m perf.mostra()\u001b[0;0m",
      "\u001b[1;31m     ^         \u001b[0;0m",
      "\u001b[1;31m\u001b[0;0m",
      "\u001b[1;31mclass, interface, or enum expected\u001b[0;0m",
      "\u001b[1;31m perf.cresce()\u001b[0;0m",
      "\u001b[1;31m     ^         \u001b[0;0m",
      "\u001b[1;31m\u001b[0;0m",
      "\u001b[1;31mclass, interface, or enum expected\u001b[0;0m",
      "\u001b[1;31m perf.cresce()\u001b[0;0m",
      "\u001b[1;31m     ^         \u001b[0;0m",
      "\u001b[1;31m\u001b[0;0m",
      "\u001b[1;31mclass, interface, or enum expected\u001b[0;0m",
      "\u001b[1;31m perf.mudaSituacao()\u001b[0;0m",
      "\u001b[1;31m     ^               \u001b[0;0m",
      "\u001b[1;31m\u001b[0;0m",
      "\u001b[1;31mclass, interface, or enum expected\u001b[0;0m",
      "\u001b[1;31m perf.mudaSituacao()\u001b[0;0m",
      "\u001b[1;31m     ^               \u001b[0;0m"
     ]
    }
   ],
   "source": [
    "public class Perfeito extends GarotoZumbi\n",
    "{\n",
    "    private String situacao = \"normal\";\n",
    "    \n",
    "    public Perfeito(int idade, String estado, String nome) {\n",
    "        super(idade, estado, nome);\n",
    "    }\n",
    "\n",
    "    public Perfeito(int idade, String estado, String nome, String situacao) {\n",
    "        super(idade, estado, nome);\n",
    "        this.situacao = situacao;\n",
    "    }\n",
    "\n",
    "    public void mostra() {\n",
    "        System.out.println(\"+-----+\");\n",
    "\n",
    "        if (idade >= 2)\n",
    "            System.out.println(\"|     |\");\n",
    "\n",
    "        if (estado.equals(\"dormindo\")) {\n",
    "            System.out.println(\" - -\");\n",
    "            System.out.println(\"|  _  |\"); }\n",
    "        else if (situacao.equals(\"normal\")) {\n",
    "            System.out.println(\"| o-o |\");\n",
    "            System.out.println(\"| ___ |\"); }\n",
    "        else if (situacao.equals(\"milionario\")) {\n",
    "            System.out.println(\"| $-$ |\");\n",
    "            System.out.println(\"| ___ |\"); }\n",
    "        else if (situacao.equals(\"doido\")) {\n",
    "            System.out.println(\"| @-@ |\");\n",
    "            System.out.println(\"|  ~  |\");\n",
    "        }\n",
    "\n",
    "        if (idade < 3)\n",
    "            System.out.println(\" \\\\___/\");\n",
    "        else {\n",
    "            System.out.println(\"|     |\");\n",
    "            System.out.println(\"\\\\_____/\");\n",
    "        }\n",
    "\n",
    "            System.out.println(nome);\n",
    "    }\n",
    "\n",
    "    public void mudaSituacao() {\n",
    "        String s[] = {\"normal\",\n",
    "                      \"milionario\",\n",
    "                      \"doido\" };\n",
    "\n",
    "        int p;\n",
    "        for (p = 0; p < s.length && !situacao.equals(s[p]); p++)\n",
    "            /* nada */ ;\n",
    "\n",
    "        p = (p + 1) % 3;\n",
    "        situacao = s[p];\n",
    "\n",
    "        mostra();\n",
    "    }\n",
    "}\n",
    "\n",
    "Perfeito perf = new Perfeito(1, \"acordado\", \"Zandor\");\n",
    "perf.mostra();\n",
    "perf.cresce();\n",
    "perf.cresce();\n",
    "perf.mudaSituacao();\n",
    "perf.mudaSituacao();"
   ]
  },
  {
   "cell_type": "markdown",
   "metadata": {},
   "source": [
    "# Exercício\n",
    "\n",
    "Dada a classe `Servicos`, a seguir, crie nela um método estático chamado `imprimeZumbi`. Esse método deve receber como parâmetro uma referência para um objeto da classe `GarotoZumbi` (considere a nova versão com `toString()`), ou um de seus herdeiros, e deve imprimi-lo.\n",
    "\n",
    "Utilize uma solução que explore o polimorfismo, sem o uso de condicional."
   ]
  },
  {
   "cell_type": "code",
   "execution_count": 9,
   "metadata": {},
   "outputs": [
    {
     "data": {
      "text/plain": [
       "com.twosigma.beaker.javash.bkr140a331a.Servicos"
      ]
     },
     "execution_count": 9,
     "metadata": {},
     "output_type": "execute_result"
    }
   ],
   "source": [
    "public class Servicos {\n",
    "    \n",
    "}"
   ]
  },
  {
   "cell_type": "markdown",
   "metadata": {},
   "source": [
    "# Exercício\n",
    "\n",
    "Dada a classe `EmprestimoComposto` desenvolvida anteriormente em sala de aula.\n",
    "    \n",
    "Crie uma classe `Emprestimo` que generalize qualquer emprestimo e `EmprestimoComposto` passa a ser herdeira da mesma. Transfira para a superclasse o máximo de atributos e métodos, de tal modo que possam ser reusados pelos herdeiros.\n",
    "\n",
    "Crie uma classe `EmprestimoSimples` herdeira de `Emprestimo` que também disponha dos métodos `parcela()` e `proximaParcela()`."
   ]
  },
  {
   "cell_type": "code",
   "execution_count": 10,
   "metadata": {},
   "outputs": [
    {
     "ename": "ERROR",
     "evalue": " java.lang.IllegalStateException",
     "output_type": "error",
     "text": "ERROR: java.lang.IllegalStateException: class, interface, or enum expected\n EmprestimoComposto emprestimo1 = new EmprestimoCo\n                    ^                              \n\nclass, interface, or enum expected\n int i = 1\n ^         \n\nclass, interface, or enum expected\n emprestimo1.proximaParcela()\n            ^                 \n\nclass, interface, or enum expected\n emprestimo2.proximaParcela()\n            ^                 \n\nclass, interface, or enum expected\n while (emprestimo1.parcela() >\n ^                              \n\nclass, interface, or enum expected\n System.out.println(\"              pa\n       ^                              \n\nclass, interface, or enum expected\n }\n ^ \n\nclass, interface, or enum expected\n System.out.println(\"              pa\n       ^                              \n\nclass, interface, or enum expected\n }\n ^ \n\nclass, interface, or enum expected\n emprestimo2.proximaParcela()\n            ^                 \n\nclass, interface, or enum expected\n i++\n  ^  \n\nclass, interface, or enum expected\n }\n ^ \n\n",
     "traceback": [
      "\u001b[1;31mERROR: java.lang.IllegalStateException: class, interface, or enum expected\u001b[0;0m",
      "\u001b[1;31m EmprestimoComposto emprestimo1 = new EmprestimoCo\u001b[0;0m",
      "\u001b[1;31m                    ^                              \u001b[0;0m",
      "\u001b[1;31m\u001b[0;0m",
      "\u001b[1;31mclass, interface, or enum expected\u001b[0;0m",
      "\u001b[1;31m int i = 1\u001b[0;0m",
      "\u001b[1;31m ^         \u001b[0;0m",
      "\u001b[1;31m\u001b[0;0m",
      "\u001b[1;31mclass, interface, or enum expected\u001b[0;0m",
      "\u001b[1;31m emprestimo1.proximaParcela()\u001b[0;0m",
      "\u001b[1;31m            ^                 \u001b[0;0m",
      "\u001b[1;31m\u001b[0;0m",
      "\u001b[1;31mclass, interface, or enum expected\u001b[0;0m",
      "\u001b[1;31m emprestimo2.proximaParcela()\u001b[0;0m",
      "\u001b[1;31m            ^                 \u001b[0;0m",
      "\u001b[1;31m\u001b[0;0m",
      "\u001b[1;31mclass, interface, or enum expected\u001b[0;0m",
      "\u001b[1;31m while (emprestimo1.parcela() >\u001b[0;0m",
      "\u001b[1;31m ^                              \u001b[0;0m",
      "\u001b[1;31m\u001b[0;0m",
      "\u001b[1;31mclass, interface, or enum expected\u001b[0;0m",
      "\u001b[1;31m System.out.println(\"              pa\u001b[0;0m",
      "\u001b[1;31m       ^                              \u001b[0;0m",
      "\u001b[1;31m\u001b[0;0m",
      "\u001b[1;31mclass, interface, or enum expected\u001b[0;0m",
      "\u001b[1;31m }\u001b[0;0m",
      "\u001b[1;31m ^ \u001b[0;0m",
      "\u001b[1;31m\u001b[0;0m",
      "\u001b[1;31mclass, interface, or enum expected\u001b[0;0m",
      "\u001b[1;31m System.out.println(\"              pa\u001b[0;0m",
      "\u001b[1;31m       ^                              \u001b[0;0m",
      "\u001b[1;31m\u001b[0;0m",
      "\u001b[1;31mclass, interface, or enum expected\u001b[0;0m",
      "\u001b[1;31m }\u001b[0;0m",
      "\u001b[1;31m ^ \u001b[0;0m",
      "\u001b[1;31m\u001b[0;0m",
      "\u001b[1;31mclass, interface, or enum expected\u001b[0;0m",
      "\u001b[1;31m emprestimo2.proximaParcela()\u001b[0;0m",
      "\u001b[1;31m            ^                 \u001b[0;0m",
      "\u001b[1;31m\u001b[0;0m",
      "\u001b[1;31mclass, interface, or enum expected\u001b[0;0m",
      "\u001b[1;31m i++\u001b[0;0m",
      "\u001b[1;31m  ^  \u001b[0;0m",
      "\u001b[1;31m\u001b[0;0m",
      "\u001b[1;31mclass, interface, or enum expected\u001b[0;0m",
      "\u001b[1;31m }\u001b[0;0m",
      "\u001b[1;31m ^ \u001b[0;0m"
     ]
    }
   ],
   "source": [
    "import java.lang.Math;\n",
    "\n",
    "class EmprestimoComposto {\n",
    "    private float s;\n",
    "    private int   n;\n",
    "    private float j;\n",
    "    private int   corrente;\n",
    "    private float p,\n",
    "                  proxima;\n",
    "\n",
    "    public EmprestimoComposto(float s, int n, float j) {\n",
    "        this.s = s;\n",
    "        this.n = n;\n",
    "        this.j = j;\n",
    "        corrente = 1;\n",
    "        this.p = -1;  // antes da primeira parcela\n",
    "        this.proxima = s;\n",
    "    }\n",
    "\n",
    "    float getS() {\n",
    "        return s;\n",
    "    }\n",
    "\n",
    "    int getN() {\n",
    "        return n;\n",
    "    }\n",
    "    \n",
    "    float getJ() {\n",
    "        return j;\n",
    "    }\n",
    "\n",
    "    public float proximaParcela() {\n",
    "        p = proxima;\n",
    "        corrente++;\n",
    "        if (corrente <= n)\n",
    "            proxima += (proxima * (j/100));\n",
    "        else\n",
    "            proxima = 0;\n",
    "        return p;\n",
    "    }\n",
    "    \n",
    "    public float parcela() {\n",
    "        return p;\n",
    "    }\n",
    "    \n",
    "    public float parcela(int numero) {\n",
    "        float resultado = 0;\n",
    "        if (numero <= n)\n",
    "            resultado = s * (float)Math.pow(1 + j/100, numero-1);\n",
    "        return resultado;\n",
    "    }\n",
    "}\n",
    "\n",
    "// codigo principal\n",
    "\n",
    "EmprestimoComposto emprestimo1 = new EmprestimoComposto(200, 5, 1),\n",
    "                   emprestimo2 = new EmprestimoComposto(500, 7, 2);\n",
    "\n",
    "int i = 1;\n",
    "emprestimo1.proximaParcela();\n",
    "emprestimo2.proximaParcela();\n",
    "while (emprestimo1.parcela() > 0 || emprestimo2.parcela() > 0) {\n",
    "    if (emprestimo1.parcela() > 0) {\n",
    "        System.out.println(\"Emprestimo 1: parcela \" + i + \" eh \" + emprestimo1.parcela());\n",
    "        System.out.println(\"              parcela \" + i + \" eh \" + emprestimo1.parcela(i));\n",
    "    }\n",
    "    if (emprestimo2.parcela() > 0) {\n",
    "        System.out.println(\"Emprestimo 2: parcela \" + i + \" eh \" + emprestimo2.parcela());\n",
    "        System.out.println(\"              parcela \" + i + \" eh \" + emprestimo2.parcela(i));\n",
    "    }\n",
    "    emprestimo1.proximaParcela();\n",
    "    emprestimo2.proximaParcela();\n",
    "    i++;\n",
    "}"
   ]
  },
  {
   "cell_type": "code",
   "execution_count": null,
   "metadata": {},
   "outputs": [],
   "source": []
  },
  {
   "cell_type": "markdown",
   "metadata": {},
   "source": [
    "# Exercício\n",
    "\n",
    "Escreva um programa que defina um vetor de `Emprestimos` que pode conter tanto instâncias de `EmprestimoSimples` quanto `EmprestimoComposto`. O programa deve percorrer o vetor e imprimir a próxima parcela de cada financiamento."
   ]
  },
  {
   "cell_type": "code",
   "execution_count": null,
   "metadata": {},
   "outputs": [],
   "source": []
  }
 ],
 "metadata": {
  "kernelspec": {
   "display_name": "Java",
   "language": "java",
   "name": "java"
  },
  "language_info": {
   "codemirror_mode": "text/x-java",
   "file_extension": ".java",
   "mimetype": "",
   "name": "Java",
   "nbconverter_exporter": "",
   "version": "11.0.7"
  }
 },
 "nbformat": 4,
 "nbformat_minor": 4
}
