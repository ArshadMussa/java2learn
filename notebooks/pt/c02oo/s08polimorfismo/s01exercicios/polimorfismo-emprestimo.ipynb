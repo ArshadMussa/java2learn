{
 "cells": [
  {
   "cell_type": "markdown",
   "metadata": {},
   "source": [
    "# Polimorfismo\n",
    "\n",
    "Considere o seguinte exemplo ilustrativo.\n",
    "\n",
    "## Classe `Emprestimo`\n",
    "\n",
    "Retomando o exercício anterior, considere a seguinte classe que representa um `Emprestimo`, em que:\n",
    "* `S` - valor da primeira parcela\n",
    "* `N` - número de parcelas\n",
    "* `J` – percentual de juros mensal\n",
    "\n",
    "Cada nova parcela é sempre calculada em relação à anterior:\n",
    "\n",
    "* P`atual` = P`anterior` mais Juros"
   ]
  },
  {
   "cell_type": "code",
   "execution_count": 1,
   "metadata": {},
   "outputs": [
    {
     "data": {
      "text/plain": [
       "com.twosigma.beaker.javash.bkrec7f8663.Emprestimo"
      ]
     },
     "execution_count": 1,
     "metadata": {},
     "output_type": "execute_result"
    }
   ],
   "source": [
    "public class Emprestimo {\n",
    "   float s;\n",
    "   int   n;\n",
    "   float j;\n",
    "   int   corrente;\n",
    "   float p;\n",
    "\n",
    "   Emprestimo(float s, int n, float j) {\n",
    "      this.s = s;\n",
    "      this.n = n;\n",
    "      this.j = j;\n",
    "      corrente = 1;\n",
    "      this.p = s;\n",
    "   }\n",
    "\n",
    "   float proximaParcela() {\n",
    "      float retorno = p;\n",
    "      corrente++;\n",
    "      if (corrente <= n)\n",
    "         p = p + (p * (j/100));\n",
    "      else\n",
    "         p = 0;\n",
    "      return retorno;\n",
    "   }\n",
    "}"
   ]
  },
  {
   "cell_type": "markdown",
   "metadata": {},
   "source": [
    "## Empréstimo com Taxa de Administração (`EmprestimoTA`)\n",
    "\n",
    "Taxa de valor fixo adicionada sobre o valor do empréstimo.\n",
    "\n",
    "## Sobrescrita de método\n",
    "\n",
    "Método `proximaParcela()` tem mesma assinatura da superclasse e, portanto, sobrescreve a superclasse."
   ]
  },
  {
   "cell_type": "code",
   "execution_count": 5,
   "metadata": {},
   "outputs": [
    {
     "data": {
      "text/plain": [
       "com.twosigma.beaker.javash.bkrec7f8663.EmprestimoTA"
      ]
     },
     "execution_count": 5,
     "metadata": {},
     "output_type": "execute_result"
    }
   ],
   "source": [
    "public class EmprestimoTA extends Emprestimo {\n",
    "   private float ta;\n",
    "   \n",
    "   EmprestimoTA(float s, int n, float j, float ta) {\n",
    "      super(s, n, j);\n",
    "      this.ta = ta;\n",
    "   }\n",
    "   \n",
    "   public float getTa() {\n",
    "      return ta;\n",
    "   }\n",
    "   \n",
    "   public float proximaParcela() {\n",
    "      float pp = super.proximaParcela();\n",
    "      if (pp > 0)\n",
    "         pp += ta;\n",
    "      return pp;\n",
    "   }\n",
    "}"
   ]
  },
  {
   "cell_type": "markdown",
   "metadata": {},
   "source": [
    "## Usando métodos sobrescritos\n",
    "\n",
    "Para um objeto da subclasse B, um método sobrescrito em B tem prioridade sobre o mesmo método da superclasse."
   ]
  },
  {
   "cell_type": "code",
   "execution_count": 6,
   "metadata": {},
   "outputs": [
    {
     "name": "stdout",
     "output_type": "stream",
     "text": [
      "Emprestimo sem taxa: parcela 1 eh 200.0\n",
      "Emprestimo com taxa: parcela 1 eh 215.0\n",
      "Emprestimo sem taxa: parcela 2 eh 202.0\n",
      "Emprestimo com taxa: parcela 2 eh 217.0\n",
      "Emprestimo sem taxa: parcela 3 eh 204.02\n",
      "Emprestimo com taxa: parcela 3 eh 219.02\n",
      "Emprestimo sem taxa: parcela 4 eh 206.06021\n",
      "Emprestimo com taxa: parcela 4 eh 221.06021\n",
      "Emprestimo sem taxa: parcela 5 eh 208.12082\n",
      "Emprestimo com taxa: parcela 5 eh 223.12082\n"
     ]
    },
    {
     "data": {
      "text/plain": [
       "null"
      ]
     },
     "execution_count": 6,
     "metadata": {},
     "output_type": "execute_result"
    }
   ],
   "source": [
    "Emprestimo empST = new Emprestimo(200, 5, 1);\n",
    "EmprestimoTA empCT = new EmprestimoTA(200, 5, 1, 15);\n",
    "\n",
    "int i = 1;\n",
    "float pst = empST.proximaParcela();\n",
    "float pct = empCT.proximaParcela();\n",
    "while (pst > 0 || pct > 0) {\n",
    "   if (pst > 0)\n",
    "      System.out.println(\"Emprestimo sem taxa: parcela \" + i + \" eh \" + pst);\n",
    "   if (pct > 0)\n",
    "      System.out.println(\"Emprestimo com taxa: parcela \" + i + \" eh \" + pct);\n",
    "   pst = empST.proximaParcela();\n",
    "   pct = empCT.proximaParcela();\n",
    "   i++;\n",
    "}"
   ]
  },
  {
   "cell_type": "markdown",
   "metadata": {},
   "source": [
    "# Polimorfismo\n",
    "\n",
    "Propriedade de se apresentar ou tomar formas diversas.\n",
    "\n",
    "\"Habilidade das mais importantes dos sistemas orientados a objetos, e que consiste em as operações automaticamente se adequarem aos objetos aos quais estão sendo aplicadas.\" (Meyer, 1997)\n",
    "\n",
    "> Meyer, Bertrand (1997) Object-Oriented Software Construction – Second Edition. USA, Prentice-Hall, Inc.\n",
    "\n",
    "## Princípio para o Polimorfismo\n",
    "\n",
    "Uma variável declarada em uma classe A pode ser instanciada em qualquer subclasse B.\n",
    "\n",
    "Nesse caso, só estarão “visíveis”(respeitadas as regras de encapsulamento):\n",
    "\n",
    "* Atributos e métodos da superclasse A\n",
    "* Métodos sobrescritos da subclasse B\n",
    "\n",
    "O contrário não é possível: Uma variável declarada em uma subclasse B **não pode ser** instanciada em sua superclasse A."
   ]
  },
  {
   "cell_type": "code",
   "execution_count": 7,
   "metadata": {},
   "outputs": [
    {
     "name": "stdout",
     "output_type": "stream",
     "text": [
      "Emprestimo sem taxa: parcela 1 eh 200.0\n",
      "Emprestimo com taxa: parcela 1 eh 215.0\n",
      "Emprestimo sem taxa: parcela 2 eh 202.0\n",
      "Emprestimo com taxa: parcela 2 eh 217.0\n",
      "Emprestimo sem taxa: parcela 3 eh 204.02\n",
      "Emprestimo com taxa: parcela 3 eh 219.02\n",
      "Emprestimo sem taxa: parcela 4 eh 206.06021\n",
      "Emprestimo com taxa: parcela 4 eh 221.06021\n",
      "Emprestimo sem taxa: parcela 5 eh 208.12082\n",
      "Emprestimo com taxa: parcela 5 eh 223.12082\n"
     ]
    },
    {
     "data": {
      "text/plain": [
       "null"
      ]
     },
     "execution_count": 7,
     "metadata": {},
     "output_type": "execute_result"
    }
   ],
   "source": [
    "Emprestimo empST = new Emprestimo(200, 5, 1);\n",
    "Emprestimo empCT = new EmprestimoTA(200, 5, 1, 15);\n",
    "\n",
    "int i = 1;\n",
    "float pst = empST.proximaParcela();\n",
    "float pct = empCT.proximaParcela();\n",
    "while (pst > 0 || pct > 0) {\n",
    "   if (pst > 0)\n",
    "      System.out.println(\"Emprestimo sem taxa: parcela \" + i + \" eh \" + pst);\n",
    "   if (pct > 0)\n",
    "      System.out.println(\"Emprestimo com taxa: parcela \" + i + \" eh \" + pct);\n",
    "   pst = empST.proximaParcela();\n",
    "   pct = empCT.proximaParcela();\n",
    "   i++;\n",
    "}"
   ]
  },
  {
   "cell_type": "markdown",
   "metadata": {},
   "source": [
    "# Para que serve o Polimorfismo?\n",
    "\n",
    "Como controlar um conjunto de empréstimos heterogêneos?\n",
    "\n",
    "## Classe `ConjuntoEmprestimos`\n",
    "\n",
    "A classe denominada `ConjuntoEmprestimos` é responsável por controlar um conjunto de empréstimos. Essa classe deve definir pelo menos os seguintes métodos:\n",
    "\n",
    "* `construtor` - recebe como parâmetro o número máximo de empréstimos;\n",
    "* `adicionaEmprestimo` - recebe como parâmetro um objeto da classe empréstimo e o armazena (se não ultrapassar o número máximo);\n",
    "* `proximasParcelas` - mostra as próximas parcelas de todos os empréstimos cadastrados (para fins de simplificação, considere que o número da próxima parcela é igual para todos); o método retorna um status de verdadeiro se houve pelo menos um empréstimo com próxima parcela."
   ]
  },
  {
   "cell_type": "code",
   "execution_count": 3,
   "metadata": {},
   "outputs": [
    {
     "data": {
      "text/plain": [
       "com.twosigma.beaker.javash.bkrec7f8663.ConjuntoEmprestimos"
      ]
     },
     "execution_count": 3,
     "metadata": {},
     "output_type": "execute_result"
    }
   ],
   "source": [
    "public class ConjuntoEmprestimos {\n",
    "   Emprestimo vEmprestimos[];\n",
    "   int corrente = -1;\n",
    "   \n",
    "   ConjuntoEmprestimos(int quantidade) {\n",
    "      vEmprestimos = new Emprestimo[quantidade];\n",
    "   }\n",
    "   \n",
    "   boolean adicionaEmprestimo(Emprestimo emp) {\n",
    "      boolean resultado = false;\n",
    "      if (corrente+1 < vEmprestimos.length) {\n",
    "         corrente++;\n",
    "         vEmprestimos[corrente] = emp;\n",
    "         resultado = true;\n",
    "      }\n",
    "      return resultado;\n",
    "   }\n",
    "   \n",
    "   boolean proximasParcelas() {\n",
    "      boolean status = false;\n",
    "      for (int e = 0; e < vEmprestimos.length; e++) {\n",
    "         float p = vEmprestimos[e].proximaParcela();\n",
    "         if (p > 0) {\n",
    "            status = true;\n",
    "            System.out.println(\"Emprestimo \" + (e+1) + \": \" + p);\n",
    "         }\n",
    "      }\n",
    "      return status;\n",
    "   }\n",
    "}"
   ]
  },
  {
   "cell_type": "markdown",
   "metadata": {},
   "source": [
    "# Princípio do Polimorfismo no Vetor\n",
    "\n",
    "* Um vetor declarado em uma superclasse A pode receber instâncias de A e instâncias de quaisquer herdeiros de A.\n",
    "* Seguindo esse princípio, o vetor permite misturar instâncias de classes diferentes."
   ]
  },
  {
   "cell_type": "code",
   "execution_count": 8,
   "metadata": {},
   "outputs": [
    {
     "name": "stdout",
     "output_type": "stream",
     "text": [
      "Emprestimo 1: 200.0\n",
      "Emprestimo 2: 515.0\n",
      "Emprestimo 3: 300.0\n",
      "Emprestimo 4: 450.0\n",
      "Emprestimo 5: 710.0\n",
      "Emprestimo 1: 202.0\n",
      "Emprestimo 2: 525.0\n",
      "Emprestimo 3: 303.0\n",
      "Emprestimo 4: 459.0\n",
      "Emprestimo 5: 731.0\n",
      "Emprestimo 1: 204.02\n",
      "Emprestimo 2: 535.2\n",
      "Emprestimo 4: 468.18\n",
      "Emprestimo 2: 545.604\n"
     ]
    },
    {
     "data": {
      "text/plain": [
       "null"
      ]
     },
     "execution_count": 8,
     "metadata": {},
     "output_type": "execute_result"
    }
   ],
   "source": [
    "ConjuntoEmprestimos ce = new ConjuntoEmprestimos(5); \n",
    "\n",
    "ce.adicionaEmprestimo(new Emprestimo(200, 3, 1));\n",
    "ce.adicionaEmprestimo(new EmprestimoTA(500, 4, 2, 15));\n",
    "ce.adicionaEmprestimo(new Emprestimo(300, 2, 1));\n",
    "ce.adicionaEmprestimo(new Emprestimo(450, 3, 2));\n",
    "ce.adicionaEmprestimo(new EmprestimoTA(700, 2, 3, 10));\n",
    "\n",
    "boolean status;\n",
    "do {\n",
    "   status = ce.proximasParcelas();\n",
    "} while (status);"
   ]
  }
 ],
 "metadata": {
  "kernelspec": {
   "display_name": "Java",
   "language": "java",
   "name": "java"
  },
  "language_info": {
   "codemirror_mode": "text/x-java",
   "file_extension": ".java",
   "mimetype": "",
   "name": "Java",
   "nbconverter_exporter": "",
   "version": "11.0.7"
  }
 },
 "nbformat": 4,
 "nbformat_minor": 4
}
