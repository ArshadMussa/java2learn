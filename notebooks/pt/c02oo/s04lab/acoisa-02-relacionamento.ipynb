{
 "cells": [
  {
   "cell_type": "markdown",
   "metadata": {},
   "source": [
    "# A Coisa\n",
    "\n",
    "Leia os slides abaixo para entender as aplicações propostas, ela inclui a capacidade das `Coisas` se conectarem.\n",
    "\n",
    "[![A Coisa](lab-a-coisa-relacionamento.png)](lab-a-coisa-relacionamento.pdf)"
   ]
  },
  {
   "cell_type": "markdown",
   "metadata": {},
   "source": [
    "# Conexões entre Coisas\n",
    "\n",
    "## Tarefa\n",
    "\n",
    "Copie as classes `Alongado` e `Entremeado` da tarefa anterior e acrescente as seguintes funcionalidades para atender ao *Cenário 1* apresentado nos slides acima.\n",
    "\n",
    "* Acrescente em cada classe um método `conecta` que permite que A Coisa se conecte com um objeto da outra espécie.\n",
    "* Ao acontecer a conexão deve ser aplicado o processo descrito:\n",
    "  * se forem espécies diferentes o mais velho morre e o mais novo envelhece."
   ]
  },
  {
   "cell_type": "code",
   "execution_count": null,
   "metadata": {},
   "outputs": [],
   "source": []
  },
  {
   "cell_type": "markdown",
   "metadata": {},
   "source": [
    "## Tarefa\n",
    "\n",
    "Crie quatro objetos das classes criadas (duas de cada). Mostre as quatro coisas no console.\n",
    "\n",
    "Ligue aos pares objetos de classes diferentes. Mostre as coisas no console depois da mudança."
   ]
  },
  {
   "cell_type": "code",
   "execution_count": null,
   "metadata": {},
   "outputs": [],
   "source": []
  },
  {
   "cell_type": "markdown",
   "metadata": {},
   "source": [
    "## Tarefa\n",
    "\n",
    "Crie uma classe chamada `Espaco` para atender o *Cenário 2* descrito nos slides. O `Espaco`representa dez células uma ao lado da outra e as células são numeradas a partir da posição 1.\n",
    "\n",
    "Esta classe mantém um vetor de objetos (5 posições) da classe `Alongado` que representa as posições pares do espaço (1, 3, 5, 7, 9), e outro vetor (5 posições) da classe `Entremeado` que representa as posições ímpares do espaço (2, 4, 6, 8, 10).\n",
    "\n",
    "A classe `Espaco` tem um método `processa()` (sem parâmetros) que testa todas as vizinhanças e aplica as regras indicadas no *Contexto 2*.\n",
    "\n",
    "O método para inserir As Coisas no `Espaco` fica a seu critério."
   ]
  },
  {
   "cell_type": "code",
   "execution_count": null,
   "metadata": {},
   "outputs": [],
   "source": []
  },
  {
   "cell_type": "markdown",
   "metadata": {},
   "source": [
    "## Tarefa\n",
    "\n",
    "Escreva um programa que ilustre o funcionamento do `Espaco`."
   ]
  },
  {
   "cell_type": "code",
   "execution_count": null,
   "metadata": {},
   "outputs": [],
   "source": []
  }
 ],
 "metadata": {
  "kernelspec": {
   "display_name": "Java",
   "language": "java",
   "name": "java"
  },
  "language_info": {
   "codemirror_mode": "text/x-java",
   "file_extension": ".java",
   "mimetype": "",
   "name": "Java",
   "nbconverter_exporter": "",
   "version": "11.0.6"
  }
 },
 "nbformat": 4,
 "nbformat_minor": 4
}
