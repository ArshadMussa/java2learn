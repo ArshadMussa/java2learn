{
 "cells": [
  {
   "cell_type": "markdown",
   "metadata": {},
   "source": [
    "# Small Challenges\n",
    "\n",
    "Tente descobrir o resultado de cada um dos programas abaixo, depois o execute para ver se confere com o que você supôs."
   ]
  },
  {
   "cell_type": "code",
   "execution_count": null,
   "metadata": {},
   "outputs": [],
   "source": [
    "public class Value {\n",
    "    public int number;\n",
    "    \n",
    "    public Value (int number) {\n",
    "        this.number = number;\n",
    "    }\n",
    "}"
   ]
  },
  {
   "cell_type": "code",
   "execution_count": null,
   "metadata": {},
   "outputs": [],
   "source": [
    "Value a = new Value(15),\n",
    "      b = new Value(10),\n",
    "      c,\n",
    "      d,\n",
    "      e,\n",
    "      f = new Value(0);\n",
    "\n",
    "d = b;\n",
    "f.number = b.number;\n",
    "b = a;\n",
    "c = a;\n",
    "c.number = 8;\n",
    "e = b;\n",
    "\n",
    "System.out.println(\"=== Primeiro\");\n",
    "System.out.println(\"a: \" + a.number);\n",
    "System.out.println(\"b: \" + b.number);\n",
    "System.out.println(\"c: \" + c.number);\n",
    "System.out.println(\"d: \" + d.number);\n",
    "System.out.println(\"e: \" + e.number);\n",
    "System.out.println(\"f: \" + f.number);\n",
    "\n",
    "d.number = 35;\n",
    "\n",
    "System.out.println(\"=== Segundo\");\n",
    "System.out.println(\"a: \" + a.number);\n",
    "System.out.println(\"b: \" + b.number);\n",
    "System.out.println(\"c: \" + c.number);\n",
    "System.out.println(\"d: \" + d.number);\n",
    "System.out.println(\"e: \" + e.number);\n",
    "System.out.println(\"f: \" + f.number);"
   ]
  }
 ],
 "metadata": {
  "kernelspec": {
   "display_name": "Java",
   "language": "java",
   "name": "java"
  },
  "language_info": {
   "codemirror_mode": "text/x-java",
   "file_extension": ".java",
   "mimetype": "",
   "name": "Java",
   "nbconverter_exporter": "",
   "version": "11.0.6"
  }
 },
 "nbformat": 4,
 "nbformat_minor": 4
}
