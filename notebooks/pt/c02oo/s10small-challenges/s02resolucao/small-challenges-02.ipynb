{
 "cells": [
  {
   "cell_type": "markdown",
   "metadata": {},
   "source": [
    "# Small Challenges 2\n",
    "\n",
    "Analise a classe abaixo:"
   ]
  },
  {
   "cell_type": "code",
   "execution_count": 1,
   "metadata": {},
   "outputs": [
    {
     "data": {
      "text/plain": [
       "com.twosigma.beaker.javash.bkr2d457a34.Operacao"
      ]
     },
     "execution_count": 1,
     "metadata": {},
     "output_type": "execute_result"
    }
   ],
   "source": [
    "public class Operacao {\n",
    "   public int soma(int n1, int n2) {\n",
    "      return n1 + n2;\n",
    "   }\n",
    "}"
   ]
  },
  {
   "cell_type": "code",
   "execution_count": 2,
   "metadata": {},
   "outputs": [
    {
     "name": "stdout",
     "output_type": "stream",
     "text": [
      "25\n"
     ]
    },
    {
     "data": {
      "text/plain": [
       "null"
      ]
     },
     "execution_count": 2,
     "metadata": {},
     "output_type": "execute_result"
    }
   ],
   "source": [
    "Operacao op = new Operacao();\n",
    "System.out.println(op.soma(10, 15));"
   ]
  },
  {
   "cell_type": "markdown",
   "metadata": {},
   "source": [
    "# Exercício\n",
    "\n",
    "Considerando que o Integer.parseInt() converte uma String para um inteiro. Ajuste ou estenda a classe para que aceite as operações a seguir:"
   ]
  },
  {
   "cell_type": "markdown",
   "metadata": {},
   "source": [
    "# Solução 1 - sem herança"
   ]
  },
  {
   "cell_type": "code",
   "execution_count": 3,
   "metadata": {},
   "outputs": [
    {
     "data": {
      "text/plain": [
       "com.twosigma.beaker.javash.bkr2d457a34.Operacao"
      ]
     },
     "execution_count": 3,
     "metadata": {},
     "output_type": "execute_result"
    }
   ],
   "source": [
    "public class Operacao {\n",
    "   public int soma(int n1, int n2) {\n",
    "      return n1 + n2;\n",
    "   }\n",
    "\n",
    "   public int soma(String n1, int n2) {\n",
    "      return Integer.parseInt(n1) + n2;\n",
    "   }\n",
    "\n",
    "   public int soma(int n1, String n2) {\n",
    "      return n1 + Integer.parseInt(n2);\n",
    "   }\n",
    "\n",
    "   public int soma(String n1, String n2) {\n",
    "      return Integer.parseInt(n1) + Integer.parseInt(n2);\n",
    "   }\n",
    "}"
   ]
  },
  {
   "cell_type": "code",
   "execution_count": 4,
   "metadata": {},
   "outputs": [
    {
     "name": "stdout",
     "output_type": "stream",
     "text": [
      "25\n",
      "25\n",
      "25\n"
     ]
    },
    {
     "data": {
      "text/plain": [
       "null"
      ]
     },
     "execution_count": 4,
     "metadata": {},
     "output_type": "execute_result"
    }
   ],
   "source": [
    "Operacao op = new Operacao();\n",
    "System.out.println(op.soma(10, \"15\"));\n",
    "System.out.println(op.soma(\"10\", 15));\n",
    "System.out.println(op.soma(\"10\", \"15\"));"
   ]
  },
  {
   "cell_type": "markdown",
   "metadata": {},
   "source": [
    "# Solução 2 - concentrando ação em um método\n",
    "\n",
    "A ação central deveria ser concentrada em um método, pois futuras evoluções no método de `soma` refletirão automaticamente nos demais."
   ]
  },
  {
   "cell_type": "code",
   "execution_count": 5,
   "metadata": {},
   "outputs": [
    {
     "data": {
      "text/plain": [
       "com.twosigma.beaker.javash.bkr2d457a34.Operacao"
      ]
     },
     "execution_count": 5,
     "metadata": {},
     "output_type": "execute_result"
    }
   ],
   "source": [
    "public class Operacao {\n",
    "   public int soma(int n1, int n2) {\n",
    "      return n1 + n2;\n",
    "   }\n",
    "\n",
    "   public int soma(int n1, String n2) {\n",
    "      return soma(n1, Integer.parseInt(n2));\n",
    "   }\n",
    "\n",
    "   public int soma(String n1, int n2) {\n",
    "      return soma(Integer.parseInt(n1), n2);\n",
    "   }\n",
    "\n",
    "   public int soma(String n1, String n2) {\n",
    "      return soma(Integer.parseInt(n1), Integer.parseInt(n2));\n",
    "   }\n",
    "}"
   ]
  },
  {
   "cell_type": "code",
   "execution_count": 6,
   "metadata": {},
   "outputs": [
    {
     "name": "stdout",
     "output_type": "stream",
     "text": [
      "25\n",
      "25\n",
      "25\n"
     ]
    },
    {
     "data": {
      "text/plain": [
       "null"
      ]
     },
     "execution_count": 6,
     "metadata": {},
     "output_type": "execute_result"
    }
   ],
   "source": [
    "Operacao op = new Operacao();\n",
    "System.out.println(op.soma(10, \"15\"));\n",
    "System.out.println(op.soma(\"10\", 15));\n",
    "System.out.println(op.soma(\"10\", \"15\"));"
   ]
  },
  {
   "cell_type": "markdown",
   "metadata": {},
   "source": [
    "# Solução 3 - com herança\n",
    "\n",
    "Note que nesta solução você deve prestar atenção que o método soma não faz uso do polimorfismo porque cada versão tem uma assinatura. Portanto, a variável `op` deve ser declarada e instanciada em `OperacaoExtra`."
   ]
  },
  {
   "cell_type": "code",
   "execution_count": 7,
   "metadata": {},
   "outputs": [
    {
     "data": {
      "text/plain": [
       "com.twosigma.beaker.javash.bkr2d457a34.Operacao"
      ]
     },
     "execution_count": 7,
     "metadata": {},
     "output_type": "execute_result"
    }
   ],
   "source": [
    "public class Operacao {\n",
    "    public int soma(int n1, int n2) {\n",
    "       return n1 + n2;\n",
    "    }\n",
    "}"
   ]
  },
  {
   "cell_type": "code",
   "execution_count": 8,
   "metadata": {},
   "outputs": [
    {
     "data": {
      "text/plain": [
       "com.twosigma.beaker.javash.bkr2d457a34.OperacaoExtra"
      ]
     },
     "execution_count": 8,
     "metadata": {},
     "output_type": "execute_result"
    }
   ],
   "source": [
    "public class OperacaoExtra extends Operacao {\n",
    "   public int soma(int n1, String n2) {\n",
    "      return soma(n1, Integer.parseInt(n2));\n",
    "   }\n",
    "\n",
    "   public int soma(String n1, int n2) {\n",
    "      return soma(Integer.parseInt(n1), n2);\n",
    "   }\n",
    "\n",
    "   public int soma(String n1, String n2) {\n",
    "      return soma(Integer.parseInt(n1), Integer.parseInt(n2));\n",
    "   }\n",
    "}"
   ]
  },
  {
   "cell_type": "code",
   "execution_count": 9,
   "metadata": {},
   "outputs": [
    {
     "name": "stdout",
     "output_type": "stream",
     "text": [
      "25\n",
      "25\n",
      "25\n"
     ]
    },
    {
     "data": {
      "text/plain": [
       "null"
      ]
     },
     "execution_count": 9,
     "metadata": {},
     "output_type": "execute_result"
    }
   ],
   "source": [
    "OperacaoExtra op = new OperacaoExtra();\n",
    "System.out.println(op.soma(10, \"15\"));\n",
    "System.out.println(op.soma(\"10\", 15));\n",
    "System.out.println(op.soma(\"10\", \"15\"));"
   ]
  }
 ],
 "metadata": {
  "kernelspec": {
   "display_name": "Java",
   "language": "java",
   "name": "java"
  },
  "language_info": {
   "codemirror_mode": "text/x-java",
   "file_extension": ".java",
   "mimetype": "",
   "name": "Java",
   "nbconverter_exporter": "",
   "version": "11.0.7"
  }
 },
 "nbformat": 4,
 "nbformat_minor": 4
}
