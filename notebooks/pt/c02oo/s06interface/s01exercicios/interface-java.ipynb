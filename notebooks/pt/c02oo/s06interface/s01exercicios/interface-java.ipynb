{
 "cells": [
  {
   "cell_type": "markdown",
   "metadata": {},
   "source": [
    "# Interfaces\n",
    "\n",
    "As classes incorporam duas funções interligadas:\n",
    "* elas são um mecanismo de reúso de código;\n",
    "* elas estabelecem a \"interface\" dos objetos, ou seja, que atributos e métodos estão disponíveis para serem usados por um cliente externo.\n",
    "\n",
    "Já vimos anteriormente alguns problemas de usar somente as classes como mecanismo de reúso. O mesmo acontece com a interface. Muitas vezes queremos que objetos compartilhem a mesma interface, sem que estejam ligados por uma hierarquia de classes.\n",
    "\n",
    "Por essa razão o Java define o mecanismo de `interface`. Ele permite a declaração de um interface que será garantida por um conjunto de classes, sem a necessidade que elas estejam ligadas por herança."
   ]
  },
  {
   "cell_type": "code",
   "execution_count": null,
   "metadata": {},
   "outputs": [],
   "source": []
  }
 ],
 "metadata": {
  "kernelspec": {
   "display_name": "Java",
   "language": "java",
   "name": "java"
  },
  "language_info": {
   "codemirror_mode": "java",
   "file_extension": ".java",
   "mimetype": "text/x-java-source",
   "name": "Java",
   "pygments_lexer": "java",
   "version": "10.0.1+10-Debian-4"
  }
 },
 "nbformat": 4,
 "nbformat_minor": 2
}
