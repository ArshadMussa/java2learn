{
 "cells": [
  {
   "cell_type": "markdown",
   "metadata": {},
   "source": [
    "# Interfaces\n",
    "\n",
    "As classes incorporam duas funções interligadas:\n",
    "* elas são um mecanismo de reúso de código;\n",
    "* elas estabelecem a \"interface\" dos objetos, ou seja, que atributos e métodos estão disponíveis para serem usados por um cliente externo.\n",
    "\n",
    "Já vimos anteriormente alguns problemas de usar somente as classes como mecanismo de reúso. O mesmo acontece com a interface. Muitas vezes queremos que objetos compartilhem a mesma interface, sem que estejam ligados por uma hierarquia de classes.\n",
    "\n",
    "Por essa razão o Java define o mecanismo chamado `interface`. Ele permite a declaração de um interface que será garantida por um conjunto de classes, sem a necessidade que elas estejam ligadas por herança.\n",
    "\n",
    "Considere as duas classes a seguir que representam formas geométricas. Ambas oferecem métodos para cálculo do perímetro e área, entretanto, não compartilham código.\n",
    "\n",
    "Suponha que se deseja padronizar o acesso aos objetos de ambas as classes, resolvendo-se "
   ]
  },
  {
   "cell_type": "code",
   "execution_count": 3,
   "metadata": {},
   "outputs": [
    {
     "name": "stdout",
     "output_type": "stream",
     "text": [
      "Perímetro do retângulo: 32.0\n",
      "Área do retângulo: 60.0\n",
      "Perímetro do círculo: 50.2656\n",
      "Área do círculo: 201.0624\n"
     ]
    }
   ],
   "source": [
    "public class Retangulo {\n",
    "    private int altura;\n",
    "    private int largura;\n",
    "\n",
    "    public Retangulo(int altura, int largura) {\n",
    "        this.altura = altura;\n",
    "        this.largura = largura;\n",
    "    }\n",
    "    \n",
    "    public int getAltura() {\n",
    "        return altura;\n",
    "    }\n",
    "    \n",
    "    public int getLargura() {\n",
    "        return largura;\n",
    "    }\n",
    "    \n",
    "    public float getPerimetro() {\n",
    "        return 2 * (altura + largura);\n",
    "    }\n",
    "    \n",
    "    public float getArea() {\n",
    "        return altura * largura;\n",
    "    }\n",
    "}\n",
    "\n",
    "public class Circulo {\n",
    "    public static float PI = 3.1416f;\n",
    "    \n",
    "    private int raio;\n",
    "    \n",
    "    public Circulo(int raio) {\n",
    "        this.raio = raio;\n",
    "    }\n",
    "    \n",
    "    public int getRaio() {\n",
    "        return raio;\n",
    "    }\n",
    "    \n",
    "    public float getPerimetro() {\n",
    "        return 2 * Circulo.PI * raio;\n",
    "    }\n",
    "    \n",
    "    public float getArea() {\n",
    "        return Circulo.PI * raio * raio;\n",
    "    }\n",
    "}\n",
    "\n",
    "Retangulo rt = new Retangulo(6, 10);\n",
    "System.out.println(\"Perímetro do retângulo: \" + rt.getPerimetro());\n",
    "System.out.println(\"Área do retângulo: \" + rt.getArea());\n",
    "\n",
    "Circulo cc = new Circulo(8);\n",
    "System.out.println(\"Perímetro do círculo: \" + cc.getPerimetro());\n",
    "System.out.println(\"Área do círculo: \" + cc.getArea());"
   ]
  }
 ],
 "metadata": {
  "kernelspec": {
   "display_name": "Java",
   "language": "java",
   "name": "java"
  },
  "language_info": {
   "codemirror_mode": "java",
   "file_extension": ".java",
   "mimetype": "text/x-java-source",
   "name": "Java",
   "pygments_lexer": "java",
   "version": "10.0.1+10-Debian-4"
  }
 },
 "nbformat": 4,
 "nbformat_minor": 2
}
