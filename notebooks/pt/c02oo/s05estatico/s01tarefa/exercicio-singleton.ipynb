{
 "cells": [
  {
   "cell_type": "markdown",
   "metadata": {},
   "source": [
    "# Exercício de única instância\n",
    "\n",
    "Na orientação a objetos existem os **design patterns** que são padrões projeto de código pautados em boas práticas. Dentre eles, está um chamado **Singleton**.\n",
    "\n",
    "O objetivo deste exercício não é ainda se aprofundar os padrões de projeto, mas usar esse padrão (Singleton) como tema de estudo.\n",
    "\n",
    "O Singleton é usado quando você deseja garantir que apenas uma instância (objeto) será criada de uma dada classe. Desse modo, é necessário se criar um mecanismo eficienciente no qual só seja possível se criar esse objeto único.\n",
    "\n",
    "## Tarefa do `Registro` Singleton\n",
    "\n",
    "Retomando a classe `Registro` a seguir, que foi usada como exemplo para criar um contador compartilhado entre diversos objetos. O desafio é manter o atributo `contador`e o método `proximoContador()` como não estáticos, mas adaptar a classe de modo que seja possível se criar apenas uma instância de `Registro`. Com isso, obteremos o mesmo efeito de contador compartilhado, mas usando objetos. Isso será importante no futuro.\n",
    "\n",
    "Você precisará usar métodos e atributos estáticos bem como precisará configurar o encapsulamento. Mas não deve transformar o atributo `contador` nem o método `proximoContador` em estáticos."
   ]
  },
  {
   "cell_type": "code",
   "execution_count": 1,
   "metadata": {},
   "outputs": [
    {
     "data": {
      "text/plain": [
       "com.twosigma.beaker.javash.bkr43197d44.Registro"
      ]
     },
     "execution_count": 1,
     "metadata": {},
     "output_type": "execute_result"
    }
   ],
   "source": [
    "public class Registro {\n",
    "   int contador = 0;\n",
    "   \n",
    "   int proximoContador() {\n",
    "      contador++;\n",
    "      return contador;\n",
    "   }\n",
    "}"
   ]
  }
 ],
 "metadata": {
  "kernelspec": {
   "display_name": "Java",
   "language": "java",
   "name": "java"
  },
  "language_info": {
   "codemirror_mode": "text/x-java",
   "file_extension": ".java",
   "mimetype": "",
   "name": "Java",
   "nbconverter_exporter": "",
   "version": "11.0.6"
  }
 },
 "nbformat": 4,
 "nbformat_minor": 4
}
