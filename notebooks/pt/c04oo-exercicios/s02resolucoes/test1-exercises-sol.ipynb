{
 "cells": [
  {
   "cell_type": "markdown",
   "metadata": {},
   "source": [
    "# Exercícios para Prova 1"
   ]
  },
  {
   "cell_type": "markdown",
   "metadata": {},
   "source": [
    "## Questão 1\n",
    "\n",
    "**Escreva um programa que leia uma lista contendo o peso de uma série de indivíduos em um vetor denúmeros reais. A lista possui 150 elementos.\n",
    "Depois que a lista foi toda inserida o programa deve procurar e imprimir qual a posição no vetor onde está o menor peso.**\n",
    "\n",
    "Abaixo tem um exemplo de como gerar um peso aleatório para inicialização do vetor."
   ]
  },
  {
   "cell_type": "code",
   "execution_count": 2,
   "metadata": {},
   "outputs": [
    {
     "name": "stdout",
     "output_type": "stream",
     "text": [
      "63.58877981799239\n"
     ]
    }
   ],
   "source": [
    "import java.util.Random;\n",
    "\n",
    "Random rand = new Random();\n",
    "\n",
    "double r = rand.nextGaussian()*10 + 60; //Valor em distribuição Gaussiana com média 60 e desvio padrão 10. \n",
    "System.out.println(r)"
   ]
  },
  {
   "cell_type": "markdown",
   "metadata": {},
   "source": [
    "## Resposta 1"
   ]
  },
  {
   "cell_type": "code",
   "execution_count": 10,
   "metadata": {},
   "outputs": [
    {
     "name": "stdout",
     "output_type": "stream",
     "text": [
      "38.760579320451264\n"
     ]
    }
   ],
   "source": [
    "import java.util.Random;\n",
    "\n",
    "Random rand = new Random();\n",
    "\n",
    "double[] weights = new double[150];\n",
    "\n",
    "for (int i=0; i < 150; i++)\n",
    "{\n",
    "    weights[i] = rand.nextGaussian()*10 + 60;\n",
    "}\n",
    "\n",
    "double min = Double.POSITIVE_INFINITY;\n",
    "\n",
    "for (int i=0; i < 150; i++)\n",
    "{\n",
    "    if (weights[i] < min) {\n",
    "        min = weights[i];\n",
    "    } \n",
    "}\n",
    "\n",
    "System.out.println(min);"
   ]
  },
  {
   "cell_type": "markdown",
   "metadata": {},
   "source": [
    "## Questão 2\n",
    "**A linguagem Java dispõe de um suporte nativo a vetores, que exige a definição de seu tamanho nomomento da instanciação. Depois de instanciado, o tamanho do vetor não pode ser modificado. Escreva uma classe  chamada Vetor  cujos objetos simulem vetores de tamanho variável. A classe define osseguintes métodos:**\n",
    "\n",
    "| Método     | Descrição                                                                                                                                                                                                                                                                                       |\n",
    "|------------|-------------------------------------------------------------------------------------------------------------------------------------------------------------------------------------------------------------------------------------------------------------------------------------------------|\n",
    "| construtor | recebe como parâmetro o tamanho inicial do vetor                                                                                                                                                                                                                                                |\n",
    "| insert     | recebe como parâmetro uma string e a coloca na próxima posição disponível do vetor; note que o vetor cresce automaticamente, portanto, se a inserção ultrapassar o tamanho inicial estabelecido   na   criação,   por   exemplo,   o   vetor   deve   aumentar   seu   tamanho automaticamente. |\n",
    "| get        | recebe como parâmetro uma posição do vetor e retorna a string que estiver naquela posição; se a posição não estiver ocupada ou ultrapassar o tamanho do vetor, este método retorna nulo                                                                                                         |\n",
    "| size       | retorna o número de elementos inseridos no vetor (independente do tamanho do mesmo)\n",
    "\n",
    "O java dispõe de classes – tal como a Vector – que realizam a tarefa solicitada nesta questão. Taisclasses não devem ser usadas. É possível resolver esta questão apenas usando o sistema de vetorespreexistente do Java, sem nenhum comando especial extra"
   ]
  },
  {
   "cell_type": "markdown",
   "metadata": {},
   "source": [
    "## Resposta 2"
   ]
  },
  {
   "cell_type": "code",
   "execution_count": 3,
   "metadata": {},
   "outputs": [
    {
     "name": "stdout",
     "output_type": "stream",
     "text": [
      "oi\n",
      "null\n",
      "valor extra\n",
      "outra string\n"
     ]
    }
   ],
   "source": [
    "public class MyVector {\n",
    "    \n",
    "    int totalSize;\n",
    "    String [] vec;\n",
    "    int size = 0; // variable to track the last position with value in the vector\n",
    "    \n",
    "    public MyVector(int size) {\n",
    "        this.totalSize = size;\n",
    "        this.vec = new String[this.totalSize];\n",
    "    }\n",
    "    \n",
    "    public void doubleSize() {\n",
    "        String[] auxVec = new String[this.totalSize*2];\n",
    "        \n",
    "        for (int i=0; i < this.totalSize; i++)\n",
    "        {\n",
    "            auxVec[i] = this.vec[i];\n",
    "        }\n",
    "        \n",
    "        this.totalSize = this.totalSize*2;\n",
    "        this.vec = auxVec;\n",
    "    }\n",
    "    \n",
    "    public void insert(String s) {\n",
    "        \n",
    "        if (size == totalSize)\n",
    "            doubleSize();\n",
    "        \n",
    "        this.vec[size] = s;\n",
    "        size++;\n",
    "    }\n",
    "    public String get(int p) {\n",
    "        if (p >= size) {\n",
    "            return null;\n",
    "        }\n",
    "        \n",
    "        return vec[p];\n",
    "    }\n",
    "    \n",
    "    public int size() {\n",
    "        return this.size;\n",
    "        \n",
    "    }\n",
    "    \n",
    "}\n",
    "\n",
    "MyVector v = new MyVector(2);\n",
    "v.insert(\"oi\");\n",
    "System.out.println(v.get(0));\n",
    "System.out.println(v.get(1));\n",
    "v.insert(\"olá\");\n",
    "v.insert(\"valor extra\");\n",
    "System.out.println(v.get(2));\n",
    "v.insert(\"outra string\");\n",
    "System.out.println(v.get(3));"
   ]
  },
  {
   "cell_type": "markdown",
   "metadata": {},
   "source": [
    "# Questão 3\n",
    "Dada uma classe Equipamento na qual cada objeto representa um conjunto de N equipamentos de uma empresa com seus respectivos valores, cujo diagrama UML está representado a seguir:\n",
    "![uml](UML3.png)\n",
    "\n",
    "| Método                | Descrição                                                                                       |\n",
    "|-----------------------|-------------------------------------------------------------------------------------------------|\n",
    "| construtor            | recebe como parâmetro o número de equipamentos e cria um vetor de valores do respectivo tamanho |\n",
    "| getNumeroEquipamentos | retorna o número de equipamentos                                                                |\n",
    "| getValor              | recebe como parâmetro o número do equipamento (começando de zero) e retorna seu valor.          |\n",
    "| setValor              | recebe como parâmetro o número do equipamento e seu valor e o registra                          |\n",
    "\n",
    "Cada equipamento possui um código numérico sequencial, começando de zero, que corresponde a sua posição no vetor.Escreva uma classe, herdeira da classe Equipamento, denominada EquipamentoCorrigido em que cada objeto   representa   os   mesmos   equipamentos   com   valor   corrigido,   conforme   diagrama   UML   parcialrepresentado anteriormente.Todo equipamento só é corrigido anualmente no mês em que foi comprado, por este motivo a classe deve acrescentar para cada equipamento um registro do seu mês de compra. Além disto, deve possuir os métodos:\n",
    "\n",
    "| Método       | Descrição                                                                                                                                                                                                                                                                                                                                                                                                          |\n",
    "|--------------|--------------------------------------------------------------------------------------------------------------------------------------------------------------------------------------------------------------------------------------------------------------------------------------------------------------------------------------------------------------------------------------------------------------------|\n",
    "| construtor   | recebe como parâmetros o número de equipamentos e o mês corrente.                                                                                                                                                                                                                                                                                                                                                  |\n",
    "| getMesCompra | recebe como parâmetro o número do equipamento (começando de zero) e retorna seu mês de compra.                                                                                                                                                                                                                                                                                                                     |\n",
    "| setMesCompra | recebe como parâmetro o número do equipamento e seu mês de compra e o registra.                                                                                                                                                                                                                                                                                                                                    |\n",
    "| corrige      | este método recebe como parâmetro apenas o percentual de correção e corrige todos os equipamentos cujo mês de compra seja igual ao mês corrente; O objeto deve manter registrado em um atributo o mês corrente. Cada vez que este método é chamado, após a correção, o mês é incrementado de um e, se estiver em dezembro, retorna para janeiro |\n",
    "| substitui    | recebe como parâmetro um outro objeto da classe EquipamentoCorrigido e substitui o valor e o mês de compra de todos os equipamentos do objeto corrente pelos do objeto recebido como parâmetro; a operação só será realizada se ambos os objetos possuírem o mesmo número de equipamentos                                                                                                                          |\n",
    "\n",
    "**Note que o atributo “valor” da classe Equipamento é privado, portanto, só poderá ser acessadoindiretamente, até mesmo pela classe herdeira.**"
   ]
  },
  {
   "cell_type": "markdown",
   "metadata": {},
   "source": [
    "## Resposta 3"
   ]
  },
  {
   "cell_type": "code",
   "execution_count": 11,
   "metadata": {},
   "outputs": [],
   "source": [
    "public class Equipamento\n",
    "{\n",
    "    int [] valor;\n",
    "    int NumeroEquipamentos;\n",
    "    public Equipamento (int size){\n",
    "        this.valor = new int[size];\n",
    "        this.NumeroEquipamentos = size;\n",
    "    }\n",
    "    \n",
    "    public int getNumeroEquipamentos() {\n",
    "        return this.NumeroEquipamentos;\n",
    "    }\n",
    "    \n",
    "    public int getValor(int numero) {\n",
    "        return this.valor[numero];\n",
    "    }\n",
    "    \n",
    "    public void setValor(int numero, int valor)\n",
    "    {\n",
    "        this.valor[numero] = valor;\n",
    "    }\n",
    "}\n",
    "\n",
    "public class EquipamentoCorrigido extends Equipamento\n",
    "{\n",
    "    int [] mesCompra; //Armazena mês de compra de cada equipamento [1-12]\n",
    "    int mesCorrente;\n",
    "    \n",
    "    public EquipamentoCorrigido(int numeroTotal, int mesCorrente)\n",
    "    {\n",
    "        super(numeroTotal);\n",
    "        this.mesCompra = new int[numeroTotal];\n",
    "        this.mesCorrente = mesCorrente;\n",
    "    }\n",
    "    \n",
    "    public int getMesCompra(int numero) {\n",
    "        return this.mesCompra[numero];\n",
    "    }\n",
    "    \n",
    "    public void setMesCompra(int numero, int mes) {\n",
    "        this.mesCompra[numero] = mes;\n",
    "    }\n",
    "    \n",
    "    public void corrige(int percentual) {\n",
    "        for (int i = 0; i < this.getNumeroEquipamentos(); i++) {\n",
    "            int corrigido = getValor(i);\n",
    "            if (this.mesCompra[i] == this.mesCorrente)\n",
    "            {\n",
    "                corrigido *= percentual/100;\n",
    "                setValor(i, corrigido);\n",
    "            }\n",
    "        }\n",
    "        this.mesCorrente++;\n",
    "    }\n",
    "    \n",
    "    public int getMesCorrente(){\n",
    "        return this.mesCorrente;\n",
    "    }\n",
    "    \n",
    "    public void setMesCorrente(int mes){\n",
    "        this.mesCorrente = mes;\n",
    "    }\n",
    "    \n",
    "    public void substitui(EquipamentoCorrigido ec) {\n",
    "        \n",
    "        if (this.getNumeroEquipamentos() == ec.getNumeroEquipamentos()){\n",
    "            for (int i = 0; i < this.getNumeroEquipamentos(); i++) {\n",
    "                this.setMesCompra(i, ec.getMesCompra(i));\n",
    "                this.setValor(i, ec.getValor(i));\n",
    "                this.setMesCorrente(ec.getMesCorrente());\n",
    "            }\n",
    "        }    \n",
    "    }\n",
    "}"
   ]
  }
 ],
 "metadata": {
  "kernelspec": {
   "display_name": "Java",
   "language": "java",
   "name": "java"
  },
  "language_info": {
   "codemirror_mode": "java",
   "file_extension": ".java",
   "mimetype": "text/x-java-source",
   "name": "Java",
   "pygments_lexer": "java",
   "version": "10.0.2+13-Ubuntu-1ubuntu0.18.04.4"
  }
 },
 "nbformat": 4,
 "nbformat_minor": 2
}
