{
 "cells": [
  {
   "cell_type": "markdown",
   "metadata": {},
   "source": [
    "# Small Challenges 2\n",
    "\n",
    "Analise a classe abaixo:"
   ]
  },
  {
   "cell_type": "code",
   "execution_count": 9,
   "metadata": {},
   "outputs": [
    {
     "name": "stdout",
     "output_type": "stream",
     "text": [
      "25\n"
     ]
    }
   ],
   "source": [
    "public class Operacao {\n",
    "    public int soma(int n1, int n2) {\n",
    "       return n1 + n2;\n",
    "    }\n",
    "}\n",
    "\n",
    "Operacao op = new Operacao();\n",
    "System.out.println(op.soma(10, 15));"
   ]
  },
  {
   "cell_type": "markdown",
   "metadata": {},
   "source": [
    "# Exercício\n",
    "\n",
    "Considerando que o Integer.parseInt() converte uma String para um inteiro. Ajuste ou estenda a classe para que aceite as operações a seguir:"
   ]
  },
  {
   "cell_type": "markdown",
   "metadata": {},
   "source": [
    "# Solução 1 - sem herança"
   ]
  },
  {
   "cell_type": "code",
   "execution_count": 7,
   "metadata": {},
   "outputs": [],
   "source": [
    "public class Operacao {\n",
    "    public int soma(int n1, int n2) {\n",
    "       return n1 + n2;\n",
    "    }\n",
    "    public int soma(String n1, int n2) {\n",
    "       return Integer.parseInt(n1) + n2;\n",
    "    }\n",
    "    public int soma(int n1, String n2) {\n",
    "       return n1 + Integer.parseInt(n2);\n",
    "    }\n",
    "    public int soma(String n1, String n2) {\n",
    "       return Integer.parseInt(n1) + Integer.parseInt(n2);\n",
    "    }\n",
    "}"
   ]
  },
  {
   "cell_type": "code",
   "execution_count": 8,
   "metadata": {},
   "outputs": [
    {
     "name": "stdout",
     "output_type": "stream",
     "text": [
      "25\n",
      "25\n",
      "25\n"
     ]
    }
   ],
   "source": [
    "Operacao op = new Operacao();\n",
    "System.out.println(op.soma(10, \"15\"));\n",
    "System.out.println(op.soma(\"10\", 15));\n",
    "System.out.println(op.soma(\"10\", \"15\"));"
   ]
  },
  {
   "cell_type": "markdown",
   "metadata": {},
   "source": [
    "# Solução 2 - com herança\n",
    "\n",
    "Note que nesta solução você deve prestar atenção que o método soma não faz uso do polimorfismo porque cada versão tem uma assinatura. Portanto, a variável `op` deve ser declarada e instanciada em `OperacaoExtra`."
   ]
  },
  {
   "cell_type": "code",
   "execution_count": 10,
   "metadata": {},
   "outputs": [],
   "source": [
    "public class Operacao {\n",
    "    public int soma(int n1, int n2) {\n",
    "       return n1 + n2;\n",
    "    }\n",
    "}\n",
    "\n",
    "public class OperacaoExtra extends Operacao {\n",
    "    public int soma(String n1, int n2) {\n",
    "       return Integer.parseInt(n1) + n2;\n",
    "    }\n",
    "    public int soma(int n1, String n2) {\n",
    "       return n1 + Integer.parseInt(n2);\n",
    "    }\n",
    "    public int soma(String n1, String n2) {\n",
    "       return Integer.parseInt(n1) + Integer.parseInt(n2);\n",
    "    }\n",
    "}"
   ]
  },
  {
   "cell_type": "code",
   "execution_count": 11,
   "metadata": {},
   "outputs": [
    {
     "name": "stdout",
     "output_type": "stream",
     "text": [
      "25\n",
      "25\n",
      "25\n"
     ]
    }
   ],
   "source": [
    "OperacaoExtra op = new OperacaoExtra();\n",
    "System.out.println(op.soma(10, \"15\"));\n",
    "System.out.println(op.soma(\"10\", 15));\n",
    "System.out.println(op.soma(\"10\", \"15\"));"
   ]
  }
 ],
 "metadata": {
  "kernelspec": {
   "display_name": "Java",
   "language": "java",
   "name": "java"
  },
  "language_info": {
   "codemirror_mode": "java",
   "file_extension": ".java",
   "mimetype": "text/x-java-source",
   "name": "Java",
   "pygments_lexer": "java",
   "version": "10.0.1+10-Debian-4"
  }
 },
 "nbformat": 4,
 "nbformat_minor": 2
}
