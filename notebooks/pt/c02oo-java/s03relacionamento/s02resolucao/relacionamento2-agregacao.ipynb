{
 "cells": [
  {
   "cell_type": "markdown",
   "metadata": {},
   "source": [
    "# Múltiplos Empréstimos\n",
    "\n",
    "## Classe `Emprestimo`\n",
    "\n",
    "Retomando o exercício anterior, considere a seguinte classe que representa um empréstimo."
   ]
  },
  {
   "cell_type": "code",
   "execution_count": 1,
   "metadata": {},
   "outputs": [
    {
     "data": {
      "text/plain": [
       "com.twosigma.beaker.javash.bkrdb720e50.Emprestimo"
      ]
     },
     "execution_count": 1,
     "metadata": {},
     "output_type": "execute_result"
    }
   ],
   "source": [
    "public class Emprestimo {\n",
    "   float s;\n",
    "   int   n;\n",
    "   float j;\n",
    "   int   corrente;\n",
    "   float p;\n",
    "\n",
    "   Emprestimo(float s, int n, float j) {\n",
    "      this.s = s;\n",
    "      this.n = n;\n",
    "      this.j = j;\n",
    "      corrente = 1;\n",
    "      this.p = s;\n",
    "   }\n",
    "\n",
    "   float proximaParcela() {\n",
    "      float retorno = p;\n",
    "      corrente++;\n",
    "      if (corrente <= n)\n",
    "         p = p + (p * (j/100));\n",
    "      else\n",
    "         p = 0;\n",
    "      return retorno;\n",
    "   }\n",
    "}"
   ]
  },
  {
   "cell_type": "markdown",
   "metadata": {},
   "source": [
    "## Dois objetos `Emprestimo`\n",
    "\n",
    "A aplicação a seguir ilustra como a classe pode ser usada para se criar dois objetos `Emprestimo`."
   ]
  },
  {
   "cell_type": "code",
   "execution_count": 2,
   "metadata": {},
   "outputs": [
    {
     "name": "stdout",
     "output_type": "stream",
     "text": [
      "Emprestimo A: parcela 1 eh 200.0\n",
      "Emprestimo B: parcela 1 eh 500.0\n",
      "Emprestimo A: parcela 2 eh 202.0\n",
      "Emprestimo B: parcela 2 eh 510.0\n",
      "Emprestimo A: parcela 3 eh 204.02\n",
      "Emprestimo B: parcela 3 eh 520.2\n",
      "Emprestimo A: parcela 4 eh 206.06021\n",
      "Emprestimo B: parcela 4 eh 530.604\n",
      "Emprestimo A: parcela 5 eh 208.12082\n",
      "Emprestimo B: parcela 5 eh 541.21606\n",
      "Emprestimo B: parcela 6 eh 552.0404\n",
      "Emprestimo B: parcela 7 eh 563.08124\n"
     ]
    },
    {
     "data": {
      "text/plain": [
       "null"
      ]
     },
     "execution_count": 2,
     "metadata": {},
     "output_type": "execute_result"
    }
   ],
   "source": [
    "Emprestimo emprestimoA = new Emprestimo(200, 5, 1),\n",
    "           emprestimoB = new Emprestimo(500, 7, 2);\n",
    "\n",
    "int i = 1;\n",
    "float pA = emprestimoA.proximaParcela();\n",
    "float pB = emprestimoB.proximaParcela();\n",
    "while (pA > 0 || pB > 0) {\n",
    "   if (pA > 0)\n",
    "      System.out.println(\"Emprestimo A: parcela \" + i + \" eh \" + pA);\n",
    "   if (pB > 0)\n",
    "      System.out.println(\"Emprestimo B: parcela \" + i + \" eh \" + pB);\n",
    "   pA = emprestimoA.proximaParcela();\n",
    "   pB = emprestimoB.proximaParcela();\n",
    "   i++;\n",
    "}"
   ]
  },
  {
   "cell_type": "markdown",
   "metadata": {},
   "source": [
    "# Vetor de objetos `Emprestimo`\n",
    "\n",
    "O vetor do Java pode ser usado para se armazenar ponteiros para múltiplos objetos `Emprestimo`. Para isso, basta se criar um vetor do tipo `Emprestimo`. O exemplo a seguir mantém cinco ponteiros para objetos empréstimo."
   ]
  },
  {
   "cell_type": "code",
   "execution_count": 3,
   "metadata": {},
   "outputs": [
    {
     "name": "stdout",
     "output_type": "stream",
     "text": [
      "Emprestimo 0: parcela 1 eh 200.0\n",
      "Emprestimo 1: parcela 1 eh 500.0\n",
      "Emprestimo 2: parcela 1 eh 300.0\n",
      "Emprestimo 3: parcela 1 eh 450.0\n",
      "Emprestimo 4: parcela 1 eh 700.0\n",
      "Emprestimo 0: parcela 2 eh 202.0\n",
      "Emprestimo 1: parcela 2 eh 510.0\n",
      "Emprestimo 2: parcela 2 eh 303.0\n",
      "Emprestimo 3: parcela 2 eh 459.0\n",
      "Emprestimo 4: parcela 2 eh 721.0\n",
      "Emprestimo 0: parcela 3 eh 204.02\n",
      "Emprestimo 1: parcela 3 eh 520.2\n",
      "Emprestimo 3: parcela 3 eh 468.18\n",
      "Emprestimo 1: parcela 4 eh 530.604\n"
     ]
    },
    {
     "data": {
      "text/plain": [
       "null"
      ]
     },
     "execution_count": 3,
     "metadata": {},
     "output_type": "execute_result"
    }
   ],
   "source": [
    "Emprestimo vEmprestimos[] = new Emprestimo[5];\n",
    "\n",
    "vEmprestimos[0] = new Emprestimo(200, 3, 1);\n",
    "vEmprestimos[1] = new Emprestimo(500, 4, 2);\n",
    "vEmprestimos[2] = new Emprestimo(300, 2, 1);\n",
    "vEmprestimos[3] = new Emprestimo(450, 3, 2);\n",
    "vEmprestimos[4] = new Emprestimo(700, 2, 3);\n",
    "\n",
    "int i = 1;\n",
    "boolean temParcela = true;\n",
    "while (temParcela) {\n",
    "   temParcela = false;\n",
    "   for (int e = 0; e < 5; e++) {\n",
    "      float p = vEmprestimos[e].proximaParcela();\n",
    "      if (p > 0) {\n",
    "         temParcela = true;\n",
    "         System.out.println(\"Emprestimo \" + e + \": parcela \" + i + \" eh \" + p);\n",
    "      }\n",
    "   }\n",
    "   i++;\n",
    "}"
   ]
  },
  {
   "cell_type": "markdown",
   "metadata": {},
   "source": [
    "# Exercício: Classe para Conjunto de Empréstimos\n",
    "\n",
    "## Classe `ConjuntoEmprestimos`\n",
    "\n",
    "Escreva uma classe denominada `ConjuntoEmprestimos` que será responsável por controlar um conjunto de empréstimos. Essa classe deve definir pelo menos os seguintes métodos:\n",
    "\n",
    "* `construtor` - recebe como parâmetro o número máximo de empréstimos;\n",
    "* `adicionaEmprestimo` - recebe como parâmetro um objeto da classe empréstimo e o armazena (se não ultrapassar o número máximo);\n",
    "* `proximasParcelas` - mostra as próximas parcelas de todos os empréstimos cadastrados (para fins de simplificação, considere que o número da próxima parcela é igual para todos); o método retorna um status de verdadeiro se houve pelo menos um empréstimo com próxima parcela."
   ]
  },
  {
   "cell_type": "code",
   "execution_count": 4,
   "metadata": {},
   "outputs": [
    {
     "data": {
      "text/plain": [
       "com.twosigma.beaker.javash.bkrdb720e50.ConjuntoEmprestimos"
      ]
     },
     "execution_count": 4,
     "metadata": {},
     "output_type": "execute_result"
    }
   ],
   "source": [
    "public class ConjuntoEmprestimos {\n",
    "   Emprestimo vEmprestimos[];\n",
    "   int corrente = -1;\n",
    "   \n",
    "   ConjuntoEmprestimos(int quantidade) {\n",
    "      vEmprestimos = new Emprestimo[quantidade];\n",
    "   }\n",
    "   \n",
    "   boolean adicionaEmprestimo(Emprestimo emp) {\n",
    "      boolean resultado = false;\n",
    "      if (corrente+1 < vEmprestimos.length) {\n",
    "         corrente++;\n",
    "         vEmprestimos[corrente] = emp;\n",
    "         resultado = true;\n",
    "      }\n",
    "      return resultado;\n",
    "   }\n",
    "   \n",
    "   boolean proximasParcelas() {\n",
    "      boolean status = false;\n",
    "      for (int e = 0; e < vEmprestimos.length; e++) {\n",
    "         float p = vEmprestimos[e].proximaParcela();\n",
    "         if (p > 0) {\n",
    "            status = true;\n",
    "            System.out.println(\"Emprestimo \" + (e+1) + \": \" + p);\n",
    "         }\n",
    "      }\n",
    "      return status;\n",
    "   }\n",
    "}"
   ]
  },
  {
   "cell_type": "markdown",
   "metadata": {},
   "source": [
    "## Programa com cinco empréstimos\n",
    "\n",
    "Escreva um programa que crie um objeto da classe `ConjuntoEmprestimo`, crie cinco objetos da classe `Emprestimo` e os cadastre na classe `ConjuntoEmprestimo`. Ao final, mostre as parcelas de todos os empréstimos usando `ConjuntoEmprestimo`."
   ]
  },
  {
   "cell_type": "code",
   "execution_count": 5,
   "metadata": {},
   "outputs": [
    {
     "name": "stdout",
     "output_type": "stream",
     "text": [
      "Emprestimo 1: 200.0\n",
      "Emprestimo 2: 500.0\n",
      "Emprestimo 3: 300.0\n",
      "Emprestimo 4: 450.0\n",
      "Emprestimo 5: 700.0\n",
      "Emprestimo 1: 202.0\n",
      "Emprestimo 2: 510.0\n",
      "Emprestimo 3: 303.0\n",
      "Emprestimo 4: 459.0\n",
      "Emprestimo 5: 721.0\n",
      "Emprestimo 1: 204.02\n",
      "Emprestimo 2: 520.2\n",
      "Emprestimo 4: 468.18\n",
      "Emprestimo 2: 530.604\n"
     ]
    },
    {
     "data": {
      "text/plain": [
       "null"
      ]
     },
     "execution_count": 5,
     "metadata": {},
     "output_type": "execute_result"
    }
   ],
   "source": [
    "ConjuntoEmprestimos ce = new ConjuntoEmprestimos(5); \n",
    "\n",
    "ce.adicionaEmprestimo(new Emprestimo(200, 3, 1));\n",
    "ce.adicionaEmprestimo(new Emprestimo(500, 4, 2));\n",
    "ce.adicionaEmprestimo(new Emprestimo(300, 2, 1));\n",
    "ce.adicionaEmprestimo(new Emprestimo(450, 3, 2));\n",
    "ce.adicionaEmprestimo(new Emprestimo(700, 2, 3));\n",
    "\n",
    "boolean status;\n",
    "do {\n",
    "   status = ce.proximasParcelas();\n",
    "} while (status);"
   ]
  }
 ],
 "metadata": {
  "kernelspec": {
   "display_name": "Java",
   "language": "java",
   "name": "java"
  },
  "language_info": {
   "codemirror_mode": "text/x-java",
   "file_extension": ".java",
   "mimetype": "",
   "name": "Java",
   "nbconverter_exporter": "",
   "version": "11.0.7"
  }
 },
 "nbformat": 4,
 "nbformat_minor": 4
}
