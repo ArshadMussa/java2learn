{
 "cells": [
  {
   "cell_type": "markdown",
   "metadata": {},
   "source": [
    "# A Incrível Máquina Abstrata I\n",
    "## The Incredible Abstract Machine (TIAM)\n",
    "\n",
    "![The Incredible Machine](tim.png)\n",
    "\n",
    "## Implementando funcionalidades no nível asbtrato\n",
    "\n",
    "É possível se pensar em funcionalidades no nível abstrato que se baseiam na previsão do que será implementado nas subclasses.\n",
    "\n",
    "A seguir é apresentada a classe `ListStr` que representa uma lista de forma abstrata. Essa lista mantém um registro do **elemento corrente**, trata-se do próximo elemento que será considerado nas operações de acesso a elementos (`first` e `next`).\n",
    "\n",
    "Uma `ListStr` define as seguintes três operações:\n",
    "* *construtor* - recebe uma lista como parâmetro e a armazena;\n",
    "* **`first()`** - desloca o **elemento corrente** para a primeira posição da lista e retorna esse primeiro elemento (retorna nulo se não houver primeiro);\n",
    "* **`next()`** - desloca o **elemento corrente** para a próxima posição (a partir da sua última posição) da lista e retorna esse próximo elemento (retorna nulo se não houver próximo).\n",
    "\n",
    "Note que foi implementado um método `list()` que parte do pré-suposto de que existe uma implementação de `first()` e `next()`. Isso faz com que você possa implementar a lista de várias maneiras e o método `list()` se adapte automaticamente às implementações dos herdeiros.\n",
    "\n",
    "## Tarefa 1\n",
    "\n",
    "![TIAM](tiam-parte-1-1.png)\n",
    "\n",
    "Implemente uma classe herdeita de `ListStr` (não abstrata) chamada `ListSequence` que armazene uma lista de dados de tamanho máximo fixo (informado no construtor) e implemente os métodos `add()`, `first()` e `next()`. Considere que um elemento é sempre adicionado no final da lista (em sequência)."
   ]
  },
  {
   "cell_type": "code",
   "execution_count": 1,
   "metadata": {},
   "outputs": [
    {
     "data": {
      "text/plain": [
       "com.twosigma.beaker.javash.bkr8005cd46.ListStr"
      ]
     },
     "execution_count": 1,
     "metadata": {},
     "output_type": "execute_result"
    }
   ],
   "source": [
    "public abstract class ListStr {\n",
    "   String content[];\n",
    "\n",
    "   public ListStr(String content[]) {\n",
    "      this.content = content;\n",
    "   }\n",
    "    \n",
    "   public abstract String first();\n",
    "   \n",
    "   public abstract String next();\n",
    "   \n",
    "   public void list() {\n",
    "      String element = first();\n",
    "      \n",
    "      while (element != null) {\n",
    "         System.out.println(element);\n",
    "         element = next();\n",
    "      }\n",
    "   }\n",
    "}"
   ]
  },
  {
   "cell_type": "code",
   "execution_count": 2,
   "metadata": {},
   "outputs": [
    {
     "data": {
      "text/plain": [
       "com.twosigma.beaker.javash.bkr8005cd46.List"
      ]
     },
     "execution_count": 2,
     "metadata": {},
     "output_type": "execute_result"
    }
   ],
   "source": [
    "public class List extends ListStr {\n",
    "   private int current = 0;\n",
    "\n",
    "   public List(String content[]) {\n",
    "      super(content);\n",
    "   }\n",
    "\n",
    "   public String first() {\n",
    "      current = 0;\n",
    "      return (current < content.length) ? content[current] : null;\n",
    "   }\n",
    "\n",
    "   public String next() {\n",
    "      current++;\n",
    "      return (current < content.length) ? content[current] : null;\n",
    "   }\n",
    "}"
   ]
  },
  {
   "cell_type": "markdown",
   "metadata": {},
   "source": [
    "Escreva instruções que testem a sua lista."
   ]
  },
  {
   "cell_type": "code",
   "execution_count": 3,
   "metadata": {},
   "outputs": [
    {
     "name": "stdout",
     "output_type": "stream",
     "text": [
      "Quincas\n",
      "Doriana\n",
      "Asdrubal\n",
      "Melissa\n",
      "Alcebiades\n"
     ]
    },
    {
     "data": {
      "text/plain": [
       "null"
      ]
     },
     "execution_count": 3,
     "metadata": {},
     "output_type": "execute_result"
    }
   ],
   "source": [
    "String content[] = {\"Quincas\", \"Doriana\", \"Asdrubal\", \"Melissa\", \"Alcebiades\"};\n",
    "ListStr l = new List(content);\n",
    "l.list();"
   ]
  }
 ],
 "metadata": {
  "kernelspec": {
   "display_name": "Java",
   "language": "java",
   "name": "java"
  },
  "language_info": {
   "codemirror_mode": "text/x-java",
   "file_extension": ".java",
   "mimetype": "",
   "name": "Java",
   "nbconverter_exporter": "",
   "version": "1.8.0_121"
  },
  "toc": {
   "base_numbering": 1,
   "nav_menu": {},
   "number_sections": false,
   "sideBar": false,
   "skip_h1_title": false,
   "title_cell": "Table of Contents",
   "title_sidebar": "Contents",
   "toc_cell": false,
   "toc_position": {},
   "toc_section_display": false,
   "toc_window_display": false
  }
 },
 "nbformat": 4,
 "nbformat_minor": 4
}
