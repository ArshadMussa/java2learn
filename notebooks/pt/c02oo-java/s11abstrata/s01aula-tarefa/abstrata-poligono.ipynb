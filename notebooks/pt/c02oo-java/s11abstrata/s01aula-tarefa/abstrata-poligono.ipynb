{
 "cells": [
  {
   "cell_type": "markdown",
   "metadata": {},
   "source": [
    "# Classe Abstrata\n",
    "\n",
    "## Retomando o exemplo do Polígono\n",
    "\n",
    "Estude novamente o exemplo de polígono a seguir, que foi trabalhado na aula de polimorfismo. Observe que na classe `Poligono` o método `getArea()` não faz sentido, já que se trata de uma abstração de polígono que não tem área. Entretanto, ele teve que ser declarado para permitir o polimorfismo desse método, ou seja, para que fosse possível declarar uma referência para `Poligono` e, mesmo assim, se realizar a chamada para o método `getArea()` nas subclasses."
   ]
  },
  {
   "cell_type": "code",
   "execution_count": 1,
   "metadata": {},
   "outputs": [
    {
     "data": {
      "text/plain": [
       "com.twosigma.beaker.javash.bkrb2e5f378.Poligono"
      ]
     },
     "execution_count": 1,
     "metadata": {},
     "output_type": "execute_result"
    }
   ],
   "source": [
    "public class Poligono {\n",
    "    private int altura;\n",
    "    private int largura;\n",
    "\n",
    "    \n",
    "    public Poligono(int altura, int largura) {\n",
    "        this.altura = altura;\n",
    "        this.largura = largura;\n",
    "    }\n",
    "    \n",
    "    public int getAltura() {\n",
    "        return altura;\n",
    "    }\n",
    "    \n",
    "    public int getLargura() {\n",
    "        return largura;\n",
    "    }\n",
    "    \n",
    "    public float getArea() {\n",
    "        return 0;\n",
    "    }\n",
    "}"
   ]
  },
  {
   "cell_type": "code",
   "execution_count": 2,
   "metadata": {},
   "outputs": [
    {
     "data": {
      "text/plain": [
       "com.twosigma.beaker.javash.bkrb2e5f378.TrianguloRetangulo"
      ]
     },
     "execution_count": 2,
     "metadata": {},
     "output_type": "execute_result"
    }
   ],
   "source": [
    "public class TrianguloRetangulo extends Poligono {\n",
    "    public TrianguloRetangulo(int altura, int largura) {\n",
    "        super(altura, largura);\n",
    "    }\n",
    "    \n",
    "    public float getArea() {\n",
    "        return getAltura() * getLargura() / 2;\n",
    "    }\n",
    "}"
   ]
  },
  {
   "cell_type": "code",
   "execution_count": 3,
   "metadata": {},
   "outputs": [
    {
     "data": {
      "text/plain": [
       "com.twosigma.beaker.javash.bkrb2e5f378.Retangulo"
      ]
     },
     "execution_count": 3,
     "metadata": {},
     "output_type": "execute_result"
    }
   ],
   "source": [
    "public class Retangulo extends Poligono {\n",
    "    public Retangulo(int altura, int largura) {\n",
    "        super(altura, largura);\n",
    "    }\n",
    "    \n",
    "    public float getArea() {\n",
    "        return getAltura() * getLargura();\n",
    "    }\n",
    "}"
   ]
  },
  {
   "cell_type": "code",
   "execution_count": 4,
   "metadata": {},
   "outputs": [
    {
     "name": "stdout",
     "output_type": "stream",
     "text": [
      "Área do triangulo retângulo: 30.0\n",
      "Área do retângulo: 60.0\n"
     ]
    },
    {
     "data": {
      "text/plain": [
       "null"
      ]
     },
     "execution_count": 4,
     "metadata": {},
     "output_type": "execute_result"
    }
   ],
   "source": [
    "Poligono tr = new TrianguloRetangulo(6, 10);\n",
    "Poligono rt = new Retangulo(6, 10);\n",
    "\n",
    "System.out.println(\"Área do triangulo retângulo: \" + tr.getArea());\n",
    "System.out.println(\"Área do retângulo: \" + rt.getArea());"
   ]
  },
  {
   "cell_type": "markdown",
   "metadata": {},
   "source": [
    "## Usando uma Classes Abstratas e Métodos Abstratos\n",
    "\n",
    "Essa estratégia de declarar métodos na superclasse que só serão definidos nas subclasses é comum. Nesses casos, a superclasse é tida como uma abstração, que declara interfaces de métodos potenciais, cuja implementação faz sentido nas subclasses.\n",
    "\n",
    "Para esses casos o Java dispõe do recurso de **Classe Abstrata**.\n",
    "\n",
    "Uma classe abstrata é declarada usando-se a cláusula `abstract` antes do `class`. No caso do `Poligono` seria:\n",
    "~~~java\n",
    "public abstract class Poligono\n",
    "~~~\n",
    "\n",
    "Uma classe abstrata ganha a possibilidade de declarar **Métodos Abstratos**, que são métodos apneas com a assinatura mas sem implementação. Esses métodos serão obrigatoriamente implementados pelos herdeiros, a menos que os herdeiros também os declare como abstratos, repassando a responsabilidade para a geração seguinte (nesse caso as respectivas classes herdeiras também serão abstratas).\n",
    "\n",
    "O método `getArea()` pode se tornar abstrato da seguinte maneira:\n",
    "\n",
    "~~~java\n",
    "public abstract float getArea();\n",
    "~~~\n",
    "\n",
    "Apenas as classes abstratas podem ter métodos abstratos.\n",
    "\n",
    "Nenhuma classe abstrata pode ser instanciada, ou seja, todos os métodos abstratos terão que ser obrigatoriamente implementados por alguém para que se possa instanciar a respectiva classe.\n",
    "\n",
    "Veja abaixo como o `Poligono` foi reimplementado:"
   ]
  },
  {
   "cell_type": "code",
   "execution_count": 5,
   "metadata": {},
   "outputs": [
    {
     "data": {
      "text/plain": [
       "com.twosigma.beaker.javash.bkrb2e5f378.Poligono"
      ]
     },
     "execution_count": 5,
     "metadata": {},
     "output_type": "execute_result"
    }
   ],
   "source": [
    "public abstract class Poligono {\n",
    "    private int altura;\n",
    "    private int largura;\n",
    "\n",
    "    \n",
    "    public Poligono(int altura, int largura) {\n",
    "        this.altura = altura;\n",
    "        this.largura = largura;\n",
    "    }\n",
    "    \n",
    "    public int getAltura() {\n",
    "        return altura;\n",
    "    }\n",
    "    \n",
    "    public int getLargura() {\n",
    "        return largura;\n",
    "    }\n",
    "    \n",
    "    public abstract float getArea();\n",
    "}"
   ]
  },
  {
   "cell_type": "code",
   "execution_count": 6,
   "metadata": {},
   "outputs": [
    {
     "data": {
      "text/plain": [
       "com.twosigma.beaker.javash.bkrb2e5f378.TrianguloRetangulo"
      ]
     },
     "execution_count": 6,
     "metadata": {},
     "output_type": "execute_result"
    }
   ],
   "source": [
    "public class TrianguloRetangulo extends Poligono {\n",
    "    public TrianguloRetangulo(int altura, int largura) {\n",
    "        super(altura, largura);\n",
    "    }\n",
    "    \n",
    "    public float getArea() {\n",
    "        return getAltura() * getLargura() / 2;\n",
    "    }\n",
    "}"
   ]
  },
  {
   "cell_type": "code",
   "execution_count": 7,
   "metadata": {},
   "outputs": [
    {
     "data": {
      "text/plain": [
       "com.twosigma.beaker.javash.bkrb2e5f378.Retangulo"
      ]
     },
     "execution_count": 7,
     "metadata": {},
     "output_type": "execute_result"
    }
   ],
   "source": [
    "public class Retangulo extends Poligono {\n",
    "    public Retangulo(int altura, int largura) {\n",
    "        super(altura, largura);\n",
    "    }\n",
    "    \n",
    "    public float getArea() {\n",
    "        return getAltura() * getLargura();\n",
    "    }\n",
    "}"
   ]
  },
  {
   "cell_type": "code",
   "execution_count": 8,
   "metadata": {},
   "outputs": [
    {
     "name": "stdout",
     "output_type": "stream",
     "text": [
      "Área do triangulo retângulo: 30.0\n",
      "Área do retângulo: 60.0\n"
     ]
    },
    {
     "data": {
      "text/plain": [
       "null"
      ]
     },
     "execution_count": 8,
     "metadata": {},
     "output_type": "execute_result"
    }
   ],
   "source": [
    "Poligono tr = new TrianguloRetangulo(6, 10);\n",
    "Poligono rt = new Retangulo(6, 10);\n",
    "\n",
    "System.out.println(\"Área do triangulo retângulo: \" + tr.getArea());\n",
    "System.out.println(\"Área do retângulo: \" + rt.getArea());"
   ]
  }
 ],
 "metadata": {
  "kernelspec": {
   "display_name": "Java",
   "language": "java",
   "name": "java"
  },
  "language_info": {
   "codemirror_mode": "text/x-java",
   "file_extension": ".java",
   "mimetype": "",
   "name": "Java",
   "nbconverter_exporter": "",
   "version": "1.8.0_121"
  },
  "toc": {
   "base_numbering": 1,
   "nav_menu": {},
   "number_sections": false,
   "sideBar": false,
   "skip_h1_title": false,
   "title_cell": "Table of Contents",
   "title_sidebar": "Contents",
   "toc_cell": false,
   "toc_position": {},
   "toc_section_display": false,
   "toc_window_display": false
  }
 },
 "nbformat": 4,
 "nbformat_minor": 4
}
