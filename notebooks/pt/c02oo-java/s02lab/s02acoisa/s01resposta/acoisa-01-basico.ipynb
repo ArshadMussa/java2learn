{
 "cells": [
  {
   "cell_type": "markdown",
   "metadata": {},
   "source": [
    "# A Coisa\n",
    "\n",
    "Leia os slides abaixo para entender o contexto da aplicação proposta, que envolve a apresentação de um ser virtual chamado `A Coisa`:\n",
    "\n",
    "[![A Coisa](lab-a-coisa.png)](lab-a-coisa.pdf)"
   ]
  },
  {
   "cell_type": "markdown",
   "metadata": {},
   "source": [
    "# A Coisa\n",
    "\n",
    "## Tarefa\n",
    "\n",
    "Escreva uma classe `Alongado` que represente A Coisa da espécie Alongado e outra classe `Entremeado` que represente A Coisa da espécie Entremeado. Cada instância (objeto) de ambas as classes representará um único indivíduo, com as seguintes características (para ambas):\n",
    "* `idade` - número inteiro que inicia com 1 e representa a idade da Coisa;\n",
    "* `vivo` - indica se a coisa está viva ou morta.\n",
    "\n",
    "### Métodos\n",
    "* `mostrar` - mostra no console um caractere que representa A Coisa; este caractere será diferente conforme a idade e se A Coisa está viva ou não;\n",
    "* `crescer` - aumenta a idade da coisa e a mostra no console;\n",
    "* `morrer` - a coisa se torna morta - mostra A Coisa no console.\n",
    "\n",
    "### Distribuição de Classes\n",
    "\n",
    "Cada classe deve ficar em uma célula diferente, por isso foram alocadas duas células abaixo."
   ]
  },
  {
   "cell_type": "code",
   "execution_count": 1,
   "metadata": {},
   "outputs": [
    {
     "data": {
      "text/plain": [
       "com.twosigma.beaker.javash.bkre58407f1.Alongado"
      ]
     },
     "execution_count": 1,
     "metadata": {},
     "output_type": "execute_result"
    }
   ],
   "source": [
    "public class Alongado {\n",
    "   int idade;\n",
    "   boolean vivo;\n",
    "    \n",
    "   public Alongado(int idade, boolean vivo) {\n",
    "      this.idade = idade;\n",
    "      this.vivo = vivo;\n",
    "   }\n",
    "\n",
    "   public void mostrar() {\n",
    "      String saida = \"\";\n",
    "      if (!vivo)\n",
    "         saida = \"#\";\n",
    "      else\n",
    "         switch (idade) {\n",
    "            case 1: saida = \".\"; break;\n",
    "            case 2: saida = \",\"; break;              \n",
    "            case 3: saida = \"-\"; break;              \n",
    "            default: if (idade >= 4)\n",
    "                        saida = \"~\";\n",
    "                     break;              \n",
    "         }\n",
    "      System.out.println(saida);\n",
    "   }\n",
    "\n",
    "   public void crescer() {\n",
    "      idade++;\n",
    "      mostrar();\n",
    "   }\n",
    " \n",
    "   public void morrer() {\n",
    "      vivo = false;\n",
    "      mostrar();\n",
    "   }\n",
    "}"
   ]
  },
  {
   "cell_type": "code",
   "execution_count": 2,
   "metadata": {},
   "outputs": [
    {
     "data": {
      "text/plain": [
       "com.twosigma.beaker.javash.bkre58407f1.Entremeado"
      ]
     },
     "execution_count": 2,
     "metadata": {},
     "output_type": "execute_result"
    }
   ],
   "source": [
    "public class Entremeado {\n",
    "   int idade;\n",
    "   boolean vivo;\n",
    "    \n",
    "   public Entremeado(int idade, boolean vivo) {\n",
    "      this.idade = idade;\n",
    "      this.vivo = vivo;\n",
    "   }\n",
    "\n",
    "   public void mostrar() {\n",
    "      String saida = \"\";\n",
    "      if (!vivo)\n",
    "         saida = \"#\";\n",
    "      else\n",
    "         switch (idade) {\n",
    "            case 1: saida = \".\"; break;\n",
    "            case 2: saida = \"+\"; break;              \n",
    "            case 3: saida = \"@\"; break;              \n",
    "            default: if (idade >= 4)\n",
    "                        saida = \"*\";\n",
    "                     break;              \n",
    "         }\n",
    "      System.out.println(saida);\n",
    "   }\n",
    "\n",
    "   public void crescer() {\n",
    "      idade++;\n",
    "      mostrar();\n",
    "   }\n",
    " \n",
    "   public void morrer() {\n",
    "      vivo = false;\n",
    "      mostrar();\n",
    "   }\n",
    "}"
   ]
  },
  {
   "cell_type": "markdown",
   "metadata": {},
   "source": [
    "## Tarefa\n",
    "\n",
    "Crie quatro objetos instâncias das classes criadas (duas de cada). Cada objeto tem uma idade diferente e está em um estado (morto ou vivo) diferente.\n",
    "\n",
    "Mostre as quatro Coisas no console, depois realize sobre elas diferentes operações de crescimento e morte."
   ]
  },
  {
   "cell_type": "code",
   "execution_count": 3,
   "metadata": {},
   "outputs": [
    {
     "name": "stdout",
     "output_type": "stream",
     "text": [
      ",\n",
      "#\n",
      "@\n",
      ".\n",
      "-\n",
      "#\n",
      "*\n",
      "+\n",
      "#\n",
      "@\n",
      "*\n",
      "*\n"
     ]
    },
    {
     "data": {
      "text/plain": [
       "null"
      ]
     },
     "execution_count": 3,
     "metadata": {},
     "output_type": "execute_result"
    }
   ],
   "source": [
    "Alongado a1 = new Alongado(2, true),\n",
    "         a2 = new Alongado(1, false);\n",
    "Entremeado e1 = new Entremeado(3, true),\n",
    "           e2 = new Entremeado(1, true);\n",
    "\n",
    "a1.mostrar();\n",
    "a2.mostrar();\n",
    "e1.mostrar();\n",
    "e2.mostrar();\n",
    "\n",
    "a1.crescer();\n",
    "a2.crescer();\n",
    "e1.crescer();\n",
    "e2.crescer();\n",
    "\n",
    "e1.morrer();\n",
    "e2.crescer();\n",
    "e2.crescer();\n",
    "e2.crescer();"
   ]
  },
  {
   "cell_type": "markdown",
   "metadata": {},
   "source": [
    "## Tarefa\n",
    "\n",
    "Acrescente na classe `Alongado` um método capaz de clonar o respectivo objeto, ou seja, o método cria uma nova instância (objeto) idêntico com todos os atributos iguais ao original.\n",
    "\n",
    "Crie um exemplo que realize demonstre a clonagem. Para verificar que a clonagem foi feita corretamente, acione um método que altere um dos atributos do clone -- por exemplo, `cresce()` -- e mostre os dois objetos novamente no console. Se você fez corretamente, o original não deve ser afetado."
   ]
  },
  {
   "cell_type": "code",
   "execution_count": 4,
   "metadata": {},
   "outputs": [
    {
     "data": {
      "text/plain": [
       "com.twosigma.beaker.javash.bkre58407f1.Alongado"
      ]
     },
     "execution_count": 4,
     "metadata": {},
     "output_type": "execute_result"
    }
   ],
   "source": [
    "public class Alongado {\n",
    "   int idade;\n",
    "   boolean vivo;\n",
    "    \n",
    "   public Alongado(int idade, boolean vivo) {\n",
    "      this.idade = idade;\n",
    "      this.vivo = vivo;\n",
    "   }\n",
    "\n",
    "   public void mostrar() {\n",
    "      String saida = \"\";\n",
    "      if (!vivo)\n",
    "         saida = \"#\";\n",
    "      else\n",
    "         switch (idade) {\n",
    "            case 1: saida = \".\"; break;\n",
    "            case 2: saida = \",\"; break;              \n",
    "            case 3: saida = \"-\"; break;              \n",
    "            default: if (idade >= 4)\n",
    "                        saida = \"~\";\n",
    "                     break;              \n",
    "         }\n",
    "      System.out.println(saida);\n",
    "   }\n",
    "\n",
    "   public void crescer() {\n",
    "      idade++;\n",
    "      mostrar();\n",
    "   }\n",
    " \n",
    "   public void morrer() {\n",
    "      vivo = false;\n",
    "      mostrar();\n",
    "   }\n",
    "\n",
    "   public Alongado clonar() {\n",
    "      return new Alongado(idade, vivo);\n",
    "   }\n",
    "}"
   ]
  },
  {
   "cell_type": "code",
   "execution_count": 5,
   "metadata": {},
   "outputs": [
    {
     "name": "stdout",
     "output_type": "stream",
     "text": [
      ",\n",
      "-\n",
      ",\n",
      "#\n",
      "-\n"
     ]
    },
    {
     "data": {
      "text/plain": [
       "null"
      ]
     },
     "execution_count": 5,
     "metadata": {},
     "output_type": "execute_result"
    }
   ],
   "source": [
    "Alongado a1 = new Alongado(2, true);\n",
    "a1.mostrar();\n",
    "Alongado a2 = a1.clonar();\n",
    "a1.crescer();\n",
    "a2.mostrar();\n",
    "a2.morrer();\n",
    "a1.mostrar();"
   ]
  }
 ],
 "metadata": {
  "kernelspec": {
   "display_name": "Java",
   "language": "java",
   "name": "java"
  },
  "language_info": {
   "codemirror_mode": "text/x-java",
   "file_extension": ".java",
   "mimetype": "",
   "name": "Java",
   "nbconverter_exporter": "",
   "version": "11.0.6"
  }
 },
 "nbformat": 4,
 "nbformat_minor": 4
}
