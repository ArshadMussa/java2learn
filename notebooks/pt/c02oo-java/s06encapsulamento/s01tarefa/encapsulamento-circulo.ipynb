{
 "cells": [
  {
   "cell_type": "markdown",
   "metadata": {},
   "source": [
    "# Encapsulamento\n",
    "\n",
    "## Retomando `Circulo`\n",
    "\n",
    "Retomando a classe cículo.\n",
    "* Projeto inicial de manter o cálculo da área em um atributo.\n",
    "* Cálculo feito no construtor."
   ]
  },
  {
   "cell_type": "code",
   "execution_count": 1,
   "metadata": {},
   "outputs": [
    {
     "data": {
      "text/plain": [
       "com.twosigma.beaker.javash.bkre5084374.Circulo"
      ]
     },
     "execution_count": 1,
     "metadata": {},
     "output_type": "execute_result"
    }
   ],
   "source": [
    "public class Circulo {\n",
    "   int centroX, centroY;\n",
    "   int raio;\n",
    "   double area;\n",
    "   \n",
    "   Circulo(int centroX, int centroY, int raio) {\n",
    "      this.centroX = centroX;\n",
    "      this.centroY = centroY;\n",
    "      this.raio = raio;\n",
    "      this.area = Math.PI * raio * raio;\n",
    "   }\n",
    "}"
   ]
  },
  {
   "cell_type": "code",
   "execution_count": 2,
   "metadata": {},
   "outputs": [
    {
     "name": "stdout",
     "output_type": "stream",
     "text": [
      "Circulo: centro(5, 3), raio 10\n",
      "Area do circulo: 314.1592653589793\n"
     ]
    },
    {
     "data": {
      "text/plain": [
       "null"
      ]
     },
     "execution_count": 2,
     "metadata": {},
     "output_type": "execute_result"
    }
   ],
   "source": [
    "Circulo circ = new Circulo(5, 3, 10);\n",
    "  \n",
    "System.out.println(\"Circulo: centro(\" + circ.centroX + \", \" + circ.centroY + \"), raio \" + circ.raio);\n",
    "System.out.println(\"Area do circulo: \" + circ.area);"
   ]
  },
  {
   "cell_type": "markdown",
   "metadata": {},
   "source": [
    "## Transformando o Atributo em Método\n",
    "\n",
    "* Como manter a consistência se o raio for modificado?\n",
    "* Projeto resolve realizar o cálculo sobre demanda através de método."
   ]
  },
  {
   "cell_type": "code",
   "execution_count": 3,
   "metadata": {},
   "outputs": [
    {
     "data": {
      "text/plain": [
       "com.twosigma.beaker.javash.bkre5084374.Circulo"
      ]
     },
     "execution_count": 3,
     "metadata": {},
     "output_type": "execute_result"
    }
   ],
   "source": [
    "public class Circulo {\n",
    "   int centroX, centroY;\n",
    "   int raio;\n",
    "   \n",
    "   Circulo(int centroX, int centroY, int raio) {\n",
    "      this.centroX = centroX;\n",
    "      this.centroY = centroY;\n",
    "      this.raio = raio;\n",
    "   }\n",
    "   \n",
    "   double area() {\n",
    "      return Math.PI * raio * raio;\n",
    "   }\n",
    "}"
   ]
  },
  {
   "cell_type": "code",
   "execution_count": 4,
   "metadata": {},
   "outputs": [
    {
     "name": "stdout",
     "output_type": "stream",
     "text": [
      "Circulo: centro(5, 3), raio 10\n",
      "Area do circulo: 314.1592653589793\n"
     ]
    },
    {
     "data": {
      "text/plain": [
       "null"
      ]
     },
     "execution_count": 4,
     "metadata": {},
     "output_type": "execute_result"
    }
   ],
   "source": [
    "Circulo circ = new Circulo(5, 3, 10);\n",
    "  \n",
    "System.out.println(\"Circulo: centro(\" + circ.centroX + \", \" + circ.centroY + \"), raio \" + circ.raio);\n",
    "System.out.println(\"Area do circulo: \" + circ.area());"
   ]
  },
  {
   "cell_type": "markdown",
   "metadata": {},
   "source": [
    "## Aplicando Encapsulamento na classe `Circulo`\n",
    "\n",
    "Diretrizes para classe e respectivos objetos:\n",
    "* atributos – privados\n",
    "* métodos - podem ser públicos\n",
    "  * métodos serão privados se não se quiser expô-los publicamente.\n",
    "* O objeto torna-se uma caixa preta em que só aparece o suficiente para que objetos externos possam utilizá-lo.\n",
    "* Detalhes de implementação ficam escondidos do público."
   ]
  },
  {
   "cell_type": "code",
   "execution_count": 5,
   "metadata": {},
   "outputs": [
    {
     "data": {
      "text/plain": [
       "com.twosigma.beaker.javash.bkre5084374.Circulo"
      ]
     },
     "execution_count": 5,
     "metadata": {},
     "output_type": "execute_result"
    }
   ],
   "source": [
    "public class Circulo {\n",
    "   private int centroX, centroY;\n",
    "   private int raio;\n",
    "   public Circulo(int centroX, int centroY, int raio) {\n",
    "      this.centroX = centroX;\n",
    "      this.centroY = centroY;\n",
    "      this.raio = raio;\n",
    "   }\n",
    "   public double area() {\n",
    "      return Math.PI * raio * raio;\n",
    "   }\n",
    "}"
   ]
  },
  {
   "cell_type": "code",
   "execution_count": 6,
   "metadata": {},
   "outputs": [
    {
     "name": "stdout",
     "output_type": "stream",
     "text": [
      "Area do circulo: 314.1592653589793\n"
     ]
    },
    {
     "data": {
      "text/plain": [
       "null"
      ]
     },
     "execution_count": 6,
     "metadata": {},
     "output_type": "execute_result"
    }
   ],
   "source": [
    "Circulo circ = new Circulo(5, 3, 10);\n",
    "  \n",
    "System.out.println(\"Area do circulo: \" + circ.area());"
   ]
  },
  {
   "cell_type": "markdown",
   "metadata": {},
   "source": [
    "# Propriedades\n",
    "\n",
    "* Expõem indiretamente atributos para classes/objetos externos através de métodos.\n",
    "* Métodos podem ser mantidos/adaptados com mudanças de atributos:\n",
    "  * Interface se mantém mesmo com mudanças externas.\n",
    "* Permitem consistência perante mudanças.\n",
    "\n",
    "## Propriedades em Java\n",
    "\n",
    "* Expostas através de métodos:\n",
    "  * prefixo “get” → leitura\n",
    "  * prefixo “set” → modificação\n",
    "  \n",
    "## Consistência\n",
    "O acesso indireto através do método permite a garantia de consistência do valor. Vide método `setRaio` abaixo que não aceita valor negativo.\n",
    "\n",
    "## Propriedades sem Atributo correspondente\n",
    "\n",
    "Propriedades não estão obrigadas a estar associadas a atributos. Veja propriedade `getArea()` abaixo."
   ]
  },
  {
   "cell_type": "code",
   "execution_count": 7,
   "metadata": {},
   "outputs": [
    {
     "data": {
      "text/plain": [
       "com.twosigma.beaker.javash.bkre5084374.Circulo"
      ]
     },
     "execution_count": 7,
     "metadata": {},
     "output_type": "execute_result"
    }
   ],
   "source": [
    "public class Circulo {\n",
    "   private int centroX = 0,\n",
    "               centroY = 0;\n",
    "   private int raio = 1;\n",
    "   \n",
    "   public int getCentroX() {\n",
    "      return centroX;\n",
    "   }\n",
    "\n",
    "   public void setCentroX(int centroX) {\n",
    "      this.centroX = centroX;\n",
    "   }\n",
    "\n",
    "   public int getCentroY() {\n",
    "      return centroY;\n",
    "   }\n",
    "\n",
    "   public void setCentroY(int centroY) {\n",
    "      this.centroY = centroY;\n",
    "   }\n",
    "\n",
    "   public int getRaio() {\n",
    "      return raio;\n",
    "   }\n",
    "\n",
    "   public void setRaio(int raio) {\n",
    "      if (raio > 0)\n",
    "         this.raio = raio;\n",
    "   }\n",
    "\n",
    "   public double getArea() {\n",
    "      return Math.PI * raio * raio;\n",
    "   }\n",
    "}"
   ]
  },
  {
   "cell_type": "code",
   "execution_count": 8,
   "metadata": {},
   "outputs": [
    {
     "name": "stdout",
     "output_type": "stream",
     "text": [
      "Circulo: centro(5, 3), raio 10\n",
      "Area do circulo: 314.1592653589793\n"
     ]
    },
    {
     "data": {
      "text/plain": [
       "null"
      ]
     },
     "execution_count": 8,
     "metadata": {},
     "output_type": "execute_result"
    }
   ],
   "source": [
    "Circulo circ = new Circulo();\n",
    "circ.setCentroX(5);\n",
    "circ.setCentroY(3);\n",
    "circ.setRaio(10);\n",
    "  \n",
    "System.out.println(\"Circulo: centro(\" + circ.getCentroX() + \", \" + circ.getCentroY() + \"), raio \" + circ.getRaio());\n",
    "System.out.println(\"Area do circulo: \" + circ.getArea());"
   ]
  },
  {
   "cell_type": "markdown",
   "metadata": {},
   "source": [
    "# Propriedades Somente Leitura\n",
    "\n",
    "Não definem o método “set”.\n",
    "\n",
    "Veja classe reescrita para propriedades só de leitura."
   ]
  },
  {
   "cell_type": "code",
   "execution_count": 9,
   "metadata": {},
   "outputs": [
    {
     "data": {
      "text/plain": [
       "com.twosigma.beaker.javash.bkre5084374.Circulo"
      ]
     },
     "execution_count": 9,
     "metadata": {},
     "output_type": "execute_result"
    }
   ],
   "source": [
    "public class Circulo {\n",
    "   private int centroX, centroY;\n",
    "   private int raio;\n",
    "   \n",
    "   public Circulo(int centroX, int centroY, int raio) {\n",
    "      this.centroX = centroX;\n",
    "      this.centroY = centroY;\n",
    "      this.raio = raio;\n",
    "   }\n",
    "\n",
    "   public int getCentroX() {\n",
    "      return centroX;\n",
    "   }\n",
    "\n",
    "   public int getCentroY() {\n",
    "      return centroY;\n",
    "   }\n",
    "\n",
    "   public int getRaio() {\n",
    "      return raio;\n",
    "   }\n",
    "\n",
    "   public double getArea() {\n",
    "      return Math.PI * raio * raio;\n",
    "   }\n",
    "}"
   ]
  },
  {
   "cell_type": "code",
   "execution_count": 10,
   "metadata": {},
   "outputs": [
    {
     "name": "stdout",
     "output_type": "stream",
     "text": [
      "Circulo: centro(5, 3), raio 10\n",
      "Area do circulo: 314.1592653589793\n"
     ]
    },
    {
     "data": {
      "text/plain": [
       "null"
      ]
     },
     "execution_count": 10,
     "metadata": {},
     "output_type": "execute_result"
    }
   ],
   "source": [
    "Circulo circ = new Circulo(5, 3, 10);\n",
    "     \n",
    "System.out.println(\"Circulo: centro(\" + circ.getCentroX() + \", \" + circ.getCentroY() + \"), raio \" + circ.getRaio());\n",
    "System.out.println(\"Area do circulo: \" + circ.getArea());"
   ]
  },
  {
   "cell_type": "markdown",
   "metadata": {},
   "source": [
    "# Tarefa\n",
    "\n",
    "## Classe `Grafico` com Propriedades\n",
    "\n",
    "Retomando a classe `Grafico` feita anteriormente (copiada abaixo), modifique classe para que atenda as regras de encapsulamento e para que seus atributos sejam acessados através de propriedades."
   ]
  },
  {
   "cell_type": "code",
   "execution_count": 11,
   "metadata": {},
   "outputs": [
    {
     "data": {
      "text/plain": [
       "com.twosigma.beaker.javash.bkre5084374.Grafico"
      ]
     },
     "execution_count": 11,
     "metadata": {},
     "output_type": "execute_result"
    }
   ],
   "source": [
    "public class Grafico {\n",
    "   boolean preenchido;\n",
    "   char caractere;\n",
    "   \n",
    "   Grafico(boolean preenchido, char caractere) {\n",
    "      this.preenchido = preenchido;\n",
    "      this.caractere = caractere;\n",
    "   }\n",
    "\n",
    "   void plota(int valor) {\n",
    "      for (int v = 1; v < valor; v++)\n",
    "         System.out.print((preenchido) ? caractere : ' ');\n",
    "      System.out.println(caractere);\n",
    "   }\n",
    "}"
   ]
  },
  {
   "cell_type": "code",
   "execution_count": 12,
   "metadata": {},
   "outputs": [
    {
     "name": "stdout",
     "output_type": "stream",
     "text": [
      "##########\n",
      "############\n",
      "########\n",
      "\n",
      "   *\n",
      "    *\n",
      "      *\n"
     ]
    },
    {
     "data": {
      "text/plain": [
       "null"
      ]
     },
     "execution_count": 12,
     "metadata": {},
     "output_type": "execute_result"
    }
   ],
   "source": [
    "Grafico g1 = new Grafico(true, '#');\n",
    "Grafico g2 = new Grafico(false, '*');\n",
    "\n",
    "g1.plota(10);\n",
    "g1.plota(12);\n",
    "g1.plota(8);\n",
    "System.out.println();\n",
    "g2.plota(4);\n",
    "g2.plota(5);\n",
    "g2.plota(7);"
   ]
  },
  {
   "cell_type": "code",
   "execution_count": null,
   "metadata": {},
   "outputs": [],
   "source": [
    "## Aplicação para a Nova Classe `Grafico`\n",
    "\n",
    "Reescreva o programa exemplo para a sua nova classe `Grafico`."
   ]
  }
 ],
 "metadata": {
  "kernelspec": {
   "display_name": "Java",
   "language": "java",
   "name": "java"
  },
  "language_info": {
   "codemirror_mode": "text/x-java",
   "file_extension": ".java",
   "mimetype": "",
   "name": "Java",
   "nbconverter_exporter": "",
   "version": "11.0.6"
  }
 },
 "nbformat": 4,
 "nbformat_minor": 4
}
