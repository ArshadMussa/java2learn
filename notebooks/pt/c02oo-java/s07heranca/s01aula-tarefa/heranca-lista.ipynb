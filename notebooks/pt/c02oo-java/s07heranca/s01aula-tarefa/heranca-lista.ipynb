{
 "cells": [
  {
   "cell_type": "markdown",
   "metadata": {},
   "source": [
    "# Herança\n",
    "\n",
    "* Capacidade das classes expandirem-se a partir das classes existentes.\n",
    "* Classe herdeira (subclasse)\n",
    "  * possui os mesmos atributos da superclasse\n",
    "  * herda acesso aos métodos desta superclasse\n",
    "  * pode acrescentar novos atributos e métodos (extensão)\n",
    "  \n",
    "Considere a classe `Lista` que gerencia uma lista de números simples:"
   ]
  },
  {
   "cell_type": "code",
   "execution_count": 1,
   "metadata": {},
   "outputs": [
    {
     "data": {
      "text/plain": [
       "com.twosigma.beaker.javash.bkrb300d942.Lista"
      ]
     },
     "execution_count": 1,
     "metadata": {},
     "output_type": "execute_result"
    }
   ],
   "source": [
    "public class Lista {\n",
    "   protected int vlista[] = new int[100];\n",
    "   protected int ultimo = -1;\n",
    "   \n",
    "   public void adicionar(int item) {\n",
    "      if (ultimo+1 < vlista.length) {\n",
    "         ultimo++;\n",
    "         vlista[ultimo] = item;\n",
    "      }\n",
    "   }\n",
    "   \n",
    "   public String toString() {\n",
    "      String str = \"\";\n",
    "      for (int l = 0; l <= ultimo; l++)\n",
    "         str += vlista[l] + ((l < ultimo) ? \", \" : \"\");\n",
    "      return str;\n",
    "   }\n",
    "}"
   ]
  },
  {
   "cell_type": "code",
   "execution_count": 2,
   "metadata": {},
   "outputs": [
    {
     "name": "stdout",
     "output_type": "stream",
     "text": [
      "Lista: 10, 15, 20\n"
     ]
    },
    {
     "data": {
      "text/plain": [
       "null"
      ]
     },
     "execution_count": 2,
     "metadata": {},
     "output_type": "execute_result"
    }
   ],
   "source": [
    "Lista l = new Lista();\n",
    "l.adicionar(10);\n",
    "l.adicionar(15);\n",
    "l.adicionar(20);\n",
    "System.out.println(\"Lista: \" + l);"
   ]
  },
  {
   "cell_type": "markdown",
   "metadata": {},
   "source": [
    "## Herança em Java\n",
    "\n",
    "* Classes `ListaEstatistica` e `ListaUtil` herdeiras de `Lista`\n",
    "* Estendem a classe Lista acrescentando métodos\n",
    "\n",
    "Para se estabelecer que uma classe é herdeira de outra, após o nome da classe coloca-se a cláusula extends e o nome da superclasse:"
   ]
  },
  {
   "cell_type": "code",
   "execution_count": 3,
   "metadata": {},
   "outputs": [
    {
     "data": {
      "text/plain": [
       "com.twosigma.beaker.javash.bkrb300d942.ListaEstatistica"
      ]
     },
     "execution_count": 3,
     "metadata": {},
     "output_type": "execute_result"
    }
   ],
   "source": [
    "public class ListaEstatistica extends Lista {\n",
    "\n",
    "   public double soma() {\n",
    "      double s = 0;\n",
    "      for (int l = 0; l <= ultimo; l++)\n",
    "         s += vlista[l];\n",
    "      return s;\n",
    "   }\n",
    "   \n",
    "   public double media() {\n",
    "      return (ultimo >= 0)\n",
    "            ? soma() / (ultimo+1) : 0;\n",
    "   }\n",
    "\n",
    "}"
   ]
  },
  {
   "cell_type": "code",
   "execution_count": 4,
   "metadata": {},
   "outputs": [
    {
     "data": {
      "text/plain": [
       "com.twosigma.beaker.javash.bkrb300d942.ListaUtil"
      ]
     },
     "execution_count": 4,
     "metadata": {},
     "output_type": "execute_result"
    }
   ],
   "source": [
    "public class ListaUtil extends Lista {\n",
    "\n",
    "   public void ordena() {\n",
    "      int lastSwap = ultimo;\n",
    "      while (lastSwap > 0) {\n",
    "         int swap = 0;\n",
    "         for (int v = 0; v < lastSwap; v++)\n",
    "            if (vlista[v] > vlista[v+1]) {\n",
    "               int aux = vlista[v];\n",
    "               vlista[v] = vlista[v+1];\n",
    "               vlista[v+1] = aux;\n",
    "               swap = v;\n",
    "            }\n",
    "          lastSwap = swap;\n",
    "      }\n",
    "   }\n",
    "\n",
    "}"
   ]
  },
  {
   "cell_type": "markdown",
   "metadata": {},
   "source": [
    "## Usando as classes herdeiras\n",
    "\n",
    "* Métodos herdados são ativados na superclasse de forma transparente, como se pertencessem à subclasse"
   ]
  },
  {
   "cell_type": "code",
   "execution_count": 5,
   "metadata": {},
   "outputs": [
    {
     "name": "stdout",
     "output_type": "stream",
     "text": [
      "Soma: 85.0\n",
      "Media: 17.0\n",
      "Ordenado: 5, 10, 15, 20, 35\n"
     ]
    },
    {
     "data": {
      "text/plain": [
       "null"
      ]
     },
     "execution_count": 5,
     "metadata": {},
     "output_type": "execute_result"
    }
   ],
   "source": [
    "ListaEstatistica le = new ListaEstatistica();\n",
    "le.adicionar(10);\n",
    "le.adicionar(20);\n",
    "le.adicionar(5);\n",
    "le.adicionar(35);\n",
    "le.adicionar(15);\n",
    "System.out.println(\"Soma: \" + le.soma());\n",
    "System.out.println(\"Media: \" + le.media());\n",
    "\n",
    "ListaUtil lu = new ListaUtil();\n",
    "lu.adicionar(10);\n",
    "lu.adicionar(20);\n",
    "lu.adicionar(5);\n",
    "lu.adicionar(35);\n",
    "lu.adicionar(15);\n",
    "lu.ordena();\n",
    "System.out.println(\"Ordenado: \" + lu);"
   ]
  },
  {
   "cell_type": "markdown",
   "metadata": {},
   "source": [
    "## Acrescentando Atributos\n",
    "\n",
    "* Classe ListaUtil acrescentando um atributo (duplicatas)\n",
    "* Também foram acrescentados os respectivos métodos get e set para transformá-lo em uma propriedade "
   ]
  },
  {
   "cell_type": "code",
   "execution_count": 6,
   "metadata": {},
   "outputs": [
    {
     "data": {
      "text/plain": [
       "com.twosigma.beaker.javash.bkrb300d942.ListaUtil"
      ]
     },
     "execution_count": 6,
     "metadata": {},
     "output_type": "execute_result"
    }
   ],
   "source": [
    "public class ListaUtil extends Lista {\n",
    "   private boolean duplicatas = true;\n",
    "   \n",
    "   public boolean getDuplicatas() {\n",
    "      return duplicatas;\n",
    "   }\n",
    "   \n",
    "   public void setDuplicatas(boolean duplicatas) {\n",
    "      this.duplicatas = duplicatas;\n",
    "   }\n",
    "\n",
    "   public void ordena() {\n",
    "      int lastSwap = ultimo;\n",
    "      while (lastSwap > 0) {\n",
    "         int swap = 0;\n",
    "         for (int v = 0; v < lastSwap; v++)\n",
    "            if (vlista[v] > vlista[v+1]) {\n",
    "               int aux = vlista[v];\n",
    "               vlista[v] = vlista[v+1];\n",
    "               vlista[v+1] = aux;\n",
    "               swap = v;\n",
    "            }\n",
    "          lastSwap = swap;\n",
    "      }\n",
    "      \n",
    "      if (!duplicatas) {\n",
    "         int s = 0;\n",
    "         for (int v = 0; v <= ultimo; v++)\n",
    "            if (vlista[s] != vlista[v]) {\n",
    "               s++;\n",
    "               vlista[s] = vlista[v];\n",
    "            }\n",
    "         ultimo = s;\n",
    "      }\n",
    "   }\n",
    "\n",
    "}"
   ]
  },
  {
   "cell_type": "markdown",
   "metadata": {},
   "source": [
    "## Ordenando sem duplicatas"
   ]
  },
  {
   "cell_type": "code",
   "execution_count": 7,
   "metadata": {},
   "outputs": [
    {
     "name": "stdout",
     "output_type": "stream",
     "text": [
      "Ordenado: 5, 10, 15, 20, 35\n"
     ]
    },
    {
     "data": {
      "text/plain": [
       "null"
      ]
     },
     "execution_count": 7,
     "metadata": {},
     "output_type": "execute_result"
    }
   ],
   "source": [
    "ListaUtil lu = new ListaUtil();\n",
    "lu.adicionar(10);\n",
    "lu.adicionar(5);\n",
    "lu.adicionar(20);\n",
    "lu.adicionar(5);\n",
    "lu.adicionar(35);\n",
    "lu.adicionar(35);\n",
    "lu.adicionar(15);\n",
    "lu.adicionar(10);\n",
    "lu.adicionar(35);\n",
    "lu.setDuplicatas(false);\n",
    "lu.ordena();\n",
    "System.out.println(\"Ordenado: \" + lu);"
   ]
  },
  {
   "cell_type": "markdown",
   "metadata": {},
   "source": [
    "## Sobrescrevendo Métodos\n",
    "\n",
    "* Método na subclasse sobrescreve o da superclasse quando tem a mesma assinatura\n",
    "  * para um objeto da subclasse, o método da subclasse (que sobrescreve) será chamado no lugar daquele da superclasse\n",
    "  * não afeta objetos declarados na superclasse\n",
    "* Assinatura do método\n",
    "  * composta do nome do método mais os tipos dos argumentos, considerando a ordem"
   ]
  },
  {
   "cell_type": "markdown",
   "metadata": {},
   "source": [
    "## Outra abordagem para a Ordenação sem Duplicatas\n",
    "\n",
    "No exemplo a seguir, teremos duas classes. A classe `ListaUtil` ordena os itens mas mantém das duplicatas; a classe `ListaUtilNoDup` sobrescreve o método `ordena`, que ordena removendo as duplicatas."
   ]
  },
  {
   "cell_type": "code",
   "execution_count": 8,
   "metadata": {},
   "outputs": [
    {
     "data": {
      "text/plain": [
       "com.twosigma.beaker.javash.bkrb300d942.ListaUtil"
      ]
     },
     "execution_count": 8,
     "metadata": {},
     "output_type": "execute_result"
    }
   ],
   "source": [
    "public class ListaUtil extends Lista {\n",
    "\n",
    "   public void ordena() {\n",
    "      int lastSwap = ultimo;\n",
    "      while (lastSwap > 0) {\n",
    "         int swap = 0;\n",
    "         for (int v = 0; v < lastSwap; v++)\n",
    "            if (vlista[v] > vlista[v+1]) {\n",
    "               int aux = vlista[v];\n",
    "               vlista[v] = vlista[v+1];\n",
    "               vlista[v+1] = aux;\n",
    "               swap = v;\n",
    "            }\n",
    "          lastSwap = swap;\n",
    "      }\n",
    "   }\n",
    "\n",
    "}"
   ]
  },
  {
   "cell_type": "code",
   "execution_count": 9,
   "metadata": {},
   "outputs": [
    {
     "data": {
      "text/plain": [
       "com.twosigma.beaker.javash.bkrb300d942.ListaUtilNoDup"
      ]
     },
     "execution_count": 9,
     "metadata": {},
     "output_type": "execute_result"
    }
   ],
   "source": [
    "public class ListaUtilNoDup extends ListaUtil {\n",
    "   public void ordena() {\n",
    "      int lastSwap = ultimo;\n",
    "      while (lastSwap > 0) {\n",
    "         int swap = 0;\n",
    "         for (int v = 0; v < lastSwap; v++)\n",
    "            if (vlista[v] > vlista[v+1]) {\n",
    "               int aux = vlista[v];\n",
    "               vlista[v] = vlista[v+1];\n",
    "               vlista[v+1] = aux;\n",
    "               swap = v;\n",
    "            }\n",
    "          lastSwap = swap;\n",
    "      }\n",
    "      \n",
    "     int s = 0;\n",
    "     for (int v = 0; v <= ultimo; v++)\n",
    "        if (vlista[s] != vlista[v]) {\n",
    "           s++;\n",
    "           vlista[s] = vlista[v];\n",
    "        }\n",
    "     ultimo = s;\n",
    "   }\n",
    "\n",
    "}"
   ]
  },
  {
   "cell_type": "code",
   "execution_count": 10,
   "metadata": {},
   "outputs": [
    {
     "name": "stdout",
     "output_type": "stream",
     "text": [
      "Ordenado: 5, 5, 10, 10, 15, 20, 35, 35, 35\n",
      "Ordenado: 5, 10, 15, 20, 35\n"
     ]
    },
    {
     "data": {
      "text/plain": [
       "null"
      ]
     },
     "execution_count": 10,
     "metadata": {},
     "output_type": "execute_result"
    }
   ],
   "source": [
    "ListaUtil lu = new ListaUtil();\n",
    "lu.adicionar(10);\n",
    "lu.adicionar(5);\n",
    "lu.adicionar(20);\n",
    "lu.adicionar(5);\n",
    "lu.adicionar(35);\n",
    "lu.adicionar(35);\n",
    "lu.adicionar(15);\n",
    "lu.adicionar(10);\n",
    "lu.adicionar(35);\n",
    "lu.ordena();\n",
    "System.out.println(\"Ordenado: \" + lu);\n",
    "ListaUtilNoDup lun = new ListaUtilNoDup();\n",
    "lun.adicionar(10);\n",
    "lun.adicionar(5);\n",
    "lun.adicionar(20);\n",
    "lun.adicionar(5);\n",
    "lun.adicionar(35);\n",
    "lun.adicionar(35);\n",
    "lun.adicionar(15);\n",
    "lun.adicionar(10);\n",
    "lun.adicionar(35);\n",
    "lun.ordena();\n",
    "System.out.println(\"Ordenado: \" + lun);"
   ]
  },
  {
   "cell_type": "markdown",
   "metadata": {},
   "source": [
    "## Tarefa\n",
    "\n",
    "  \n",
    "## Sobrescrevendo Métodos de `Alguem`\n",
    "\n",
    "* Considere a hierarquia de classes\n",
    "  * `Melissa` e `Alcebiades` sobrescrevem o método `getNome` de `Alguem`"
   ]
  },
  {
   "cell_type": "code",
   "execution_count": 11,
   "metadata": {},
   "outputs": [
    {
     "data": {
      "text/plain": [
       "com.twosigma.beaker.javash.bkrb300d942.Alguem"
      ]
     },
     "execution_count": 11,
     "metadata": {},
     "output_type": "execute_result"
    }
   ],
   "source": [
    "public class Alguem {\n",
    "    public String getNome() {\n",
    "       return \"alguem (genericamente)\";\n",
    "    }\n",
    "}"
   ]
  },
  {
   "cell_type": "code",
   "execution_count": 12,
   "metadata": {},
   "outputs": [
    {
     "data": {
      "text/plain": [
       "com.twosigma.beaker.javash.bkrb300d942.Alcebiades"
      ]
     },
     "execution_count": 12,
     "metadata": {},
     "output_type": "execute_result"
    }
   ],
   "source": [
    "public class Alcebiades extends Alguem {\n",
    "    public String getNome() {\n",
    "       return \"Alcebiades\";\n",
    "    }\n",
    "}"
   ]
  },
  {
   "cell_type": "code",
   "execution_count": 13,
   "metadata": {},
   "outputs": [
    {
     "data": {
      "text/plain": [
       "com.twosigma.beaker.javash.bkrb300d942.Melissa"
      ]
     },
     "execution_count": 13,
     "metadata": {},
     "output_type": "execute_result"
    }
   ],
   "source": [
    "public class Melissa extends Alguem {\n",
    "    public String getNome() {\n",
    "       return \"Melissa\";\n",
    "    }\n",
    "}"
   ]
  },
  {
   "cell_type": "markdown",
   "metadata": {},
   "source": [
    "Veja o código a seguir e descreva o que ele deve fornecer como saída (faça isso sem executá-lo):\n",
    "~~~java\n",
    "Alguem a = new Alguem();\n",
    "Alcebiades b = new Alcebiades();\n",
    "Melissa c = new Melissa();\n",
    "  \n",
    "System.out.println(\"Nome a: \" + a.getNome());\n",
    "System.out.println(\"Nome b: \" + b.getNome());\n",
    "System.out.println(\"Nome c: \" + c.getNome());\n",
    "~~~"
   ]
  },
  {
   "cell_type": "code",
   "execution_count": null,
   "metadata": {},
   "outputs": [],
   "source": []
  },
  {
   "cell_type": "markdown",
   "metadata": {},
   "source": [
    "# Referência à Superclasse: `super`\n",
    "\n",
    "* Referência explícita à superclasse\n",
    "* Só é necessária quando há sobrescrita de método\n",
    "* Uso comum: método da classe herdeira sobrescreve um método da superclasse mas quer estendê-lo\n",
    "* A cláusula super representa a superclasse:\n",
    "~~~java\n",
    "super.metodo(…)\n",
    "~~~\n",
    "\n",
    "## Estendendo Métodos\n",
    "\n",
    "* O método `ordena` de `ListaUtilNoDup` pode aproveitar a parte de ordenação do método superior e apenas acrescentar a rotina de remoção de duplicatas\n",
    "* Chamada de método da superclasse com a cláusula `super`\n",
    "  * Se não fosse usado o `super` faria uma chamada recursiva"
   ]
  },
  {
   "cell_type": "code",
   "execution_count": 14,
   "metadata": {},
   "outputs": [
    {
     "data": {
      "text/plain": [
       "com.twosigma.beaker.javash.bkrb300d942.ListaUtilNoDup"
      ]
     },
     "execution_count": 14,
     "metadata": {},
     "output_type": "execute_result"
    }
   ],
   "source": [
    "public class ListaUtilNoDup extends ListaUtil {\n",
    "   public void ordena() {\n",
    "     super.ordena();\n",
    "      \n",
    "     int s = 0;\n",
    "     for (int v = 0; v <= ultimo; v++)\n",
    "        if (vlista[s] != vlista[v]) {\n",
    "           s++;\n",
    "           vlista[s] = vlista[v];\n",
    "        }\n",
    "     ultimo = s;\n",
    "   }\n",
    "}"
   ]
  },
  {
   "cell_type": "code",
   "execution_count": 15,
   "metadata": {},
   "outputs": [
    {
     "name": "stdout",
     "output_type": "stream",
     "text": [
      "Ordenado: 5, 5, 10, 10, 15, 20, 35, 35, 35\n",
      "Ordenado: 5, 10, 15, 20, 35\n"
     ]
    },
    {
     "data": {
      "text/plain": [
       "null"
      ]
     },
     "execution_count": 15,
     "metadata": {},
     "output_type": "execute_result"
    }
   ],
   "source": [
    "ListaUtil lu = new ListaUtil();\n",
    "lu.adicionar(10);\n",
    "lu.adicionar(5);\n",
    "lu.adicionar(20);\n",
    "lu.adicionar(5);\n",
    "lu.adicionar(35);\n",
    "lu.adicionar(35);\n",
    "lu.adicionar(15);\n",
    "lu.adicionar(10);\n",
    "lu.adicionar(35);\n",
    "lu.ordena();\n",
    "System.out.println(\"Ordenado: \" + lu);\n",
    "ListaUtil lun = new ListaUtilNoDup();\n",
    "lun.adicionar(10);\n",
    "lun.adicionar(5);\n",
    "lun.adicionar(20);\n",
    "lun.adicionar(5);\n",
    "lun.adicionar(35);\n",
    "lun.adicionar(35);\n",
    "lun.adicionar(15);\n",
    "lun.adicionar(10);\n",
    "lun.adicionar(35);\n",
    "lun.ordena();\n",
    "System.out.println(\"Ordenado: \" + lun);"
   ]
  },
  {
   "cell_type": "markdown",
   "metadata": {},
   "source": [
    "## Sobrescrevendo o Método `adiciona()`\n",
    "\n",
    "* Método `adicionar` de `ListaEstatica` sobrescreve o mesmo método de `Lista`\n",
    "* Objetivo: estender o método `adicionar` para guardar maior valor em cada adição"
   ]
  },
  {
   "cell_type": "code",
   "execution_count": 16,
   "metadata": {},
   "outputs": [
    {
     "data": {
      "text/plain": [
       "com.twosigma.beaker.javash.bkrb300d942.ListaEstatistica"
      ]
     },
     "execution_count": 16,
     "metadata": {},
     "output_type": "execute_result"
    }
   ],
   "source": [
    "public class ListaEstatistica extends Lista {\n",
    "   private int maiorValor = 0;\n",
    "\n",
    "   public void adicionar(int item) {\n",
    "      super.adicionar(item);\n",
    "      maiorValor = (item > maiorValor) ? item : maiorValor;\n",
    "   }\n",
    "   \n",
    "   public double soma() {\n",
    "      double s = 0;\n",
    "      for (int l = 0; l <= ultimo; l++)\n",
    "         s += vlista[l];\n",
    "      return s;\n",
    "   }\n",
    "   \n",
    "   public double media() {\n",
    "      return (ultimo >= 0)\n",
    "            ? soma() / (ultimo+1) : 0;\n",
    "   }\n",
    "\n",
    "   public int maior() {\n",
    "      return maiorValor;\n",
    "   }\n",
    "}"
   ]
  },
  {
   "cell_type": "markdown",
   "metadata": {},
   "source": [
    "## Mostrando o maior valor"
   ]
  },
  {
   "cell_type": "code",
   "execution_count": 17,
   "metadata": {},
   "outputs": [
    {
     "name": "stdout",
     "output_type": "stream",
     "text": [
      "Soma: 85.0\n",
      "Media: 17.0\n",
      "Maior: 35\n"
     ]
    },
    {
     "data": {
      "text/plain": [
       "null"
      ]
     },
     "execution_count": 17,
     "metadata": {},
     "output_type": "execute_result"
    }
   ],
   "source": [
    "ListaEstatistica le = new ListaEstatistica();\n",
    "le.adicionar(10);\n",
    "le.adicionar(20);\n",
    "le.adicionar(5);\n",
    "le.adicionar(35);\n",
    "le.adicionar(15);\n",
    "System.out.println(\"Soma: \" + le.soma());\n",
    "System.out.println(\"Media: \" + le.media());\n",
    "System.out.println(\"Maior: \" + le.maior());"
   ]
  },
  {
   "cell_type": "markdown",
   "metadata": {},
   "source": [
    "# Construtor da Superclasse - `super`\n",
    "\n",
    "* Chamando o construtor da superclasse:\n",
    "  * apenas a cláusula super na forma de método, com parâmetros (se houver):\n",
    "~~~java\n",
    "super(…)\n",
    "~~~\n",
    "* Só pode ser chamado do construtor da classe\n",
    "* Se for chamado, tem que ser a primeira instrução do construtor\n",
    "\n",
    "## Acrescentando um construtor com tamanho para `Lista`"
   ]
  },
  {
   "cell_type": "code",
   "execution_count": 18,
   "metadata": {},
   "outputs": [
    {
     "data": {
      "text/plain": [
       "com.twosigma.beaker.javash.bkrb300d942.Lista"
      ]
     },
     "execution_count": 18,
     "metadata": {},
     "output_type": "execute_result"
    }
   ],
   "source": [
    "public class Lista {\n",
    "   protected int vlista[];\n",
    "   protected int ultimo = -1;\n",
    "   \n",
    "   public Lista(int tamanho) {\n",
    "      vlista = new int[tamanho];\n",
    "   }\n",
    "   \n",
    "   public void adicionar(int item) {\n",
    "      if (ultimo+1 < vlista.length) {\n",
    "         ultimo++;\n",
    "         vlista[ultimo] = item;\n",
    "      }\n",
    "   }\n",
    "   \n",
    "   public String toString() {\n",
    "      String str = \"\";\n",
    "      for (int l = 0; l <= ultimo; l++)\n",
    "         str += vlista[l] + ((l < ultimo) ? \", \" : \"\");\n",
    "      return str;\n",
    "   }\n",
    "}"
   ]
  },
  {
   "cell_type": "markdown",
   "metadata": {},
   "source": [
    "## Estendendo o construtor\n",
    "\n",
    "* `ListaUtil` estende o construtor acrescentando o controle de duplicatas"
   ]
  },
  {
   "cell_type": "code",
   "execution_count": 19,
   "metadata": {},
   "outputs": [
    {
     "data": {
      "text/plain": [
       "com.twosigma.beaker.javash.bkrb300d942.ListaUtil"
      ]
     },
     "execution_count": 19,
     "metadata": {},
     "output_type": "execute_result"
    }
   ],
   "source": [
    "public class ListaUtil extends Lista {\n",
    "   private boolean duplicatas = true;\n",
    "   \n",
    "   public ListaUtil(int tamanho, boolean duplicatas) {\n",
    "      super(tamanho);\n",
    "      this.duplicatas = duplicatas;\n",
    "   }\n",
    "   \n",
    "   public boolean getDuplicatas() {\n",
    "      return duplicatas;\n",
    "   }\n",
    "   \n",
    "   public void setDuplicatas(boolean duplicatas) {\n",
    "      this.duplicatas = duplicatas;\n",
    "   }\n",
    "\n",
    "   public void ordena() {\n",
    "      int lastSwap = ultimo;\n",
    "      while (lastSwap > 0) {\n",
    "         int swap = 0;\n",
    "         for (int v = 0; v < lastSwap; v++)\n",
    "            if (vlista[v] > vlista[v+1]) {\n",
    "               int aux = vlista[v];\n",
    "               vlista[v] = vlista[v+1];\n",
    "               vlista[v+1] = aux;\n",
    "               swap = v;\n",
    "            }\n",
    "          lastSwap = swap;\n",
    "      }\n",
    "      \n",
    "      if (!duplicatas) {\n",
    "         int s = 0;\n",
    "         for (int v = 0; v <= ultimo; v++)\n",
    "            if (vlista[s] != vlista[v]) {\n",
    "               s++;\n",
    "               vlista[s] = vlista[v];\n",
    "            }\n",
    "         ultimo = s;\n",
    "      }\n",
    "   }\n",
    "\n",
    "}"
   ]
  },
  {
   "cell_type": "markdown",
   "metadata": {},
   "source": [
    "## Construtor sem argumentos implícito e Herdeiros\n",
    "\n",
    "* O construtor sem argumentos é implícito (não precisa ser declarado)\n",
    "* Quando uma classe declara somente construtor com argumentos:\n",
    "  * o construtor sem argumentos deixa de existir\n",
    "  * subclasses deixam de ter construtor implícito e precisam declará-lo\n",
    "  \n",
    "### Ajustando classe `ListaEstatistica`\n",
    "\n",
    "* `ListaEstatistica` é obrigada a declarar construtor explícito\n",
    "* Repassa chamada para superclasse"
   ]
  },
  {
   "cell_type": "code",
   "execution_count": 20,
   "metadata": {},
   "outputs": [
    {
     "data": {
      "text/plain": [
       "com.twosigma.beaker.javash.bkrb300d942.ListaEstatistica"
      ]
     },
     "execution_count": 20,
     "metadata": {},
     "output_type": "execute_result"
    }
   ],
   "source": [
    "public class ListaEstatistica extends Lista {\n",
    "   private int maiorValor = 0;\n",
    "   \n",
    "   ListaEstatistica(int tamanho) {\n",
    "      super(tamanho);\n",
    "   }\n",
    "\n",
    "   public void adicionar(int item) {\n",
    "      super.adicionar(item);\n",
    "      maiorValor = (item > maiorValor) ? item : maiorValor;\n",
    "   }\n",
    "   \n",
    "   public double soma() {\n",
    "      double s = 0;\n",
    "      for (int l = 0; l <= ultimo; l++)\n",
    "         s += vlista[l];\n",
    "      return s;\n",
    "   }\n",
    "   \n",
    "   public double media() {\n",
    "      return (ultimo >= 0)\n",
    "            ? soma() / (ultimo+1) : 0;\n",
    "   }\n",
    "\n",
    "   public int maior() {\n",
    "      return maiorValor;\n",
    "   }\n",
    "}"
   ]
  },
  {
   "cell_type": "markdown",
   "metadata": {},
   "source": [
    "## Usando novos construtores"
   ]
  },
  {
   "cell_type": "code",
   "execution_count": 21,
   "metadata": {},
   "outputs": [
    {
     "name": "stdout",
     "output_type": "stream",
     "text": [
      "Ordenado: 5, 10, 15, 20, 35\n",
      "Soma: 85.0\n",
      "Media: 17.0\n",
      "Maior: 35\n"
     ]
    },
    {
     "data": {
      "text/plain": [
       "null"
      ]
     },
     "execution_count": 21,
     "metadata": {},
     "output_type": "execute_result"
    }
   ],
   "source": [
    "ListaUtil lu = new ListaUtil(10, false);\n",
    "lu.adicionar(10);\n",
    "lu.adicionar(5);\n",
    "lu.adicionar(20);\n",
    "lu.adicionar(5);\n",
    "lu.adicionar(35);\n",
    "lu.adicionar(35);\n",
    "lu.adicionar(15);\n",
    "lu.adicionar(10);\n",
    "lu.adicionar(35);\n",
    "lu.ordena();\n",
    "System.out.println(\"Ordenado: \" + lu);\n",
    "\n",
    "ListaEstatistica le = new ListaEstatistica(5);\n",
    "le.adicionar(10);\n",
    "le.adicionar(20);\n",
    "le.adicionar(5);\n",
    "le.adicionar(35);\n",
    "le.adicionar(15);\n",
    "System.out.println(\"Soma: \" + le.soma());\n",
    "System.out.println(\"Media: \" + le.media());\n",
    "System.out.println(\"Maior: \" + le.maior());"
   ]
  },
  {
   "cell_type": "markdown",
   "metadata": {},
   "source": [
    "## Tarefa\n",
    "\n",
    "Escreva uma classe `ListaOpera` herdeira de `ListaEstatistica` que acrescente um método `multiplica()` para multiplicar todos os itens da lista por um valor.\n",
    "\n",
    "No construtor, deve ser informado um parâmetro `fator` que indicará o fator de multiplicação. Este fator é guardado em atributo e será usado quando método `multiplica()` que não recebe parâmetros."
   ]
  },
  {
   "cell_type": "code",
   "execution_count": null,
   "metadata": {},
   "outputs": [],
   "source": []
  }
 ],
 "metadata": {
  "kernelspec": {
   "display_name": "Java",
   "language": "java",
   "name": "java"
  },
  "language_info": {
   "codemirror_mode": "text/x-java",
   "file_extension": ".java",
   "mimetype": "",
   "name": "Java",
   "nbconverter_exporter": "",
   "version": "1.8.0_121"
  }
 },
 "nbformat": 4,
 "nbformat_minor": 4
}
