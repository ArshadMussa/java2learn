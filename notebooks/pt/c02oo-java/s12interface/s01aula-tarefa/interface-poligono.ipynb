{
 "cells": [
  {
   "cell_type": "markdown",
   "metadata": {},
   "source": [
    "# Interfaces\n",
    "\n",
    "As classes incorporam duas funções interligadas:\n",
    "* elas são um mecanismo de reúso de código;\n",
    "* elas estabelecem a \"interface\" dos objetos, ou seja, que atributos e métodos estão disponíveis para serem usados por um cliente externo.\n",
    "\n",
    "Já vimos anteriormente alguns problemas de usar somente a herança como mecanismo de reúso. O mesmo acontece com a interface. Muitas vezes queremos que objetos compartilhem a mesma interface, sem que usem a herança para isso.\n",
    "\n",
    "Por essa razão o Java define o mecanismo chamado `interface`. Ele permite a declaração de um interface que será garantida por um conjunto de classes, sem a necessidade que elas estejam ligadas por herança.\n",
    "\n",
    "Considere as duas classes a seguir que representam formas geométricas. Ambas oferecem métodos para cálculo do perímetro e área, entretanto, não compartilham código.\n",
    "\n",
    "Suponha que se deseja padronizar o acesso às interfaces de ambos objetos resolvendo a chamada de métodos de modo polimórfico. É possível se fazer isso sem herança, como será apresentado no próximo bloco."
   ]
  },
  {
   "cell_type": "code",
   "execution_count": 1,
   "metadata": {},
   "outputs": [
    {
     "data": {
      "text/plain": [
       "com.twosigma.beaker.javash.bkrbf4232e1.Retangulo"
      ]
     },
     "execution_count": 1,
     "metadata": {},
     "output_type": "execute_result"
    }
   ],
   "source": [
    "public class Retangulo {\n",
    "    private int altura;\n",
    "    private int largura;\n",
    "\n",
    "    public Retangulo(int altura, int largura) {\n",
    "        this.altura = altura;\n",
    "        this.largura = largura;\n",
    "    }\n",
    "    \n",
    "    public int getAltura() {\n",
    "        return altura;\n",
    "    }\n",
    "    \n",
    "    public int getLargura() {\n",
    "        return largura;\n",
    "    }\n",
    "    \n",
    "    public float getPerimetro() {\n",
    "        return 2 * (altura + largura);\n",
    "    }\n",
    "    \n",
    "    public float getArea() {\n",
    "        return altura * largura;\n",
    "    }\n",
    "}"
   ]
  },
  {
   "cell_type": "code",
   "execution_count": 2,
   "metadata": {},
   "outputs": [
    {
     "data": {
      "text/plain": [
       "com.twosigma.beaker.javash.bkrbf4232e1.Circulo"
      ]
     },
     "execution_count": 2,
     "metadata": {},
     "output_type": "execute_result"
    }
   ],
   "source": [
    "public class Circulo {\n",
    "    public static float PI = 3.1416f;\n",
    "    \n",
    "    private int raio;\n",
    "    \n",
    "    public Circulo(int raio) {\n",
    "        this.raio = raio;\n",
    "    }\n",
    "    \n",
    "    public int getRaio() {\n",
    "        return raio;\n",
    "    }\n",
    "    \n",
    "    public float getPerimetro() {\n",
    "        return 2 * Circulo.PI * raio;\n",
    "    }\n",
    "    \n",
    "    public float getArea() {\n",
    "        return Circulo.PI * raio * raio;\n",
    "    }\n",
    "}"
   ]
  },
  {
   "cell_type": "code",
   "execution_count": 3,
   "metadata": {},
   "outputs": [
    {
     "name": "stdout",
     "output_type": "stream",
     "text": [
      "Perímetro do retângulo: 32.0\n",
      "Área do retângulo: 60.0\n",
      "Perímetro do círculo: 50.2656\n",
      "Área do círculo: 201.0624\n"
     ]
    },
    {
     "data": {
      "text/plain": [
       "null"
      ]
     },
     "execution_count": 3,
     "metadata": {},
     "output_type": "execute_result"
    }
   ],
   "source": [
    "Retangulo rt = new Retangulo(6, 10);\n",
    "System.out.println(\"Perímetro do retângulo: \" + rt.getPerimetro());\n",
    "System.out.println(\"Área do retângulo: \" + rt.getArea());\n",
    "\n",
    "Circulo cc = new Circulo(8);\n",
    "System.out.println(\"Perímetro do círculo: \" + cc.getPerimetro());\n",
    "System.out.println(\"Área do círculo: \" + cc.getArea());"
   ]
  },
  {
   "cell_type": "markdown",
   "metadata": {},
   "source": [
    "## Declarando e Implementando uma `interface`\n",
    "\n",
    "Uma `interface` em Java declara um conjunto de métodos que deverão ser implementados por todas as classes que implementa a interface. A seguinte declaração da `interface Geometria`:\n",
    "~~~java\n",
    "public interface Geometria {\n",
    "    public float getPerimetro();\n",
    "    public float getArea();\n",
    "}\n",
    "~~~\n",
    "\n",
    "Indica que todos as classes que a implementarem precisarão implementar `getPerimetro()` e `getArea()` com as assinaturas indicadas.\n",
    "\n",
    "Qualquer classe pode indicar que implementará a `interface Geometria` com a cláusula `implements`. Uma vantagem das interfaces sobre a herança (quando a intenção é padronizar a interface) é que uma classe pode implementar várias interfaces.\n",
    "\n",
    "A seguinte declaração:\n",
    "~~~java\n",
    "Geometria g;\n",
    "~~~\n",
    "\n",
    "Define uma variável `g` que é capaz de manter uma referência para qualquer objeto de classe que implementa a `interface Geometria`. Por essa razão são permitidas as instanciações:\n",
    "~~~java\n",
    "Geometria g = new Retangulo(6, 10);\n",
    "g = new Circulo(8);\n",
    "~~~\n",
    "\n",
    "Pode-se chamar qualquer método declarado da `interface Geometria` e a execução é polimórfica, ou seja, depende da instância."
   ]
  },
  {
   "cell_type": "code",
   "execution_count": 4,
   "metadata": {},
   "outputs": [
    {
     "data": {
      "text/plain": [
       "com.twosigma.beaker.javash.bkrbf4232e1.Geometria"
      ]
     },
     "execution_count": 4,
     "metadata": {},
     "output_type": "execute_result"
    }
   ],
   "source": [
    "public interface Geometria {\n",
    "    public float getPerimetro();\n",
    "    public float getArea();\n",
    "}"
   ]
  },
  {
   "cell_type": "code",
   "execution_count": 5,
   "metadata": {},
   "outputs": [
    {
     "data": {
      "text/plain": [
       "com.twosigma.beaker.javash.bkrbf4232e1.Retangulo"
      ]
     },
     "execution_count": 5,
     "metadata": {},
     "output_type": "execute_result"
    }
   ],
   "source": [
    "public class Retangulo implements Geometria {\n",
    "    private int altura;\n",
    "    private int largura;\n",
    "\n",
    "    public Retangulo(int altura, int largura) {\n",
    "        this.altura = altura;\n",
    "        this.largura = largura;\n",
    "    }\n",
    "    \n",
    "    public int getAltura() {\n",
    "        return altura;\n",
    "    }\n",
    "    \n",
    "    public int getLargura() {\n",
    "        return largura;\n",
    "    }\n",
    "    \n",
    "    public float getPerimetro() {\n",
    "        return 2 * (altura + largura);\n",
    "    }\n",
    "    \n",
    "    public float getArea() {\n",
    "        return altura * largura;\n",
    "    }\n",
    "}"
   ]
  },
  {
   "cell_type": "code",
   "execution_count": 6,
   "metadata": {},
   "outputs": [
    {
     "data": {
      "text/plain": [
       "com.twosigma.beaker.javash.bkrbf4232e1.Circulo"
      ]
     },
     "execution_count": 6,
     "metadata": {},
     "output_type": "execute_result"
    }
   ],
   "source": [
    "public class Circulo implements Geometria {\n",
    "    public static float PI = 3.1416f;\n",
    "    \n",
    "    private int raio;\n",
    "    \n",
    "    public Circulo(int raio) {\n",
    "        this.raio = raio;\n",
    "    }\n",
    "    \n",
    "    public int getRaio() {\n",
    "        return raio;\n",
    "    }\n",
    "    \n",
    "    public float getPerimetro() {\n",
    "        return 2 * Circulo.PI * raio;\n",
    "    }\n",
    "    \n",
    "    public float getArea() {\n",
    "        return Circulo.PI * raio * raio;\n",
    "    }\n",
    "}"
   ]
  },
  {
   "cell_type": "code",
   "execution_count": 7,
   "metadata": {},
   "outputs": [
    {
     "name": "stdout",
     "output_type": "stream",
     "text": [
      "Perímetro do retângulo: 32.0\n",
      "Área do retângulo: 60.0\n",
      "Perímetro do círculo: 50.2656\n",
      "Área do círculo: 201.0624\n"
     ]
    },
    {
     "data": {
      "text/plain": [
       "null"
      ]
     },
     "execution_count": 7,
     "metadata": {},
     "output_type": "execute_result"
    }
   ],
   "source": [
    "Geometria g = new Retangulo(6, 10);\n",
    "\n",
    "System.out.println(\"Perímetro do retângulo: \" + g.getPerimetro());\n",
    "System.out.println(\"Área do retângulo: \" + g.getArea());\n",
    "\n",
    "g = new Circulo(8);\n",
    "\n",
    "System.out.println(\"Perímetro do círculo: \" + g.getPerimetro());\n",
    "System.out.println(\"Área do círculo: \" + g.getArea());"
   ]
  },
  {
   "cell_type": "markdown",
   "metadata": {},
   "source": [
    "# Classes Abstratas x Interfaces\n",
    "\n",
    "As classes abstratas e interfaces têm uma sobreposição de funções. Alguns são levados a acreditar que uma interface é uma classe com todos os métodos abstratos.\n",
    "\n",
    "## Tarefa\n",
    "\n",
    "Para entender as diferenças, retome a classe abstrata `ListStr` cuja herdeira você implementou mo notebook de classes abstratas. Se você transformar `ListStr` na interface `IListStr` com o intuito de não usar mais classes abstratas, escreva abaixo como ficaria o código da interface e o código modificado das classes. Escreva uma sequência de instruções que usem a interface e as respectivas classes."
   ]
  },
  {
   "cell_type": "code",
   "execution_count": null,
   "metadata": {},
   "outputs": [],
   "source": []
  },
  {
   "cell_type": "markdown",
   "metadata": {},
   "source": [
    "## Discussão\n",
    "\n",
    "### Rotinas genéricas que usam métodos abstratos\n",
    "\n",
    "Por um lado, você notará que não é possível se implementar nenhum método na interface, o que impede de criar abordagem de métodos que usam outros métodos potenciais abstratos, como é o caso do `list()`. Isso é uma vantagem das classes abstratas que você terá que simular de outro modo.\n",
    "\n",
    "### Múltiplas interfaces\n",
    "\n",
    "Por outro lado, uma classe pode ter inúmeras interfaces mas só pode ser herdeira de uma classe abstrata, o que limita o poder dessas classes de agir como padronizador de interfaces."
   ]
  },
  {
   "cell_type": "markdown",
   "metadata": {},
   "source": [
    "# Empréstimo Simples e Composto\n",
    "\n",
    "## Tarefa\n",
    "\n",
    "Dadas as classes abaixo que representam um empréstimo simples (todas as parcelas iguais com juros fixo) e um empréstimo composto (visto anteriormente), construa uma interface que generalize os tipos diferentes de empréstimo."
   ]
  },
  {
   "cell_type": "code",
   "execution_count": 8,
   "metadata": {},
   "outputs": [
    {
     "data": {
      "text/plain": [
       "com.twosigma.beaker.javash.bkrbf4232e1.EmprestimoSimples"
      ]
     },
     "execution_count": 8,
     "metadata": {},
     "output_type": "execute_result"
    }
   ],
   "source": [
    "public class EmprestimoSimples {\n",
    "   float s;\n",
    "   int   n;\n",
    "   float j;\n",
    "   int   corrente;\n",
    "   float p;\n",
    "\n",
    "   EmprestimoSimples(float s, int n, float j) {\n",
    "      this.s = s;\n",
    "      this.n = n;\n",
    "      this.j = j;\n",
    "      corrente = 0;\n",
    "      this.p = s;\n",
    "   }\n",
    "\n",
    "   float proximaParcela() {\n",
    "      corrente++;\n",
    "      return (corrente <= n) ? p + (p * (j/100)) : 0;\n",
    "   }\n",
    "}"
   ]
  },
  {
   "cell_type": "code",
   "execution_count": 9,
   "metadata": {},
   "outputs": [
    {
     "data": {
      "text/plain": [
       "com.twosigma.beaker.javash.bkrbf4232e1.EmprestimoComposto"
      ]
     },
     "execution_count": 9,
     "metadata": {},
     "output_type": "execute_result"
    }
   ],
   "source": [
    "public class EmprestimoComposto {\n",
    "   float s;\n",
    "   int   n;\n",
    "   float j;\n",
    "   int   corrente;\n",
    "   float p;\n",
    "\n",
    "   EmprestimoComposto(float s, int n, float j) {\n",
    "      this.s = s;\n",
    "      this.n = n;\n",
    "      this.j = j;\n",
    "      corrente = 1;\n",
    "      this.p = s;\n",
    "   }\n",
    "\n",
    "   float proximaParcela() {\n",
    "      float retorno = p;\n",
    "      corrente++;\n",
    "      if (corrente <= n)\n",
    "         p = p + (p * (j/100));\n",
    "      else\n",
    "         p = 0;\n",
    "      return retorno;\n",
    "   }\n",
    "}"
   ]
  },
  {
   "cell_type": "code",
   "execution_count": 10,
   "metadata": {},
   "outputs": [
    {
     "name": "stdout",
     "output_type": "stream",
     "text": [
      "Emprestimo simples: parcela 1 eh 202.0\n",
      "Emprestimo composto: parcela 1 eh 200.0\n",
      "Emprestimo simples: parcela 2 eh 202.0\n",
      "Emprestimo composto: parcela 2 eh 202.0\n",
      "Emprestimo simples: parcela 3 eh 202.0\n",
      "Emprestimo composto: parcela 3 eh 204.02\n",
      "Emprestimo simples: parcela 4 eh 202.0\n",
      "Emprestimo composto: parcela 4 eh 206.06021\n",
      "Emprestimo simples: parcela 5 eh 202.0\n",
      "Emprestimo composto: parcela 5 eh 208.12082\n"
     ]
    },
    {
     "data": {
      "text/plain": [
       "null"
      ]
     },
     "execution_count": 10,
     "metadata": {},
     "output_type": "execute_result"
    }
   ],
   "source": [
    "EmprestimoSimples empS = new EmprestimoSimples(200, 5, 1);\n",
    "EmprestimoComposto empC = new EmprestimoComposto(200, 5, 1);\n",
    "\n",
    "int i = 1;\n",
    "float ps = empS.proximaParcela();\n",
    "float pc = empC.proximaParcela();\n",
    "while (ps > 0 || pc > 0) {\n",
    "   if (ps > 0)\n",
    "      System.out.println(\"Emprestimo simples: parcela \" + i + \" eh \" + ps);\n",
    "   if (pc > 0)\n",
    "      System.out.println(\"Emprestimo composto: parcela \" + i + \" eh \" + pc);\n",
    "   ps = empS.proximaParcela();\n",
    "   pc = empC.proximaParcela();\n",
    "   i++;\n",
    "}"
   ]
  },
  {
   "cell_type": "markdown",
   "metadata": {},
   "source": [
    "# Recebendo `Interface` como Parâmetro\n",
    "\n",
    "Considere o novo cenário a seguir em que é definida uma `interface` para as classes `Retangulo` e `TrianguloRetangulo` utilizadas no notebook sobre classes abstratas. Neste caso, não há mecanismo de herança envolvida.\n",
    "\n",
    "O método `sameProportions` recebe um objeto que implementa a interface `Retangular`, ou seja, pode se comparar com qualquer objeto que implementa essa interface:\n",
    "~~~java\n",
    "public boolean sameProportions(Retangular toCompare)\n",
    "~~~\n",
    "\n",
    "A classe `Retangulo` implementa duas interfaces:\n",
    "~~~java\n",
    "public class Retangulo implements Geometria, Retangular\n",
    "~~~"
   ]
  },
  {
   "cell_type": "code",
   "execution_count": 11,
   "metadata": {},
   "outputs": [
    {
     "data": {
      "text/plain": [
       "com.twosigma.beaker.javash.bkrbf4232e1.Retangular"
      ]
     },
     "execution_count": 11,
     "metadata": {},
     "output_type": "execute_result"
    }
   ],
   "source": [
    "public interface Retangular {\n",
    "   public int getAltura();\n",
    "   public int getLargura();\n",
    "   public boolean sameProportions(Retangular toCompare);\n",
    "}"
   ]
  },
  {
   "cell_type": "code",
   "execution_count": 12,
   "metadata": {},
   "outputs": [
    {
     "data": {
      "text/plain": [
       "com.twosigma.beaker.javash.bkrbf4232e1.TrianguloRetangulo"
      ]
     },
     "execution_count": 12,
     "metadata": {},
     "output_type": "execute_result"
    }
   ],
   "source": [
    "public class TrianguloRetangulo implements Retangular {\n",
    "   private int altura;\n",
    "   private int largura;\n",
    "   \n",
    "   public TrianguloRetangulo(int altura, int largura) {\n",
    "       this.altura = altura;\n",
    "       this.largura = largura;\n",
    "   }\n",
    "\n",
    "   public int getAltura() {\n",
    "       return altura;\n",
    "   }\n",
    "   \n",
    "   public int getLargura() {\n",
    "       return largura;\n",
    "   }\n",
    "   \n",
    "   public float getArea() {\n",
    "       return getAltura() * getLargura() / 2;\n",
    "   }\n",
    "   \n",
    "   public boolean sameProportions(Retangular toCompare) {\n",
    "      return (largura / altura == toCompare.getLargura() / toCompare.getAltura());\n",
    "   }\n",
    "}"
   ]
  },
  {
   "cell_type": "code",
   "execution_count": 13,
   "metadata": {},
   "outputs": [
    {
     "data": {
      "text/plain": [
       "com.twosigma.beaker.javash.bkrbf4232e1.Retangulo"
      ]
     },
     "execution_count": 13,
     "metadata": {},
     "output_type": "execute_result"
    }
   ],
   "source": [
    "public class Retangulo implements Retangular, Geometria {\n",
    "   private int altura;\n",
    "   private int largura;\n",
    "\n",
    "   public Retangulo(int altura, int largura) {\n",
    "       this.altura = altura;\n",
    "       this.largura = largura;\n",
    "   }\n",
    "   \n",
    "   public int getAltura() {\n",
    "       return altura;\n",
    "   }\n",
    "   \n",
    "   public int getLargura() {\n",
    "       return largura;\n",
    "   }\n",
    "   \n",
    "   public float getPerimetro() {\n",
    "       return 2 * (altura + largura);\n",
    "   }\n",
    "   \n",
    "   public float getArea() {\n",
    "       return altura * largura;\n",
    "   }\n",
    "   \n",
    "   public boolean sameProportions(Retangular toCompare) {\n",
    "      return (largura / altura == toCompare.getLargura() / toCompare.getAltura());\n",
    "   }\n",
    "}"
   ]
  },
  {
   "cell_type": "code",
   "execution_count": 14,
   "metadata": {},
   "outputs": [
    {
     "name": "stdout",
     "output_type": "stream",
     "text": [
      "Medidas do triangulo retângulo - altura: 60; largura: 100\n",
      "Medidas do retângulo - altura: 6; largura: 10\n",
      "Ambos têm as mesmas proporções\n"
     ]
    },
    {
     "data": {
      "text/plain": [
       "null"
      ]
     },
     "execution_count": 14,
     "metadata": {},
     "output_type": "execute_result"
    }
   ],
   "source": [
    "Retangular tr = new TrianguloRetangulo(60, 100);\n",
    "Retangular rt = new Retangulo(6, 10);\n",
    "\n",
    "System.out.println(\"Medidas do triangulo retângulo - altura: \" +\n",
    "   tr.getAltura() + \"; largura: \" + tr.getLargura());\n",
    "System.out.println(\"Medidas do retângulo - altura: \" +\n",
    "   rt.getAltura() + \"; largura: \" + rt.getLargura());\n",
    "\n",
    "if (tr.sameProportions(rt))\n",
    "   System.out.println(\"Ambos têm as mesmas proporções\");\n",
    "else\n",
    "   System.out.println(\"Ambos têm proporções diferentes\");"
   ]
  },
  {
   "cell_type": "markdown",
   "metadata": {},
   "source": [
    "# Reunindo Interfaces\n",
    "\n",
    "Se quisermos reunir interfaces adotadas por `Retangulo` e `TrianguloRetangulo`?\n",
    "\n",
    "## Herança de Interfaces\n",
    "\n",
    "* Mecanismo de extensão de interface a partir da existente\n",
    "* No exemplo a seguir não é possível dissociar Retangular de Geometria"
   ]
  },
  {
   "cell_type": "code",
   "execution_count": 15,
   "metadata": {},
   "outputs": [
    {
     "data": {
      "text/plain": [
       "com.twosigma.beaker.javash.bkrbf4232e1.Geometria"
      ]
     },
     "execution_count": 15,
     "metadata": {},
     "output_type": "execute_result"
    }
   ],
   "source": [
    "public interface Geometria {\n",
    "   public float getPerimetro();\n",
    "   public float getArea();\n",
    "}"
   ]
  },
  {
   "cell_type": "code",
   "execution_count": 16,
   "metadata": {},
   "outputs": [
    {
     "data": {
      "text/plain": [
       "com.twosigma.beaker.javash.bkrbf4232e1.Retangular"
      ]
     },
     "execution_count": 16,
     "metadata": {},
     "output_type": "execute_result"
    }
   ],
   "source": [
    "public interface Retangular extends Geometria {\n",
    "   public int getAltura();\n",
    "   public int getLargura();\n",
    "   public boolean sameProportions(Retangular toCompare);\n",
    "}"
   ]
  },
  {
   "cell_type": "code",
   "execution_count": 17,
   "metadata": {},
   "outputs": [
    {
     "data": {
      "text/plain": [
       "com.twosigma.beaker.javash.bkrbf4232e1.Retangulo"
      ]
     },
     "execution_count": 17,
     "metadata": {},
     "output_type": "execute_result"
    }
   ],
   "source": [
    "public class Retangulo implements Retangular {\n",
    "   private int altura;\n",
    "   private int largura;\n",
    "\n",
    "   public Retangulo(int altura, int largura) {\n",
    "       this.altura = altura;\n",
    "       this.largura = largura;\n",
    "   }\n",
    "   \n",
    "   public int getAltura() {\n",
    "       return altura;\n",
    "   }\n",
    "   \n",
    "   public int getLargura() {\n",
    "       return largura;\n",
    "   }\n",
    "   \n",
    "   public float getPerimetro() {\n",
    "       return 2 * (altura + largura);\n",
    "   }\n",
    "   \n",
    "   public float getArea() {\n",
    "       return altura * largura;\n",
    "   }\n",
    "   \n",
    "   public boolean sameProportions(Retangular toCompare) {\n",
    "      return (largura / altura == toCompare.getLargura() / toCompare.getAltura());\n",
    "   }\n",
    "}"
   ]
  },
  {
   "cell_type": "code",
   "execution_count": 18,
   "metadata": {},
   "outputs": [
    {
     "data": {
      "text/plain": [
       "com.twosigma.beaker.javash.bkrbf4232e1.TrianguloRetangulo"
      ]
     },
     "execution_count": 18,
     "metadata": {},
     "output_type": "execute_result"
    }
   ],
   "source": [
    "public class TrianguloRetangulo implements Retangular {\n",
    "   private int altura;\n",
    "   private int largura;\n",
    "   \n",
    "   public TrianguloRetangulo(int altura, int largura) {\n",
    "       this.altura = altura;\n",
    "       this.largura = largura;\n",
    "   }\n",
    "\n",
    "   public int getAltura() {\n",
    "       return altura;\n",
    "   }\n",
    "   \n",
    "   public int getLargura() {\n",
    "       return largura;\n",
    "   }\n",
    "   \n",
    "   public float getPerimetro() {\n",
    "      return (float) (altura + largura + Math.sqrt(altura * altura + largura * largura));\n",
    "   }\n",
    "  \n",
    "   public float getArea() {\n",
    "       return getAltura() * getLargura() / 2;\n",
    "   }\n",
    "   \n",
    "   public boolean sameProportions(Retangular toCompare) {\n",
    "      return (largura / altura == toCompare.getLargura() / toCompare.getAltura());\n",
    "   }\n",
    "}"
   ]
  },
  {
   "cell_type": "code",
   "execution_count": 19,
   "metadata": {},
   "outputs": [
    {
     "name": "stdout",
     "output_type": "stream",
     "text": [
      "Medidas do retângulo - altura: 6; largura: 10\n",
      "Medidas do triangulo retângulo - altura: 60; largura: 100\n",
      "Perímetro do retângulo: 32.0\n",
      "Área do retângulo: 60.0\n",
      "Perímetro do triângulo retângulo: 276.61905\n",
      "Área do triângulo retângulo: 3000.0\n",
      "Ambos têm as mesmas proporções\n"
     ]
    },
    {
     "data": {
      "text/plain": [
       "null"
      ]
     },
     "execution_count": 19,
     "metadata": {},
     "output_type": "execute_result"
    }
   ],
   "source": [
    "Retangular rt = new Retangulo(6, 10);\n",
    "Retangular tr = new TrianguloRetangulo(60, 100);\n",
    "\n",
    "System.out.println(\"Medidas do retângulo - altura: \" +\n",
    "   rt.getAltura() + \"; largura: \" + rt.getLargura());\n",
    "System.out.println(\"Medidas do triangulo retângulo - altura: \" +\n",
    "   tr.getAltura() + \"; largura: \" + tr.getLargura());\n",
    "   \n",
    "System.out.println(\"Perímetro do retângulo: \" + rt.getPerimetro());\n",
    "System.out.println(\"Área do retângulo: \" + rt.getArea());\n",
    "\n",
    "System.out.println(\"Perímetro do triângulo retângulo: \" + tr.getPerimetro());\n",
    "System.out.println(\"Área do triângulo retângulo: \" + tr.getArea());\n",
    "\n",
    "if (tr.sameProportions(rt))\n",
    "   System.out.println(\"Ambos têm as mesmas proporções\");\n",
    "else\n",
    "   System.out.println(\"Ambos têm proporções diferentes\");"
   ]
  },
  {
   "cell_type": "markdown",
   "metadata": {},
   "source": [
    "# Herança Múltipla de Interfaces\n",
    "\n",
    "Uma interface pode ser herdeira de mais de uma interface. Nesse caso, ela irá requerer a combinação de todos os métodos declarados nas interfaces que ela herda (mais métodos que ela possa acrescentar)."
   ]
  },
  {
   "cell_type": "code",
   "execution_count": 20,
   "metadata": {},
   "outputs": [
    {
     "data": {
      "text/plain": [
       "com.twosigma.beaker.javash.bkrbf4232e1.Geometria"
      ]
     },
     "execution_count": 20,
     "metadata": {},
     "output_type": "execute_result"
    }
   ],
   "source": [
    "public interface Geometria {\n",
    "   public float getPerimetro();\n",
    "   public float getArea();\n",
    "}"
   ]
  },
  {
   "cell_type": "code",
   "execution_count": 21,
   "metadata": {},
   "outputs": [
    {
     "data": {
      "text/plain": [
       "com.twosigma.beaker.javash.bkrbf4232e1.Retangular"
      ]
     },
     "execution_count": 21,
     "metadata": {},
     "output_type": "execute_result"
    }
   ],
   "source": [
    "public interface Retangular {\n",
    "   public int getAltura();\n",
    "   public int getLargura();\n",
    "   public boolean sameProportions(Retangular toCompare);\n",
    "}"
   ]
  },
  {
   "cell_type": "code",
   "execution_count": 22,
   "metadata": {},
   "outputs": [
    {
     "data": {
      "text/plain": [
       "com.twosigma.beaker.javash.bkrbf4232e1.GeometriaRetangular"
      ]
     },
     "execution_count": 22,
     "metadata": {},
     "output_type": "execute_result"
    }
   ],
   "source": [
    "public interface GeometriaRetangular extends Geometria, Retangular {\n",
    "}"
   ]
  },
  {
   "cell_type": "code",
   "execution_count": 23,
   "metadata": {},
   "outputs": [
    {
     "data": {
      "text/plain": [
       "com.twosigma.beaker.javash.bkrbf4232e1.Circulo"
      ]
     },
     "execution_count": 23,
     "metadata": {},
     "output_type": "execute_result"
    }
   ],
   "source": [
    "public class Circulo implements Geometria {\n",
    "   public static float PI = 3.1416f;\n",
    "   \n",
    "   private int raio;\n",
    "   \n",
    "   public Circulo(int raio) {\n",
    "       this.raio = raio;\n",
    "   }\n",
    "   \n",
    "   public int getRaio() {\n",
    "       return raio;\n",
    "   }\n",
    "   \n",
    "   public float getPerimetro() {\n",
    "       return 2 * Circulo.PI * raio;\n",
    "   }\n",
    "   \n",
    "   public float getArea() {\n",
    "       return Circulo.PI * raio * raio;\n",
    "   }\n",
    "}"
   ]
  },
  {
   "cell_type": "code",
   "execution_count": 24,
   "metadata": {},
   "outputs": [
    {
     "data": {
      "text/plain": [
       "com.twosigma.beaker.javash.bkrbf4232e1.Retangulo"
      ]
     },
     "execution_count": 24,
     "metadata": {},
     "output_type": "execute_result"
    }
   ],
   "source": [
    "public class Retangulo implements GeometriaRetangular {\n",
    "   private int altura;\n",
    "   private int largura;\n",
    "\n",
    "   public Retangulo(int altura, int largura) {\n",
    "       this.altura = altura;\n",
    "       this.largura = largura;\n",
    "   }\n",
    "   \n",
    "   public int getAltura() {\n",
    "       return altura;\n",
    "   }\n",
    "   \n",
    "   public int getLargura() {\n",
    "       return largura;\n",
    "   }\n",
    "   \n",
    "   public float getPerimetro() {\n",
    "       return 2 * (altura + largura);\n",
    "   }\n",
    "   \n",
    "   public float getArea() {\n",
    "       return altura * largura;\n",
    "   }\n",
    "   \n",
    "   public boolean sameProportions(Retangular toCompare) {\n",
    "      return (largura / altura == toCompare.getLargura() / toCompare.getAltura());\n",
    "   }\n",
    "}"
   ]
  },
  {
   "cell_type": "code",
   "execution_count": 25,
   "metadata": {},
   "outputs": [
    {
     "data": {
      "text/plain": [
       "com.twosigma.beaker.javash.bkrbf4232e1.TrianguloRetangulo"
      ]
     },
     "execution_count": 25,
     "metadata": {},
     "output_type": "execute_result"
    }
   ],
   "source": [
    "public class TrianguloRetangulo implements Retangular {\n",
    "   private int altura;\n",
    "   private int largura;\n",
    "   \n",
    "   public TrianguloRetangulo(int altura, int largura) {\n",
    "       this.altura = altura;\n",
    "       this.largura = largura;\n",
    "   }\n",
    "\n",
    "   public int getAltura() {\n",
    "       return altura;\n",
    "   }\n",
    "   \n",
    "   public int getLargura() {\n",
    "       return largura;\n",
    "   }\n",
    "   \n",
    "   public float getArea() {\n",
    "       return getAltura() * getLargura() / 2;\n",
    "   }\n",
    "   \n",
    "   public boolean sameProportions(Retangular toCompare) {\n",
    "      return (largura / altura == toCompare.getLargura() / toCompare.getAltura());\n",
    "   }\n",
    "}"
   ]
  },
  {
   "cell_type": "code",
   "execution_count": 26,
   "metadata": {},
   "outputs": [
    {
     "name": "stdout",
     "output_type": "stream",
     "text": [
      "Medidas do retângulo - altura: 6; largura: 10\n",
      "Perímetro do retângulo: 32.0\n",
      "Área do retângulo: 60.0\n",
      "Perímetro do r2: 30.0\n",
      "Área do r2: 50.0\n",
      "Perímetro do círculo: 50.2656\n",
      "Área do círculo: 201.0624\n",
      "Medidas do triangulo retângulo - altura: 60; largura: 100\n",
      "Retângulo e triângulo retângulo têm as mesmas proporções\n"
     ]
    },
    {
     "data": {
      "text/plain": [
       "null"
      ]
     },
     "execution_count": 26,
     "metadata": {},
     "output_type": "execute_result"
    }
   ],
   "source": [
    "GeometriaRetangular rt = new Retangulo(6, 10);\n",
    "\n",
    "System.out.println(\"Medidas do retângulo - altura: \" +\n",
    "      rt.getAltura() + \"; largura: \" + rt.getLargura());\n",
    "System.out.println(\"Perímetro do retângulo: \" + rt.getPerimetro());\n",
    "System.out.println(\"Área do retângulo: \" + rt.getArea());\n",
    "\n",
    "Geometria r2 = new Retangulo(5, 10);\n",
    "\n",
    "System.out.println(\"Perímetro do r2: \" + r2.getPerimetro());\n",
    "System.out.println(\"Área do r2: \" + r2.getArea());\n",
    "\n",
    "Geometria ci = new Circulo(8);\n",
    "\n",
    "System.out.println(\"Perímetro do círculo: \" + ci.getPerimetro());\n",
    "System.out.println(\"Área do círculo: \" + ci.getArea());\n",
    "\n",
    "Retangular tr = new TrianguloRetangulo(60, 100);\n",
    "\n",
    "System.out.println(\"Medidas do triangulo retângulo - altura: \" +\n",
    "   tr.getAltura() + \"; largura: \" + tr.getLargura());\n",
    "\n",
    "if (tr.sameProportions(rt))\n",
    "   System.out.println(\"Retângulo e triângulo retângulo têm as mesmas proporções\");\n",
    "else\n",
    "   System.out.println(\"Retângulo e triângulo retângulo têm proporções diferentes\");"
   ]
  },
  {
   "cell_type": "markdown",
   "metadata": {},
   "source": [
    "# Tarefa\n",
    "\n",
    "## Classe `ConjuntoEmprestimos`\n",
    "\n",
    "Baseado no notebook sobre polimorfismo, construa uma classe denominada `ConjuntoEmprestimos` que é responsável por controlar um conjunto de empréstimos que podem ser simples ou compostos. Essa classe deve definir pelo menos os seguintes métodos:\n",
    "\n",
    "* `construtor` - recebe como parâmetro o número máximo de empréstimos;\n",
    "* `adicionaEmprestimo` - recebe como parâmetro um empréstimo (simples ou composto) e o armazena (se não ultrapassar o número máximo);\n",
    "* `proximasParcelas` - mostra as próximas parcelas de todos os empréstimos cadastrados (para fins de simplificação, considere que o número da próxima parcela é igual para todos); o método retorna um status de verdadeiro se houve pelo menos um empréstimo com próxima parcela.\n",
    "\n",
    "Utilize uma interface para generalizar o tratamento de empréstimo. É possível se criar um vetor de interfaces."
   ]
  },
  {
   "cell_type": "code",
   "execution_count": null,
   "metadata": {},
   "outputs": [],
   "source": []
  }
 ],
 "metadata": {
  "kernelspec": {
   "display_name": "Java",
   "language": "java",
   "name": "java"
  },
  "language_info": {
   "codemirror_mode": "text/x-java",
   "file_extension": ".java",
   "mimetype": "",
   "name": "Java",
   "nbconverter_exporter": "",
   "version": "1.8.0_121"
  },
  "toc": {
   "base_numbering": 1,
   "nav_menu": {},
   "number_sections": false,
   "sideBar": false,
   "skip_h1_title": false,
   "title_cell": "Table of Contents",
   "title_sidebar": "Contents",
   "toc_cell": false,
   "toc_position": {},
   "toc_section_display": false,
   "toc_window_display": false
  }
 },
 "nbformat": 4,
 "nbformat_minor": 4
}
