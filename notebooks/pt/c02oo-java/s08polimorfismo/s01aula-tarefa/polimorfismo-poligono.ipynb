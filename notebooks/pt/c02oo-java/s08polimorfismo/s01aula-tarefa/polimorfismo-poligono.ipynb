{
 "cells": [
  {
   "cell_type": "markdown",
   "metadata": {},
   "source": [
    "# Polimorfismo\n",
    "\n",
    "## Polimorfismo no Polígono\n",
    "\n",
    "Reveja a seguir o exemplo de polimorfismo e amarração dinâmica em C++. Estude este exemplo e tente escrevê-lo em Java na célula abaixo.\n",
    "\n",
    "Algumas coisas importantes:\n",
    "* Em linguagens OO modernas como o Java os ponteiros estão sempre presentes implicitamente.\n",
    "* Em linguagens OO modernas como o Java a amarração é sempre dinâmica, portanto, ela não precisa ser declarada explicitamente, a exemplo de como é feito com o `virtual` em C++.\n",
    "\n",
    "~~~cpp\n",
    "#include <iostream>\n",
    "\n",
    "class Poligono {\n",
    "    private:\n",
    "       int altura;\n",
    "       int largura;\n",
    "    public:\n",
    "       Poligono(int altura, int largura) {\n",
    "           this->altura = altura;\n",
    "           this->largura = largura;\n",
    "       }\n",
    "    \n",
    "       int getAltura() {\n",
    "           return altura;\n",
    "       }\n",
    "    \n",
    "       int getLargura() {\n",
    "           return largura;\n",
    "       }\n",
    "    \n",
    "       virtual float getArea() {\n",
    "           return 0;\n",
    "       }\n",
    "};\n",
    "\n",
    "class TrianguloRetangulo : public Poligono {\n",
    "    public:\n",
    "       TrianguloRetangulo(int altura, int largura) : Poligono(altura, largura) {\n",
    "       }\n",
    "       float getArea() {\n",
    "           return getAltura() * getLargura() / 2;\n",
    "       }\n",
    "};\n",
    "\n",
    "class Retangulo : public Poligono {\n",
    "    public:\n",
    "       Retangulo(int altura, int largura) : Poligono(altura, largura) {\n",
    "       }\n",
    "       float getArea() {\n",
    "           return getAltura() * getLargura();\n",
    "       }\n",
    "};\n",
    "\n",
    "Poligono *tr = new TrianguloRetangulo(6, 10);\n",
    "Poligono *rt = new Retangulo(6, 10);\n",
    "\n",
    "std::cout << \"Área do triangulo retângulo: \" << tr->getArea() << std::endl;\n",
    "std::cout << \"Área do retângulo: \" << rt->getArea() << std::endl;\n",
    "~~~"
   ]
  },
  {
   "cell_type": "markdown",
   "metadata": {},
   "source": [
    "# Exercício\n",
    "\n",
    "Escreva o exemplo acima em Java."
   ]
  },
  {
   "cell_type": "code",
   "execution_count": null,
   "metadata": {},
   "outputs": [],
   "source": []
  },
  {
   "cell_type": "markdown",
   "metadata": {},
   "source": [
    "# Resolução\n",
    "\n",
    "Você deve ter construído algo como na solução a seguir."
   ]
  },
  {
   "cell_type": "code",
   "execution_count": 1,
   "metadata": {},
   "outputs": [
    {
     "data": {
      "text/plain": [
       "com.twosigma.beaker.javash.bkrca4db7d0.Poligono"
      ]
     },
     "execution_count": 1,
     "metadata": {},
     "output_type": "execute_result"
    }
   ],
   "source": [
    "public class Poligono {\n",
    "   private int altura;\n",
    "   private int largura;\n",
    "\n",
    "   \n",
    "   public Poligono(int altura, int largura) {\n",
    "       this.altura = altura;\n",
    "       this.largura = largura;\n",
    "   }\n",
    "   \n",
    "   public int getAltura() {\n",
    "       return altura;\n",
    "   }\n",
    "   \n",
    "   public int getLargura() {\n",
    "       return largura;\n",
    "   }\n",
    "   \n",
    "   public float getArea() {\n",
    "       return 0;\n",
    "   }\n",
    "}"
   ]
  },
  {
   "cell_type": "code",
   "execution_count": 2,
   "metadata": {},
   "outputs": [
    {
     "data": {
      "text/plain": [
       "com.twosigma.beaker.javash.bkrca4db7d0.TrianguloRetangulo"
      ]
     },
     "execution_count": 2,
     "metadata": {},
     "output_type": "execute_result"
    }
   ],
   "source": [
    "public class TrianguloRetangulo extends Poligono {\n",
    "   public TrianguloRetangulo(int altura, int largura) {\n",
    "       super(altura, largura);\n",
    "   }\n",
    "   \n",
    "   public float getArea() {\n",
    "       return getAltura() * getLargura() / 2;\n",
    "   }\n",
    "}"
   ]
  },
  {
   "cell_type": "code",
   "execution_count": 3,
   "metadata": {},
   "outputs": [
    {
     "data": {
      "text/plain": [
       "com.twosigma.beaker.javash.bkrca4db7d0.Retangulo"
      ]
     },
     "execution_count": 3,
     "metadata": {},
     "output_type": "execute_result"
    }
   ],
   "source": [
    "public class Retangulo extends Poligono {\n",
    "   public Retangulo(int altura, int largura) {\n",
    "       super(altura, largura);\n",
    "   }\n",
    "   \n",
    "   public float getArea() {\n",
    "       return getAltura() * getLargura();\n",
    "   }\n",
    "}"
   ]
  },
  {
   "cell_type": "code",
   "execution_count": 4,
   "metadata": {},
   "outputs": [
    {
     "name": "stdout",
     "output_type": "stream",
     "text": [
      "Área do triangulo retângulo: 30.0\n",
      "Área do retângulo: 60.0\n"
     ]
    },
    {
     "data": {
      "text/plain": [
       "null"
      ]
     },
     "execution_count": 4,
     "metadata": {},
     "output_type": "execute_result"
    }
   ],
   "source": [
    "Poligono tr = new TrianguloRetangulo(6, 10);\n",
    "Poligono rt = new Retangulo(6, 10);\n",
    "\n",
    "System.out.println(\"Área do triangulo retângulo: \" + tr.getArea());\n",
    "System.out.println(\"Área do retângulo: \" + rt.getArea());"
   ]
  }
 ],
 "metadata": {
  "kernelspec": {
   "display_name": "Java",
   "language": "java",
   "name": "java"
  },
  "language_info": {
   "codemirror_mode": "text/x-java",
   "file_extension": ".java",
   "mimetype": "",
   "name": "Java",
   "nbconverter_exporter": "",
   "version": "11.0.7"
  }
 },
 "nbformat": 4,
 "nbformat_minor": 4
}
