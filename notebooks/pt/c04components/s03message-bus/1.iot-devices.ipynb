{
 "cells": [
  {
   "cell_type": "code",
   "execution_count": null,
   "metadata": {},
   "outputs": [],
   "source": [
    "from resources.iot.device import IoT_mqtt_publisher, IoT_sensor"
   ]
  },
  {
   "cell_type": "markdown",
   "metadata": {},
   "source": [
    "# Instanciando Componente de Publicação de Mensagens no MQTT"
   ]
  },
  {
   "cell_type": "code",
   "execution_count": null,
   "metadata": {},
   "outputs": [],
   "source": [
    "publisher = IoT_mqtt_publisher(\"localhost\", 1883)"
   ]
  },
  {
   "cell_type": "markdown",
   "metadata": {},
   "source": [
    "# Componente para simulação de um sensor\n",
    "\n",
    "```bash\n",
    "IoT_sensor(<name/id>, <grandeza física >, <unidade de medida>, <menor valor>, <maior valor possível>, <intervalo entre leituras (segundos)>)\n",
    "```\n",
    "\n",
    "Exemplo de sensor de pressão:\n",
    "\n",
    "```python\n",
    "sensor_pressao = IoT_sensor(\"32\", \"pressao\", \"bar\", 20, 35, 5)\n",
    "\n",
    "```\n",
    "\n",
    "Componentes `IoT_sensor` podem se conectar a componentes do tipo `IoT_mqtt_publisher` para publicar, em um tópico, mensagens referentes às leituras feitas pelo sensor. Por exemplo, o sensor do exemplo acima produziu a seguinte mensagem no tópico `sensor/32/pressao`:\n",
    "\n",
    "```python\n",
    " {\n",
    " \t\"source\": \"sensor\",\n",
    " \t\"name\": \"32\",\n",
    " \t\"type\": \"reading\",\n",
    " \t\"body\": {\n",
    " \t\t\"timestamp\": \"2019-08-17 17:02:15\",\n",
    " \t\t\"dimension\": \"pressao\",\n",
    " \t\t\"value\": 25.533895448246717,\n",
    " \t\t\"unity\": \"bar\"\n",
    " \t}\n",
    " }\n",
    "```\n",
    "\n"
   ]
  },
  {
   "cell_type": "markdown",
   "metadata": {},
   "source": [
    "# Instanciando Sensores"
   ]
  },
  {
   "cell_type": "code",
   "execution_count": null,
   "metadata": {},
   "outputs": [],
   "source": [
    "sensor_1 = IoT_sensor(\"1\", \"temperature\", \"°C\", 20, 26, 2)\n",
    "sensor_2 = IoT_sensor(\"2\", \"umidade\",     \"%\",  50, 60, 3)\n",
    "sensor_3 = IoT_sensor(\"3\", \"temperature\", \"°C\", 28, 30, 4)\n",
    "sensor_4 = IoT_sensor(\"4\", \"umidade\",     \"%\",  40, 55, 5)"
   ]
  },
  {
   "cell_type": "markdown",
   "metadata": {},
   "source": [
    "# Conectando os Componentes "
   ]
  },
  {
   "cell_type": "code",
   "execution_count": null,
   "metadata": {},
   "outputs": [],
   "source": [
    "sensor_1.connect(publisher)\n",
    "sensor_2.connect(publisher)\n",
    "sensor_3.connect(publisher)\n",
    "sensor_4.connect(publisher)"
   ]
  },
  {
   "cell_type": "markdown",
   "metadata": {},
   "source": [
    "# Escutando o barramento\n",
    "\n",
    "Abra um terminal e digite:\n",
    "\n",
    "```bash\n",
    "\n",
    "mosquitto_sub -t \"sensor/#\" -v\n",
    "\n",
    "```"
   ]
  },
  {
   "cell_type": "code",
   "execution_count": null,
   "metadata": {},
   "outputs": [],
   "source": []
  }
 ],
 "metadata": {
  "kernelspec": {
   "display_name": "Python 3",
   "language": "python",
   "name": "python3"
  },
  "language_info": {
   "codemirror_mode": {
    "name": "ipython",
    "version": 3
   },
   "file_extension": ".py",
   "mimetype": "text/x-python",
   "name": "python",
   "nbconvert_exporter": "python",
   "pygments_lexer": "ipython3",
   "version": "3.7.3"
  }
 },
 "nbformat": 4,
 "nbformat_minor": 2
}
