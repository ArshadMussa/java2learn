{
 "cells": [
  {
   "cell_type": "markdown",
   "metadata": {},
   "source": [
    "# Exemplos de Componentes Visuais para iPython"
   ]
  },
  {
   "cell_type": "code",
   "execution_count": null,
   "metadata": {},
   "outputs": [],
   "source": [
    "from resources.iot.device import IoT_sensor_consumer\n",
    "from IPython.core.display import display\n",
    "import ipywidgets as widgets\n",
    "from resources.iot.device import IoT_mqtt_publisher, IoT_sensor"
   ]
  },
  {
   "cell_type": "markdown",
   "metadata": {},
   "source": [
    "## Barra"
   ]
  },
  {
   "cell_type": "code",
   "execution_count": null,
   "metadata": {},
   "outputs": [],
   "source": [
    "widgets.FloatProgress(value=30.0, min=0, max=100.0, bar_style='danger', orientation='vertical')"
   ]
  },
  {
   "cell_type": "code",
   "execution_count": null,
   "metadata": {},
   "outputs": [],
   "source": [
    "widgets.FloatProgress(value=60.0, min=0, max=100.0, bar_style='info', orientation='horizontal', description='pressão: ')"
   ]
  },
  {
   "cell_type": "markdown",
   "metadata": {},
   "source": [
    "## Label"
   ]
  },
  {
   "cell_type": "code",
   "execution_count": null,
   "metadata": {},
   "outputs": [],
   "source": [
    "widgets.Label(\"isto é um label\")"
   ]
  },
  {
   "cell_type": "markdown",
   "metadata": {},
   "source": [
    "# Criando dois componentes visuais"
   ]
  },
  {
   "cell_type": "code",
   "execution_count": null,
   "metadata": {},
   "outputs": [],
   "source": [
    "widget       = widgets.FloatProgress(min=0, max=100.0, bar_style='info', orientation='vertical', description='exemplo') # 'success', 'info', 'warning', 'danger' or ''\n",
    "\n",
    "widget_label = widgets.Label(\"isto é um label\")"
   ]
  },
  {
   "cell_type": "markdown",
   "metadata": {},
   "source": [
    "# Renderizando componentes visuais"
   ]
  },
  {
   "cell_type": "code",
   "execution_count": null,
   "metadata": {},
   "outputs": [],
   "source": [
    "display(widget, widget_label)"
   ]
  },
  {
   "cell_type": "markdown",
   "metadata": {},
   "source": [
    "# Criando um componente que consome mensagens do MQTT"
   ]
  },
  {
   "cell_type": "code",
   "execution_count": null,
   "metadata": {},
   "outputs": [],
   "source": [
    "consumer = IoT_sensor_consumer(\"localhost\",1883,\"sensor/+/+\")"
   ]
  },
  {
   "cell_type": "markdown",
   "metadata": {},
   "source": [
    "# Conectando os componentes"
   ]
  },
  {
   "cell_type": "code",
   "execution_count": null,
   "metadata": {},
   "outputs": [],
   "source": [
    "consumer.connect(widget, widget_label)"
   ]
  },
  {
   "cell_type": "markdown",
   "metadata": {},
   "source": [
    "# Dashboard de componentes"
   ]
  },
  {
   "cell_type": "markdown",
   "metadata": {},
   "source": [
    "### Criando o consumidor_1 e seus widgets"
   ]
  },
  {
   "cell_type": "code",
   "execution_count": null,
   "metadata": {},
   "outputs": [],
   "source": [
    "widget_1       = widgets.FloatProgress(min=0, max=40.0, bar_style='info', orientation='vertical') \n",
    "\n",
    "widget_1_label = widgets.Label()\n",
    "\n",
    "consumer_1 = IoT_sensor_consumer(\"localhost\",1883,\"sensor/1/+\")"
   ]
  },
  {
   "cell_type": "markdown",
   "metadata": {},
   "source": [
    "### Criando o consumidor_2 e seus widgets"
   ]
  },
  {
   "cell_type": "code",
   "execution_count": null,
   "metadata": {},
   "outputs": [],
   "source": [
    "widget_2       = widgets.FloatProgress(min=0, max=90.0, bar_style='warning', orientation='vertical')\n",
    "\n",
    "widget_2_label = widgets.Label()\n",
    "\n",
    "consumer_2 = IoT_sensor_consumer(\"localhost\",1883,\"sensor/2/+\")"
   ]
  },
  {
   "cell_type": "markdown",
   "metadata": {},
   "source": [
    "### Criando o consumidor_3 e seus widgets"
   ]
  },
  {
   "cell_type": "code",
   "execution_count": null,
   "metadata": {},
   "outputs": [],
   "source": [
    "widget_3       = widgets.FloatProgress(min=0, max=40.0, bar_style='info', orientation='vertical')\n",
    "\n",
    "widget_3_label = widgets.Label()\n",
    "\n",
    "consumer_3 = IoT_sensor_consumer(\"localhost\",1883,\"sensor/3/+\")"
   ]
  },
  {
   "cell_type": "markdown",
   "metadata": {},
   "source": [
    "### Criando o consumidor_4 e seus widgets"
   ]
  },
  {
   "cell_type": "code",
   "execution_count": null,
   "metadata": {},
   "outputs": [],
   "source": [
    "widget_4       = widgets.FloatProgress(min=0, max=90.0, bar_style='warning', orientation='vertical')\n",
    "\n",
    "widget_4_label = widgets.Label()\n",
    "\n",
    "consumer_4 = IoT_sensor_consumer(\"localhost\",1883,\"sensor/4/+\")"
   ]
  },
  {
   "cell_type": "markdown",
   "metadata": {},
   "source": [
    "### Criando o consumidor_avg e seus widgets"
   ]
  },
  {
   "cell_type": "code",
   "execution_count": null,
   "metadata": {},
   "outputs": [],
   "source": [
    "widget_avg       = widgets.FloatProgress(min=0, max=90.0, bar_style='success', orientation='horizontal')\n",
    "\n",
    "widget_avg_label = widgets.Label()\n",
    "\n",
    "consumer_avg = IoT_sensor_consumer(\"localhost\",1883,\"sensor/*/temperature/avg\")"
   ]
  },
  {
   "cell_type": "markdown",
   "metadata": {},
   "source": [
    "## Organizando os componentes visualmente"
   ]
  },
  {
   "cell_type": "code",
   "execution_count": null,
   "metadata": {},
   "outputs": [],
   "source": [
    "separator = widgets.Label(value=\" ---------- \")\n",
    "col_1 = widgets.VBox([widget_1, widget_1_label])\n",
    "col_2 = widgets.VBox([widget_2, widget_2_label])\n",
    "col_3 = widgets.VBox([widget_3, widget_3_label])\n",
    "col_4 = widgets.VBox([widget_4, widget_4_label])\n",
    "\n",
    "col_5 = widgets.HBox([widget_avg, widget_avg_label])\n",
    "\n",
    "\n",
    "row_1 = widgets.HBox([separator, col_1, separator, col_2, separator, col_3, separator, col_4])\n",
    "row_2 = widgets.HBox([col_5])\n",
    "display(row_1)\n",
    "display(row_2)"
   ]
  },
  {
   "cell_type": "markdown",
   "metadata": {},
   "source": [
    "### Conectando componentes visuais e seus respectivos consumidores"
   ]
  },
  {
   "cell_type": "code",
   "execution_count": null,
   "metadata": {},
   "outputs": [],
   "source": [
    "consumer_1.connect(widget_1, widget_1_label)\n",
    "consumer_2.connect(widget_2, widget_2_label)\n",
    "consumer_3.connect(widget_3, widget_3_label)\n",
    "consumer_4.connect(widget_4, widget_4_label)\n",
    "\n",
    "consumer_avg.connect(widget_avg, widget_avg_label)"
   ]
  },
  {
   "cell_type": "markdown",
   "metadata": {},
   "source": [
    "# Exercícios\n",
    "\n",
    "## Exercício 1 (não é necessário entregar)\n",
    "\n",
    "No notebook `2.iot-java.ipynb`, faça o componente que publica a média dos valores das N leituras publicar uma mensagem com a média das próximas 15 leituras de temperatura. Verifique se estas mensagens atualizarão o componente visual do tipo barra que está mais acima na posição horizontal."
   ]
  },
  {
   "cell_type": "markdown",
   "metadata": {},
   "source": [
    "## Exercício 2 \n",
    "\n",
    "Seguindo o notebook `1.iot-devices.ipynb`, na célula abaixo crie um `sensor_5` com id/name 50 que publica leituras da grandeza física `pressure` que variam dentro dentro do intervalo [90,110] psi (publicações devem ser feitas a cada 5 segundos). Crie também um `publisher` e conecte os dois componentes.\n"
   ]
  },
  {
   "cell_type": "code",
   "execution_count": null,
   "metadata": {},
   "outputs": [],
   "source": []
  },
  {
   "cell_type": "markdown",
   "metadata": {},
   "source": [
    "## Exercício 3\n",
    "\n",
    "Seguindo os exemplos deste notebook, crie um widget do tipo `barra` (faixa de valores entre 0 e 150) e um widget do tipo `label` que deverão exibir os valores publicados no barramento pelo `sensor_5` criado no exercício 2. \n",
    "\n",
    "Crie um `IoT_sensor_consumer` que deverá escutar o tópico `sensor/50/pressure`. Exiba os componentes visuais e conecte os componentes para visualizar os valores.\n"
   ]
  },
  {
   "cell_type": "code",
   "execution_count": null,
   "metadata": {},
   "outputs": [],
   "source": []
  }
 ],
 "metadata": {
  "kernelspec": {
   "display_name": "Python 3",
   "language": "python",
   "name": "python3"
  },
  "language_info": {
   "codemirror_mode": {
    "name": "ipython",
    "version": 3
   },
   "file_extension": ".py",
   "mimetype": "text/x-python",
   "name": "python",
   "nbconvert_exporter": "python",
   "pygments_lexer": "ipython3",
   "version": "3.7.3"
  }
 },
 "nbformat": 4,
 "nbformat_minor": 2
}
