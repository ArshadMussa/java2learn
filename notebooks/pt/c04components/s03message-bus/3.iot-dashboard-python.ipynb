{
 "cells": [
  {
   "cell_type": "markdown",
   "metadata": {},
   "source": [
    "# Exemplo de Componentes Visuais para iPython"
   ]
  },
  {
   "cell_type": "code",
   "execution_count": 1,
   "metadata": {},
   "outputs": [],
   "source": [
    "from resources.iot.device import IoT_sensor_consumer\n",
    "from IPython.core.display import display\n",
    "import ipywidgets as widgets"
   ]
  },
  {
   "cell_type": "code",
   "execution_count": 2,
   "metadata": {},
   "outputs": [
    {
     "data": {
      "application/vnd.jupyter.widget-view+json": {
       "model_id": "2d1b77cb4f474693b47a49d87690edc4",
       "version_major": 2,
       "version_minor": 0
      },
      "text/plain": [
       "FloatProgress(value=30.0, bar_style='danger', orientation='vertical')"
      ]
     },
     "metadata": {},
     "output_type": "display_data"
    }
   ],
   "source": [
    "widgets.FloatProgress(value=30.0, min=0, max=100.0, bar_style='danger', orientation='vertical')"
   ]
  },
  {
   "cell_type": "code",
   "execution_count": 3,
   "metadata": {},
   "outputs": [
    {
     "data": {
      "application/vnd.jupyter.widget-view+json": {
       "model_id": "d49f0f22c55f47c298b12204ddd3a424",
       "version_major": 2,
       "version_minor": 0
      },
      "text/plain": [
       "FloatProgress(value=60.0, bar_style='danger', description='pressão: ')"
      ]
     },
     "metadata": {},
     "output_type": "display_data"
    }
   ],
   "source": [
    "widgets.FloatProgress(value=60.0, min=0, max=100.0, bar_style='danger', orientation='horizontal', description='pressão: ')"
   ]
  },
  {
   "cell_type": "code",
   "execution_count": 6,
   "metadata": {},
   "outputs": [
    {
     "data": {
      "application/vnd.jupyter.widget-view+json": {
       "model_id": "dba3317823bb433781e23e7589c8bda3",
       "version_major": 2,
       "version_minor": 0
      },
      "text/plain": [
       "Label(value='isto é um label')"
      ]
     },
     "metadata": {},
     "output_type": "display_data"
    }
   ],
   "source": [
    "widgets.Label(\"isto é um label\")"
   ]
  },
  {
   "cell_type": "markdown",
   "metadata": {},
   "source": [
    "# Criando dois componentes visuais"
   ]
  },
  {
   "cell_type": "code",
   "execution_count": 8,
   "metadata": {},
   "outputs": [
    {
     "data": {
      "application/vnd.jupyter.widget-view+json": {
       "model_id": "459c7042888544f58bd1895300971512",
       "version_major": 2,
       "version_minor": 0
      },
      "text/plain": [
       "FloatProgress(value=0.0, bar_style='info', description='exemplo', orientation='vertical')"
      ]
     },
     "metadata": {},
     "output_type": "display_data"
    },
    {
     "data": {
      "application/vnd.jupyter.widget-view+json": {
       "model_id": "994492be7fee48ec80d94d7b548dcc63",
       "version_major": 2,
       "version_minor": 0
      },
      "text/plain": [
       "Label(value='isto é um label')"
      ]
     },
     "metadata": {},
     "output_type": "display_data"
    }
   ],
   "source": [
    "widget       = widgets.FloatProgress(min=0, max=100.0, bar_style='info', orientation='vertical', description='exemplo') # 'success', 'info', 'warning', 'danger' or ''\n",
    "\n",
    "widget_label = widgets.Label(\"isto é um label\")\n",
    "\n",
    "display(widget, widget_label)"
   ]
  },
  {
   "cell_type": "markdown",
   "metadata": {},
   "source": [
    "# Criando um componente que consome mensagens do MQTT"
   ]
  },
  {
   "cell_type": "code",
   "execution_count": 9,
   "metadata": {},
   "outputs": [],
   "source": [
    "consumer = IoT_sensor_consumer(\"localhost\",1883,\"sensor/+/+\")"
   ]
  },
  {
   "cell_type": "markdown",
   "metadata": {},
   "source": [
    "# Conectando os componentes"
   ]
  },
  {
   "cell_type": "code",
   "execution_count": 10,
   "metadata": {},
   "outputs": [],
   "source": [
    "consumer.connect(widget, widget_label)"
   ]
  },
  {
   "cell_type": "markdown",
   "metadata": {},
   "source": [
    "# Dashboard de componentes"
   ]
  },
  {
   "cell_type": "markdown",
   "metadata": {},
   "source": [
    "### Criando o consumidor_1 e seus widgets"
   ]
  },
  {
   "cell_type": "code",
   "execution_count": 11,
   "metadata": {},
   "outputs": [],
   "source": [
    "widget_1       = widgets.FloatProgress(min=0, max=40.0, bar_style='info', orientation='vertical') # 'success', 'info', 'warning', 'danger' or ''\n",
    "widget_1_label = widgets.Label()\n",
    "\n",
    "consumer_1 = IoT_sensor_consumer(\"localhost\",1883,\"sensor/1/+\")"
   ]
  },
  {
   "cell_type": "markdown",
   "metadata": {},
   "source": [
    "### Criando o consumidor_2 e seus widgets"
   ]
  },
  {
   "cell_type": "code",
   "execution_count": 12,
   "metadata": {},
   "outputs": [],
   "source": [
    "widget_2       = widgets.FloatProgress(min=0, max=90.0, bar_style='warning', orientation='vertical')\n",
    "widget_2_label = widgets.Label()\n",
    "\n",
    "consumer_2 = IoT_sensor_consumer(\"localhost\",1883,\"sensor/2/+\")"
   ]
  },
  {
   "cell_type": "markdown",
   "metadata": {},
   "source": [
    "### Criando o consumidor_3 e seus widgets"
   ]
  },
  {
   "cell_type": "code",
   "execution_count": 13,
   "metadata": {},
   "outputs": [],
   "source": [
    "widget_3       = widgets.FloatProgress(min=0, max=40.0, bar_style='info', orientation='vertical')\n",
    "widget_3_label = widgets.Label()\n",
    "\n",
    "consumer_3 = IoT_sensor_consumer(\"localhost\",1883,\"sensor/3/+\")"
   ]
  },
  {
   "cell_type": "markdown",
   "metadata": {},
   "source": [
    "### Criando o consumidor_4 e seus widgets"
   ]
  },
  {
   "cell_type": "code",
   "execution_count": 16,
   "metadata": {},
   "outputs": [],
   "source": [
    "widget_4       = widgets.FloatProgress(min=0, max=90.0, bar_style='warning', orientation='vertical')\n",
    "widget_4_label = widgets.Label()\n",
    "\n",
    "consumer_4 = IoT_sensor_consumer(\"localhost\",1883,\"sensor/4/+\")"
   ]
  },
  {
   "cell_type": "markdown",
   "metadata": {},
   "source": [
    "### Criando o consumidor_avg e seus widgets"
   ]
  },
  {
   "cell_type": "code",
   "execution_count": 20,
   "metadata": {},
   "outputs": [],
   "source": [
    "widget_avg       = widgets.FloatProgress(min=0, max=90.0, bar_style='success', orientation='horizontal')\n",
    "widget_avg_label = widgets.Label()\n",
    "\n",
    "consumer_avg = IoT_sensor_consumer(\"localhost\",1883,\"sensor/*/temperature/avg\")"
   ]
  },
  {
   "cell_type": "markdown",
   "metadata": {},
   "source": [
    "## Organizando os componentes visualmente"
   ]
  },
  {
   "cell_type": "code",
   "execution_count": 21,
   "metadata": {},
   "outputs": [
    {
     "data": {
      "application/vnd.jupyter.widget-view+json": {
       "model_id": "eb25d800935a4b26bd1fe74ee5e2ed52",
       "version_major": 2,
       "version_minor": 0
      },
      "text/plain": [
       "HBox(children=(VBox(children=(FloatProgress(value=0.0, bar_style='info', max=40.0, orientation='vertical'), La…"
      ]
     },
     "metadata": {},
     "output_type": "display_data"
    },
    {
     "data": {
      "application/vnd.jupyter.widget-view+json": {
       "model_id": "c2fbc83559e648549f74f372e570cb1e",
       "version_major": 2,
       "version_minor": 0
      },
      "text/plain": [
       "HBox(children=(VBox(children=(FloatProgress(value=0.0, bar_style='success', max=90.0), Label(value=''))),))"
      ]
     },
     "metadata": {},
     "output_type": "display_data"
    }
   ],
   "source": [
    "space = widgets.Label(value=\" ---------- \")\n",
    "col_1 = widgets.VBox([widget_1, widget_1_label])\n",
    "col_2 = widgets.VBox([widget_2, widget_2_label])\n",
    "col_3 = widgets.VBox([widget_3, widget_3_label])\n",
    "col_4 = widgets.VBox([widget_4, widget_4_label])\n",
    "\n",
    "col_5 = widgets.VBox([widget_avg, widget_avg_label])\n",
    "\n",
    "\n",
    "row_1 = widgets.HBox([col_1,space, col_2, space, col_3, space, col_4])\n",
    "row_2 = widgets.HBox([col_5])\n",
    "display(row_1)\n",
    "display(row_2)"
   ]
  },
  {
   "cell_type": "markdown",
   "metadata": {},
   "source": [
    "### Conectando componentes visuais e seus respectivos consumidores"
   ]
  },
  {
   "cell_type": "code",
   "execution_count": 22,
   "metadata": {},
   "outputs": [],
   "source": [
    "consumer_1.connect(widget_1, widget_1_label)\n",
    "consumer_2.connect(widget_2, widget_2_label)\n",
    "consumer_3.connect(widget_3, widget_3_label)\n",
    "consumer_4.connect(widget_4, widget_4_label)\n",
    "\n",
    "consumer_avg.connect(widget_avg, widget_avg_label)"
   ]
  },
  {
   "cell_type": "markdown",
   "metadata": {},
   "source": [
    "# "
   ]
  }
 ],
 "metadata": {
  "kernelspec": {
   "display_name": "Python 3",
   "language": "python",
   "name": "python3"
  },
  "language_info": {
   "codemirror_mode": {
    "name": "ipython",
    "version": 3
   },
   "file_extension": ".py",
   "mimetype": "text/x-python",
   "name": "python",
   "nbconvert_exporter": "python",
   "pygments_lexer": "ipython3",
   "version": "3.7.3"
  }
 },
 "nbformat": 4,
 "nbformat_minor": 2
}
