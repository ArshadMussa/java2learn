{
 "cells": [
  {
   "cell_type": "code",
   "execution_count": null,
   "metadata": {},
   "outputs": [],
   "source": []
  },
  {
   "cell_type": "code",
   "execution_count": 1,
   "metadata": {},
   "outputs": [],
   "source": [
    "from resources.iot.device import IoT_sensor_consumer\n",
    "import ipywidgets as widgets"
   ]
  },
  {
   "cell_type": "code",
   "execution_count": 2,
   "metadata": {},
   "outputs": [],
   "source": [
    "widget_1       = widgets.FloatProgress(min=0, max=40.0, bar_style='info', orientation='vertical') # 'success', 'info', 'warning', 'danger' or ''\n",
    "widget_1_label = widgets.Label()\n",
    "\n",
    "consumer_1 = IoT_sensor_consumer(\"localhost\",1883,\"sensor/1/+\")"
   ]
  },
  {
   "cell_type": "code",
   "execution_count": 3,
   "metadata": {},
   "outputs": [],
   "source": [
    "widget_2       = widgets.FloatProgress(min=0, max=90.0, bar_style='warning', orientation='vertical')\n",
    "widget_2_label = widgets.Label()\n",
    "\n",
    "consumer_2 = IoT_sensor_consumer(\"localhost\",1883,\"sensor/2/+\")"
   ]
  },
  {
   "cell_type": "code",
   "execution_count": 4,
   "metadata": {},
   "outputs": [],
   "source": [
    "widget_3       = widgets.FloatProgress(min=0, max=40.0, bar_style='info', orientation='vertical')\n",
    "widget_3_label = widgets.Label()\n",
    "\n",
    "consumer_3 = IoT_sensor_consumer(\"localhost\",1883,\"sensor/3/+\")"
   ]
  },
  {
   "cell_type": "code",
   "execution_count": 5,
   "metadata": {},
   "outputs": [],
   "source": [
    "widget_4       = widgets.FloatProgress(min=0, max=90.0, bar_style='warning', orientation='vertical')\n",
    "widget_4_label = widgets.Label()\n",
    "\n",
    "consumer_4 = IoT_sensor_consumer(\"localhost\",1883,\"sensor/4/+\")"
   ]
  },
  {
   "cell_type": "code",
   "execution_count": 6,
   "metadata": {},
   "outputs": [
    {
     "data": {
      "application/vnd.jupyter.widget-view+json": {
       "model_id": "297a2eed53b14cd0a360429da31bc538",
       "version_major": 2,
       "version_minor": 0
      },
      "text/plain": [
       "HBox(children=(VBox(children=(FloatProgress(value=0.0, bar_style='info', max=40.0, orientation='vertical'), La…"
      ]
     },
     "metadata": {},
     "output_type": "display_data"
    }
   ],
   "source": [
    "space = widgets.Label(value=\"__________\")\n",
    "col_1 = widgets.VBox([widget_1, widget_1_label])\n",
    "col_2 = widgets.VBox([widget_2, widget_2_label])\n",
    "col_3 = widgets.VBox([widget_3, widget_3_label])\n",
    "col_4 = widgets.VBox([widget_4, widget_4_label])\n",
    "\n",
    "row_1 = widgets.HBox([col_1,space, col_2, space, col_3, space, col_4])\n",
    "display(row_1)"
   ]
  },
  {
   "cell_type": "code",
   "execution_count": 7,
   "metadata": {},
   "outputs": [],
   "source": [
    "consumer_1.connect(widget_1, widget_1_label)\n",
    "consumer_2.connect(widget_2, widget_2_label)\n",
    "consumer_3.connect(widget_3, widget_3_label)\n",
    "consumer_4.connect(widget_4, widget_4_label)"
   ]
  },
  {
   "cell_type": "code",
   "execution_count": null,
   "metadata": {},
   "outputs": [],
   "source": []
  },
  {
   "cell_type": "code",
   "execution_count": null,
   "metadata": {},
   "outputs": [],
   "source": []
  }
 ],
 "metadata": {
  "kernelspec": {
   "display_name": "Python 3",
   "language": "python",
   "name": "python3"
  },
  "language_info": {
   "codemirror_mode": {
    "name": "ipython",
    "version": 3
   },
   "file_extension": ".py",
   "mimetype": "text/x-python",
   "name": "python",
   "nbconvert_exporter": "python",
   "pygments_lexer": "ipython3",
   "version": "3.7.3"
  }
 },
 "nbformat": 4,
 "nbformat_minor": 2
}
