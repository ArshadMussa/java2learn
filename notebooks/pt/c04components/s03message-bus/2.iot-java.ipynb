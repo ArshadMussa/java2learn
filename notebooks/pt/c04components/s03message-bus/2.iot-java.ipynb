{
 "cells": [
  {
   "cell_type": "markdown",
   "metadata": {},
   "source": [
    "# Catálogo de Componentes com Mensagens"
   ]
  },
  {
   "cell_type": "markdown",
   "metadata": {},
   "source": [
    "# Interface ITableProducer compartilhada"
   ]
  },
  {
   "cell_type": "code",
   "execution_count": 1,
   "metadata": {},
   "outputs": [
    {
     "data": {
      "text/plain": [
       "com.twosigma.beaker.javash.bkr4cc3f396.ITableProducer"
      ]
     },
     "execution_count": 1,
     "metadata": {},
     "output_type": "execute_result"
    }
   ],
   "source": [
    "public interface ITableProducer {\n",
    "  String[] requestAttributes();\n",
    "  String[][] requestInstances();\n",
    "}"
   ]
  },
  {
   "cell_type": "code",
   "execution_count": 2,
   "metadata": {},
   "outputs": [
    {
     "data": {
      "text/plain": [
       "com.twosigma.beaker.javash.bkr4cc3f396.ITableReceptacle"
      ]
     },
     "execution_count": 2,
     "metadata": {},
     "output_type": "execute_result"
    }
   ],
   "source": [
    "public interface ITableReceptacle {\n",
    "  public void connect(ITableProducer producer);\n",
    "}"
   ]
  },
  {
   "cell_type": "markdown",
   "metadata": {},
   "source": [
    "# Interface IUpdate compartilhada"
   ]
  },
  {
   "cell_type": "code",
   "execution_count": 3,
   "metadata": {},
   "outputs": [
    {
     "data": {
      "text/plain": [
       "com.twosigma.beaker.javash.bkr4cc3f396.IUpdate"
      ]
     },
     "execution_count": 3,
     "metadata": {},
     "output_type": "execute_result"
    }
   ],
   "source": [
    "public interface IUpdate {\n",
    "  public void update();\n",
    "}"
   ]
  },
  {
   "cell_type": "code",
   "execution_count": 4,
   "metadata": {},
   "outputs": [
    {
     "data": {
      "text/plain": [
       "com.twosigma.beaker.javash.bkr4cc3f396.IUpdateReceptacle"
      ]
     },
     "execution_count": 4,
     "metadata": {},
     "output_type": "execute_result"
    }
   ],
   "source": [
    "public interface IUpdateReceptacle {\n",
    "  public void connect(IUpdate notify);\n",
    "}"
   ]
  },
  {
   "cell_type": "markdown",
   "metadata": {},
   "source": [
    "# Console"
   ]
  },
  {
   "cell_type": "code",
   "execution_count": 5,
   "metadata": {},
   "outputs": [
    {
     "data": {
      "text/plain": [
       "com.twosigma.beaker.javash.bkr4cc3f396.IConsole"
      ]
     },
     "execution_count": 5,
     "metadata": {},
     "output_type": "execute_result"
    }
   ],
   "source": [
    "public interface IConsole extends ITableReceptacle, IUpdate {\n",
    "}"
   ]
  },
  {
   "cell_type": "code",
   "execution_count": 6,
   "metadata": {},
   "outputs": [
    {
     "data": {
      "text/plain": [
       "com.twosigma.beaker.javash.bkr4cc3f396.ConsoleComponent"
      ]
     },
     "execution_count": 6,
     "metadata": {},
     "output_type": "execute_result"
    }
   ],
   "source": [
    "public class ConsoleComponent implements IConsole {\n",
    "  private ITableProducer iProducer;\n",
    "  \n",
    "  public void connect(ITableProducer producer) {\n",
    "    iProducer = producer;\n",
    "  }\n",
    "  \n",
    "  public void update() {\n",
    "    if (iProducer != null) {\n",
    "        System.out.println(\"=== Attributes ===\");\n",
    "        String attributes[] = iProducer.requestAttributes();\n",
    "        for (int a = 0; a < attributes.length-1; a++)\n",
    "          System.out.print(attributes[a] + \", \");\n",
    "        System.out.println(attributes[attributes.length-1]);\n",
    "\n",
    "        System.out.println();\n",
    "        System.out.println(\"=== Instances ===\");\n",
    "        String instances[][] = iProducer.requestInstances();\n",
    "        for (int i = 0; i < instances.length; i++) {\n",
    "          for (int a = 0; a < attributes.length-1; a ++)\n",
    "            System.out.print(instances[i][a] + \", \");\n",
    "          System.out.println(instances[i][attributes.length-1]);\n",
    "        }\n",
    "    }\n",
    "  }\n",
    "}"
   ]
  },
  {
   "cell_type": "markdown",
   "metadata": {},
   "source": [
    "# SensorReading e Message"
   ]
  },
  {
   "cell_type": "code",
   "execution_count": 7,
   "metadata": {},
   "outputs": [
    {
     "data": {
      "text/plain": [
       "com.twosigma.beaker.javash.bkr4cc3f396.SensorReading"
      ]
     },
     "execution_count": 7,
     "metadata": {},
     "output_type": "execute_result"
    }
   ],
   "source": [
    "import java.util.Date;\n",
    "\n",
    "public class SensorReading {\n",
    "   private Date timestamp;\n",
    "   private String dimension;\n",
    "   private double value;\n",
    "   private String unity;\n",
    "   \n",
    "   public SensorReading() {\n",
    "      /* nothing */\n",
    "   }\n",
    "   \n",
    "   public SensorReading(Date timestamp, String dimension, double value, String unity) {\n",
    "      this.timestamp = timestamp;\n",
    "      this.dimension = dimension;\n",
    "      this.value = value;\n",
    "      this.unity = unity;\n",
    "   }\n",
    "\n",
    "   public Date getTimestamp() {\n",
    "      return timestamp;\n",
    "   }\n",
    "   \n",
    "   public void setTimestamp(Date timestamp) {\n",
    "      this.timestamp = timestamp;\n",
    "   }\n",
    "   \n",
    "   public String getDimension() {\n",
    "      return dimension;\n",
    "   }\n",
    "   \n",
    "   public void setDimension(String dimension) {\n",
    "      this.dimension = dimension;\n",
    "   }\n",
    "   \n",
    "   public double getValue() {\n",
    "      return value;\n",
    "   }\n",
    "   \n",
    "   public void setValue(double value) {\n",
    "      this.value = value;\n",
    "   }\n",
    "   \n",
    "   public String getUnity() {\n",
    "      return unity;\n",
    "   }\n",
    "   \n",
    "   public void setUnity(String unity) {\n",
    "      this.unity = unity;\n",
    "   }\n",
    "}"
   ]
  },
  {
   "cell_type": "code",
   "execution_count": 8,
   "metadata": {},
   "outputs": [
    {
     "data": {
      "text/plain": [
       "com.twosigma.beaker.javash.bkr4cc3f396.Message"
      ]
     },
     "execution_count": 8,
     "metadata": {},
     "output_type": "execute_result"
    }
   ],
   "source": [
    "public class Message {\n",
    "   private String source;\n",
    "   private String name;\n",
    "   private String type;\n",
    "   private SensorReading body;\n",
    "   \n",
    "   public Message() {\n",
    "      /* nothing */\n",
    "   }\n",
    "   \n",
    "   public Message(String source, String name, String type, SensorReading body) {\n",
    "      super();\n",
    "      this.source = source;\n",
    "      this.name = name;\n",
    "      this.type = type;\n",
    "      this.body = body;\n",
    "   }\n",
    "\n",
    "   public String getSource() {\n",
    "      return source;\n",
    "   }\n",
    "   \n",
    "   public void setSource(String source) {\n",
    "      this.source = source;\n",
    "   }\n",
    "   \n",
    "   public String getName() {\n",
    "      return name;\n",
    "   }\n",
    "   \n",
    "   public void setName(String name) {\n",
    "      this.name = name;\n",
    "   }\n",
    "   \n",
    "   public String getType() {\n",
    "      return type;\n",
    "   }\n",
    "   \n",
    "   public void setType(String type) {\n",
    "      this.type = type;\n",
    "   }\n",
    "   \n",
    "   public SensorReading getBody() {\n",
    "      return body;\n",
    "   }\n",
    "   \n",
    "   public void setBody(SensorReading body) {\n",
    "      this.body = body;\n",
    "   }\n",
    "}"
   ]
  },
  {
   "cell_type": "markdown",
   "metadata": {},
   "source": [
    "# BusConsumer"
   ]
  },
  {
   "cell_type": "code",
   "execution_count": 9,
   "metadata": {},
   "outputs": [
    {
     "data": {
      "text/plain": [
       "com.twosigma.beaker.javash.bkr4cc3f396.IBusProperties"
      ]
     },
     "execution_count": 9,
     "metadata": {},
     "output_type": "execute_result"
    }
   ],
   "source": [
    "public interface IBusProperties {\n",
    "  public String getBusURI();\n",
    "  public void setBusURI(String dataSource);\n",
    "  public String getTopic();\n",
    "  public void setTopic(String topic);\n",
    "}"
   ]
  },
  {
   "cell_type": "code",
   "execution_count": 10,
   "metadata": {},
   "outputs": [
    {
     "data": {
      "text/plain": [
       "com.twosigma.beaker.javash.bkr4cc3f396.IBusConsumerProperties"
      ]
     },
     "execution_count": 10,
     "metadata": {},
     "output_type": "execute_result"
    }
   ],
   "source": [
    "public interface IBusConsumerProperties extends IBusProperties {\n",
    "  public int getBlockSize();\n",
    "  public void setBlockSize(int blockSize);\n",
    "  public int getNumber();\n",
    "  public void setNumber(int number);\n",
    "  public int getVerbose();\n",
    "  public void setVerbose(int verbose);\n",
    "}"
   ]
  },
  {
   "cell_type": "code",
   "execution_count": 11,
   "metadata": {},
   "outputs": [
    {
     "data": {
      "text/plain": [
       "com.twosigma.beaker.javash.bkr4cc3f396.IBusConsumer"
      ]
     },
     "execution_count": 11,
     "metadata": {},
     "output_type": "execute_result"
    }
   ],
   "source": [
    "public interface IBusConsumer extends ITableProducer, IBusConsumerProperties, IUpdateReceptacle {\n",
    "}"
   ]
  },
  {
   "cell_type": "code",
   "execution_count": 12,
   "metadata": {},
   "outputs": [
    {
     "data": {
      "application/vnd.jupyter.widget-view+json": {
       "model_id": "a34ed7a3-f140-49c3-9b80-cfa88bcd55e5",
       "version_major": 2,
       "version_minor": 0
      },
      "method": "display_data"
     },
     "metadata": {},
     "output_type": "display_data"
    },
    {
     "data": {
      "application/vnd.jupyter.widget-view+json": {
       "model_id": "702c408d-49c4-41ea-855a-b9b891ac7df5",
       "version_major": 2,
       "version_minor": 0
      },
      "method": "display_data"
     },
     "metadata": {},
     "output_type": "display_data"
    },
    {
     "data": {
      "application/vnd.jupyter.widget-view+json": {
       "model_id": "a822f3c8-3c60-4a99-b261-5de7330c46e8",
       "version_major": 2,
       "version_minor": 0
      },
      "method": "display_data"
     },
     "metadata": {},
     "output_type": "display_data"
    }
   ],
   "source": [
    "%classpath add jar ../../../../src/lib/mqttv3-1.1.2.jar\n",
    "%classpath add jar ../../../../src/lib/mysql-connector-java-5.1.17-bin.jar\n",
    "%classpath add jar ../../../../src/lib/genson-1.6.jar"
   ]
  },
  {
   "cell_type": "code",
   "execution_count": 13,
   "metadata": {},
   "outputs": [
    {
     "data": {
      "text/plain": [
       "com.twosigma.beaker.javash.bkr4cc3f396.BusConsumerComponent"
      ]
     },
     "execution_count": 13,
     "metadata": {},
     "output_type": "execute_result"
    }
   ],
   "source": [
    "import java.text.SimpleDateFormat;\n",
    "import java.util.ArrayList;\n",
    "import java.util.UUID;\n",
    "\n",
    "import org.eclipse.paho.client.mqttv3.IMqttDeliveryToken;\n",
    "import org.eclipse.paho.client.mqttv3.MqttCallback;\n",
    "import org.eclipse.paho.client.mqttv3.MqttClient;\n",
    "import org.eclipse.paho.client.mqttv3.MqttConnectOptions;\n",
    "import org.eclipse.paho.client.mqttv3.MqttException;\n",
    "import org.eclipse.paho.client.mqttv3.MqttMessage;\n",
    "\n",
    "import com.owlike.genson.Genson;\n",
    "import com.owlike.genson.GensonBuilder;\n",
    "\n",
    "public class BusConsumerComponent implements IBusConsumer, MqttCallback {\n",
    "  private String busURI = null;\n",
    "  private String topic = null;\n",
    "  private int blockSize = 5;\n",
    "  private int number = 10;\n",
    "  private int verbose = 2;\n",
    "  \n",
    "  private String[] attributes = {\"message\", \"timestamp\", \"dimension\", \"value\", \"unit\"};\n",
    "  private ArrayList<String[]> instArray = new ArrayList<String[]>();\n",
    "  private IUpdate notify = null;\n",
    "  private int count = 0;\n",
    "  private int total = 0;\n",
    "  \n",
    "  private Genson genson;\n",
    "\n",
    "  private MqttClient client;\n",
    "  private MqttConnectOptions connectionOptions;\n",
    "  private String clientID;  \n",
    "  \n",
    "  public BusConsumerComponent() {\n",
    "    /* nothing */\n",
    "  }\n",
    "\n",
    "  public String getBusURI() {\n",
    "    return busURI;\n",
    "  }\n",
    "\n",
    "  public void setBusURI(String busURI) {\n",
    "    this.busURI = busURI;\n",
    "  }\n",
    "  \n",
    "  public String getTopic() {\n",
    "     return topic;\n",
    "  }\n",
    "  \n",
    "  public void setTopic(String topic) {\n",
    "     this.topic = topic;\n",
    "     readDS();\n",
    "  }\n",
    "  \n",
    "  public int getBlockSize() {\n",
    "     return blockSize;\n",
    "  }\n",
    "  \n",
    "  public void setBlockSize(int blockSize) {\n",
    "     this.blockSize = blockSize;\n",
    "  }\n",
    "  \n",
    "  public int getNumber() {\n",
    "     return number;\n",
    "  }\n",
    "  \n",
    "  public void setNumber(int number) {\n",
    "     this.number = number;\n",
    "  }\n",
    "  \n",
    "  public int getVerbose() {\n",
    "     return verbose;\n",
    "  }\n",
    "  \n",
    "  public void setVerbose(int verbose) {\n",
    "     this.verbose = verbose;\n",
    "  }\n",
    "  \n",
    "  public void connect(IUpdate notify) {\n",
    "     this.notify = notify;\n",
    "  }\n",
    "  \n",
    "  public String[] requestAttributes() {\n",
    "    return attributes;\n",
    "  }\n",
    "  \n",
    "  public String[][] requestInstances() {\n",
    "    String instances[][] = instArray.toArray(new String[0][]);\n",
    "    instArray = new ArrayList<String[]>();\n",
    "    return instances;\n",
    "  }\n",
    "  \n",
    "  private void readDS() {\n",
    "    genson = new GensonBuilder()\n",
    "      .useDateFormat(new SimpleDateFormat(\"yyyy-MM-dd\"))\n",
    "      .useIndentation(true)\n",
    "      .useConstructorWithArguments(false)\n",
    "      .create();\n",
    "     \n",
    "    clientID = UUID.randomUUID().toString();      \n",
    "    connectionOptions = new MqttConnectOptions();\n",
    "    connectionOptions.setAutomaticReconnect(true);\n",
    "    connectionOptions.setCleanSession(true);\n",
    "    connectionOptions.setConnectionTimeout(20);\n",
    "     \n",
    "    try {\n",
    "      client = new MqttClient(busURI, clientID);\n",
    "      client.connect(connectionOptions);            \n",
    "      client.setCallback(this);\n",
    "      client.subscribe(topic);\n",
    "      System.out.println(\"[MQTTConsumer] connected\");            \n",
    "    } catch (MqttException e) {\n",
    "      e.printStackTrace();\n",
    "    }\n",
    "  }\n",
    "  \n",
    "  @Override\n",
    "  public void connectionLost(Throwable cause) {\n",
    "    System.out.println(\"[BusConsumerComponent] Connection lost.  Reason: \" + cause);\n",
    "    System.exit(1);\n",
    "  }\n",
    "\n",
    "  @Override\n",
    "  public void messageArrived(String topic, MqttMessage message) throws MqttException {\n",
    "    if (total < number) {\n",
    "       Message mess = genson.deserialize(new String(message.getPayload()), Message.class);\n",
    "       \n",
    "       SensorReading body = mess.getBody();\n",
    "       \n",
    "       count++;\n",
    "       total++;\n",
    "       String reading[] = {Integer.toString(count),\n",
    "                           Long.toString(body.getTimestamp().getTime()), body.getDimension(),\n",
    "                           Double.toString(body.getValue()), body.getUnity()}; \n",
    "       instArray.add(reading);\n",
    "       \n",
    "       switch (verbose) {\n",
    "          case 1: System.out.println(\"message: \" + count); break;\n",
    "          case 2: System.out.println(\"message: \" + count);\n",
    "                  System.out.println(\"topic: \" + topic);\n",
    "                  String json = genson.serialize(mess);\n",
    "                  System.out.println(json);\n",
    "                  break;\n",
    "       }\n",
    "   \n",
    "       if (count == blockSize && notify != null) {\n",
    "          count = 0;\n",
    "          notify.update();\n",
    "       }\n",
    "    }\n",
    "    \n",
    "  }\n",
    "\n",
    "\n",
    "  @Override\n",
    "  public void deliveryComplete(IMqttDeliveryToken token) {\n",
    "  }\n",
    "}"
   ]
  },
  {
   "cell_type": "markdown",
   "metadata": {},
   "source": [
    "# Conectando BusConsumer\n",
    "\n",
    "## Propriedades\n",
    "* `verbose` - define se mostrará na tela as mensagens recebidas:\n",
    "  * `0` - não mostra\n",
    "  * `1` - mostra somente contagem\n",
    "  * `2` - mostra contagem e mensagem"
   ]
  },
  {
   "cell_type": "code",
   "execution_count": 14,
   "metadata": {},
   "outputs": [
    {
     "name": "stdout",
     "output_type": "stream",
     "text": [
      "[MQTTConsumer] connected\n"
     ]
    },
    {
     "data": {
      "text/plain": [
       "null"
      ]
     },
     "execution_count": 14,
     "metadata": {},
     "output_type": "execute_result"
    },
    {
     "name": "stdout",
     "output_type": "stream",
     "text": [
      "message: 1\n",
      "topic: sensor/1/temperature\n",
      "{\n",
      "  \"body\":{\n",
      "    \"dimension\":\"temperature\",\n",
      "    \"timestamp\":1566000000000,\n",
      "    \"unity\":\"°C\",\n",
      "    \"value\":24.545218048484905\n",
      "  },\n",
      "  \"name\":\"1\",\n",
      "  \"source\":\"sensor\",\n",
      "  \"type\":\"reading\"\n",
      "}\n",
      "message: 2\n",
      "topic: sensor/1/temperature\n",
      "{\n",
      "  \"body\":{\n",
      "    \"dimension\":\"temperature\",\n",
      "    \"timestamp\":1566000000000,\n",
      "    \"unity\":\"°C\",\n",
      "    \"value\":24.94148339008938\n",
      "  },\n",
      "  \"name\":\"1\",\n",
      "  \"source\":\"sensor\",\n",
      "  \"type\":\"reading\"\n",
      "}\n",
      "message: 3\n",
      "topic: sensor/1/temperature\n",
      "{\n",
      "  \"body\":{\n",
      "    \"dimension\":\"temperature\",\n",
      "    \"timestamp\":1566000000000,\n",
      "    \"unity\":\"°C\",\n",
      "    \"value\":25.894116666462192\n",
      "  },\n",
      "  \"name\":\"1\",\n",
      "  \"source\":\"sensor\",\n",
      "  \"type\":\"reading\"\n",
      "}\n"
     ]
    }
   ],
   "source": [
    "  try {\n",
    "    IBusConsumer bc = new BusConsumerComponent();\n",
    "    bc.setBusURI(\"tcp://localhost:1883\");\n",
    "    bc.setTopic(\"sensor/+/+\");\n",
    "    bc.setNumber(3);\n",
    "    bc.setVerbose(2);\n",
    "  } catch (Exception e) {\n",
    "    e.printStackTrace();\n",
    "  }"
   ]
  },
  {
   "cell_type": "markdown",
   "metadata": {},
   "source": [
    "# Conectando com o Console"
   ]
  },
  {
   "cell_type": "code",
   "execution_count": 15,
   "metadata": {},
   "outputs": [
    {
     "name": "stdout",
     "output_type": "stream",
     "text": [
      "[MQTTConsumer] connected\n"
     ]
    },
    {
     "data": {
      "text/plain": [
       "null"
      ]
     },
     "execution_count": 15,
     "metadata": {},
     "output_type": "execute_result"
    },
    {
     "name": "stdout",
     "output_type": "stream",
     "text": [
      "message: 1\n",
      "topic: sensor/1/temperature\n",
      "{\n",
      "  \"body\":{\n",
      "    \"dimension\":\"temperature\",\n",
      "    \"timestamp\":1566000000000,\n",
      "    \"unity\":\"°C\",\n",
      "    \"value\":24.94148339008938\n",
      "  },\n",
      "  \"name\":\"1\",\n",
      "  \"source\":\"sensor\",\n",
      "  \"type\":\"reading\"\n",
      "}\n",
      "message: 2\n",
      "topic: sensor/1/temperature\n",
      "{\n",
      "  \"body\":{\n",
      "    \"dimension\":\"temperature\",\n",
      "    \"timestamp\":1566000000000,\n",
      "    \"unity\":\"°C\",\n",
      "    \"value\":25.894116666462192\n",
      "  },\n",
      "  \"name\":\"1\",\n",
      "  \"source\":\"sensor\",\n",
      "  \"type\":\"reading\"\n",
      "}\n"
     ]
    }
   ],
   "source": [
    "  try {\n",
    "     IBusConsumer bc = new BusConsumerComponent();\n",
    "     bc.setBusURI(\"tcp://localhost:1883\");\n",
    "     bc.setTopic(\"sensor/+/+\");\n",
    "     bc.setBlockSize(5);\n",
    "     bc.setNumber(2);\n",
    "     bc.setVerbose(2);\n",
    " \n",
    "     IConsole console = new ConsoleComponent();\n",
    "     console.connect(bc);\n",
    "\n",
    "     bc.connect(console);\n",
    "  } catch (Exception e) {\n",
    "    e.printStackTrace();\n",
    "  }"
   ]
  },
  {
   "cell_type": "markdown",
   "metadata": {},
   "source": [
    "## Projeção"
   ]
  },
  {
   "cell_type": "code",
   "execution_count": 16,
   "metadata": {},
   "outputs": [
    {
     "data": {
      "text/plain": [
       "com.twosigma.beaker.javash.bkr4cc3f396.IProjectionProperties"
      ]
     },
     "execution_count": 16,
     "metadata": {},
     "output_type": "execute_result"
    }
   ],
   "source": [
    "public interface IProjectionProperties {\n",
    "  String[] getAttributes();\n",
    "  void setAttributes(String attribute[]);\n",
    "}"
   ]
  },
  {
   "cell_type": "code",
   "execution_count": 17,
   "metadata": {},
   "outputs": [
    {
     "data": {
      "text/plain": [
       "com.twosigma.beaker.javash.bkr4cc3f396.IProjection"
      ]
     },
     "execution_count": 17,
     "metadata": {},
     "output_type": "execute_result"
    }
   ],
   "source": [
    "public interface IProjection extends IProjectionProperties, ITableProducer, ITableReceptacle {\n",
    "}"
   ]
  },
  {
   "cell_type": "code",
   "execution_count": 18,
   "metadata": {},
   "outputs": [
    {
     "data": {
      "text/plain": [
       "com.twosigma.beaker.javash.bkr4cc3f396.ProjectionComponent"
      ]
     },
     "execution_count": 18,
     "metadata": {},
     "output_type": "execute_result"
    }
   ],
   "source": [
    "public class ProjectionComponent implements IProjection {\n",
    "  private ITableProducer provider;\n",
    "  \n",
    "  private String attributes[] = null;\n",
    "  \n",
    "  public String[] getAttributes() {\n",
    "    return attributes;\n",
    "  }\n",
    "\n",
    "  public void setAttributes(String attributes[]) {\n",
    "    this.attributes = attributes;\n",
    "  }\n",
    "  \n",
    "  public void connect(ITableProducer provider) {\n",
    "    this.provider = provider;\n",
    "  }\n",
    "  \n",
    "  public String[] requestAttributes() {\n",
    "    return attributes;\n",
    "  }\n",
    "  \n",
    "  public String[][] requestInstances() {\n",
    "    String[][] instances = null;\n",
    "    \n",
    "    if (provider != null) {\n",
    "      String[][] allInstances = provider.requestInstances();\n",
    "      if (allInstances != null  && attributes != null) {\n",
    "        instances = new String[allInstances.length][];\n",
    "        \n",
    "        // busca a posicao dos atributos selecionados na tabela original\n",
    "        String[] allAttributes = provider.requestAttributes();\n",
    "        int attrPos[] = new int[attributes.length];\n",
    "        for (int as = 0; as < attributes.length; as++) {\n",
    "          int aa;\n",
    "          for (aa = 0; aa < allAttributes.length &&\n",
    "               !attributes[as].equalsIgnoreCase(allAttributes[aa]); aa++)\n",
    "            /* nothing */;\n",
    "          if (aa < allAttributes.length)\n",
    "            attrPos[as] = aa;\n",
    "          else\n",
    "            attrPos[as] = -1;\n",
    "        }\n",
    "        \n",
    "        // filtra atributos selecionados\n",
    "        for (int i = 0; i < allInstances.length; i++) {\n",
    "          instances[i] = new String[attributes.length];\n",
    "          for (int as = 0; as < attributes.length; as++)\n",
    "            if (attrPos[as] > -1)\n",
    "              instances[i][as] = allInstances[i][attrPos[as]];\n",
    "        }\n",
    "      }\n",
    "    }\n",
    "    \n",
    "    return instances;\n",
    "  }\n",
    "}"
   ]
  },
  {
   "cell_type": "code",
   "execution_count": 19,
   "metadata": {},
   "outputs": [
    {
     "name": "stdout",
     "output_type": "stream",
     "text": [
      "[MQTTConsumer] connected\n"
     ]
    },
    {
     "data": {
      "text/plain": [
       "null"
      ]
     },
     "execution_count": 19,
     "metadata": {},
     "output_type": "execute_result"
    },
    {
     "name": "stdout",
     "output_type": "stream",
     "text": [
      "message: 1\n",
      "message: 2\n",
      "message: 3\n",
      "=== Attributes ===\n",
      "dimension, value\n",
      "\n",
      "=== Instances ===\n",
      "temperature, 25.894116666462192\n",
      "temperature, 22.78053613687659\n",
      "temperature, 20.102908461646987\n",
      "message: 1\n",
      "message: 2\n",
      "message: 3\n",
      "=== Attributes ===\n",
      "dimension, value\n",
      "\n",
      "=== Instances ===\n",
      "temperature, 23.762045627236592\n",
      "temperature, 24.727357041508455\n",
      "temperature, 24.69689624569935\n"
     ]
    }
   ],
   "source": [
    "  try {\n",
    "    IBusConsumer bc = new BusConsumerComponent();\n",
    "    bc.setBusURI(\"tcp://localhost:1883\");\n",
    "    bc.setTopic(\"sensor/+/+\");\n",
    "    bc.setBlockSize(3);\n",
    "    bc.setNumber(6);\n",
    "    bc.setVerbose(1);\n",
    "\n",
    "    IProjection projection = new ProjectionComponent();\n",
    "    String[] attributes = {\"dimension\", \"value\"};\n",
    "    projection.setAttributes(attributes);\n",
    "    projection.connect(bc);\n",
    "\n",
    "    IConsole console = new ConsoleComponent();\n",
    "    console.connect(projection);\n",
    "\n",
    "    bc.connect(console);\n",
    "  } catch (Exception e) {\n",
    "    e.printStackTrace();\n",
    "  }"
   ]
  },
  {
   "cell_type": "markdown",
   "metadata": {},
   "source": [
    "## Seleção"
   ]
  },
  {
   "cell_type": "code",
   "execution_count": 20,
   "metadata": {},
   "outputs": [
    {
     "data": {
      "text/plain": [
       "com.twosigma.beaker.javash.bkr4cc3f396.ISelectionProperties"
      ]
     },
     "execution_count": 20,
     "metadata": {},
     "output_type": "execute_result"
    }
   ],
   "source": [
    "public interface ISelectionProperties {\n",
    "  String getAttribute();\n",
    "  void setAttribute(String attributeA);\n",
    "  public String getOperator();\n",
    "  public void setOperator(String operator);\n",
    "  public String getValue();\n",
    "  public void setValue(String value);\n",
    "  boolean isNominalComparison();\n",
    "  void setNominalComparison(boolean nominalComparison);\n",
    "}"
   ]
  },
  {
   "cell_type": "code",
   "execution_count": 21,
   "metadata": {},
   "outputs": [
    {
     "data": {
      "text/plain": [
       "com.twosigma.beaker.javash.bkr4cc3f396.ISelection"
      ]
     },
     "execution_count": 21,
     "metadata": {},
     "output_type": "execute_result"
    }
   ],
   "source": [
    "public interface ISelection extends ISelectionProperties, ITableProducer, ITableReceptacle {\n",
    "}"
   ]
  },
  {
   "cell_type": "code",
   "execution_count": 22,
   "metadata": {},
   "outputs": [
    {
     "data": {
      "text/plain": [
       "com.twosigma.beaker.javash.bkr4cc3f396.SelectionComponent"
      ]
     },
     "execution_count": 22,
     "metadata": {},
     "output_type": "execute_result"
    }
   ],
   "source": [
    "import java.util.ArrayList;\n",
    "\n",
    "public class SelectionComponent implements ISelection {\n",
    "  private ITableProducer provider;\n",
    "  \n",
    "  private String attribute = null,\n",
    "                 operator = null,\n",
    "                 value = null;\n",
    "  private boolean nominalComparison = true;\n",
    "  \n",
    "  public String getAttribute() {\n",
    "    return attribute;\n",
    "  }\n",
    "\n",
    "  public void setAttribute(String attribute) {\n",
    "    this.attribute = attribute;\n",
    "  }\n",
    "  \n",
    "  public String getOperator() {\n",
    "    return operator;\n",
    "  }\n",
    "  \n",
    "  public void setOperator(String operator) {\n",
    "    this.operator = operator;\n",
    "  }\n",
    "  \n",
    "  public String getValue() {\n",
    "    return value;\n",
    "  }\n",
    "  \n",
    "  public void setValue(String value) {\n",
    "    this.value = value;\n",
    "  }\n",
    "  \n",
    "  public boolean isNominalComparison() {\n",
    "    return nominalComparison;\n",
    "  }\n",
    "\n",
    "  public void setNominalComparison(boolean nominalComparison) {\n",
    "    this.nominalComparison = nominalComparison;\n",
    "  }\n",
    "\n",
    "  public void connect(ITableProducer provider) {\n",
    "    this.provider = provider;\n",
    "  }\n",
    "  \n",
    "  public String[] requestAttributes() {\n",
    "    return (provider == null) ? null : provider.requestAttributes();\n",
    "  }\n",
    "  \n",
    "  public String[][] requestInstances() {\n",
    "    ArrayList<String[]> instances = null;\n",
    "    \n",
    "    if (provider != null) {\n",
    "      String[][] allInstances = provider.requestInstances();\n",
    "      \n",
    "      if (allInstances != null) {\n",
    "        // busca a posicao dos atributos selecionados na tabela original\n",
    "        String[] allAttributes = provider.requestAttributes();\n",
    "        int atrPos;\n",
    "        for (atrPos = 0; atrPos < allAttributes.length &&\n",
    "             !attribute.equalsIgnoreCase(allAttributes[atrPos]); atrPos++)\n",
    "          /* nothing */;\n",
    "        if (atrPos < allAttributes.length) {\n",
    "          instances = new ArrayList<String[]>();\n",
    "          \n",
    "          for (String[] ai: allInstances) {\n",
    "            boolean match = false;\n",
    "            if (nominalComparison) {\n",
    "              switch (operator.charAt(0)) {\n",
    "                case '=': if (ai[atrPos].equalsIgnoreCase(value))\n",
    "                       match = true;\n",
    "                     break;\n",
    "                case '<': if (ai[atrPos].compareTo(value) < 0)\n",
    "                       match = true;\n",
    "                     break;\n",
    "                case '>': if (ai[atrPos].compareTo(value) > 0)\n",
    "                       match = true;\n",
    "                     break;\n",
    "                case '!': if (!ai[atrPos].equalsIgnoreCase(value))\n",
    "                     match = true;\n",
    "                     break;\n",
    "              }\n",
    "            } else {\n",
    "              switch (operator.charAt(0)) {\n",
    "                case '=': if (Double.parseDouble(ai[atrPos]) == Double.parseDouble(value))\n",
    "                            match = true;\n",
    "                          break;\n",
    "                case '<': if (Double.parseDouble(ai[atrPos]) < Double.parseDouble(value))\n",
    "                            match = true;\n",
    "                          break;\n",
    "                case '>': if (Double.parseDouble(ai[atrPos]) > Double.parseDouble(value))\n",
    "                            match = true;\n",
    "                          break;\n",
    "                case '!': if (Double.parseDouble(ai[atrPos]) != Double.parseDouble(value))\n",
    "                            match = true;\n",
    "                          break;\n",
    "              }\n",
    "            }\n",
    "            if (match)\n",
    "              instances.add(ai);\n",
    "                \n",
    "          }\n",
    "        }\n",
    "      }\n",
    "    }\n",
    "    \n",
    "    return (instances == null) ? null : instances.toArray(new String[1][]);\n",
    "  }\n",
    "}"
   ]
  },
  {
   "cell_type": "code",
   "execution_count": 23,
   "metadata": {},
   "outputs": [
    {
     "name": "stdout",
     "output_type": "stream",
     "text": [
      "[MQTTConsumer] connected\n"
     ]
    },
    {
     "data": {
      "text/plain": [
       "null"
      ]
     },
     "execution_count": 23,
     "metadata": {},
     "output_type": "execute_result"
    },
    {
     "name": "stdout",
     "output_type": "stream",
     "text": [
      "message: 1\n",
      "message: 2\n",
      "message: 3\n",
      "=== Attributes ===\n",
      "message, timestamp, dimension, value, unit\n",
      "\n",
      "=== Instances ===\n",
      "1, 1566000000000, temperature, 22.78053613687659, °C\n",
      "3, 1566000000000, temperature, 23.762045627236592, °C\n",
      "message: 1\n",
      "message: 2\n",
      "message: 3\n",
      "=== Attributes ===\n",
      "message, timestamp, dimension, value, unit\n",
      "\n",
      "=== Instances ===\n",
      "1, 1566000000000, temperature, 24.727357041508455, °C\n",
      "2, 1566000000000, temperature, 24.69689624569935, °C\n"
     ]
    }
   ],
   "source": [
    "  try {\n",
    "    IBusConsumer bc = new BusConsumerComponent();\n",
    "    bc.setBusURI(\"tcp://localhost:1883\");\n",
    "    bc.setTopic(\"sensor/+/+\");\n",
    "    bc.setBlockSize(3);\n",
    "    bc.setNumber(6);\n",
    "    bc.setVerbose(1);\n",
    "\n",
    "    ISelection selection = new SelectionComponent();\n",
    "    selection.connect(bc);\n",
    "    selection.setAttribute(\"value\");\n",
    "    selection.setOperator(\">\");\n",
    "    selection.setValue(\"22\");\n",
    "    selection.setNominalComparison(false);\n",
    "\n",
    "    IConsole console = new ConsoleComponent();\n",
    "    console.connect(selection);\n",
    "\n",
    "    bc.connect(console);\n",
    "  } catch (Exception e) {\n",
    "    e.printStackTrace();\n",
    "  }"
   ]
  },
  {
   "cell_type": "markdown",
   "metadata": {},
   "source": [
    "# Producer Component - Média"
   ]
  },
  {
   "cell_type": "code",
   "execution_count": 24,
   "metadata": {},
   "outputs": [
    {
     "data": {
      "text/plain": [
       "com.twosigma.beaker.javash.bkr4cc3f396.IBusProducerProperties"
      ]
     },
     "execution_count": 24,
     "metadata": {},
     "output_type": "execute_result"
    }
   ],
   "source": [
    "public interface IBusProducerProperties extends IBusProperties {\n",
    "  public int getVerbose();\n",
    "  public void setVerbose(int verbose);\n",
    "}"
   ]
  },
  {
   "cell_type": "code",
   "execution_count": 25,
   "metadata": {},
   "outputs": [
    {
     "data": {
      "text/plain": [
       "com.twosigma.beaker.javash.bkr4cc3f396.IBusProducer"
      ]
     },
     "execution_count": 25,
     "metadata": {},
     "output_type": "execute_result"
    }
   ],
   "source": [
    "public interface IBusProducer extends ITableReceptacle, IBusProducerProperties, IUpdate {\n",
    "}"
   ]
  },
  {
   "cell_type": "code",
   "execution_count": 26,
   "metadata": {},
   "outputs": [
    {
     "data": {
      "text/plain": [
       "com.twosigma.beaker.javash.bkr4cc3f396.BusProducerComponent"
      ]
     },
     "execution_count": 26,
     "metadata": {},
     "output_type": "execute_result"
    }
   ],
   "source": [
    "import java.text.SimpleDateFormat;\n",
    "import java.util.Calendar;\n",
    "import java.util.UUID;\n",
    "\n",
    "import org.eclipse.paho.client.mqttv3.IMqttDeliveryToken;\n",
    "import org.eclipse.paho.client.mqttv3.MqttCallback;\n",
    "import org.eclipse.paho.client.mqttv3.MqttClient;\n",
    "import org.eclipse.paho.client.mqttv3.MqttConnectOptions;\n",
    "import org.eclipse.paho.client.mqttv3.MqttException;\n",
    "import org.eclipse.paho.client.mqttv3.MqttMessage;\n",
    "\n",
    "import com.owlike.genson.Genson;\n",
    "import com.owlike.genson.GensonBuilder;\n",
    "\n",
    "public class BusProducerComponent implements IBusProducer, MqttCallback {\n",
    "  private String busURI = null;\n",
    "  private String topic = null;\n",
    "  private int verbose = 2;\n",
    "  \n",
    "  private int count = 0;\n",
    "  \n",
    "  private ITableProducer iProducer;\n",
    "  \n",
    "  private Genson genson;\n",
    "\n",
    "  private MqttClient client;\n",
    "  private MqttConnectOptions connectionOptions;\n",
    "  private String clientID;\n",
    "  private final int qos = 1; \n",
    "  \n",
    "  public BusProducerComponent() {\n",
    "     genson = new GensonBuilder()\n",
    "           .useDateFormat(new SimpleDateFormat(\"yyyy-MM-dd\"))\n",
    "           .useIndentation(true)\n",
    "           .useConstructorWithArguments(false)\n",
    "           .create();\n",
    "  }\n",
    "\n",
    "  public String getBusURI() {\n",
    "    return busURI;\n",
    "  }\n",
    "\n",
    "  public void setBusURI(String busURI) {\n",
    "    this.busURI = busURI;\n",
    "    clientID = UUID.randomUUID().toString();      \n",
    "    connectionOptions = new MqttConnectOptions();\n",
    "    connectionOptions.setAutomaticReconnect(true);\n",
    "    connectionOptions.setCleanSession(true);\n",
    "    connectionOptions.setConnectionTimeout(20);\n",
    "     \n",
    "    try {\n",
    "      client = new MqttClient(busURI, clientID);\n",
    "      client.connect(connectionOptions);            \n",
    "      client.setCallback(this);\n",
    "      System.out.println(\"[MQTTProducer] connected\");            \n",
    "    } catch (MqttException e) {\n",
    "      e.printStackTrace();\n",
    "    }\n",
    "  }\n",
    "  \n",
    "  public String getTopic() {\n",
    "     return topic;\n",
    "  }\n",
    "  \n",
    "  public void setTopic(String topic) {\n",
    "     this.topic = topic;\n",
    "  }\n",
    "  \n",
    "  public int getVerbose() {\n",
    "     return verbose;\n",
    "  }\n",
    "  \n",
    "  public void setVerbose(int verbose) {\n",
    "     this.verbose = verbose;\n",
    "  }\n",
    "  \n",
    "  public void connect(ITableProducer producer) {\n",
    "     iProducer = producer;\n",
    "  }\n",
    "   \n",
    "  public void update() {\n",
    "     if (iProducer != null) {\n",
    "        String instances[][] = iProducer.requestInstances();\n",
    "        double av = 0;\n",
    "        for (int i = 0; i < instances.length; i++)\n",
    "           av += Double.parseDouble(instances[i][3]);\n",
    "        av = (av == 0) ? 0 : av / instances.length;\n",
    "        \n",
    "        Message mess = new Message(\"statistics\", \"average\", \"calculus\",\n",
    "              new SensorReading(Calendar.getInstance().getTime(), \"temperature\", av, instances[0][4])\n",
    "        );\n",
    "        String json = genson.serialize(mess);\n",
    "        MqttMessage message = new MqttMessage(json.getBytes());\n",
    "        message.setQos(qos);\n",
    "        \n",
    "         try {\n",
    "            client.publish(topic, message);\n",
    "          } catch (MqttException e) {\n",
    "            e.printStackTrace();\n",
    "          }\n",
    "        count++;\n",
    "        switch (verbose) {\n",
    "        case 1: System.out.println(\"message: \" + count); break;\n",
    "        case 2: System.out.println(\"message: \" + count);\n",
    "                System.out.println(json);\n",
    "                break;\n",
    "        }        \n",
    "     }\n",
    "   }\n",
    "  \n",
    "  @Override\n",
    "  public void connectionLost(Throwable cause) {\n",
    "    System.out.println(\"[BusProducerComponent] Connection lost.  Reason: \" + cause);\n",
    "    System.exit(1);\n",
    "  }\n",
    "\n",
    "  @Override\n",
    "  public void messageArrived(String topic, MqttMessage message) throws MqttException {\n",
    "  }\n",
    "\n",
    "  @Override\n",
    "  public void deliveryComplete(IMqttDeliveryToken token) {\n",
    "  }\n",
    "}"
   ]
  },
  {
   "cell_type": "markdown",
   "metadata": {},
   "source": [
    "# Publicando a Média"
   ]
  },
  {
   "cell_type": "code",
   "execution_count": 27,
   "metadata": {},
   "outputs": [
    {
     "name": "stdout",
     "output_type": "stream",
     "text": [
      "[MQTTConsumer] connected\n",
      "[MQTTProducer] connected\n",
      "[MQTTConsumer] connected\n"
     ]
    },
    {
     "data": {
      "text/plain": [
       "null"
      ]
     },
     "execution_count": 27,
     "metadata": {},
     "output_type": "execute_result"
    },
    {
     "name": "stdout",
     "output_type": "stream",
     "text": [
      "message: 1\n",
      "topic: sensor/1/temperature\n",
      "{\n",
      "  \"body\":{\n",
      "    \"dimension\":\"temperature\",\n",
      "    \"timestamp\":1566000000000,\n",
      "    \"unity\":\"°C\",\n",
      "    \"value\":20.102908461646987\n",
      "  },\n",
      "  \"name\":\"1\",\n",
      "  \"source\":\"sensor\",\n",
      "  \"type\":\"reading\"\n",
      "}\n",
      "message: 2\n",
      "topic: sensor/1/temperature\n",
      "{\n",
      "  \"body\":{\n",
      "    \"dimension\":\"temperature\",\n",
      "    \"timestamp\":1566000000000,\n",
      "    \"unity\":\"°C\",\n",
      "    \"value\":23.762045627236592\n",
      "  },\n",
      "  \"name\":\"1\",\n",
      "  \"source\":\"sensor\",\n",
      "  \"type\":\"reading\"\n",
      "}\n",
      "message: 3\n",
      "topic: sensor/1/temperature\n",
      "{\n",
      "  \"body\":{\n",
      "    \"dimension\":\"temperature\",\n",
      "    \"timestamp\":1566000000000,\n",
      "    \"unity\":\"°C\",\n",
      "    \"value\":24.727357041508455\n",
      "  },\n",
      "  \"name\":\"1\",\n",
      "  \"source\":\"sensor\",\n",
      "  \"type\":\"reading\"\n",
      "}\n",
      "message: 1\n",
      "{\n",
      "  \"body\":{\n",
      "    \"dimension\":\"temperature\",\n",
      "    \"timestamp\":1566056704288,\n",
      "    \"unity\":\"°C\",\n",
      "    \"value\":22.864103710130678\n",
      "  },\n",
      "  \"name\":\"average\",\n",
      "  \"source\":\"statistics\",\n",
      "  \"type\":\"calculus\"\n",
      "}\n",
      "message: 1\n",
      "topic: sensor/*/temperature/avg\n",
      "{\n",
      "  \"body\":{\n",
      "    \"dimension\":\"temperature\",\n",
      "    \"timestamp\":1566056704288,\n",
      "    \"unity\":\"°C\",\n",
      "    \"value\":22.86410371013068\n",
      "  },\n",
      "  \"name\":\"average\",\n",
      "  \"source\":\"statistics\",\n",
      "  \"type\":\"calculus\"\n",
      "}\n",
      "message: 1\n",
      "topic: sensor/1/temperature\n",
      "{\n",
      "  \"body\":{\n",
      "    \"dimension\":\"temperature\",\n",
      "    \"timestamp\":1566000000000,\n",
      "    \"unity\":\"°C\",\n",
      "    \"value\":24.69689624569935\n",
      "  },\n",
      "  \"name\":\"1\",\n",
      "  \"source\":\"sensor\",\n",
      "  \"type\":\"reading\"\n",
      "}\n",
      "message: 2\n",
      "topic: sensor/1/temperature\n",
      "{\n",
      "  \"body\":{\n",
      "    \"dimension\":\"temperature\",\n",
      "    \"timestamp\":1566000000000,\n",
      "    \"unity\":\"°C\",\n",
      "    \"value\":21.354356990563087\n",
      "  },\n",
      "  \"name\":\"1\",\n",
      "  \"source\":\"sensor\",\n",
      "  \"type\":\"reading\"\n",
      "}\n",
      "message: 3\n",
      "topic: sensor/1/temperature\n",
      "{\n",
      "  \"body\":{\n",
      "    \"dimension\":\"temperature\",\n",
      "    \"timestamp\":1566000000000,\n",
      "    \"unity\":\"°C\",\n",
      "    \"value\":24.621364853032546\n",
      "  },\n",
      "  \"name\":\"1\",\n",
      "  \"source\":\"sensor\",\n",
      "  \"type\":\"reading\"\n",
      "}\n",
      "message: 2\n",
      "message: 2\n",
      "topic: sensor/*/temperature/avg\n",
      "{\n",
      "  \"body\":{\n",
      "    \"dimension\":\"temperature\",\n",
      "    \"timestamp\":1566056707289,\n",
      "    \"unity\":\"°C\",\n",
      "    \"value\":23.55753936309833\n",
      "  },\n",
      "  \"name\":\"average\",\n",
      "  \"source\":\"statistics\",\n",
      "  \"type\":\"calculus\"\n",
      "}\n",
      "{\n",
      "  \"body\":{\n",
      "    \"dimension\":\"temperature\",\n",
      "    \"timestamp\":1566056707289,\n",
      "    \"unity\":\"°C\",\n",
      "    \"value\":23.55753936309833\n",
      "  },\n",
      "  \"name\":\"average\",\n",
      "  \"source\":\"statistics\",\n",
      "  \"type\":\"calculus\"\n",
      "}\n"
     ]
    }
   ],
   "source": [
    "  try {\n",
    "     IBusConsumer bc1 = new BusConsumerComponent();\n",
    "     bc1.setBusURI(\"tcp://localhost:1883\");\n",
    "     bc1.setTopic(\"sensor/+/temperature\");\n",
    "     bc1.setBlockSize(3);\n",
    "     bc1.setNumber(6);\n",
    "     bc1.setVerbose(2);\n",
    "\n",
    "     IBusProducer bp = new BusProducerComponent();\n",
    "     bp.setBusURI(\"tcp://localhost:1883\");\n",
    "     bp.setTopic(\"sensor/*/temperature/avg\");\n",
    "     bp.connect(bc1);\n",
    "\n",
    "     bc1.connect(bp);\n",
    "\n",
    "     IBusConsumer bc2 = new BusConsumerComponent();\n",
    "     bc2.setBusURI(\"tcp://localhost:1883\");\n",
    "     bc2.setTopic(\"sensor/*/temperature/avg\");\n",
    "     bc2.setVerbose(2);\n",
    "  } catch (Exception e) {\n",
    "    e.printStackTrace();\n",
    "  }"
   ]
  },
  {
   "cell_type": "markdown",
   "metadata": {},
   "source": [
    "# Exercícios"
   ]
  },
  {
   "cell_type": "markdown",
   "metadata": {},
   "source": [
    "## Exercício 1"
   ]
  },
  {
   "cell_type": "markdown",
   "metadata": {},
   "source": [
    "Conecte os componentes que você achar necessário para mostrar no console temperaturas que estão acima de 23graus. Mostre apenas as temperaturas. Para este caso faça 10 leituras de sensor."
   ]
  },
  {
   "cell_type": "code",
   "execution_count": null,
   "metadata": {},
   "outputs": [],
   "source": []
  },
  {
   "cell_type": "markdown",
   "metadata": {},
   "source": [
    "## Exercício 2"
   ]
  },
  {
   "cell_type": "markdown",
   "metadata": {},
   "source": [
    "Conecte os componentes que você achar necessário para mostrar no console todas as leituras de sensor cuja temperatura está entre 22 e 24 graus. Para este caso faça 20 leituras de sensor."
   ]
  },
  {
   "cell_type": "code",
   "execution_count": null,
   "metadata": {},
   "outputs": [],
   "source": []
  },
  {
   "cell_type": "markdown",
   "metadata": {},
   "source": [
    "## Exercício 3"
   ]
  },
  {
   "cell_type": "markdown",
   "metadata": {},
   "source": [
    "Conecte os componentes que você achar necessário para gerar mensagens no barramento a média de todas as leituras de sensor cuja temperatura está entre 22 e 24 graus. Para este caso faça 20 leituras de sensor."
   ]
  },
  {
   "cell_type": "code",
   "execution_count": null,
   "metadata": {},
   "outputs": [],
   "source": []
  }
 ],
 "metadata": {
  "kernelspec": {
   "display_name": "Java",
   "language": "java",
   "name": "java"
  },
  "language_info": {
   "codemirror_mode": "text/x-java",
   "file_extension": ".java",
   "mimetype": "",
   "name": "Java",
   "nbconverter_exporter": "",
   "version": "11.0.4"
  }
 },
 "nbformat": 4,
 "nbformat_minor": 2
}
