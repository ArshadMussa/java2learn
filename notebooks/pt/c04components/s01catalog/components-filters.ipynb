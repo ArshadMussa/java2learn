{
 "cells": [
  {
   "cell_type": "markdown",
   "metadata": {},
   "source": [
    "# Filtros em Componentes\n",
    "\n",
    "Alguns componentes do notebook anterior:"
   ]
  },
  {
   "cell_type": "markdown",
   "metadata": {},
   "source": [
    "## DataSet"
   ]
  },
  {
   "cell_type": "code",
   "execution_count": 1,
   "metadata": {},
   "outputs": [
    {
     "data": {
      "text/plain": [
       "com.twosigma.beaker.javash.bkr4fbc6f78.ITableProducer"
      ]
     },
     "execution_count": 1,
     "metadata": {},
     "output_type": "execute_result"
    }
   ],
   "source": [
    "public interface ITableProducer {\n",
    "  String[] requestAttributes();\n",
    "  String[][] requestInstances();\n",
    "}"
   ]
  },
  {
   "cell_type": "code",
   "execution_count": 2,
   "metadata": {},
   "outputs": [
    {
     "data": {
      "text/plain": [
       "com.twosigma.beaker.javash.bkr4fbc6f78.IDataSetProperties"
      ]
     },
     "execution_count": 2,
     "metadata": {},
     "output_type": "execute_result"
    }
   ],
   "source": [
    "public interface IDataSetProperties {\n",
    "  public String getDataSource();\n",
    "  public void setDataSource(String dataSource);\n",
    "}"
   ]
  },
  {
   "cell_type": "code",
   "execution_count": 3,
   "metadata": {},
   "outputs": [
    {
     "data": {
      "text/plain": [
       "com.twosigma.beaker.javash.bkr4fbc6f78.IDataSet"
      ]
     },
     "execution_count": 3,
     "metadata": {},
     "output_type": "execute_result"
    }
   ],
   "source": [
    "public interface IDataSet extends IDataSetProperties, ITableProducer {\n",
    "}"
   ]
  },
  {
   "cell_type": "code",
   "execution_count": 4,
   "metadata": {},
   "outputs": [
    {
     "data": {
      "text/plain": [
       "com.twosigma.beaker.javash.bkr4fbc6f78.DataSetComponent"
      ]
     },
     "execution_count": 4,
     "metadata": {},
     "output_type": "execute_result"
    }
   ],
   "source": [
    "import java.io.BufferedReader;\n",
    "import java.io.FileReader;\n",
    "import java.io.IOException;\n",
    "import java.util.ArrayList;\n",
    "\n",
    "public class DataSetComponent implements IDataSet {\n",
    "  private String dataSource = null;\n",
    "  private String[] attributes = null;\n",
    "  private String[][] instances = null;\n",
    "  \n",
    "  public DataSetComponent() {\n",
    "    /* nothing */\n",
    "  }\n",
    "\n",
    "  public String getDataSource() {\n",
    "    return dataSource;\n",
    "  }\n",
    "\n",
    "  public void setDataSource(String dataSource) {\n",
    "    this.dataSource = dataSource;\n",
    "    if (dataSource == null) {\n",
    "      attributes = null;\n",
    "      instances = null;\n",
    "    } else\n",
    "      readDS();\n",
    "  }\n",
    "  \n",
    "  public String[] requestAttributes() {\n",
    "    return attributes;\n",
    "  }\n",
    "  \n",
    "  public String[][] requestInstances() {\n",
    "    return instances;\n",
    "  }\n",
    "  \n",
    "  private void readDS() {\n",
    "    ArrayList<String[]> instArray = new ArrayList<String[]>();\n",
    "    try {\n",
    "      BufferedReader file = new BufferedReader(new FileReader(dataSource));\n",
    "        \n",
    "      String line = file.readLine();\n",
    "      if (line != null) {\n",
    "        attributes = line.split(\",\");\n",
    "        line = file.readLine();\n",
    "        while (line != null) {\n",
    "          String[] instLine = line.split(\",\");\n",
    "          instArray.add(instLine);\n",
    "          line = file.readLine();\n",
    "        }\n",
    "        instances = instArray.toArray(new String[0][]);\n",
    "      }\n",
    "        \n",
    "      file.close();\n",
    "    } catch (IOException erro) {\n",
    "      erro.printStackTrace();\n",
    "    }\n",
    "  }\n",
    "  \n",
    "}"
   ]
  },
  {
   "cell_type": "markdown",
   "metadata": {},
   "source": [
    "## Console"
   ]
  },
  {
   "cell_type": "code",
   "execution_count": 5,
   "metadata": {},
   "outputs": [
    {
     "data": {
      "text/plain": [
       "com.twosigma.beaker.javash.bkr4fbc6f78.ITableReceptacle"
      ]
     },
     "execution_count": 5,
     "metadata": {},
     "output_type": "execute_result"
    }
   ],
   "source": [
    "public interface ITableReceptacle {\n",
    "  public void connect(ITableProducer producer);\n",
    "}"
   ]
  },
  {
   "cell_type": "code",
   "execution_count": 6,
   "metadata": {},
   "outputs": [
    {
     "data": {
      "text/plain": [
       "com.twosigma.beaker.javash.bkr4fbc6f78.IConsoleUpdate"
      ]
     },
     "execution_count": 6,
     "metadata": {},
     "output_type": "execute_result"
    }
   ],
   "source": [
    "public interface IConsoleUpdate {\n",
    "  public void update();\n",
    "}"
   ]
  },
  {
   "cell_type": "code",
   "execution_count": 7,
   "metadata": {},
   "outputs": [
    {
     "data": {
      "text/plain": [
       "com.twosigma.beaker.javash.bkr4fbc6f78.IConsole"
      ]
     },
     "execution_count": 7,
     "metadata": {},
     "output_type": "execute_result"
    }
   ],
   "source": [
    "public interface IConsole extends ITableReceptacle, IConsoleUpdate {\n",
    "}"
   ]
  },
  {
   "cell_type": "code",
   "execution_count": 8,
   "metadata": {},
   "outputs": [
    {
     "data": {
      "text/plain": [
       "com.twosigma.beaker.javash.bkr4fbc6f78.ConsoleComponent"
      ]
     },
     "execution_count": 8,
     "metadata": {},
     "output_type": "execute_result"
    }
   ],
   "source": [
    "public class ConsoleComponent implements IConsole {\n",
    "  private ITableProducer iProducer;\n",
    "  \n",
    "  public void connect(ITableProducer producer) {\n",
    "    iProducer = producer;\n",
    "  }\n",
    "  \n",
    "  public void update() {\n",
    "    if (iProducer != null) {\n",
    "        System.out.println(\"=== Attributes ===\");\n",
    "        String attributes[] = iProducer.requestAttributes();\n",
    "        for (int a = 0; a < attributes.length-1; a++)\n",
    "          System.out.print(attributes[a] + \", \");\n",
    "        System.out.println(attributes[attributes.length-1]);\n",
    "\n",
    "        System.out.println();\n",
    "        System.out.println(\"=== Instances ===\");\n",
    "        String instances[][] = iProducer.requestInstances();\n",
    "        for (int i = 0; i < instances.length; i++) {\n",
    "          for (int a = 0; a < attributes.length-1; a ++)\n",
    "            System.out.print(instances[i][a] + \", \");\n",
    "          System.out.println(instances[i][attributes.length-1]);\n",
    "        }\n",
    "    }\n",
    "  }\n",
    "}"
   ]
  },
  {
   "cell_type": "markdown",
   "metadata": {},
   "source": [
    "# Projeção"
   ]
  },
  {
   "cell_type": "code",
   "execution_count": 9,
   "metadata": {},
   "outputs": [
    {
     "data": {
      "text/plain": [
       "com.twosigma.beaker.javash.bkr4fbc6f78.IProjectionProperties"
      ]
     },
     "execution_count": 9,
     "metadata": {},
     "output_type": "execute_result"
    }
   ],
   "source": [
    "public interface IProjectionProperties {\n",
    "  String[] getAttributes();\n",
    "  void setAttributes(String attribute[]);\n",
    "}"
   ]
  },
  {
   "cell_type": "code",
   "execution_count": 10,
   "metadata": {},
   "outputs": [
    {
     "data": {
      "text/plain": [
       "com.twosigma.beaker.javash.bkr4fbc6f78.IProjection"
      ]
     },
     "execution_count": 10,
     "metadata": {},
     "output_type": "execute_result"
    }
   ],
   "source": [
    "public interface IProjection extends IProjectionProperties, ITableProducer, ITableReceptacle {\n",
    "}"
   ]
  },
  {
   "cell_type": "code",
   "execution_count": 11,
   "metadata": {},
   "outputs": [
    {
     "data": {
      "text/plain": [
       "com.twosigma.beaker.javash.bkr4fbc6f78.ProjectionComponent"
      ]
     },
     "execution_count": 11,
     "metadata": {},
     "output_type": "execute_result"
    }
   ],
   "source": [
    "public class ProjectionComponent implements IProjection {\n",
    "  private ITableProducer provider;\n",
    "  \n",
    "  private String attributes[] = null;\n",
    "  \n",
    "  public String[] getAttributes() {\n",
    "    return attributes;\n",
    "  }\n",
    "\n",
    "  public void setAttributes(String attributes[]) {\n",
    "    this.attributes = attributes;\n",
    "  }\n",
    "  \n",
    "  public void connect(ITableProducer provider) {\n",
    "    this.provider = provider;\n",
    "  }\n",
    "  \n",
    "  public String[] requestAttributes() {\n",
    "    return attributes;\n",
    "  }\n",
    "  \n",
    "  public String[][] requestInstances() {\n",
    "    String[][] instances = null;\n",
    "    \n",
    "    if (provider != null) {\n",
    "      String[][] allInstances = provider.requestInstances();\n",
    "      if (allInstances != null  && attributes != null) {\n",
    "        instances = new String[allInstances.length][];\n",
    "        \n",
    "        // busca a posicao dos atributos selecionados na tabela original\n",
    "        String[] allAttributes = provider.requestAttributes();\n",
    "        int attrPos[] = new int[attributes.length];\n",
    "        for (int as = 0; as < attributes.length; as++) {\n",
    "          int aa;\n",
    "          for (aa = 0; aa < allAttributes.length &&\n",
    "               !attributes[as].equalsIgnoreCase(allAttributes[aa]); aa++)\n",
    "            /* nothing */;\n",
    "          if (aa < allAttributes.length)\n",
    "            attrPos[as] = aa;\n",
    "          else\n",
    "            attrPos[as] = -1;\n",
    "        }\n",
    "        \n",
    "        // filtra atributos selecionados\n",
    "        for (int i = 0; i < allInstances.length; i++) {\n",
    "          instances[i] = new String[attributes.length];\n",
    "          for (int as = 0; as < attributes.length; as++)\n",
    "            if (attrPos[as] > -1)\n",
    "              instances[i][as] = allInstances[i][attrPos[as]];\n",
    "        }\n",
    "      }\n",
    "    }\n",
    "    \n",
    "    return instances;\n",
    "  }\n",
    "}"
   ]
  },
  {
   "cell_type": "code",
   "execution_count": 12,
   "metadata": {},
   "outputs": [
    {
     "name": "stdout",
     "output_type": "stream",
     "text": [
      "=== Attributes ===\n",
      "name, age\n",
      "\n",
      "=== Instances ===\n",
      "Rot Donnadd, 43\n",
      "Pid Mught, 38\n",
      "Thulk Lebbimp, 63\n",
      "Bouvossam Damme, 71\n",
      "Pirg Zall, 48\n",
      "Nullon Rackindock, 23\n",
      "Shor Splitturch, 35\n",
      "Ger Ackeng, 66\n",
      "Gleldo Shruck, 45\n",
      "Nadross Pilch, 60\n",
      "Sadrent Pemmir, 73\n",
      "Read Rait, 55\n",
      "Dallun Whadder, 15\n",
      "Eapplar Thorg, 25\n",
      "Blottork Patter, 68\n",
      "Darrutt Bottall, 75\n",
      "Gallir Shauch, 20\n",
      "Dirpe Polnay, 39\n",
      "Harrimp Fottiem, 65\n"
     ]
    },
    {
     "data": {
      "text/plain": [
       "null"
      ]
     },
     "execution_count": 12,
     "metadata": {},
     "output_type": "execute_result"
    }
   ],
   "source": [
    "IDataSet dataset = new DataSetComponent();\n",
    "dataset.setDataSource(\"../../../db/zombie/zombie-health-spreadsheet.csv\");\n",
    "\n",
    "IProjection projection = new ProjectionComponent();\n",
    "projection.connect(dataset);\n",
    "\n",
    "IConsole console = new ConsoleComponent();\n",
    "console.connect(projection);\n",
    "\n",
    "String[] attributes = {\"name\", \"age\"};\n",
    "projection.setAttributes(attributes);\n",
    "console.update();"
   ]
  },
  {
   "cell_type": "markdown",
   "metadata": {},
   "source": [
    "# Seleção"
   ]
  },
  {
   "cell_type": "code",
   "execution_count": 13,
   "metadata": {},
   "outputs": [
    {
     "data": {
      "text/plain": [
       "com.twosigma.beaker.javash.bkr4fbc6f78.ISelectionProperties"
      ]
     },
     "execution_count": 13,
     "metadata": {},
     "output_type": "execute_result"
    }
   ],
   "source": [
    "public interface ISelectionProperties {\n",
    "  String getAttribute();\n",
    "  void setAttribute(String attributeA);\n",
    "  public String getOperator();\n",
    "  public void setOperator(String operator);\n",
    "  public String getValue();\n",
    "  public void setValue(String value);\n",
    "  boolean isNominalComparison();\n",
    "  void setNominalComparison(boolean nominalComparison);\n",
    "}"
   ]
  },
  {
   "cell_type": "code",
   "execution_count": 14,
   "metadata": {},
   "outputs": [
    {
     "data": {
      "text/plain": [
       "com.twosigma.beaker.javash.bkr4fbc6f78.ISelection"
      ]
     },
     "execution_count": 14,
     "metadata": {},
     "output_type": "execute_result"
    }
   ],
   "source": [
    "public interface ISelection extends ISelectionProperties, ITableProducer, ITableReceptacle {\n",
    "}"
   ]
  },
  {
   "cell_type": "code",
   "execution_count": 15,
   "metadata": {},
   "outputs": [
    {
     "data": {
      "text/plain": [
       "com.twosigma.beaker.javash.bkr4fbc6f78.SelectionComponent"
      ]
     },
     "execution_count": 15,
     "metadata": {},
     "output_type": "execute_result"
    }
   ],
   "source": [
    "import java.util.ArrayList;\n",
    "\n",
    "public class SelectionComponent implements ISelection {\n",
    "  private ITableProducer provider;\n",
    "  \n",
    "  private String attribute = null,\n",
    "                 operator = null,\n",
    "                 value = null;\n",
    "  private boolean nominalComparison = true;\n",
    "  \n",
    "  public String getAttribute() {\n",
    "    return attribute;\n",
    "  }\n",
    "\n",
    "  public void setAttribute(String attribute) {\n",
    "    this.attribute = attribute;\n",
    "  }\n",
    "  \n",
    "  public String getOperator() {\n",
    "    return operator;\n",
    "  }\n",
    "  \n",
    "  public void setOperator(String operator) {\n",
    "    this.operator = operator;\n",
    "  }\n",
    "  \n",
    "  public String getValue() {\n",
    "    return value;\n",
    "  }\n",
    "  \n",
    "  public void setValue(String value) {\n",
    "    this.value = value;\n",
    "  }\n",
    "  \n",
    "  public boolean isNominalComparison() {\n",
    "    return nominalComparison;\n",
    "  }\n",
    "\n",
    "  public void setNominalComparison(boolean nominalComparison) {\n",
    "    this.nominalComparison = nominalComparison;\n",
    "  }\n",
    "\n",
    "  public void connect(ITableProducer provider) {\n",
    "    this.provider = provider;\n",
    "  }\n",
    "  \n",
    "  public String[] requestAttributes() {\n",
    "    return (provider == null) ? null : provider.requestAttributes();\n",
    "  }\n",
    "  \n",
    "  public String[][] requestInstances() {\n",
    "    ArrayList<String[]> instances = null;\n",
    "    \n",
    "    if (provider != null) {\n",
    "      String[][] allInstances = provider.requestInstances();\n",
    "      \n",
    "      if (allInstances != null) {\n",
    "        // busca a posicao dos atributos selecionados na tabela original\n",
    "        String[] allAttributes = provider.requestAttributes();\n",
    "        int atrPos;\n",
    "        for (atrPos = 0; atrPos < allAttributes.length &&\n",
    "             !attribute.equalsIgnoreCase(allAttributes[atrPos]); atrPos++)\n",
    "          /* nothing */;\n",
    "        if (atrPos < allAttributes.length) {\n",
    "          instances = new ArrayList<String[]>();\n",
    "          \n",
    "          for (String[] ai: allInstances) {\n",
    "            boolean match = false;\n",
    "            if (nominalComparison) {\n",
    "              switch (operator.charAt(0)) {\n",
    "                case '=': if (ai[atrPos].equalsIgnoreCase(value))\n",
    "                       match = true;\n",
    "                     break;\n",
    "                case '<': if (ai[atrPos].compareTo(value) < 0)\n",
    "                       match = true;\n",
    "                     break;\n",
    "                case '>': if (ai[atrPos].compareTo(value) > 0)\n",
    "                       match = true;\n",
    "                     break;\n",
    "                case '!': if (!ai[atrPos].equalsIgnoreCase(value))\n",
    "                     match = true;\n",
    "                     break;\n",
    "              }\n",
    "            } else {\n",
    "              switch (operator.charAt(0)) {\n",
    "                case '=': if (Double.parseDouble(ai[atrPos]) == Double.parseDouble(value))\n",
    "                            match = true;\n",
    "                          break;\n",
    "                case '<': if (Double.parseDouble(ai[atrPos]) < Double.parseDouble(value))\n",
    "                            match = true;\n",
    "                          break;\n",
    "                case '>': if (Double.parseDouble(ai[atrPos]) > Double.parseDouble(value))\n",
    "                            match = true;\n",
    "                          break;\n",
    "                case '!': if (Double.parseDouble(ai[atrPos]) != Double.parseDouble(value))\n",
    "                            match = true;\n",
    "                          break;\n",
    "              }\n",
    "            }\n",
    "            if (match)\n",
    "              instances.add(ai);\n",
    "                \n",
    "          }\n",
    "        }\n",
    "      }\n",
    "    }\n",
    "    \n",
    "    return (instances == null) ? null : instances.toArray(new String[1][]);\n",
    "  }\n",
    "}"
   ]
  },
  {
   "cell_type": "code",
   "execution_count": 17,
   "metadata": {},
   "outputs": [
    {
     "name": "stdout",
     "output_type": "stream",
     "text": [
      "=== Attributes ===\n",
      "name, age, paralysis, yellow_tong, member_loss, chest_pain, trembling_finger, severe_anger, history_bacteria, diagnostic, days_recovery, has_disease\n",
      "\n",
      "=== Instances ===\n",
      "Rot Donnadd, 43, t, t, f, f, f, f, f, bacterial_infection, 9, t\n",
      "Pid Mught, 38, f, t, f, f, f, f, f, bacterial_infection, 7, t\n",
      "Gleldo Shruck, 45, f, t, f, t, f, f, f, bacterial_infection, 8, t\n",
      "Read Rait, 55, t, t, f, f, f, f, f, bacterial_infection, 9, t\n",
      "Dirpe Polnay, 39, f, t, f, f, f, f, f, bacterial_infection, 7, t\n"
     ]
    },
    {
     "data": {
      "text/plain": [
       "null"
      ]
     },
     "execution_count": 17,
     "metadata": {},
     "output_type": "execute_result"
    }
   ],
   "source": [
    "IDataSet dataset = new DataSetComponent();\n",
    "dataset.setDataSource(\"../../../db/zombie/zombie-health-spreadsheet.csv\");\n",
    "\n",
    "ISelection selection = new SelectionComponent();\n",
    "selection.connect(dataset);\n",
    "selection.setAttribute(\"diagnostic\");\n",
    "selection.setOperator(\"=\");\n",
    "selection.setValue(\"bacterial_infection\");\n",
    "\n",
    "IConsole console = new ConsoleComponent();\n",
    "console.connect(selection);\n",
    "console.update();"
   ]
  }
 ],
 "metadata": {
  "kernelspec": {
   "display_name": "Java",
   "language": "java",
   "name": "java"
  },
  "language_info": {
   "codemirror_mode": "text/x-java",
   "file_extension": ".java",
   "mimetype": "",
   "name": "Java",
   "nbconverter_exporter": "",
   "version": "1.8.0_212"
  }
 },
 "nbformat": 4,
 "nbformat_minor": 2
}
