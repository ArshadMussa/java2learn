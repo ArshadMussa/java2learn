{
 "cells": [
  {
   "cell_type": "markdown",
   "metadata": {},
   "source": [
    "# Filtros em Componentes\n",
    "\n",
    "Alguns componentes do notebook anterior:"
   ]
  },
  {
   "cell_type": "markdown",
   "metadata": {},
   "source": [
    "## DataSet"
   ]
  },
  {
   "cell_type": "code",
   "execution_count": 1,
   "metadata": {},
   "outputs": [
    {
     "data": {
      "text/plain": [
       "com.twosigma.beaker.javash.bkrcfbe28a4.ITableProducer"
      ]
     },
     "execution_count": 1,
     "metadata": {},
     "output_type": "execute_result"
    }
   ],
   "source": [
    "public interface ITableProducer {\n",
    "  String[] requestAttributes();\n",
    "  String[][] requestInstances();\n",
    "}"
   ]
  },
  {
   "cell_type": "code",
   "execution_count": 2,
   "metadata": {},
   "outputs": [
    {
     "data": {
      "text/plain": [
       "com.twosigma.beaker.javash.bkrcfbe28a4.IDataSource"
      ]
     },
     "execution_count": 2,
     "metadata": {},
     "output_type": "execute_result"
    }
   ],
   "source": [
    "public interface IDataSetProperties {\n",
    "  public String getDataSource();\n",
    "  public void setDataSource(String dataSource);\n",
    "}"
   ]
  },
  {
   "cell_type": "code",
   "execution_count": 3,
   "metadata": {},
   "outputs": [
    {
     "data": {
      "text/plain": [
       "com.twosigma.beaker.javash.bkrcfbe28a4.IDataSet"
      ]
     },
     "execution_count": 3,
     "metadata": {},
     "output_type": "execute_result"
    }
   ],
   "source": [
    "public interface IDataSet extends IDataSetProperties, ITableProducer {\n",
    "}"
   ]
  },
  {
   "cell_type": "code",
   "execution_count": 4,
   "metadata": {},
   "outputs": [
    {
     "data": {
      "text/plain": [
       "com.twosigma.beaker.javash.bkrcfbe28a4.DataSetComponent"
      ]
     },
     "execution_count": 4,
     "metadata": {},
     "output_type": "execute_result"
    }
   ],
   "source": [
    "import java.io.BufferedReader;\n",
    "import java.io.FileReader;\n",
    "import java.io.IOException;\n",
    "import java.util.ArrayList;\n",
    "\n",
    "public class DataSetComponent implements IDataSet {\n",
    "  private String dataSource = null;\n",
    "  private String[] attributes = null;\n",
    "  private String[][] instances = null;\n",
    "  \n",
    "  public DataSetComponent() {\n",
    "    /* nothing */\n",
    "  }\n",
    "\n",
    "  public String getDataSource() {\n",
    "    return dataSource;\n",
    "  }\n",
    "\n",
    "  public void setDataSource(String dataSource) {\n",
    "    this.dataSource = dataSource;\n",
    "    if (dataSource == null) {\n",
    "      attributes = null;\n",
    "      instances = null;\n",
    "    } else\n",
    "      readDS();\n",
    "  }\n",
    "  \n",
    "  public String[] requestAttributes() {\n",
    "    return attributes;\n",
    "  }\n",
    "  \n",
    "  public String[][] requestInstances() {\n",
    "    return instances;\n",
    "  }\n",
    "  \n",
    "  private void readDS() {\n",
    "    ArrayList<String[]> instArray = new ArrayList<String[]>();\n",
    "    try {\n",
    "      BufferedReader file = new BufferedReader(new FileReader(dataSource));\n",
    "        \n",
    "      String line = file.readLine();\n",
    "      if (line != null) {\n",
    "        attributes = line.split(\",\");\n",
    "        line = file.readLine();\n",
    "        while (line != null) {\n",
    "          String[] instLine = line.split(\",\");\n",
    "          instArray.add(instLine);\n",
    "          line = file.readLine();\n",
    "        }\n",
    "        instances = instArray.toArray(new String[0][]);\n",
    "      }\n",
    "        \n",
    "      file.close();\n",
    "    } catch (IOException erro) {\n",
    "      erro.printStackTrace();\n",
    "    }\n",
    "  }\n",
    "  \n",
    "}"
   ]
  },
  {
   "cell_type": "markdown",
   "metadata": {},
   "source": [
    "## Console"
   ]
  },
  {
   "cell_type": "code",
   "execution_count": 5,
   "metadata": {},
   "outputs": [
    {
     "data": {
      "text/plain": [
       "com.twosigma.beaker.javash.bkrcfbe28a4.ITableProducerReceptacle"
      ]
     },
     "execution_count": 5,
     "metadata": {},
     "output_type": "execute_result"
    }
   ],
   "source": [
    "public interface ITableProducerReceptacle {\n",
    "  public void connect(ITableProducer producer);\n",
    "}"
   ]
  },
  {
   "cell_type": "code",
   "execution_count": 6,
   "metadata": {},
   "outputs": [
    {
     "data": {
      "text/plain": [
       "com.twosigma.beaker.javash.bkrcfbe28a4.IConsoleUpdate"
      ]
     },
     "execution_count": 6,
     "metadata": {},
     "output_type": "execute_result"
    }
   ],
   "source": [
    "public interface IConsoleUpdate {\n",
    "  public void update();\n",
    "}"
   ]
  },
  {
   "cell_type": "code",
   "execution_count": 7,
   "metadata": {},
   "outputs": [
    {
     "data": {
      "text/plain": [
       "com.twosigma.beaker.javash.bkrcfbe28a4.IConsole"
      ]
     },
     "execution_count": 7,
     "metadata": {},
     "output_type": "execute_result"
    }
   ],
   "source": [
    "public interface IConsole extends ITableProducerReceptacle, IConsoleUpdate {\n",
    "}"
   ]
  },
  {
   "cell_type": "code",
   "execution_count": 8,
   "metadata": {},
   "outputs": [
    {
     "data": {
      "text/plain": [
       "com.twosigma.beaker.javash.bkrcfbe28a4.ConsoleComponent"
      ]
     },
     "execution_count": 8,
     "metadata": {},
     "output_type": "execute_result"
    }
   ],
   "source": [
    "public class ConsoleComponent implements IConsole {\n",
    "  private ITableProducer iProducer;\n",
    "  \n",
    "  public void connect(ITableProducer producer) {\n",
    "    iProducer = producer;\n",
    "  }\n",
    "  \n",
    "  public void update() {\n",
    "    if (iProducer != null) {\n",
    "        System.out.println(\"=== Attributes ===\");\n",
    "        String attributes[] = iProducer.requestAttributes();\n",
    "        for (int a = 0; a < attributes.length-1; a++)\n",
    "          System.out.print(attributes[a] + \", \");\n",
    "        System.out.println(attributes[attributes.length-1]);\n",
    "\n",
    "        System.out.println();\n",
    "        System.out.println(\"=== Instances ===\");\n",
    "        String instances[][] = iProducer.requestInstances();\n",
    "        for (int i = 0; i < instances.length; i++) {\n",
    "          for (int a = 0; a < attributes.length-1; a ++)\n",
    "            System.out.print(instances[i][a] + \", \");\n",
    "          System.out.println(instances[i][attributes.length-1]);\n",
    "        }\n",
    "    }\n",
    "  }\n",
    "}"
   ]
  },
  {
   "cell_type": "markdown",
   "metadata": {},
   "source": [
    "# Projeção"
   ]
  },
  {
   "cell_type": "code",
   "execution_count": 9,
   "metadata": {},
   "outputs": [
    {
     "data": {
      "text/plain": [
       "com.twosigma.beaker.javash.bkrcfbe28a4.IProjectionServices"
      ]
     },
     "execution_count": 9,
     "metadata": {},
     "output_type": "execute_result"
    }
   ],
   "source": [
    "public interface IProjectionProperties extends ITableProducer {\n",
    "  String getAttribute();\n",
    "  void setAttribute(String attribute);\n",
    "}"
   ]
  },
  {
   "cell_type": "code",
   "execution_count": null,
   "metadata": {},
   "outputs": [],
   "source": [
    "public interface IProjection extends IProjectionServices, ITitle, ITableProducerReceptacle {\n",
    "}"
   ]
  },
  {
   "cell_type": "code",
   "execution_count": null,
   "metadata": {},
   "outputs": [],
   "source": [
    "import java.util.Enumeration;\n",
    "\n",
    "public class ProjectionComponent implements IProjection {\n",
    "  private ITableProducer provider;\n",
    "  \n",
    "  private String attribute = null,\n",
    "                 title = null;\n",
    "  \n",
    "  public String getAttribute() {\n",
    "    return attribute;\n",
    "  }\n",
    "\n",
    "  public void setAttribute(String attribute) {\n",
    "    this.attribute = attribute;\n",
    "  }\n",
    "  \n",
    "  public String getTitle() {\n",
    "    String title = (this.title != null) ? this.title : attribute;\n",
    "    return title;\n",
    "  }\n",
    "  \n",
    "  public void setTitle(String title) {\n",
    "    this.title = title;\n",
    "  }\n",
    "  \n",
    "  public void connect(ITableProducer provider) {\n",
    "    this.provider = provider;\n",
    "  }\n",
    "  \n",
    "  public double[] requestValues() {\n",
    "    double[] attributeValues = null;\n",
    "    \n",
    "    if (provider != null) {\n",
    "      Instances instances = provider.requestInstancesWeka();\n",
    "      \n",
    "      Attribute attr = findAttribute(instances);\n",
    "      if (attr != null) {\n",
    "        int index = attr.index();\n",
    "        if (index != -1)\n",
    "          attributeValues = instances.attributeToDoubleArray(index);\n",
    "      }\n",
    "    }\n",
    "    \n",
    "    return attributeValues;\n",
    "  }\n",
    "  \n",
    "  /* (non-Javadoc)\n",
    "   * @see pt.c08componentes.s20catalog.s20projection.IProjectionSimple#projectAttributeNominals()\n",
    "   */\n",
    "  @Override\n",
    "  public String[] requestNominals() {\n",
    "    String[] nominals = null;\n",
    "    Instances instances = provider.requestInstancesWeka();\n",
    "    \n",
    "    Attribute attr = findAttribute(instances);\n",
    "    \n",
    "    boolean isNominal = attr.isNominal();\n",
    "    \n",
    "    if (attr != null) {\n",
    "      int index = attr.index();\n",
    "\n",
    "      if (index != -1) {\n",
    "        nominals = new String[instances.size()];\n",
    "        for (int i = 0; i < nominals.length; i++)\n",
    "          nominals[i] = (isNominal)?\n",
    "                          instances.get(i).stringValue(index) :\n",
    "                          Double.toString(instances.get(i).value(index));\n",
    "      }\n",
    "    }\n",
    "    \n",
    "    return nominals;\n",
    "  }\n",
    "  \n",
    "  private Attribute findAttribute(Instances instances) {\n",
    "    Attribute attrFinal = null;\n",
    "    \n",
    "    if (attribute != null) {\n",
    "      Enumeration<Attribute> attrEnum = instances.enumerateAttributes();\n",
    "\n",
    "      while (attrFinal == null && attrEnum.hasMoreElements()) {\n",
    "        Attribute attr = attrEnum.nextElement();\n",
    "        if (attribute.equalsIgnoreCase(attr.name()))\n",
    "          attrFinal = attr;\n",
    "      }\n",
    "    }\n",
    "    \n",
    "    return attrFinal;\n",
    "  }\n",
    "  \n",
    "  @Override\n",
    "  public String toString() {\n",
    "    String output = \"***** empty *****\";\n",
    "    \n",
    "    Instances instances = provider.requestInstancesWeka();\n",
    "    Attribute attr = findAttribute(instances);\n",
    "    \n",
    "    if (attr != null) {\n",
    "      output = \"===== \" + getTitle() + \" =====\\n\";\n",
    "      if (attr.isNominal()) {\n",
    "        String[] values = requestNominals();\n",
    "        if (values != null) {\n",
    "          for (String val: values)\n",
    "            output += val + \"\\n\";\n",
    "        }\n",
    "      } else {\n",
    "        double[] values = requestValues();\n",
    "        if (values != null) {\n",
    "          for (double val: values)\n",
    "            output += val + \"\\n\";\n",
    "        }\n",
    "      }\n",
    "    }\n",
    "    \n",
    "    return output;\n",
    "  }\n",
    "}"
   ]
  }
 ],
 "metadata": {
  "kernelspec": {
   "display_name": "Java",
   "language": "java",
   "name": "java"
  },
  "language_info": {
   "codemirror_mode": "text/x-java",
   "file_extension": ".java",
   "mimetype": "",
   "name": "Java",
   "nbconverter_exporter": "",
   "version": "1.8.0_212"
  }
 },
 "nbformat": 4,
 "nbformat_minor": 2
}
