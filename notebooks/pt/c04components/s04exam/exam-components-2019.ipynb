{
 "cells": [
  {
   "cell_type": "markdown",
   "metadata": {},
   "source": [
    "# Prova Componentização e Reúso de Software 2019\n",
    "# INF331\n",
    "*24/08/2019*"
   ]
  },
  {
   "cell_type": "markdown",
   "metadata": {},
   "source": [
    "# Parte 1 - Componentes na Web\n",
    "\n",
    "A primeira parte da prova será voltada a componentes na Web usando a implementação do Digital Content Component (DCC).\n",
    "\n",
    "Utilize o ambiente [DCC Playground](https://ds4h.org/harena-space/src/adonisjs/public/dccs/playground/) testar a sua resposta das questões da `Parte 1`, em seguida, copie e cole a resposta na respectiva resposta.\n",
    "\n",
    "Utilize o ambiente da seguinte maneira:\n",
    "1. Escreva o código em HTML no painel `Editor`\n",
    "2. Clique no botão `Render` para que ele execute o código\n",
    "3. Veja o resultado da execução no painel `Result`\n",
    "4. Mensagens enviadas por componentes podem ser vistas no painel `Messages`\n",
    "\n",
    "Para consultar a sintaxe e ver exemplos dos DCCs veja a [Referência dos DCCS](https://ds4h.org/harena-space/src/adonisjs/public/dccs/)."
   ]
  },
  {
   "cell_type": "markdown",
   "metadata": {},
   "source": [
    "## Questão 1 [1 ponto]\n",
    "\n",
    "Codifique um botão com o rótulo `\"Inicia\"` que ao ser clicado envie uma mensagem com o tópico `\"button/start\"` e corpo da mensagem `\"Inicia processo\"`."
   ]
  },
  {
   "cell_type": "markdown",
   "metadata": {},
   "source": [
    "~~~html\n",
    "<dcc-lively-talk duration=\"2s\"\n",
    "                 character=\"nurse\"\n",
    "                 speech=\"Doctor, please you have to evaluate a man!\">\n",
    "</dcc-lively-talk>\n",
    "~~~"
   ]
  },
  {
   "cell_type": "markdown",
   "metadata": {},
   "source": [
    "## Questão 2 [2 pontos]\n",
    "\n",
    "Crie um personagem `patient` usando o `<dcc-lively-talk>` com um balão de mensagens escrito `\"Estou me sentindo bem\"`.\n",
    "\n",
    "Acrescente dois botões:\n",
    "* o primeiro tem rótulo `\"Sentindo mal\"` e, ao ser clicado, faz a mensagem do balão do `patient` mudar para `\"Estou me sentindo mal\"`;\n",
    "* o segundo tem rótulo `\"Sentindo bem\"` e, ao ser clicado, faz a mensagem do balão do `patient` mudar para `\"Estou me sentindo bem\"`."
   ]
  },
  {
   "cell_type": "markdown",
   "metadata": {},
   "source": []
  },
  {
   "cell_type": "markdown",
   "metadata": {},
   "source": [
    "## Questão 3 [2 pontos]\n",
    "\n",
    "Crie quatro botões com rótulos `Mundo`, `Brasil P`, `Brasil E` e `Bahia` que, ao serem clicados, publiquem notícias nos seguintes tópicos:\n",
    "* `noticia/mundo/politica`\n",
    "* `noticia/brasil/politica`\n",
    "* `noticia/brasil/esporte`\n",
    "* `noticia/bahia/esporte`\n",
    "\n",
    "O segundo nível do tópico indica a região da notícia e o terceiro o assunto. Associe a cada tópico o texto de uma mensagem de sua criação.\n",
    "\n",
    "Crie três personagens (`doctor`, `nurse` e `patient`) usando o `<dcc-lively-talk>`. Cada um deles deve mostrar seletivamente (em seu balão) notícias publicadas pelos botões, conforme os seguintes critérios:\n",
    "* `doctor` - mostra notícias sobre política (independentemente de região);\n",
    "* `nurse` - mostra notícias cuja região é o Brasil (independentemente do assunto);\n",
    "* `patient` - mostra todas as notícias."
   ]
  },
  {
   "cell_type": "markdown",
   "metadata": {},
   "source": []
  },
  {
   "cell_type": "markdown",
   "metadata": {},
   "source": [
    "# Parte 2 - Componentes em Java\n",
    "\n",
    "A segunda parte da prova será voltada a componentes em Java usando o catálogo de componentes fornecido. Este catálogo é o mesmo adotado em sala de aula.\n",
    "\n",
    "A seguir são codificadas as interfaces e classes dos componentes que você precisará para responder as suas questões. No final do notebook, há duas questões para serem resolvidas."
   ]
  },
  {
   "cell_type": "markdown",
   "metadata": {},
   "source": [
    "## DataSet"
   ]
  },
  {
   "cell_type": "code",
   "execution_count": 1,
   "metadata": {},
   "outputs": [
    {
     "data": {
      "text/plain": [
       "com.twosigma.beaker.javash.bkrbe012f82.ITableProducer"
      ]
     },
     "execution_count": 1,
     "metadata": {},
     "output_type": "execute_result"
    }
   ],
   "source": [
    "public interface ITableProducer {\n",
    "    \n",
    "    String[] requestAttributes();\n",
    "    String[][] requestInstances();\n",
    "\n",
    "}"
   ]
  },
  {
   "cell_type": "code",
   "execution_count": 2,
   "metadata": {},
   "outputs": [
    {
     "data": {
      "text/plain": [
       "com.twosigma.beaker.javash.bkrbe012f82.IDataSetProperties"
      ]
     },
     "execution_count": 2,
     "metadata": {},
     "output_type": "execute_result"
    }
   ],
   "source": [
    "public interface IDataSetProperties {\n",
    "\n",
    "    public String getDataSource();\n",
    "    public void setDataSource(String dataSource);\n",
    "\n",
    "}"
   ]
  },
  {
   "cell_type": "code",
   "execution_count": 3,
   "metadata": {},
   "outputs": [
    {
     "data": {
      "text/plain": [
       "com.twosigma.beaker.javash.bkrbe012f82.IDataSet"
      ]
     },
     "execution_count": 3,
     "metadata": {},
     "output_type": "execute_result"
    }
   ],
   "source": [
    "public interface IDataSet extends IDataSetProperties, ITableProducer {\n",
    "    \n",
    "}"
   ]
  },
  {
   "cell_type": "code",
   "execution_count": 4,
   "metadata": {},
   "outputs": [
    {
     "data": {
      "text/plain": [
       "com.twosigma.beaker.javash.bkrbe012f82.DataSetComponent"
      ]
     },
     "execution_count": 4,
     "metadata": {},
     "output_type": "execute_result"
    }
   ],
   "source": [
    "import java.io.BufferedReader;\n",
    "import java.io.FileReader;\n",
    "import java.io.IOException;\n",
    "import java.util.ArrayList;\n",
    "\n",
    "public class DataSetComponent implements IDataSet {\n",
    "  private String dataSource = null;\n",
    "  private String[] attributes = null;\n",
    "  private String[][] instances = null;\n",
    "  \n",
    "  public DataSetComponent() {\n",
    "    /* nothing */\n",
    "  }\n",
    "\n",
    "  public String getDataSource() {\n",
    "    return dataSource;\n",
    "  }\n",
    "\n",
    "  public void setDataSource(String dataSource) {\n",
    "    this.dataSource = dataSource;\n",
    "    if (dataSource == null) {\n",
    "      attributes = null;\n",
    "      instances = null;\n",
    "    } else\n",
    "      readDS();\n",
    "  }\n",
    "  \n",
    "  public String[] requestAttributes() {\n",
    "    return attributes;\n",
    "  }\n",
    "  \n",
    "  public String[][] requestInstances() {\n",
    "    return instances;\n",
    "  }\n",
    "  \n",
    "  private void readDS() {\n",
    "    ArrayList<String[]> instArray = new ArrayList<String[]>();\n",
    "    try {\n",
    "      BufferedReader file = new BufferedReader(new FileReader(dataSource));\n",
    "        \n",
    "      String line = file.readLine();\n",
    "      if (line != null) {\n",
    "        attributes = line.split(\",\");\n",
    "        line = file.readLine();\n",
    "        while (line != null) {\n",
    "          String[] instLine = line.split(\",\");\n",
    "          instArray.add(instLine);\n",
    "          line = file.readLine();\n",
    "        }\n",
    "        instances = instArray.toArray(new String[0][]);\n",
    "      }\n",
    "        \n",
    "      file.close();\n",
    "    } catch (IOException erro) {\n",
    "      erro.printStackTrace();\n",
    "    }\n",
    "  }\n",
    "  \n",
    "}"
   ]
  },
  {
   "cell_type": "code",
   "execution_count": 5,
   "metadata": {},
   "outputs": [
    {
     "name": "stdout",
     "output_type": "stream",
     "text": [
      "=== Attributes ===\n",
      "name, age, paralysis, yellow_tong, member_loss, chest_pain, trembling_finger, severe_anger, history_bacteria, diagnostic, days_recovery, has_disease\n",
      "\n",
      "=== Instances ===\n",
      "Rot Donnadd, 43, t, t, f, f, f, f, f, bacterial_infection, 9, t\n",
      "Pid Mught, 38, f, t, f, f, f, f, f, bacterial_infection, 7, t\n",
      "Thulk Lebbimp, 63, f, t, f, f, t, f, t, bite_deficit, 10, t\n",
      "Bouvossam Damme, 71, f, t, t, f, t, f, f, bite_deficit, 13, t\n",
      "Pirg Zall, 48, f, f, t, t, f, f, f, viral_infection, 4, t\n",
      "Nullon Rackindock, 23, f, f, t, f, f, t, f, fights, 8, f\n",
      "Shor Splitturch, 35, f, f, f, f, f, t, f, nothing, 0, f\n",
      "Ger Ackeng, 66, f, f, f, f, t, f, f, bite_deficit, 11, t\n",
      "Gleldo Shruck, 45, f, t, f, t, f, f, f, bacterial_infection, 8, t\n",
      "Nadross Pilch, 60, f, f, f, t, f, f, f, viral_infection, 8, t\n",
      "Sadrent Pemmir, 73, f, t, t, f, f, f, t, bite_deficit, 14, t\n",
      "Read Rait, 55, t, t, f, f, f, f, f, bacterial_infection, 9, t\n",
      "Dallun Whadder, 15, f, f, f, t, f, f, t, viral_infection, 2, t\n",
      "Eapplar Thorg, 25, f, f, t, f, f, f, f, fights, 5, f\n",
      "Blottork Patter, 68, f, t, f, f, t, f, t, bite_deficit, 12, t\n",
      "Darrutt Bottall, 75, f, t, t, f, t, f, f, bite_deficit, 16, t\n",
      "Gallir Shauch, 20, f, f, f, t, f, f, f, fights, 12, f\n",
      "Dirpe Polnay, 39, f, t, f, f, f, f, f, bacterial_infection, 7, t\n",
      "Harrimp Fottiem, 65, f, f, f, f, t, f, f, bite_deficit, 9, t\n"
     ]
    },
    {
     "data": {
      "text/plain": [
       "null"
      ]
     },
     "execution_count": 5,
     "metadata": {},
     "output_type": "execute_result"
    }
   ],
   "source": [
    "try {\n",
    "    IDataSet ds = new DataSetComponent();\n",
    "    ds.setDataSource(\"../../../../src/db/datasets/zombie/complete/zombie-health-spreadsheet-ml-training.csv\");\n",
    "\n",
    "    System.out.println(\"=== Attributes ===\");\n",
    "    String attributes[] = ds.requestAttributes();\n",
    "    for (int a = 0; a < attributes.length-1; a++)\n",
    "      System.out.print(attributes[a] + \", \");\n",
    "    System.out.println(attributes[attributes.length-1]);\n",
    "\n",
    "    System.out.println();\n",
    "    System.out.println(\"=== Instances ===\");\n",
    "    String instances[][] = ds.requestInstances();\n",
    "    for (int i = 0; i < instances.length; i++) {\n",
    "      for (int a = 0; a < attributes.length-1; a ++)\n",
    "        System.out.print(instances[i][a] + \", \");\n",
    "      System.out.println(instances[i][attributes.length-1]);\n",
    "    }\n",
    "\n",
    "} catch (Exception e) {\n",
    "    e.printStackTrace();\n",
    "}"
   ]
  },
  {
   "cell_type": "markdown",
   "metadata": {},
   "source": [
    "## Console"
   ]
  },
  {
   "cell_type": "code",
   "execution_count": 6,
   "metadata": {},
   "outputs": [
    {
     "data": {
      "text/plain": [
       "com.twosigma.beaker.javash.bkrbe012f82.ITableReceptacle"
      ]
     },
     "execution_count": 6,
     "metadata": {},
     "output_type": "execute_result"
    }
   ],
   "source": [
    "public interface ITableReceptacle {\n",
    "  public void connect(ITableProducer producer);\n",
    "}"
   ]
  },
  {
   "cell_type": "code",
   "execution_count": 7,
   "metadata": {},
   "outputs": [
    {
     "data": {
      "text/plain": [
       "com.twosigma.beaker.javash.bkrbe012f82.IConsoleUpdate"
      ]
     },
     "execution_count": 7,
     "metadata": {},
     "output_type": "execute_result"
    }
   ],
   "source": [
    "public interface IConsoleUpdate {\n",
    "  public void update();\n",
    "}"
   ]
  },
  {
   "cell_type": "code",
   "execution_count": 8,
   "metadata": {},
   "outputs": [
    {
     "data": {
      "text/plain": [
       "com.twosigma.beaker.javash.bkrbe012f82.IConsole"
      ]
     },
     "execution_count": 8,
     "metadata": {},
     "output_type": "execute_result"
    }
   ],
   "source": [
    "public interface IConsole extends ITableReceptacle, IConsoleUpdate {\n",
    "}"
   ]
  },
  {
   "cell_type": "code",
   "execution_count": 9,
   "metadata": {},
   "outputs": [
    {
     "data": {
      "text/plain": [
       "com.twosigma.beaker.javash.bkrbe012f82.ConsoleComponent"
      ]
     },
     "execution_count": 9,
     "metadata": {},
     "output_type": "execute_result"
    }
   ],
   "source": [
    "public class ConsoleComponent implements IConsole {\n",
    "  private ITableProducer iProducer;\n",
    "  \n",
    "  public void connect(ITableProducer producer) {\n",
    "    iProducer = producer;\n",
    "  }\n",
    "  \n",
    "  public void update() {\n",
    "    if (iProducer != null) {\n",
    "        System.out.println(\"=== Attributes ===\");\n",
    "        String attributes[] = iProducer.requestAttributes();\n",
    "        for (int a = 0; a < attributes.length-1; a++)\n",
    "          System.out.print(attributes[a] + \", \");\n",
    "        System.out.println(attributes[attributes.length-1]);\n",
    "\n",
    "        System.out.println();\n",
    "        System.out.println(\"=== Instances ===\");\n",
    "        String instances[][] = iProducer.requestInstances();\n",
    "        for (int i = 0; i < instances.length; i++) {\n",
    "          for (int a = 0; a < attributes.length-1; a ++)\n",
    "            System.out.print(instances[i][a] + \", \");\n",
    "          System.out.println(instances[i][attributes.length-1]);\n",
    "        }\n",
    "    }\n",
    "  }\n",
    "}"
   ]
  },
  {
   "cell_type": "code",
   "execution_count": 10,
   "metadata": {},
   "outputs": [
    {
     "name": "stdout",
     "output_type": "stream",
     "text": [
      "=== Attributes ===\n",
      "name, age, paralysis, yellow_tong, member_loss, chest_pain, trembling_finger, severe_anger, history_bacteria, diagnostic, days_recovery, has_disease\n",
      "\n",
      "=== Instances ===\n",
      "Rot Donnadd, 43, t, t, f, f, f, f, f, bacterial_infection, 9, t\n",
      "Pid Mught, 38, f, t, f, f, f, f, f, bacterial_infection, 7, t\n",
      "Thulk Lebbimp, 63, f, t, f, f, t, f, t, bite_deficit, 10, t\n",
      "Bouvossam Damme, 71, f, t, t, f, t, f, f, bite_deficit, 13, t\n",
      "Pirg Zall, 48, f, f, t, t, f, f, f, viral_infection, 4, t\n",
      "Nullon Rackindock, 23, f, f, t, f, f, t, f, fights, 8, f\n",
      "Shor Splitturch, 35, f, f, f, f, f, t, f, nothing, 0, f\n",
      "Ger Ackeng, 66, f, f, f, f, t, f, f, bite_deficit, 11, t\n",
      "Gleldo Shruck, 45, f, t, f, t, f, f, f, bacterial_infection, 8, t\n",
      "Nadross Pilch, 60, f, f, f, t, f, f, f, viral_infection, 8, t\n",
      "Sadrent Pemmir, 73, f, t, t, f, f, f, t, bite_deficit, 14, t\n",
      "Read Rait, 55, t, t, f, f, f, f, f, bacterial_infection, 9, t\n",
      "Dallun Whadder, 15, f, f, f, t, f, f, t, viral_infection, 2, t\n",
      "Eapplar Thorg, 25, f, f, t, f, f, f, f, fights, 5, f\n",
      "Blottork Patter, 68, f, t, f, f, t, f, t, bite_deficit, 12, t\n",
      "Darrutt Bottall, 75, f, t, t, f, t, f, f, bite_deficit, 16, t\n",
      "Gallir Shauch, 20, f, f, f, t, f, f, f, fights, 12, f\n",
      "Dirpe Polnay, 39, f, t, f, f, f, f, f, bacterial_infection, 7, t\n",
      "Harrimp Fottiem, 65, f, f, f, f, t, f, f, bite_deficit, 9, t\n"
     ]
    },
    {
     "data": {
      "text/plain": [
       "null"
      ]
     },
     "execution_count": 10,
     "metadata": {},
     "output_type": "execute_result"
    }
   ],
   "source": [
    "try {\n",
    "        IDataSet dataset = new DataSetComponent();\n",
    "        dataset.setDataSource(\"../../../../src/db/datasets/zombie/complete/zombie-health-spreadsheet-ml-training.csv\");\n",
    "\n",
    "        IConsole console = new ConsoleComponent();\n",
    "        console.connect(dataset);\n",
    "\n",
    "        console.update();\n",
    "    \n",
    "    } catch (Exception e) {\n",
    "    \n",
    "        e.printStackTrace();\n",
    "    \n",
    "    }"
   ]
  },
  {
   "cell_type": "markdown",
   "metadata": {},
   "source": [
    "## Projeção"
   ]
  },
  {
   "cell_type": "code",
   "execution_count": 11,
   "metadata": {},
   "outputs": [
    {
     "data": {
      "text/plain": [
       "com.twosigma.beaker.javash.bkrbe012f82.IProjectionProperties"
      ]
     },
     "execution_count": 11,
     "metadata": {},
     "output_type": "execute_result"
    }
   ],
   "source": [
    "public interface IProjectionProperties {\n",
    "  String[] getAttributes();\n",
    "  void setAttributes(String attribute[]);\n",
    "}"
   ]
  },
  {
   "cell_type": "code",
   "execution_count": 12,
   "metadata": {},
   "outputs": [
    {
     "data": {
      "text/plain": [
       "com.twosigma.beaker.javash.bkrbe012f82.IProjection"
      ]
     },
     "execution_count": 12,
     "metadata": {},
     "output_type": "execute_result"
    }
   ],
   "source": [
    "public interface IProjection extends IProjectionProperties, ITableProducer, ITableReceptacle {\n",
    "}"
   ]
  },
  {
   "cell_type": "code",
   "execution_count": 13,
   "metadata": {},
   "outputs": [
    {
     "data": {
      "text/plain": [
       "com.twosigma.beaker.javash.bkrbe012f82.ProjectionComponent"
      ]
     },
     "execution_count": 13,
     "metadata": {},
     "output_type": "execute_result"
    }
   ],
   "source": [
    "public class ProjectionComponent implements IProjection {\n",
    "  private ITableProducer provider;\n",
    "  \n",
    "  private String attributes[] = null;\n",
    "  \n",
    "  public String[] getAttributes() {\n",
    "    return attributes;\n",
    "  }\n",
    "\n",
    "  public void setAttributes(String attributes[]) {\n",
    "    this.attributes = attributes;\n",
    "  }\n",
    "  \n",
    "  public void connect(ITableProducer provider) {\n",
    "    this.provider = provider;\n",
    "  }\n",
    "  \n",
    "  public String[] requestAttributes() {\n",
    "    return attributes;\n",
    "  }\n",
    "  \n",
    "  public String[][] requestInstances() {\n",
    "    String[][] instances = null;\n",
    "    \n",
    "    if (provider != null) {\n",
    "      String[][] allInstances = provider.requestInstances();\n",
    "      if (allInstances != null  && attributes != null) {\n",
    "        instances = new String[allInstances.length][];\n",
    "        \n",
    "        // busca a posicao dos atributos selecionados na tabela original\n",
    "        String[] allAttributes = provider.requestAttributes();\n",
    "        int attrPos[] = new int[attributes.length];\n",
    "        for (int as = 0; as < attributes.length; as++) {\n",
    "          int aa;\n",
    "          for (aa = 0; aa < allAttributes.length &&\n",
    "               !attributes[as].equalsIgnoreCase(allAttributes[aa]); aa++)\n",
    "            /* nothing */;\n",
    "          if (aa < allAttributes.length)\n",
    "            attrPos[as] = aa;\n",
    "          else\n",
    "            attrPos[as] = -1;\n",
    "        }\n",
    "        \n",
    "        // filtra atributos selecionados\n",
    "        for (int i = 0; i < allInstances.length; i++) {\n",
    "          instances[i] = new String[attributes.length];\n",
    "          for (int as = 0; as < attributes.length; as++)\n",
    "            if (attrPos[as] > -1)\n",
    "              instances[i][as] = allInstances[i][attrPos[as]];\n",
    "        }\n",
    "      }\n",
    "    }\n",
    "    \n",
    "    return instances;\n",
    "  }\n",
    "}"
   ]
  },
  {
   "cell_type": "code",
   "execution_count": 14,
   "metadata": {},
   "outputs": [
    {
     "name": "stdout",
     "output_type": "stream",
     "text": [
      "=== Attributes ===\n",
      "name, age\n",
      "\n",
      "=== Instances ===\n",
      "Rot Donnadd, 43\n",
      "Pid Mught, 38\n",
      "Thulk Lebbimp, 63\n",
      "Bouvossam Damme, 71\n",
      "Pirg Zall, 48\n",
      "Nullon Rackindock, 23\n",
      "Shor Splitturch, 35\n",
      "Ger Ackeng, 66\n",
      "Gleldo Shruck, 45\n",
      "Nadross Pilch, 60\n",
      "Sadrent Pemmir, 73\n",
      "Read Rait, 55\n",
      "Dallun Whadder, 15\n",
      "Eapplar Thorg, 25\n",
      "Blottork Patter, 68\n",
      "Darrutt Bottall, 75\n",
      "Gallir Shauch, 20\n",
      "Dirpe Polnay, 39\n",
      "Harrimp Fottiem, 65\n"
     ]
    },
    {
     "data": {
      "text/plain": [
       "null"
      ]
     },
     "execution_count": 14,
     "metadata": {},
     "output_type": "execute_result"
    }
   ],
   "source": [
    "try {\n",
    "    IDataSet dataset = new DataSetComponent();\n",
    "    dataset.setDataSource(\"../../../../src/db/datasets/zombie/complete/zombie-health-spreadsheet-ml-training.csv\");\n",
    "\n",
    "    IProjection projection = new ProjectionComponent();\n",
    "    projection.connect(dataset);\n",
    "\n",
    "    IConsole console = new ConsoleComponent();\n",
    "    console.connect(projection);\n",
    "\n",
    "    String[] attributes = {\"name\", \"age\"};\n",
    "    projection.setAttributes(attributes);\n",
    "    console.update();\n",
    "} catch (Exception e) {\n",
    "    e.printStackTrace();\n",
    "}"
   ]
  },
  {
   "cell_type": "markdown",
   "metadata": {},
   "source": [
    "## Seleção"
   ]
  },
  {
   "cell_type": "code",
   "execution_count": 15,
   "metadata": {},
   "outputs": [
    {
     "data": {
      "text/plain": [
       "com.twosigma.beaker.javash.bkrbe012f82.ISelectionProperties"
      ]
     },
     "execution_count": 15,
     "metadata": {},
     "output_type": "execute_result"
    }
   ],
   "source": [
    "public interface ISelectionProperties {\n",
    "  String getAttribute();\n",
    "  void setAttribute(String attributeA);\n",
    "  public String getOperator();\n",
    "  public void setOperator(String operator);\n",
    "  public String getValue();\n",
    "  public void setValue(String value);\n",
    "  boolean isNominalComparison();\n",
    "  void setNominalComparison(boolean nominalComparison);\n",
    "}"
   ]
  },
  {
   "cell_type": "code",
   "execution_count": 16,
   "metadata": {},
   "outputs": [
    {
     "data": {
      "text/plain": [
       "com.twosigma.beaker.javash.bkrbe012f82.ISelection"
      ]
     },
     "execution_count": 16,
     "metadata": {},
     "output_type": "execute_result"
    }
   ],
   "source": [
    "public interface ISelection extends ISelectionProperties, ITableProducer, ITableReceptacle {\n",
    "}"
   ]
  },
  {
   "cell_type": "code",
   "execution_count": 17,
   "metadata": {},
   "outputs": [
    {
     "data": {
      "text/plain": [
       "com.twosigma.beaker.javash.bkrbe012f82.SelectionComponent"
      ]
     },
     "execution_count": 17,
     "metadata": {},
     "output_type": "execute_result"
    }
   ],
   "source": [
    "import java.util.ArrayList;\n",
    "\n",
    "public class SelectionComponent implements ISelection {\n",
    "  private ITableProducer provider;\n",
    "  \n",
    "  private String attribute = null,\n",
    "                 operator = null,\n",
    "                 value = null;\n",
    "  private boolean nominalComparison = true;\n",
    "  \n",
    "  public String getAttribute() {\n",
    "    return attribute;\n",
    "  }\n",
    "\n",
    "  public void setAttribute(String attribute) {\n",
    "    this.attribute = attribute;\n",
    "  }\n",
    "  \n",
    "  public String getOperator() {\n",
    "    return operator;\n",
    "  }\n",
    "  \n",
    "  public void setOperator(String operator) {\n",
    "    this.operator = operator;\n",
    "  }\n",
    "  \n",
    "  public String getValue() {\n",
    "    return value;\n",
    "  }\n",
    "  \n",
    "  public void setValue(String value) {\n",
    "    this.value = value;\n",
    "  }\n",
    "  \n",
    "  public boolean isNominalComparison() {\n",
    "    return nominalComparison;\n",
    "  }\n",
    "\n",
    "  public void setNominalComparison(boolean nominalComparison) {\n",
    "    this.nominalComparison = nominalComparison;\n",
    "  }\n",
    "\n",
    "  public void connect(ITableProducer provider) {\n",
    "    this.provider = provider;\n",
    "  }\n",
    "  \n",
    "  public String[] requestAttributes() {\n",
    "    return (provider == null) ? null : provider.requestAttributes();\n",
    "  }\n",
    "  \n",
    "  public String[][] requestInstances() {\n",
    "    ArrayList<String[]> instances = null;\n",
    "    \n",
    "    if (provider != null) {\n",
    "      String[][] allInstances = provider.requestInstances();\n",
    "      \n",
    "      if (allInstances != null) {\n",
    "        // busca a posicao dos atributos selecionados na tabela original\n",
    "        String[] allAttributes = provider.requestAttributes();\n",
    "        int atrPos;\n",
    "        for (atrPos = 0; atrPos < allAttributes.length &&\n",
    "             !attribute.equalsIgnoreCase(allAttributes[atrPos]); atrPos++)\n",
    "          /* nothing */;\n",
    "        if (atrPos < allAttributes.length) {\n",
    "          instances = new ArrayList<String[]>();\n",
    "          \n",
    "          for (String[] ai: allInstances) {\n",
    "            boolean match = false;\n",
    "            if (nominalComparison) {\n",
    "              switch (operator.charAt(0)) {\n",
    "                case '=': if (ai[atrPos].equalsIgnoreCase(value))\n",
    "                       match = true;\n",
    "                     break;\n",
    "                case '<': if (ai[atrPos].compareTo(value) < 0)\n",
    "                       match = true;\n",
    "                     break;\n",
    "                case '>': if (ai[atrPos].compareTo(value) > 0)\n",
    "                       match = true;\n",
    "                     break;\n",
    "                case '!': if (!ai[atrPos].equalsIgnoreCase(value))\n",
    "                     match = true;\n",
    "                     break;\n",
    "              }\n",
    "            } else {\n",
    "              switch (operator.charAt(0)) {\n",
    "                case '=': if (Double.parseDouble(ai[atrPos]) == Double.parseDouble(value))\n",
    "                            match = true;\n",
    "                          break;\n",
    "                case '<': if (Double.parseDouble(ai[atrPos]) < Double.parseDouble(value))\n",
    "                            match = true;\n",
    "                          break;\n",
    "                case '>': if (Double.parseDouble(ai[atrPos]) > Double.parseDouble(value))\n",
    "                            match = true;\n",
    "                          break;\n",
    "                case '!': if (Double.parseDouble(ai[atrPos]) != Double.parseDouble(value))\n",
    "                            match = true;\n",
    "                          break;\n",
    "              }\n",
    "            }\n",
    "            if (match)\n",
    "              instances.add(ai);\n",
    "                \n",
    "          }\n",
    "        }\n",
    "      }\n",
    "    }\n",
    "    \n",
    "    return (instances == null) ? null : instances.toArray(new String[1][]);\n",
    "  }\n",
    "}"
   ]
  },
  {
   "cell_type": "code",
   "execution_count": 18,
   "metadata": {},
   "outputs": [
    {
     "name": "stdout",
     "output_type": "stream",
     "text": [
      "=== Attributes ===\n",
      "name, age, paralysis, yellow_tong, member_loss, chest_pain, trembling_finger, severe_anger, history_bacteria, diagnostic, days_recovery, has_disease\n",
      "\n",
      "=== Instances ===\n",
      "Rot Donnadd, 43, t, t, f, f, f, f, f, bacterial_infection, 9, t\n",
      "Pid Mught, 38, f, t, f, f, f, f, f, bacterial_infection, 7, t\n",
      "Gleldo Shruck, 45, f, t, f, t, f, f, f, bacterial_infection, 8, t\n",
      "Read Rait, 55, t, t, f, f, f, f, f, bacterial_infection, 9, t\n",
      "Dirpe Polnay, 39, f, t, f, f, f, f, f, bacterial_infection, 7, t\n"
     ]
    },
    {
     "data": {
      "text/plain": [
       "null"
      ]
     },
     "execution_count": 18,
     "metadata": {},
     "output_type": "execute_result"
    }
   ],
   "source": [
    "try {\n",
    "    IDataSet dataset = new DataSetComponent();\n",
    "    dataset.setDataSource(\"../../../../src/db/datasets/zombie/complete/zombie-health-spreadsheet-ml-training.csv\");\n",
    "\n",
    "    ISelection selection = new SelectionComponent();\n",
    "    selection.connect(dataset);\n",
    "    selection.setAttribute(\"diagnostic\");\n",
    "    selection.setOperator(\"=\");\n",
    "    selection.setValue(\"bacterial_infection\");\n",
    "\n",
    "    IConsole console = new ConsoleComponent();\n",
    "    console.connect(selection);\n",
    "    console.update();\n",
    "} catch (Exception e) {\n",
    "    e.printStackTrace();\n",
    "}"
   ]
  },
  {
   "cell_type": "markdown",
   "metadata": {},
   "source": [
    "## Chart"
   ]
  },
  {
   "cell_type": "code",
   "execution_count": 19,
   "metadata": {},
   "outputs": [
    {
     "data": {
      "text/plain": [
       "com.twosigma.beaker.javash.bkrbe012f82.IChartProperties"
      ]
     },
     "execution_count": 19,
     "metadata": {},
     "output_type": "execute_result"
    }
   ],
   "source": [
    "public interface IChartProperties {\n",
    "    \n",
    "    String getTitle();\n",
    "    void setTitle(String title);\n",
    "    String getXTitle();\n",
    "    void setXTitle(String title);\n",
    "    String getYTitle();\n",
    "    void setYTitle(String title);\n",
    "\n",
    "}"
   ]
  },
  {
   "cell_type": "code",
   "execution_count": 20,
   "metadata": {},
   "outputs": [
    {
     "data": {
      "text/plain": [
       "com.twosigma.beaker.javash.bkrbe012f82.IRun"
      ]
     },
     "execution_count": 20,
     "metadata": {},
     "output_type": "execute_result"
    }
   ],
   "source": [
    "public interface IRun {\n",
    "\n",
    "    public boolean start();\n",
    "    public boolean stop();\n",
    "    \n",
    "}"
   ]
  },
  {
   "cell_type": "code",
   "execution_count": 21,
   "metadata": {},
   "outputs": [
    {
     "data": {
      "text/plain": [
       "com.twosigma.beaker.javash.bkrbe012f82.IChart"
      ]
     },
     "execution_count": 21,
     "metadata": {},
     "output_type": "execute_result"
    }
   ],
   "source": [
    "public interface IChart extends ITableReceptacle, IRun, IChartProperties {\n",
    "    \n",
    "    /* Component Interfaces Set */\n",
    "\n",
    "}"
   ]
  },
  {
   "cell_type": "code",
   "execution_count": 22,
   "metadata": {},
   "outputs": [
    {
     "data": {
      "application/vnd.jupyter.widget-view+json": {
       "model_id": "61141ebd-72ee-4d29-b64f-a8e3af9772a1",
       "version_major": 2,
       "version_minor": 0
      },
      "method": "display_data"
     },
     "metadata": {},
     "output_type": "display_data"
    }
   ],
   "source": [
    "%classpath add jar ../../../../src/lib/xchart-3.5.2.jar"
   ]
  },
  {
   "cell_type": "code",
   "execution_count": 23,
   "metadata": {},
   "outputs": [
    {
     "data": {
      "text/plain": [
       "com.twosigma.beaker.javash.bkrbe012f82.ChartBubbleComponent"
      ]
     },
     "execution_count": 23,
     "metadata": {},
     "output_type": "execute_result"
    }
   ],
   "source": [
    "import java.util.ArrayList;\n",
    "import java.util.Hashtable;\n",
    "import java.util.List;\n",
    "\n",
    "import java.io.IOException;\n",
    "\n",
    "import org.knowm.xchart.BubbleChart;\n",
    "import org.knowm.xchart.BubbleChartBuilder;\n",
    "import org.knowm.xchart.SwingWrapper;\n",
    "import org.knowm.xchart.BitmapEncoder;\n",
    "import org.knowm.xchart.BitmapEncoder.BitmapFormat;\n",
    "\n",
    "import com.twosigma.beakerx.mimetype.MIMEContainer;\n",
    "import java.io.File;\n",
    "import java.nio.file.Files;\n",
    "\n",
    "public class ChartBubbleComponent implements IChart {\n",
    "  private BubbleChart chart = null;\n",
    "\n",
    "  private String title = \"Chart\";\n",
    "  private String xTitle = \"X\",\n",
    "                 yTitle = \"Y\";\n",
    "\n",
    "  private ITableProducer producer = null;\n",
    " \n",
    "  public void connect(ITableProducer producer) {\n",
    "    this.producer = producer;\n",
    "  }\n",
    "  \n",
    "  public ChartBubbleComponent() {\n",
    "  }\n",
    "  \n",
    "  public String getTitle() {\n",
    "    return title;\n",
    "  }\n",
    "  \n",
    "  public void setTitle(String title) {\n",
    "    this.title = title;\n",
    "  }\n",
    "\n",
    "  public String getXTitle() {\n",
    "    return xTitle;\n",
    "  }\n",
    "  \n",
    "  public void setXTitle(String title) {\n",
    "    xTitle = title;\n",
    "  }\n",
    "\n",
    "  public String getYTitle() {\n",
    "    return title;\n",
    "  }\n",
    "  \n",
    "  public void setYTitle(String title) {\n",
    "    yTitle = title;\n",
    "  }\n",
    "\n",
    "  public boolean start() {\n",
    "    boolean status = true;\n",
    "    \n",
    "    chart = new BubbleChartBuilder().width(600).height(400).title(title).xAxisTitle(xTitle).yAxisTitle(yTitle).build();\n",
    "    try{\n",
    "        \n",
    "        buildChart();         \n",
    "        BitmapEncoder.saveBitmap(chart, \"./chart\", BitmapFormat.PNG);\n",
    "        \n",
    "        File file = new File(\"chart.png\");\n",
    "        byte[] data = Files.readAllBytes(file.toPath());\n",
    "    \n",
    "        MIMEContainer image = new MIMEContainer(MIMEContainer.MIME.IMAGE_PNG, data);\n",
    "        display(image);\n",
    "      }catch(IOException ex){\n",
    "        status = false;\n",
    "        System.out.println (ex.toString());      \n",
    "      }\n",
    "        \n",
    "    return status;\n",
    "  }\n",
    "  \n",
    "  public boolean stop() {\n",
    "    return true;\n",
    "  }\n",
    "  \n",
    "  public double[] toDouble(String[][] instances, int column ) {\n",
    "    double[] numbers = new double[instances.length];\n",
    "    for (int i = 0; i < instances.length; i++)\n",
    "      numbers[i] = Double.parseDouble(instances[i][column]);\n",
    "    return numbers;\n",
    "  }\n",
    "\n",
    "  private void buildChart() {\n",
    "    if (chart != null && producer != null) {\n",
    "      String[][] instances = producer.requestInstances();\n",
    "\n",
    "      if (instances != null) {\n",
    "        double[] xData = toDouble(instances, 0),\n",
    "                 yData = toDouble(instances, 1);\n",
    "        \n",
    "        String[] categoryData = null;\n",
    "        if (instances[0].length > 2) {\n",
    "          categoryData = new String[instances.length];\n",
    "          for (int c = 0; c < instances.length; c++)\n",
    "            categoryData[c] = instances[c][2];\n",
    "        }\n",
    "        \n",
    "        double[] bubbleData = null;\n",
    "        if (instances[0].length > 3)\n",
    "          bubbleData = toDouble(producer.requestInstances(), 3);\n",
    "        else {\n",
    "          bubbleData = new double[instances.length];\n",
    "          for (int i = 0; i < xData.length; i++)\n",
    "            bubbleData[i] = 10;\n",
    "        }\n",
    "          \n",
    "        \n",
    "        if (categoryData == null ||\n",
    "            xData.length != yData.length || yData.length != bubbleData.length ||\n",
    "            bubbleData.length != categoryData.length) {\n",
    "          chart.addSeries(\" \", xData, yData, bubbleData);\n",
    "        } else {\n",
    "          Hashtable<String,String> hash = new Hashtable<String,String>();\n",
    "          int outer = 0;\n",
    "          int size = categoryData.length;\n",
    "          while (outer < size) {\n",
    "            if (hash.containsKey(categoryData[outer]))\n",
    "              outer++;\n",
    "            else {\n",
    "              hash.put(categoryData[outer],categoryData[outer]);\n",
    "              List<Double> xSub = new ArrayList<Double>(),\n",
    "                           ySub = new ArrayList<Double>(),\n",
    "                           bubbleSub = new ArrayList<Double>();\n",
    "              for (int inner = outer; inner < size; inner++)\n",
    "                if (categoryData[inner].equalsIgnoreCase(categoryData[outer])) {\n",
    "                  xSub.add(xData[inner]);\n",
    "                  ySub.add(yData[inner]);\n",
    "                  bubbleSub.add(bubbleData[inner]);\n",
    "                }\n",
    "              chart.addSeries(categoryData[outer], xSub, ySub, bubbleSub);\n",
    "              outer++;\n",
    "            }\n",
    "          }\n",
    "        }\n",
    "      }\n",
    "      \n",
    "    }\n",
    "    \n",
    "  }\n",
    "  \n",
    "}"
   ]
  },
  {
   "cell_type": "code",
   "execution_count": 24,
   "metadata": {},
   "outputs": [
    {
     "data": {
      "image/png": "[encoded data removed]"
     },
     "metadata": {},
     "output_type": "display_data"
    },
    {
     "data": {
      "text/plain": [
       "true"
      ]
     },
     "execution_count": 24,
     "metadata": {},
     "output_type": "execute_result"
    }
   ],
   "source": [
    "IDataSet dataset = new DataSetComponent();\n",
    "dataset.setDataSource(\"../../../../src/db/datasets/zombie/complete/zombie-health-spreadsheet-ml-training.csv\");\n",
    "\n",
    "IProjection projection = new ProjectionComponent();\n",
    "projection.connect(dataset);\n",
    "String attributes[] = {\"days_recovery\", \"age\"};\n",
    "projection.setAttributes(attributes);\n",
    "\n",
    "IChart chart = new ChartBubbleComponent();\n",
    "chart.setTitle(\"Zombie Health\");\n",
    "chart.setXTitle(\"Days Recovery\");\n",
    "chart.setYTitle(\"Age\");\n",
    "chart.connect(projection);\n",
    "\n",
    "return chart.start();\n"
   ]
  },
  {
   "cell_type": "markdown",
   "metadata": {},
   "source": [
    "## Questão 4 [2,5 pontos]\n",
    "\n",
    "Instancie e conecte os componentes que você achar necessários construir um gráfico XY que mostre dados de Idade (`age`) x Tempo de Recuperação (`days_recovery`) somente para aqueles zumbis que tiveram infecção bacteriana (`bacterial_infection`)."
   ]
  },
  {
   "cell_type": "markdown",
   "metadata": {},
   "source": []
  },
  {
   "cell_type": "markdown",
   "metadata": {},
   "source": [
    "## Statistics"
   ]
  },
  {
   "cell_type": "code",
   "execution_count": 25,
   "metadata": {},
   "outputs": [
    {
     "data": {
      "text/plain": [
       "com.twosigma.beaker.javash.bkrbe012f82.IStatisticsProperties"
      ]
     },
     "execution_count": 25,
     "metadata": {},
     "output_type": "execute_result"
    }
   ],
   "source": [
    "public interface IStatisticsProperties {\n",
    "\n",
    "    int getSize();\n",
    "\n",
    "    double[] getValueSet();\n",
    "\n",
    "    void setValueSet(double[] valueSet);\n",
    "\n",
    "    double getValueSet(int index);\n",
    "\n",
    "    void setValueSet(int index, double value);\n",
    "\n",
    "}"
   ]
  },
  {
   "cell_type": "code",
   "execution_count": 26,
   "metadata": {},
   "outputs": [
    {
     "data": {
      "text/plain": [
       "com.twosigma.beaker.javash.bkrbe012f82.IStatisticsServices"
      ]
     },
     "execution_count": 26,
     "metadata": {},
     "output_type": "execute_result"
    }
   ],
   "source": [
    "/**\n",
    " * Interface for a Statistics Class that registers a set of numbers\n",
    " * and calculates the sum and average of these numbers. \n",
    " * \n",
    " * @author Andre Santanche\n",
    " */\n",
    "public interface IStatisticsServices {\n",
    "   /**\n",
    "    * Inserts a value into the set.\n",
    "    * @param value the value to be inserted into the set\n",
    "    */\n",
    "    public void insertValue(double value);\n",
    "\n",
    "    \n",
    "    /**\n",
    "     * Calculates the sum of the values in the set. Returns zero if the set is empty.\n",
    "     * @return sum of the values in the set\n",
    "     */\n",
    "    public double sum();\n",
    "  \n",
    "    \n",
    "    /**\n",
    "     * Calculates the average of the values in the set. Returns zero if the set is empty.\n",
    "     * @return average of the values in the set\n",
    "     */\n",
    "    public double average();\n",
    "}\n"
   ]
  },
  {
   "cell_type": "code",
   "execution_count": 27,
   "metadata": {},
   "outputs": [
    {
     "data": {
      "text/plain": [
       "com.twosigma.beaker.javash.bkrbe012f82.IStatistics"
      ]
     },
     "execution_count": 27,
     "metadata": {},
     "output_type": "execute_result"
    }
   ],
   "source": [
    "public interface IStatistics extends IStatisticsServices, IStatisticsProperties {\n",
    "\n",
    "}"
   ]
  },
  {
   "cell_type": "code",
   "execution_count": 28,
   "metadata": {},
   "outputs": [
    {
     "data": {
      "text/plain": [
       "com.twosigma.beaker.javash.bkrbe012f82.StatisticsComponent"
      ]
     },
     "execution_count": 28,
     "metadata": {},
     "output_type": "execute_result"
    }
   ],
   "source": [
    "import java.util.Vector;\n",
    "\n",
    "/**\n",
    " * Registers a set of numbers and calculates the sum and average of these numbers.\n",
    " * \n",
    " * @author Andre Santanche\n",
    " */\n",
    "public class StatisticsComponent implements IStatistics {\n",
    "   private Vector<Double> valueSet;\n",
    "   \n",
    "   /*\n",
    "    * Constructor\n",
    "    **************/\n",
    "\n",
    "   public StatisticsComponent() {\n",
    "      super();\n",
    "      valueSet = new Vector<Double>();\n",
    "   }\n",
    "   \n",
    "   public StatisticsComponent(int capacity) {\n",
    "      super();\n",
    "      valueSet = new Vector<Double>(capacity);\n",
    "   }\n",
    "\n",
    "   /* Properties\n",
    "    ************/\n",
    "   \n",
    "   public int getSize() {\n",
    "       return valueSet.size();\n",
    "   }\n",
    "   \n",
    "   public double[] getValueSet() {\n",
    "      int size = valueSet.size();\n",
    "      double result[] = new double[size];\n",
    "      for (int d = 0; d < size; d++)\n",
    "         result[d] = valueSet.get(d);\n",
    "      return result;\n",
    "   }\n",
    "\n",
    "   public void setValueSet(double[] valueSet) {\n",
    "      for (int d = 0; d < valueSet.length; d++)\n",
    "         this.valueSet.add(valueSet[d]);\n",
    "   }\n",
    "   \n",
    "   public double getValueSet(int index) {\n",
    "        return (index < getSize()) ? valueSet.get(index) : 0;\n",
    "   }\n",
    "   \n",
    "   public void setValueSet(int index, double value) {\n",
    "        int position = (index < getSize()) ? index : getSize();\n",
    "        if (position < getSize())\n",
    "            valueSet.set(index, value);\n",
    "        else\n",
    "            valueSet.add(value);\n",
    "   }\n",
    "\n",
    "   /*\n",
    "    * IStatisticsServices Interface\n",
    "    *******************************/\n",
    "   \n",
    "   public void insertValue(double value) {\n",
    "      valueSet.add(value);\n",
    "   }\n",
    "\n",
    "   public double sum() {\n",
    "      double theSum = 0.0f;\n",
    "      \n",
    "      for (double value : valueSet)\n",
    "         theSum += value;\n",
    "      \n",
    "      return theSum;\n",
    "   }\n",
    "\n",
    "   public double average() {\n",
    "      double avg = 0;\n",
    "      \n",
    "      if (valueSet.size() > 0)\n",
    "         avg = sum() / valueSet.size();\n",
    "      \n",
    "      return avg;\n",
    "   }\n",
    "}"
   ]
  },
  {
   "cell_type": "code",
   "execution_count": 29,
   "metadata": {},
   "outputs": [
    {
     "name": "stdout",
     "output_type": "stream",
     "text": [
      "inserido valor: 50.0\n",
      "inserido valor: 70.0\n",
      "inserido valor: 30.0\n",
      "-- somatorio: 150.0\n",
      "-- media: 50.0\n",
      "-- tamanho: 3\n"
     ]
    },
    {
     "data": {
      "text/plain": [
       "null"
      ]
     },
     "execution_count": 29,
     "metadata": {},
     "output_type": "execute_result"
    }
   ],
   "source": [
    "try {\n",
    "   IStatistics stat = new StatisticsComponent(3);\n",
    "\n",
    "   System.out.println(\"inserido valor: \" + 50.0f);\n",
    "   stat.insertValue(50.0f);\n",
    "   System.out.println(\"inserido valor: \" + 70.0f);\n",
    "   stat.insertValue(70.0f);\n",
    "   System.out.println(\"inserido valor: \" + 30.0f);\n",
    "   stat.insertValue(30.0f);\n",
    "\n",
    "   System.out.println(\"-- somatorio: \" + stat.sum());\n",
    "   System.out.println(\"-- media: \" + stat.average());\n",
    "   System.out.println(\"-- tamanho: \" + stat.getSize());\n",
    "} catch (Exception e) {\n",
    "   e.printStackTrace();\n",
    "}"
   ]
  },
  {
   "cell_type": "markdown",
   "metadata": {},
   "source": [
    "## Statistics Required"
   ]
  },
  {
   "cell_type": "code",
   "execution_count": 30,
   "metadata": {},
   "outputs": [
    {
     "data": {
      "text/plain": [
       "com.twosigma.beaker.javash.bkrbe012f82.IRun"
      ]
     },
     "execution_count": 30,
     "metadata": {},
     "output_type": "execute_result"
    }
   ],
   "source": [
    "public interface IRun {\n",
    "    \n",
    "    public void start();\n",
    "    \n",
    "}"
   ]
  },
  {
   "cell_type": "code",
   "execution_count": 31,
   "metadata": {},
   "outputs": [
    {
     "data": {
      "text/plain": [
       "com.twosigma.beaker.javash.bkrbe012f82.IStatisticsReceptacle"
      ]
     },
     "execution_count": 31,
     "metadata": {},
     "output_type": "execute_result"
    }
   ],
   "source": [
    "public interface IStatisticsReceptacle{\n",
    "    \n",
    "    public void connect(IStatistics provider);\n",
    "    \n",
    "}"
   ]
  },
  {
   "cell_type": "code",
   "execution_count": 32,
   "metadata": {},
   "outputs": [
    {
     "data": {
      "text/plain": [
       "com.twosigma.beaker.javash.bkrbe012f82.IClientProperties"
      ]
     },
     "execution_count": 32,
     "metadata": {},
     "output_type": "execute_result"
    }
   ],
   "source": [
    "public interface IClientProperties {\n",
    "    public int getSize();    \n",
    "    public void setSize(int size);\n",
    "}"
   ]
  },
  {
   "cell_type": "code",
   "execution_count": 33,
   "metadata": {},
   "outputs": [
    {
     "data": {
      "text/plain": [
       "com.twosigma.beaker.javash.bkrbe012f82.IClient"
      ]
     },
     "execution_count": 33,
     "metadata": {},
     "output_type": "execute_result"
    }
   ],
   "source": [
    "public interface IClient extends IStatisticsReceptacle, IClientProperties, IRun {\n",
    "\n",
    "}"
   ]
  },
  {
   "cell_type": "code",
   "execution_count": 34,
   "metadata": {},
   "outputs": [
    {
     "data": {
      "text/plain": [
       "com.twosigma.beaker.javash.bkrbe012f82.ClientComponent"
      ]
     },
     "execution_count": 34,
     "metadata": {},
     "output_type": "execute_result"
    }
   ],
   "source": [
    "public class ClientComponent implements IClient {\n",
    "    public final static int STANDARD_SIZE = 5;\n",
    "   \n",
    "    private int size;\n",
    "    private int first, second;\n",
    "   \n",
    "    private IStatistics provider = null;\n",
    "    \n",
    "    /*\n",
    "     * Constructor\n",
    "     *************/\n",
    "    \n",
    "    public ClientComponent() {\n",
    "      super();\n",
    "      size = STANDARD_SIZE;\n",
    "      first = 1;\n",
    "      second = 1;\n",
    "    }\n",
    "    \n",
    "    /*\n",
    "     * Properties\n",
    "     */\n",
    "    \n",
    "    public int getSize() {\n",
    "        return size;\n",
    "    }\n",
    "    \n",
    "    public void setSize(int size) {\n",
    "        this.size = size;\n",
    "    }\n",
    "    \n",
    "    /*\n",
    "     * IStatisticsReceptacle Interface\n",
    "     **********************************/\n",
    "    \n",
    "    public void connect(IStatistics provider)\n",
    "    {\n",
    "        this.provider = provider;\n",
    "    }\n",
    "    \n",
    "    public int next() {\n",
    "       int returnNumber = first;\n",
    "       first = second;\n",
    "       second = returnNumber + first;\n",
    "       return returnNumber;\n",
    "    }\n",
    "    \n",
    "    public void start()\n",
    "    {\n",
    "       for (int f = 1; f <= size; f++) {\n",
    "          int nextNumber = next();\n",
    "          System.out.println(\"produzido: \" + nextNumber);\n",
    "          provider.insertValue(nextNumber);\n",
    "       }\n",
    "   \n",
    "       System.out.println(\"-- somatorio: \" + provider.sum());\n",
    "       System.out.println(\"-- media: \" + provider.average());\n",
    "    }\n",
    "    \n",
    "}"
   ]
  },
  {
   "cell_type": "markdown",
   "metadata": {},
   "source": [
    "## Questão 5 [2,5 pontos]\n",
    "\n",
    "Tomando como base o [Dataset dos Zumbis](https://github.com/santanche/java2learn/blob/master/src/db/datasets/zombie/complete/zombie-health-spreadsheet-ml-training.csv), instancie e conecte os componentes que você achar necessários para mostrar no console a média do tempo de recuperação (`days_recovery`) dos zumbis."
   ]
  },
  {
   "cell_type": "code",
   "execution_count": null,
   "metadata": {},
   "outputs": [],
   "source": []
  }
 ],
 "metadata": {
  "kernelspec": {
   "display_name": "Java",
   "language": "java",
   "name": "java"
  },
  "language_info": {
   "codemirror_mode": "text/x-java",
   "file_extension": ".java",
   "mimetype": "",
   "name": "Java",
   "nbconverter_exporter": "",
   "version": "11.0.4"
  }
 },
 "nbformat": 4,
 "nbformat_minor": 2
}
