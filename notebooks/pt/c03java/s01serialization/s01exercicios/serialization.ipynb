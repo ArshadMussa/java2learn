{
 "cells": [
  {
   "cell_type": "markdown",
   "metadata": {},
   "source": [
    "# Serialização\n",
    "\n",
    "## Objeto Leitura de Sensor"
   ]
  },
  {
   "cell_type": "code",
   "execution_count": 1,
   "metadata": {},
   "outputs": [
    {
     "data": {
      "text/plain": [
       "com.twosigma.beaker.javash.bkrb3861a93.SensorReading"
      ]
     },
     "execution_count": 1,
     "metadata": {},
     "output_type": "execute_result"
    }
   ],
   "source": [
    "import java.util.Date;\n",
    "\n",
    "public class SensorReading {\n",
    "   private Date timestamp;\n",
    "   private String dimension;\n",
    "   private double value;\n",
    "   private String unity;\n",
    "   \n",
    "   public SensorReading() {\n",
    "      /* nothing */\n",
    "   }\n",
    "   \n",
    "   public SensorReading(Date timestamp, String dimension, double value, String unity) {\n",
    "      this.timestamp = timestamp;\n",
    "      this.dimension = dimension;\n",
    "      this.value = value;\n",
    "      this.unity = unity;\n",
    "   }\n",
    "\n",
    "   public Date getTimestamp() {\n",
    "      return timestamp;\n",
    "   }\n",
    "   \n",
    "   public void setTimestamp(Date timestamp) {\n",
    "      this.timestamp = timestamp;\n",
    "   }\n",
    "   \n",
    "   public String getDimension() {\n",
    "      return dimension;\n",
    "   }\n",
    "   \n",
    "   public void setDimension(String dimension) {\n",
    "      this.dimension = dimension;\n",
    "   }\n",
    "   \n",
    "   public double getValue() {\n",
    "      return value;\n",
    "   }\n",
    "   \n",
    "   public void setValue(double value) {\n",
    "      this.value = value;\n",
    "   }\n",
    "   \n",
    "   public String getUnity() {\n",
    "      return unity;\n",
    "   }\n",
    "   \n",
    "   public void setUnity(String unity) {\n",
    "      this.unity = unity;\n",
    "   }\n",
    "    \n",
    "   public String toString() {\n",
    "      return \"time stamp: \" + timestamp +\n",
    "             \"\\ndimension: \" + dimension +\n",
    "             \"\\nvalue: \" + value +\n",
    "             \"\\nunity: \" + unity;\n",
    "   }\n",
    "}"
   ]
  },
  {
   "cell_type": "markdown",
   "metadata": {},
   "source": [
    "# Serializando em XML"
   ]
  },
  {
   "cell_type": "code",
   "execution_count": 2,
   "metadata": {},
   "outputs": [
    {
     "name": "stdout",
     "output_type": "stream",
     "text": [
      "Objeto gravado com sucesso!\n"
     ]
    },
    {
     "data": {
      "text/plain": [
       "null"
      ]
     },
     "execution_count": 2,
     "metadata": {},
     "output_type": "execute_result"
    }
   ],
   "source": [
    "import java.util.Date;\n",
    "import java.util.Calendar;\n",
    "import java.beans.XMLEncoder;\n",
    "import java.io.BufferedOutputStream;\n",
    "import java.io.FileNotFoundException;\n",
    "import java.io.FileOutputStream;\n",
    "\n",
    "Date today = Calendar.getInstance().getTime();\n",
    "SensorReading sensor = new SensorReading(today, \"temperature\", 25, \"centigrades\");\n",
    "\n",
    "try {\n",
    "    XMLEncoder encoder = new XMLEncoder(\n",
    "            new BufferedOutputStream(\n",
    "                    new FileOutputStream(\"temperature.xml\") ) );\n",
    "    encoder.writeObject(sensor);\n",
    "    encoder.close();\n",
    "\n",
    "    System.out.println(\"Objeto gravado com sucesso!\");\n",
    "} catch (FileNotFoundException e) {\n",
    "    e.printStackTrace();\n",
    "}"
   ]
  },
  {
   "cell_type": "markdown",
   "metadata": {},
   "source": [
    "# Deserializando em XML"
   ]
  },
  {
   "cell_type": "code",
   "execution_count": 3,
   "metadata": {},
   "outputs": [
    {
     "name": "stdout",
     "output_type": "stream",
     "text": [
      "time stamp: Fri Aug 23 13:19:45 GMT 2019\n",
      "dimension: temperature\n",
      "value: 25.0\n",
      "unity: centigrades\n"
     ]
    },
    {
     "data": {
      "text/plain": [
       "null"
      ]
     },
     "execution_count": 3,
     "metadata": {},
     "output_type": "execute_result"
    }
   ],
   "source": [
    "import java.util.Date;\n",
    "import java.util.Calendar;\n",
    "import java.beans.XMLDecoder;\n",
    "import java.io.BufferedInputStream;\n",
    "import java.io.FileInputStream;\n",
    "import java.io.FileNotFoundException;\n",
    "\n",
    "try {\n",
    "    XMLDecoder decoder = new XMLDecoder(\n",
    "            new BufferedInputStream(\n",
    "                    new FileInputStream(\"temperature.xml\") ) );\n",
    "\n",
    "    SensorReading sensor = (SensorReading)decoder.readObject();\n",
    "    decoder.close();\n",
    "\n",
    "    System.out.println(sensor);\n",
    "} catch (FileNotFoundException e) {\n",
    "    e.printStackTrace();\n",
    "}"
   ]
  },
  {
   "cell_type": "markdown",
   "metadata": {},
   "source": [
    "# Serializando em JSON"
   ]
  },
  {
   "cell_type": "code",
   "execution_count": 4,
   "metadata": {},
   "outputs": [
    {
     "data": {
      "application/vnd.jupyter.widget-view+json": {
       "model_id": "44e0d0df-db06-4d79-9fdb-57269da0b360",
       "version_major": 2,
       "version_minor": 0
      },
      "method": "display_data"
     },
     "metadata": {},
     "output_type": "display_data"
    }
   ],
   "source": [
    "%classpath add jar ../../../../../src/lib/genson-1.6.jar"
   ]
  },
  {
   "cell_type": "code",
   "execution_count": 5,
   "metadata": {},
   "outputs": [
    {
     "name": "stdout",
     "output_type": "stream",
     "text": [
      "{\n",
      "  \"dimension\":\"temperature\",\n",
      "  \"timestamp\":1566566388145,\n",
      "  \"unity\":\"centigrades\",\n",
      "  \"value\":25.0\n",
      "}\n"
     ]
    },
    {
     "data": {
      "text/plain": [
       "null"
      ]
     },
     "execution_count": 5,
     "metadata": {},
     "output_type": "execute_result"
    }
   ],
   "source": [
    "import java.util.Date;\n",
    "import java.util.Calendar;\n",
    "\n",
    "import java.text.SimpleDateFormat;\n",
    "\n",
    "import com.owlike.genson.Genson;\n",
    "import com.owlike.genson.GensonBuilder;\n",
    "\n",
    "import java.io.FileWriter;\n",
    "import java.io.IOException;\n",
    "\n",
    "Date today = Calendar.getInstance().getTime();\n",
    "SensorReading sensor = new SensorReading(today, \"temperature\", 25, \"centigrades\");\n",
    "\n",
    "try {\n",
    "   Genson genson = new GensonBuilder()\n",
    "     .useDateFormat(new SimpleDateFormat(\"yyyy-MM-dd\"))\n",
    "     .useIndentation(true)\n",
    "     .useConstructorWithArguments(false)\n",
    "   .create();\n",
    "\n",
    "   String json = genson.serialize(sensor);\n",
    "   System.out.println(json);    \n",
    "\n",
    "   FileWriter arquivo = new FileWriter(\"temperature.json\");\n",
    "   arquivo.write(json);\n",
    "   arquivo.close();\n",
    "} catch (IOException e) {\n",
    "    e.printStackTrace();\n",
    "}"
   ]
  },
  {
   "cell_type": "markdown",
   "metadata": {},
   "source": [
    "# Deserializando em JSON"
   ]
  },
  {
   "cell_type": "code",
   "execution_count": 6,
   "metadata": {},
   "outputs": [
    {
     "name": "stdout",
     "output_type": "stream",
     "text": [
      "{\n",
      "  \"dimension\":\"temperature\",\n",
      "  \"timestamp\":1566566388145,\n",
      "  \"unity\":\"centigrades\",\n",
      "  \"value\":25.0\n",
      "}\n",
      "time stamp: Fri Aug 23 13:19:48 GMT 2019\n",
      "dimension: temperature\n",
      "value: 25.0\n",
      "unity: centigrades\n"
     ]
    },
    {
     "data": {
      "text/plain": [
       "null"
      ]
     },
     "execution_count": 6,
     "metadata": {},
     "output_type": "execute_result"
    }
   ],
   "source": [
    "import java.util.Date;\n",
    "import java.util.Calendar;\n",
    "\n",
    "import java.text.SimpleDateFormat;\n",
    "\n",
    "import java.io.BufferedReader;\n",
    "import java.io.FileReader;\n",
    "import java.io.IOException;\n",
    "\n",
    "import com.owlike.genson.Genson;\n",
    "import com.owlike.genson.GensonBuilder;\n",
    "\n",
    "try {\n",
    "    FileReader arquivo = new FileReader(\"temperature.json\");\n",
    "    BufferedReader formatado = new BufferedReader(arquivo);\n",
    "\n",
    "    String json = \"\";\n",
    "    String linha = formatado.readLine();\n",
    "    while (linha != null) {\n",
    "        json += linha + \"\\n\";\n",
    "        System.out.println(linha);\n",
    "        linha = formatado.readLine();\n",
    "    }\n",
    "    arquivo.close();\n",
    "\n",
    "    Genson genson = new GensonBuilder()\n",
    "      .useDateFormat(new SimpleDateFormat(\"yyyy-MM-dd\"))\n",
    "      .useIndentation(true)\n",
    "      .useConstructorWithArguments(false)\n",
    "      .create();\n",
    "\n",
    "    SensorReading sensor = genson.deserialize(json, SensorReading.class);\n",
    "    System.out.println(sensor);\n",
    "} catch (IOException erro) {\n",
    "    erro.printStackTrace();\n",
    "}"
   ]
  }
 ],
 "metadata": {
  "kernelspec": {
   "display_name": "Java",
   "language": "java",
   "name": "java"
  },
  "language_info": {
   "codemirror_mode": "text/x-java",
   "file_extension": ".java",
   "mimetype": "",
   "name": "Java",
   "nbconverter_exporter": "",
   "version": "11.0.4"
  }
 },
 "nbformat": 4,
 "nbformat_minor": 2
}
