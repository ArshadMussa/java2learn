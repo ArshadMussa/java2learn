{
 "cells": [
  {
   "cell_type": "markdown",
   "metadata": {},
   "source": [
    "# Conta Corrente - DAO e Observer\n",
    "\n",
    "# Exercício\n",
    "Dadas as quatro classes a seguir, elabore uma classe abstrata `Transacao` que permita representá-las, generalizando todas as operações possíveis:"
   ]
  },
  {
   "cell_type": "code",
   "execution_count": 1,
   "metadata": {},
   "outputs": [],
   "source": [
    "public class Debito {\n",
    "    private float valor;\n",
    "    public Debito(float valor) {\n",
    "        this.valor = valor;\n",
    "    }\n",
    "    public float operacao(float saldo) {\n",
    "        return saldo - valor;\n",
    "    }\n",
    "}\n",
    "\n",
    "public class Credito {\n",
    "    private float valor;\n",
    "    public Credito(float valor) {\n",
    "        this.valor = valor;\n",
    "    }\n",
    "    public float operacao(float saldo) {\n",
    "        return saldo + valor;\n",
    "    }\n",
    "}\n",
    "\n",
    "public class Rendimento {\n",
    "    private float valor;\n",
    "    public Rendimento(float valor) {\n",
    "        this.valor = valor;\n",
    "    }\n",
    "    public float operacao(float saldo) {\n",
    "        return saldo * (1 + valor/100);\n",
    "    }\n",
    "}\n",
    "\n",
    "public class Depreciacao {\n",
    "    private float valor;\n",
    "    public Depreciacao(float valor) {\n",
    "        this.valor = valor;\n",
    "    }\n",
    "    public float operacao(float saldo) {\n",
    "        return saldo * (1 - valor/100);\n",
    "    }\n",
    "}"
   ]
  },
  {
   "cell_type": "markdown",
   "metadata": {},
   "source": [
    "## Resolução"
   ]
  },
  {
   "cell_type": "code",
   "execution_count": null,
   "metadata": {},
   "outputs": [],
   "source": []
  },
  {
   "cell_type": "markdown",
   "metadata": {},
   "source": [
    "# Exercício\n",
    "\n",
    "Implemente uma classe `Conta`  aplicar uma série de movimentos em uma conta bancária de um cliente, capaz de realizar as seguintes operações:\n",
    "\n",
    "* `construtor` - recebe como parâmetro o número da conta e o seu saldo inicial;\n",
    "* `novaTransacao` - aplica a transação (classe `Transacao`) recebida como parâmetro sobre o saldo e mostra o saldo atualizado na tela.\n",
    "\n",
    "Crie uma interface para abstrair a operação de movimento.\n",
    "\n",
    "## Resolução"
   ]
  },
  {
   "cell_type": "code",
   "execution_count": null,
   "metadata": {},
   "outputs": [],
   "source": []
  },
  {
   "cell_type": "markdown",
   "metadata": {},
   "source": [
    "# Exercício\n",
    "\n",
    "Considere que caixas bancários, caixas eletrônicos e o site do banco na internet (dentre outros) são *Pontos de Transação*. Esse tipo de ponto gera transações.\n",
    "\n",
    "Tomando como base o pattern Observer, escreva uma interface `IPontoTransacao` que permita que diversos objetos `IMovimento` sejam capazes de monitorar cada objeto de `Ponto de Transação`. Cada vez que for executada uma transação no `Ponto de Transação` ela é enviada para todas as contas assinantes, que a aplicam nas respectivas contas.\n",
    "\n",
    "Para fins de simplificação, considere que todas as transações sempre se destinarão à conta assinante.\n",
    "\n",
    "## Resolução"
   ]
  },
  {
   "cell_type": "code",
   "execution_count": null,
   "metadata": {},
   "outputs": [],
   "source": []
  },
  {
   "cell_type": "markdown",
   "metadata": {},
   "source": [
    "# Exercício\n",
    "\n",
    "Expanda o método de assinatura de tal maneira que a assinatura seja personalizada, ou seja, ao assinar um `Ponto de Transação` o assinante informa o seu número da conta. Toda a transação realizada no `Ponto de Transação` deve passar a ter o número da conta associada. O ponto só notificará os assinantes cujo número da conta seja compatível com a transação.\n",
    "\n",
    "## Resolução"
   ]
  },
  {
   "cell_type": "code",
   "execution_count": null,
   "metadata": {},
   "outputs": [],
   "source": []
  },
  {
   "cell_type": "markdown",
   "metadata": {},
   "source": [
    "# Exercício\n",
    "\n",
    "Considere uma estratégia de serialização em que um objeto herdeiro de `Transacao` transforma o seu estado completo em uma única String. Crie uma variante do método `novaTransacao` chamado `novaTransacaoStr`, em que é passado como parâmetro a String serializada para o assinante.\n",
    "\n",
    "Um objeto herdeiro de `Transacao` também deve ter um método que seja capaz de converter a String serializada em seu estado interno (deserialização). O objeto assinante ao receber a String serializada pelo método `novaTransacaoStr` deve deserializá-lo e aplicar a operação, tal como acontece no método `novaTransacao`.\n",
    "\n",
    "## Resolução"
   ]
  },
  {
   "cell_type": "code",
   "execution_count": null,
   "metadata": {},
   "outputs": [],
   "source": []
  }
 ],
 "metadata": {
  "kernelspec": {
   "display_name": "Java",
   "language": "java",
   "name": "java"
  },
  "language_info": {
   "codemirror_mode": "java",
   "file_extension": ".java",
   "mimetype": "text/x-java-source",
   "name": "Java",
   "pygments_lexer": "java",
   "version": "10.0.1+10-Debian-4"
  }
 },
 "nbformat": 4,
 "nbformat_minor": 2
}
