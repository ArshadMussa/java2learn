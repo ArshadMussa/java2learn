{
 "cells": [
  {
   "cell_type": "markdown",
   "metadata": {},
   "source": [
    "# Conta Corrente - DAO e Observer\n",
    "\n",
    "# Exercício\n",
    "Dadas as quatro classes a seguir, elabore uma classe abstrata `Transacao` que permita representá-las, generalizando todas as operações possíveis:"
   ]
  },
  {
   "cell_type": "code",
   "execution_count": 1,
   "metadata": {},
   "outputs": [],
   "source": [
    "public class Debito {\n",
    "    private float valor;\n",
    "    public Debito(float valor) {\n",
    "        this.valor = valor;\n",
    "    }\n",
    "    public float operacao(float saldo) {\n",
    "        return saldo - valor;\n",
    "    }\n",
    "}\n",
    "\n",
    "public class Credito {\n",
    "    private float valor;\n",
    "    public Credito(float valor) {\n",
    "        this.valor = valor;\n",
    "    }\n",
    "    public float operacao(float saldo) {\n",
    "        return saldo + valor;\n",
    "    }\n",
    "}\n",
    "\n",
    "public class Rendimento {\n",
    "    private float valor;\n",
    "    public Rendimento(float valor) {\n",
    "        this.valor = valor;\n",
    "    }\n",
    "    public float operacao(float saldo) {\n",
    "        return saldo * (1 + valor/100);\n",
    "    }\n",
    "}\n",
    "\n",
    "public class Depreciacao {\n",
    "    private float valor;\n",
    "    public Depreciacao(float valor) {\n",
    "        this.valor = valor;\n",
    "    }\n",
    "    public float operacao(float saldo) {\n",
    "        return saldo * (1 - valor/100);\n",
    "    }\n",
    "}"
   ]
  },
  {
   "cell_type": "markdown",
   "metadata": {},
   "source": [
    "## Solução"
   ]
  },
  {
   "cell_type": "code",
   "execution_count": 2,
   "metadata": {},
   "outputs": [
    {
     "name": "stdout",
     "output_type": "stream",
     "text": [
      "480.0\n",
      "510.0\n",
      "561.0\n",
      "448.80002\n"
     ]
    }
   ],
   "source": [
    "public abstract class Transacao {\n",
    "   protected float valor;\n",
    "\n",
    "   public Transacao(float valor) {\n",
    "      this.valor = valor;\n",
    "   }\n",
    "\n",
    "   public abstract float operacao(float saldo);\n",
    "}\n",
    "\n",
    "public class Debito extends Transacao {\n",
    "   public Debito(float valor) {\n",
    "      super(valor);\n",
    "   }\n",
    "   public float operacao(float saldo) {\n",
    "      return saldo - valor;\n",
    "   }\n",
    "}\n",
    "\n",
    "public class Credito extends Transacao {\n",
    "   public Credito(float valor) {\n",
    "      super(valor);\n",
    "   }\n",
    "   public float operacao(float saldo) {\n",
    "       return saldo + valor;\n",
    "   }\n",
    "}\n",
    "\n",
    "public class Rendimento extends Transacao {\n",
    "   public Rendimento(float valor) {\n",
    "      super(valor);\n",
    "   }\n",
    "   public float operacao(float saldo) {\n",
    "      return saldo * (1 + valor/100);\n",
    "   }\n",
    "}\n",
    "\n",
    "public class Depreciacao extends Transacao {\n",
    "   public Depreciacao(float valor) {\n",
    "      super(valor);\n",
    "   }\n",
    "   public float operacao(float saldo) {\n",
    "      return saldo * (1 - valor/100);\n",
    "   }\n",
    "}\n",
    "\n",
    "float saldo = 500;\n",
    "Transacao d = new Debito(20);\n",
    "saldo = d.operacao(saldo);\n",
    "System.out.println(saldo);\n",
    "Transacao c = new Credito(30);\n",
    "saldo = c.operacao(saldo);\n",
    "System.out.println(saldo);\n",
    "Transacao r = new Rendimento(10);\n",
    "saldo = r.operacao(saldo);\n",
    "System.out.println(saldo);\n",
    "Transacao dp = new Depreciacao(20);\n",
    "saldo = dp.operacao(saldo);\n",
    "System.out.println(saldo);"
   ]
  },
  {
   "cell_type": "markdown",
   "metadata": {},
   "source": [
    "# Exercício\n",
    "\n",
    "Implemente uma classe `Conta`  aplicar uma série de movimentos em uma conta bancária de um cliente, capaz de realizar as seguintes operações:\n",
    "\n",
    "* `construtor` - recebe como parâmetro do saldo inicial da conta;\n",
    "* `novaTransacao` - aplica a transação (classe `Transacao`) recebida como parâmetro sobre o saldo e mostra o saldo atualizado na tela.\n",
    "\n",
    "Crie uma interface para abstrair a operação de movimento.\n",
    "\n",
    "# Solução"
   ]
  },
  {
   "cell_type": "code",
   "execution_count": 3,
   "metadata": {},
   "outputs": [
    {
     "name": "stdout",
     "output_type": "stream",
     "text": [
      "480.0\n",
      "510.0\n",
      "561.0\n",
      "448.80002\n"
     ]
    }
   ],
   "source": [
    "public interface IMovimento {\n",
    "   public void novaTransacao(Transacao tr);\n",
    "}\n",
    "\n",
    "public class Conta implements IMovimento {\n",
    "   private float saldo;\n",
    "    \n",
    "   public float getSaldo() {\n",
    "      return saldo;\n",
    "   }\n",
    "    \n",
    "   public Conta(float saldo) {\n",
    "      this.saldo = saldo;\n",
    "   }\n",
    "    \n",
    "   public void novaTransacao(Transacao tr) {\n",
    "      saldo = tr.operacao(saldo);\n",
    "      System.out.println(saldo);\n",
    "   }\n",
    "}\n",
    "\n",
    "IMovimento cc = new Conta(500);\n",
    "Transacao d = new Debito(20);\n",
    "cc.novaTransacao(d);\n",
    "Transacao c = new Credito(30);\n",
    "cc.novaTransacao(c);\n",
    "Transacao r = new Rendimento(10);\n",
    "cc.novaTransacao(r);\n",
    "Transacao dp = new Depreciacao(20);\n",
    "cc.novaTransacao(dp);"
   ]
  },
  {
   "cell_type": "markdown",
   "metadata": {},
   "source": [
    "# Exercício\n",
    "\n",
    "Considere que caixas bancários, caixas eletrônicos e o site do banco na internet (dentre outros) são *Pontos de Transação*. Esse tipo de ponto gera transações.\n",
    "\n",
    "Tomando como base o pattern Observer, escreva uma interface `IPontoTransacao` que permita que diversos objetos `IMovimento` sejam capazes de monitorar cada objeto de `Ponto de Transação`. Cada vez que for executada uma transação no `Ponto de Transação` ela é enviada para todas as contas assinantes, que a aplicam nas respectivas contas.\n",
    "\n",
    "Para fins de simplificação, considere que todas as transações sempre se destinarão à conta assinante.\n",
    "\n",
    "# Resolução"
   ]
  },
  {
   "cell_type": "code",
   "execution_count": 4,
   "metadata": {},
   "outputs": [
    {
     "name": "stdout",
     "output_type": "stream",
     "text": [
      "480.0\n",
      "180.0\n",
      "510.0\n",
      "210.0\n",
      "561.0\n",
      "231.0\n",
      "448.80002\n",
      "184.8\n"
     ]
    }
   ],
   "source": [
    "public interface IPontoTransacao {\n",
    "   public void attach(IMovimento assinante);\n",
    "   public void notify(Transacao trans);\n",
    "   public void activate();\n",
    "}\n",
    "\n",
    "public abstract class PontoTransacao implements IPontoTransacao {\n",
    "   private ArrayList<IMovimento> assinantes = new ArrayList<IMovimento>();\n",
    "   \n",
    "   public void attach(IMovimento assinante) {\n",
    "      assinantes.add(assinante);\n",
    "   }\n",
    "    \n",
    "   public void notify(Transacao trans) {\n",
    "      for (IMovimento ass: assinantes)\n",
    "          ass.novaTransacao(trans);\n",
    "   }\n",
    "    \n",
    "   public abstract void activate();\n",
    "}\n",
    "\n",
    "public class CaixaEletronico extends PontoTransacao {\n",
    "   Transacao transacoesUsuario[] = {\n",
    "      new Debito(20),\n",
    "      new Credito(30),\n",
    "      new Rendimento(10),\n",
    "      new Depreciacao(20)\n",
    "   };\n",
    "   \n",
    "   public void activate() {\n",
    "      for (Transacao tr: transacoesUsuario)\n",
    "         notify(tr);\n",
    "   }\n",
    "}\n",
    "\n",
    "IPontoTransacao caixa = new CaixaEletronico();\n",
    "Conta cc1 = new Conta(500);\n",
    "caixa.attach(cc1);\n",
    "\n",
    "Conta cc2 = new Conta(200);\n",
    "caixa.attach(cc2);\n",
    "\n",
    "caixa.activate();"
   ]
  }
 ],
 "metadata": {
  "kernelspec": {
   "display_name": "Java",
   "language": "java",
   "name": "java"
  },
  "language_info": {
   "codemirror_mode": "java",
   "file_extension": ".java",
   "mimetype": "text/x-java-source",
   "name": "Java",
   "pygments_lexer": "java",
   "version": "10.0.1+10-Debian-4"
  }
 },
 "nbformat": 4,
 "nbformat_minor": 2
}
