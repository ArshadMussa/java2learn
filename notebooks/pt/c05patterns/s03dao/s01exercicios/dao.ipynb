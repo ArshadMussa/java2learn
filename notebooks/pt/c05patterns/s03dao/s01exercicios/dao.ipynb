{
 "cells": [
  {
   "cell_type": "markdown",
   "metadata": {},
   "source": [
    "# Empréstimo DAO\n",
    "\n",
    "## Exercício\n",
    "\n",
    "Retomando o exemplo do Empréstimo gravado em arquivo, conforme codificado no notebook anterior (classe geral `Emprestimo` que abstrai duas subclasses: `EmprestimoSimples` e `EmprestimoComposto`), adapte o código para que utilize o pattern DAO na serialização."
   ]
  }
 ],
 "metadata": {
  "kernelspec": {
   "display_name": "Java",
   "language": "java",
   "name": "java"
  },
  "language_info": {
   "codemirror_mode": "java",
   "file_extension": ".java",
   "mimetype": "text/x-java-source",
   "name": "Java",
   "pygments_lexer": "java",
   "version": "10.0.1+10-Debian-4"
  }
 },
 "nbformat": 4,
 "nbformat_minor": 2
}
