{
 "cells": [
  {
   "cell_type": "markdown",
   "metadata": {},
   "source": [
    "# Serializando e deserializando em XML e JSON\n",
    "\n",
    "É possível se serializar objetos em XML e JSON.\n",
    "\n",
    "## XML\n",
    "\n",
    "Veja no exemplo a seguir como um objeto `Bastiao` é serializado em XML usando o `XMLEncoder`. Por enquanto, você pode entender intuitivamente o XML comparando-o com o HTML. No entanto, no XML os tags podem ser customizados para atender a um contexto específico.\n",
    "\n",
    "A serialização do objeto bastião irá gerar um arquivo `thebastian.xml` com o estado do objeto (veja arquivo que será criado).\n",
    "\n",
    "O XML tem a seguinte estrutura:\n",
    "\n",
    "~~~xml\n",
    "<object class=\"REPL.$JShell$23G$Bastiao\">\n",
    "  <void property=\"estado\">\n",
    "   <string>acordado</string>\n",
    "  </void>\n",
    "  <void property=\"idade\">\n",
    "   <int>3</int>\n",
    "  </void>\n",
    "  <void property=\"nome\">\n",
    "   <string>Asdrubal</string>\n",
    "  </void>\n",
    "</object>\n",
    "~~~\n",
    "\n",
    "Note que os tags XML foram ajustados para atender à estrutura do `Bastiao` através de reflexão.\n",
    "\n",
    "Veja que a serialização foi combinada com `streams` para a gravação dos dados."
   ]
  },
  {
   "cell_type": "code",
   "execution_count": 5,
   "metadata": {},
   "outputs": [
    {
     "name": "stdout",
     "output_type": "stream",
     "text": [
      "Objeto gravado com sucesso!\n"
     ]
    }
   ],
   "source": [
    "import java.io.Serializable;\n",
    "import java.beans.XMLEncoder;\n",
    "import java.io.BufferedOutputStream;\n",
    "import java.io.FileNotFoundException;\n",
    "import java.io.FileOutputStream;\n",
    "\n",
    "public class Bastiao implements Serializable\n",
    "{\n",
    "    private static final long serialVersionUID = 3863010501019562695L;\n",
    "    \n",
    "    private int idade;\n",
    "    private String estado;\n",
    "    private String nome;\n",
    "    \n",
    "    public final static int MAIOR_IDADE = 3;\n",
    "    \n",
    "    public Bastiao()\n",
    "    {\n",
    "        \n",
    "    }\n",
    "    \n",
    "    public Bastiao(int idade, String estado, String nome)\n",
    "    {\n",
    "        this.idade = idade;\n",
    "        this.estado = estado;\n",
    "        this.nome = nome;\n",
    "    }\n",
    "    \n",
    "    public void aparece()\n",
    "    {\n",
    "        // cabeleira\n",
    "        if (idade >= 2)\n",
    "            System.out.println(\"  *\");\n",
    "        \n",
    "        // corpo com olhos\n",
    "        if (estado.equalsIgnoreCase(\"acordado\"))\n",
    "            System.out.println(\" o*o\");\n",
    "        else\n",
    "            System.out.println(\" -*-\");\n",
    "        \n",
    "        // barba\n",
    "        if (idade >= 3)\n",
    "            System.out.println(\"*****\");\n",
    "        \n",
    "        System.out.println(nome);\n",
    "        \n",
    "        System.out.println();\n",
    "    }\n",
    "    \n",
    "    public void cresce()\n",
    "    {\n",
    "        if (idade < MAIOR_IDADE)\n",
    "            idade++;\n",
    "        aparece();\n",
    "    }\n",
    "    \n",
    "    public void acorda()\n",
    "    {\n",
    "        estado = \"acordado\";\n",
    "        aparece();\n",
    "    }\n",
    "    \n",
    "    public void dorme()\n",
    "    {\n",
    "        estado = \"dormindo\";\n",
    "        aparece();\n",
    "    }\n",
    "    \n",
    "    /* Getters e setters\n",
    "     */\n",
    "\n",
    "    public int getIdade() {\n",
    "        return idade;\n",
    "    }\n",
    "\n",
    "    public void setIdade(int idade) {\n",
    "        this.idade = idade;\n",
    "    }\n",
    "\n",
    "    public String getEstado() {\n",
    "        return estado;\n",
    "    }\n",
    "\n",
    "    public void setEstado(String estado) {\n",
    "        this.estado = estado;\n",
    "    }\n",
    "\n",
    "    public String getNome() {\n",
    "        return nome;\n",
    "    }\n",
    "\n",
    "    public void setNome(String nome) {\n",
    "        this.nome = nome;\n",
    "    }\n",
    "}\n",
    "\n",
    "Bastiao theBastian = new Bastiao(3, \"acordado\", \"Asdrubal\");\n",
    "\n",
    "try {\n",
    "    XMLEncoder encoder = new XMLEncoder(\n",
    "            new BufferedOutputStream(\n",
    "                    new FileOutputStream(\"thebastian.xml\") ) );\n",
    "    encoder.writeObject(theBastian);\n",
    "    encoder.close();\n",
    "\n",
    "    System.out.println(\"Objeto gravado com sucesso!\");\n",
    "} catch (FileNotFoundException e) {\n",
    "    e.printStackTrace();\n",
    "}"
   ]
  },
  {
   "cell_type": "markdown",
   "metadata": {},
   "source": [
    "## Deserializando XML\n",
    "\n",
    "A deserialização é o processo inverso usando o `XMLDecoder`, como pode ser visto a seguir:"
   ]
  },
  {
   "cell_type": "code",
   "execution_count": 7,
   "metadata": {},
   "outputs": [
    {
     "name": "stdout",
     "output_type": "stream",
     "text": [
      "  *\n",
      " o*o\n",
      "*****\n",
      "Asdrubal\n",
      "\n"
     ]
    }
   ],
   "source": [
    "import java.beans.XMLDecoder;\n",
    "import java.io.BufferedInputStream;\n",
    "import java.io.FileInputStream;\n",
    "import java.io.FileNotFoundException;\n",
    "\n",
    "Bastiao theBastian;\n",
    "\n",
    "try {\n",
    "    XMLDecoder decoder = new XMLDecoder(\n",
    "            new BufferedInputStream(\n",
    "                    new FileInputStream(\"thebastian.xml\") ) );\n",
    "\n",
    "    theBastian = (Bastiao)decoder.readObject();\n",
    "    decoder.close();\n",
    "\n",
    "    theBastian.aparece();\n",
    "} catch (FileNotFoundException e) {\n",
    "    e.printStackTrace();\n",
    "}"
   ]
  },
  {
   "cell_type": "markdown",
   "metadata": {},
   "source": [
    "## Canalizando a saída de um stream para uma String\n",
    "\n",
    "É possível canalizar a saída de uma steam para uma String (em vez, por exemplo, de um arquivo) usando-se o `ByteArrayOutputStream`. Veja a seguir como a serialização XML foi direcionada para um `ByteArrayOutputStream` que guarda os dados na memória. Em seguida, é possível usar o método `toString()` para transaformar o stream numa String. Assim, é possível se transformar o estado do `Bastiao` em uma `String` XML."
   ]
  },
  {
   "cell_type": "code",
   "execution_count": 13,
   "metadata": {},
   "outputs": [
    {
     "name": "stdout",
     "output_type": "stream",
     "text": [
      "<?xml version=\"1.0\" encoding=\"UTF-8\"?>\n",
      "<java version=\"10.0.1\" class=\"java.beans.XMLDecoder\">\n",
      " <object class=\"REPL.$JShell$23G$Bastiao\">\n",
      "  <void property=\"estado\">\n",
      "   <string>dormindo</string>\n",
      "  </void>\n",
      "  <void property=\"idade\">\n",
      "   <int>2</int>\n",
      "  </void>\n",
      "  <void property=\"nome\">\n",
      "   <string>Doriana</string>\n",
      "  </void>\n",
      " </object>\n",
      "</java>\n",
      "\n"
     ]
    }
   ],
   "source": [
    "Bastiao theBastian = new Bastiao(2, \"dormindo\", \"Doriana\");\n",
    "\n",
    "ByteArrayOutputStream bastiaoXMLStream = new ByteArrayOutputStream();\n",
    "XMLEncoder encoder = new XMLEncoder(bastiaoXMLStream);\n",
    "encoder.writeObject(theBastian);\n",
    "encoder.close();\n",
    "\n",
    "String bastiaoXML = bastiaoXMLStream.toString();\n",
    "System.out.println(bastiaoXML);"
   ]
  },
  {
   "cell_type": "markdown",
   "metadata": {},
   "source": [
    "## Canalizando uma String como entrada de uma String\n",
    "\n",
    "Também é possível se fazer o inverso com o `ByteArrayInputStream`. Veja como a String XML que tem o estado do `Bastiao` foi convertida em um objeto:"
   ]
  },
  {
   "cell_type": "code",
   "execution_count": 14,
   "metadata": {},
   "outputs": [
    {
     "name": "stdout",
     "output_type": "stream",
     "text": [
      "  *\n",
      " -*-\n",
      "Doriana\n",
      "\n"
     ]
    }
   ],
   "source": [
    "import java.beans.XMLDecoder;\n",
    "import java.io.BufferedInputStream;\n",
    "import java.io.FileInputStream;\n",
    "import java.io.FileNotFoundException;\n",
    "\n",
    "Bastiao theBastian;\n",
    "\n",
    "XMLDecoder decoder = new XMLDecoder(\n",
    "   new ByteArrayInputStream(bastiaoXML.getBytes()));\n",
    "\n",
    "theBastian = (Bastiao)decoder.readObject();\n",
    "decoder.close();\n",
    "\n",
    "theBastian.aparece();"
   ]
  },
  {
   "cell_type": "markdown",
   "metadata": {},
   "source": [
    "# Exercício\n",
    "\n",
    "Considere a implementação do pattern Observer de *Pontos de Transação* feitos no notebook `conta-observer-dao.ipynb`. Adapte o exemplo para que um ponto de transação envie para objetos `IMovimento` transações serializadas em XML (usando o modelo de String em memória, não por arquivo).\n",
    "\n",
    "Os objetos conta devem deserializar o XML e aplicar e registrar a transação, como no modelo original.\n",
    "\n",
    "## Resolução"
   ]
  },
  {
   "cell_type": "code",
   "execution_count": null,
   "metadata": {},
   "outputs": [],
   "source": []
  }
 ],
 "metadata": {
  "kernelspec": {
   "display_name": "Java",
   "language": "java",
   "name": "java"
  },
  "language_info": {
   "codemirror_mode": "java",
   "file_extension": ".java",
   "mimetype": "text/x-java-source",
   "name": "Java",
   "pygments_lexer": "java",
   "version": "10.0.1+10-Debian-4"
  }
 },
 "nbformat": 4,
 "nbformat_minor": 2
}
