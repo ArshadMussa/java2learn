{
 "cells": [
  {
   "cell_type": "markdown",
   "metadata": {},
   "source": [
    "# Exercícios para Prova 1"
   ]
  },
  {
   "cell_type": "markdown",
   "metadata": {},
   "source": [
    "## Questão 1\n",
    "\n",
    "**Escreva um programa que leia uma lista contendo o peso de uma série de indivíduos em um vetor denúmeros reais. A lista possui 150 elementos.\n",
    "Depois que a lista foi toda inserida o programa deve procurar e imprimir qual a posição no vetor onde está o menor peso.**\n",
    "\n",
    "Abaixo tem um exemplo de como gerar um peso aleatório para inicialização do vetor."
   ]
  },
  {
   "cell_type": "code",
   "execution_count": 107,
   "metadata": {},
   "outputs": [
    {
     "name": "stdout",
     "output_type": "stream",
     "text": [
      "57.639653410674\n"
     ]
    }
   ],
   "source": [
    "import java.util.Random;\n",
    "\n",
    "Random rand = new Random();\n",
    "\n",
    "double r = rand.nextGaussian()*10 + 60; //Valor em distribuição Gaussiana com média 60 e desvio padrão 10. \n",
    "System.out.println(r)"
   ]
  },
  {
   "cell_type": "markdown",
   "metadata": {},
   "source": [
    "## Resposta 1"
   ]
  },
  {
   "cell_type": "code",
   "execution_count": null,
   "metadata": {},
   "outputs": [],
   "source": []
  },
  {
   "cell_type": "markdown",
   "metadata": {},
   "source": [
    "## Questão 2\n",
    "**A linguagem Java dispõe de um suporte nativo a vetores, que exige a definição de seu tamanho nomomento da instanciação. Depois de instanciado, o tamanho do vetor não pode ser modificado. Escrevauma classe  chamada Vetor  cujos objetos simulem vetores de tamanho variável. A classe define osseguintes métodos:**\n",
    "\n",
    "| Método     | Descrição                                                                                                                                                                                                                                                                                       |\n",
    "|------------|-------------------------------------------------------------------------------------------------------------------------------------------------------------------------------------------------------------------------------------------------------------------------------------------------|\n",
    "| construtor | recebe como parâmetro o tamanho inicial do vetor                                                                                                                                                                                                                                                |\n",
    "| insert     | recebe como parâmetro uma string e a coloca na próxima posição disponível do vetor; note que o vetor cresce automaticamente, portanto, se a inserção ultrapassar o tamanho inicial estabelecido   na   criação,   por   exemplo,   o   vetor   deve   aumentar   seu   tamanho automaticamente. |\n",
    "| get        | recebe como parâmetro uma posição do vetor e retorna a string que estiver naquela posição; se a posição não estiver ocupada ou ultrapassar o tamanho do vetor, este método retorna nulo                                                                                                         |\n",
    "| size       | retorna o número de elementos inseridos no vetor (independente do tamanho do mesmo)\n",
    "\n",
    "O java dispõe de classes – tal como a Vector – que realizam a tarefa solicitada nesta questão. Taisclasses não devem ser usadas. É possível resolver esta questão apenas usando o sistema de vetorespreexistente do Java, sem nenhum comando especial extra"
   ]
  },
  {
   "cell_type": "markdown",
   "metadata": {},
   "source": [
    "## Resposta 2"
   ]
  },
  {
   "cell_type": "code",
   "execution_count": null,
   "metadata": {},
   "outputs": [],
   "source": []
  },
  {
   "cell_type": "markdown",
   "metadata": {},
   "source": [
    "# Questão 3\n",
    "Dada uma classe Equipamento na qual cada objeto representa um conjunto de N equipamentos deuma empresa com seus respectivos valores, cujo diagrama UML está representado a seguir:\n",
    "![uml](UML3.png)\n",
    "\n",
    "| Método                | Descrição                                                                                       |\n",
    "|-----------------------|-------------------------------------------------------------------------------------------------|\n",
    "| construtor            | recebe como parâmetro o número de equipamentos e cria um vetor de valores do respectivo tamanho |\n",
    "| getNumeroEquipamentos | retorna o número de equipamentos                                                                |\n",
    "| getValor              | recebe como parâmetro o número do equipamento (começando de zero) e retorna seu valor.          |\n",
    "| setValor              | recebe como parâmetro o número do equipamento e seu valor e o registra                          |\n",
    "\n",
    "Cada equipamento possui um código numérico sequencial, começando de zero, que corresponde a suaposição no vetor.Escreva uma classe, herdeira da classe Equipamento, denominada EquipamentoCorrigido em que cadaobjeto   representa   os   mesmos   equipamentos   com   valor   corrigido,   conforme   diagrama   UML   parcialrepresentado anteriormente.Todo equipamento só é corrigido anualmente no mês em que foi comprado, por este motivo a classedeve acrescentar para cada equipamento um registro do seu mês de compra. Além disto, deve possuir osmétodos:\n",
    "\n",
    "| Método       | Descrição                                                                                                                                                                                                                                                                                                                                                                                                          |\n",
    "|--------------|--------------------------------------------------------------------------------------------------------------------------------------------------------------------------------------------------------------------------------------------------------------------------------------------------------------------------------------------------------------------------------------------------------------------|\n",
    "| construtor   | recebe como parâmetros o número de equipamentos e o mês corrente.                                                                                                                                                                                                                                                                                                                                                  |\n",
    "| getMesCompra | recebe como parâmetro o número do equipamento (começando de zero) e retorna seu mês de compra.                                                                                                                                                                                                                                                                                                                     |\n",
    "| setMesCompra | recebe como parâmetro o número do equipamento e seu mês de compra e o registra.                                                                                                                                                                                                                                                                                                                                    |\n",
    "| corrige      | este método recebe como parâmetro apenas o percentual de correção e corrige todos os equipamentos cujo mês de compra seja igual ao mês corrente; O objeto deve manter registrado em um atributo o mês corrente, que deve começar sempre em janeiro (quando o objeto é construído). Cada vez que este método é chamado, após a correção, o mês é incrementado de um e, se estiver em dezembro, retorna para janeiro |\n",
    "| substitui    | recebe como parâmetro um outro objeto da classe EquipamentoCorrigido e substitui o valor e o mês de compra de todos os equipamentos do objeto corrente pelos do objeto recebido como parâmetro; a operação só será realizada se ambos os objetos possuírem o mesmo número de equipamentos                                                                                                                          |\n",
    "\n",
    "**Note que o atributo “valor” da classe Equipamento é privado, portanto, só poderá ser acessadoindiretamente, até mesmo pela classe herdeira.**"
   ]
  },
  {
   "cell_type": "markdown",
   "metadata": {},
   "source": [
    "## Resposta 3"
   ]
  },
  {
   "cell_type": "code",
   "execution_count": null,
   "metadata": {},
   "outputs": [],
   "source": []
  },
  {
   "cell_type": "markdown",
   "metadata": {},
   "source": [
    "# Questão 4\n",
    "![questao4](questao4.png)"
   ]
  },
  {
   "cell_type": "markdown",
   "metadata": {},
   "source": [
    "## Resposta 4"
   ]
  }
 ],
 "metadata": {
  "kernelspec": {
   "display_name": "Java",
   "language": "java",
   "name": "java"
  },
  "language_info": {
   "codemirror_mode": "java",
   "file_extension": ".java",
   "mimetype": "text/x-java-source",
   "name": "Java",
   "pygments_lexer": "java",
   "version": "10.0.2+13-Ubuntu-1ubuntu0.18.04.4"
  }
 },
 "nbformat": 4,
 "nbformat_minor": 2
}
