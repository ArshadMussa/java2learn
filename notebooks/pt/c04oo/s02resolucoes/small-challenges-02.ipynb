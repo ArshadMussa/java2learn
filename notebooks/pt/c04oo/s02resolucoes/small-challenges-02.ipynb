{
 "cells": [
  {
   "cell_type": "markdown",
   "metadata": {},
   "source": [
    "# Small Challenges 2\n",
    "\n",
    "Analise a classe abaixo:"
   ]
  },
  {
   "cell_type": "code",
   "execution_count": 2,
   "metadata": {},
   "outputs": [
    {
     "name": "stdout",
     "output_type": "stream",
     "text": [
      "25\n"
     ]
    }
   ],
   "source": [
    "public class Operacao {\n",
    "    public int soma(int n1, int n2) {\n",
    "       return n1 + n2;\n",
    "    }\n",
    "}\n",
    "\n",
    "Operacao op = new Operacao();\n",
    "System.out.println(op.soma(10, 15));"
   ]
  },
  {
   "cell_type": "markdown",
   "metadata": {},
   "source": [
    "# Exercício\n",
    "\n",
    "Considerando que o Integer.parseInt() converte uma String para um inteiro. Ajuste ou estenda a classe para que aceite as operações a seguir:"
   ]
  },
  {
   "cell_type": "code",
   "execution_count": null,
   "metadata": {},
   "outputs": [],
   "source": []
  },
  {
   "cell_type": "code",
   "execution_count": 3,
   "metadata": {},
   "outputs": [
    {
     "ename": "CompilationException",
     "evalue": "",
     "output_type": "error",
     "traceback": [
      "\u001b[1m\u001b[30m|   \u001b[1m\u001b[30mSystem.out.println(op.soma(10, \u001b[0m\u001b[1m\u001b[30m\u001b[41m\"15\"\u001b[0m\u001b[1m\u001b[30m));\u001b[0m",
      "\u001b[1m\u001b[31mincompatible types: java.lang.String cannot be converted to int\u001b[0m",
      ""
     ]
    }
   ],
   "source": [
    "Operacao op = new Operacao();\n",
    "System.out.println(op.soma(10, \"15\"));\n",
    "System.out.println(op.soma(\"10\", 15));\n",
    "System.out.println(op.soma(\"10\", \"15\"));"
   ]
  },
  {
   "cell_type": "markdown",
   "metadata": {},
   "source": [
    "# Resposta"
   ]
  },
  {
   "cell_type": "code",
   "execution_count": 4,
   "metadata": {},
   "outputs": [],
   "source": [
    "public class Operacao {\n",
    "    public int soma(int n1, int n2) {\n",
    "       return n1 + n2;\n",
    "    }\n",
    "    public int soma(String n1, int n2) {\n",
    "       return Integer.parseInt(n1) + n2;\n",
    "    }\n",
    "    public int soma(int n1, String n2) {\n",
    "       return n1 + Integer.parseInt(n2);\n",
    "    }\n",
    "    public int soma(String n1, String n2) {\n",
    "       return Integer.parseInt(n1) + Integer.parseInt(n2);\n",
    "    }\n",
    "}"
   ]
  },
  {
   "cell_type": "code",
   "execution_count": 5,
   "metadata": {},
   "outputs": [
    {
     "name": "stdout",
     "output_type": "stream",
     "text": [
      "25\n",
      "25\n",
      "25\n"
     ]
    }
   ],
   "source": [
    "Operacao op = new Operacao();\n",
    "System.out.println(op.soma(10, \"15\"));\n",
    "System.out.println(op.soma(\"10\", 15));\n",
    "System.out.println(op.soma(\"10\", \"15\"));"
   ]
  }
 ],
 "metadata": {
  "kernelspec": {
   "display_name": "Java",
   "language": "java",
   "name": "java"
  },
  "language_info": {
   "codemirror_mode": "java",
   "file_extension": ".java",
   "mimetype": "text/x-java-source",
   "name": "Java",
   "pygments_lexer": "java",
   "version": "10.0.1+10-Debian-4"
  }
 },
 "nbformat": 4,
 "nbformat_minor": 2
}
