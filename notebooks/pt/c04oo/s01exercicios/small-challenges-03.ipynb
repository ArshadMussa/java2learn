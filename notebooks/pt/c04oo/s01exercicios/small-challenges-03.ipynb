{
 "cells": [
  {
   "cell_type": "markdown",
   "metadata": {},
   "source": [
    "# Small Challenges 3\n",
    "\n",
    "Dadas as seguintes classes:"
   ]
  },
  {
   "cell_type": "code",
   "execution_count": 4,
   "metadata": {},
   "outputs": [],
   "source": [
    "public class CA {\n",
    "    public String toString() {\n",
    "        return \"primeiro\";\n",
    "    }\n",
    "}\n",
    "\n",
    "public class CB {\n",
    "    private CA referencia;\n",
    "    public CB(CA referencia) {\n",
    "        this.referencia = referencia;\n",
    "    }\n",
    "    \n",
    "    public String toString() {\n",
    "        return referencia + \" segundo\";\n",
    "    }\n",
    "}"
   ]
  },
  {
   "cell_type": "markdown",
   "metadata": {},
   "source": [
    "# Exercício\n",
    "\n",
    "Como você escreveria em uma única linha um código para imprimir `primeiro segundo` usando as strings produzidas pelas classes."
   ]
  },
  {
   "cell_type": "code",
   "execution_count": 5,
   "metadata": {},
   "outputs": [
    {
     "name": "stdout",
     "output_type": "stream",
     "text": [
      "primeiro segundo\n"
     ]
    }
   ],
   "source": []
  },
  {
   "cell_type": "markdown",
   "metadata": {},
   "source": [
    "# Outro desafio\n",
    "\n",
    "Estude o código a seguir:"
   ]
  },
  {
   "cell_type": "code",
   "execution_count": 19,
   "metadata": {},
   "outputs": [
    {
     "name": "stdout",
     "output_type": "stream",
     "text": [
      "maior: 30\n",
      "menor: 9\n"
     ]
    }
   ],
   "source": [
    "public class C {\n",
    "    protected int valor;\n",
    "    public C(int valor) {\n",
    "        this.valor = valor;\n",
    "    }\n",
    "    public void operacao(int novoValor) {\n",
    "        valor = novoValor;\n",
    "    }\n",
    "    public String toString() {\n",
    "        return Integer.toString(valor);\n",
    "    }\n",
    "}\n",
    "\n",
    "public class CMaior extends C {\n",
    "    public CMaior(int valor) {\n",
    "        super(valor);\n",
    "    }\n",
    "    public void operacao(int novoValor) {\n",
    "        if (novoValor > valor)\n",
    "            valor = novoValor;\n",
    "    }\n",
    "}\n",
    "\n",
    "public class CMenor extends C {\n",
    "    public CMenor(int valor) {\n",
    "        super(valor);\n",
    "    }\n",
    "    public void operacao(int novoValor) {\n",
    "        if (novoValor < valor)\n",
    "            valor = novoValor;\n",
    "    }\n",
    "}\n",
    "\n",
    "\n",
    "C maior = new CMaior(12);\n",
    "maior.operacao(30);\n",
    "maior.operacao(15);\n",
    "maior.operacao(9);\n",
    "System.out.println(\"maior: \" + maior);\n",
    "\n",
    "C menor = new CMenor(12);\n",
    "menor.operacao(30);\n",
    "maior.operacao(15);\n",
    "menor.operacao(9);\n",
    "System.out.println(\"menor: \" + menor);"
   ]
  },
  {
   "cell_type": "markdown",
   "metadata": {},
   "source": [
    "# Exercício\n",
    "\n",
    "Como você escreveria o método `operacao` de CVetor para que mostrasse o maior e menor valor no código subsequente."
   ]
  },
  {
   "cell_type": "code",
   "execution_count": 20,
   "metadata": {},
   "outputs": [],
   "source": [
    "public class CVetor {\n",
    "    C referencia;\n",
    "    public CVetor(C referencia) {\n",
    "        this.referencia = referencia;\n",
    "    }\n",
    "    \n",
    "    public void operacao(int valores[]) {\n",
    "        /* escreva este codigo */\n",
    "    }\n",
    "    \n",
    "    public String toString() {\n",
    "        return referencia.toString();\n",
    "    }\n",
    "}"
   ]
  },
  {
   "cell_type": "code",
   "execution_count": 21,
   "metadata": {},
   "outputs": [
    {
     "name": "stdout",
     "output_type": "stream",
     "text": [
      "maior: 30\n",
      "maior: 9\n"
     ]
    }
   ],
   "source": [
    "int valores[] = {30, 15, 9};\n",
    "\n",
    "CVetor vetorMaior = new CVetor(new CMaior(12));\n",
    "vetorMaior.operacao(valores);\n",
    "System.out.println(\"maior: \" + vetorMaior);\n",
    "\n",
    "CVetor vetorMenor = new CVetor(new CMenor(12));\n",
    "vetorMenor.operacao(valores);\n",
    "System.out.println(\"maior: \" + vetorMenor);"
   ]
  }
 ],
 "metadata": {
  "kernelspec": {
   "display_name": "Java",
   "language": "java",
   "name": "java"
  },
  "language_info": {
   "codemirror_mode": "java",
   "file_extension": ".java",
   "mimetype": "text/x-java-source",
   "name": "Java",
   "pygments_lexer": "java",
   "version": "10.0.1+10-Debian-4"
  }
 },
 "nbformat": 4,
 "nbformat_minor": 2
}
