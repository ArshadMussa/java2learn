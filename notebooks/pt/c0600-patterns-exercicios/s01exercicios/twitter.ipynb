{
 "cells": [
  {
   "cell_type": "markdown",
   "metadata": {},
   "source": [
    "# Exercício\n",
    "\n",
    "Dado o seguinte grafo que representa pessoas que seguem pessoas no Twitter.\n",
    "\n",
    "![Grafo Twitter](grafo-twitter.svg)\n",
    "\n",
    "**Figura 1**\n",
    "\n",
    "A classe `Pessoa` abaixo representa uma pessoa (um nó desse grafo) e uma aresta direcionada do nó `A` para o nó `B` significa que `B` segue `A`.\n",
    "\n",
    "Cada vez que o método `twita` é acionado em uma `Pessoa X`, o `tweet` passado como parâmetro deve ser entregue para todos os que seguem `X`.\n",
    "\n",
    "Implemente esse mecanismo de entrega de `tweets` usando o pattern `Observer`. Se necessário, modifique a classe `Pessoa` e implemente novas classes e interfaces.\n",
    "\n",
    "Escreva um código que teste alguns tweets."
   ]
  },
  {
   "cell_type": "code",
   "execution_count": 1,
   "metadata": {},
   "outputs": [],
   "source": [
    "public abstract class Pessoa {\n",
    "    private String nome;\n",
    "    \n",
    "    public Pessoa(String nome) {\n",
    "        this.nome = nome;\n",
    "    }\n",
    "   \n",
    "    public String getNome() {\n",
    "        return nome;\n",
    "    }\n",
    "    \n",
    "    public abstract void twita(String tweet);\n",
    "}"
   ]
  },
  {
   "cell_type": "markdown",
   "metadata": {},
   "source": [
    "## Resolução"
   ]
  },
  {
   "cell_type": "code",
   "execution_count": null,
   "metadata": {},
   "outputs": [],
   "source": []
  },
  {
   "cell_type": "markdown",
   "metadata": {},
   "source": [
    "# Exercício\n",
    "\n",
    "Considere a seguinte representação em XML:\n",
    "* `<PESSOA></PESSOA>` - Há um elemento (tag) desse para cada pessoa, com um atributo `nome` contendo o nome da pessoa como o exemplo:\n",
    "~~~xml\n",
    "<PESSOA nome=\"A\">\n",
    "</PESSOA>\n",
    "<PESSOA nome=\"B\">\n",
    "</PESSOA>\n",
    "~~~\n",
    "\n",
    "\n",
    "* `<SEGUIDOR/>` - Há um elemento desse cada vez que uma `Pessoa X` segue uma `Pessoa Y`. Nesse exemplo o elemento `<SEGUIDOR>` fica subordinado à `Pessoa X` e tem um atributo `nome` indicando que a `Pessoa Y` é seguidor da `Pessoa X`. Veja a seguir o XML correspondente ao grafo da **Figura 1**:\n",
    "~~~xml\n",
    "<PESSOA nome=\"A\">\n",
    "    <SEGUIDOR nome=\"B\"/>\n",
    "    <SEGUIDOR nome=\"C\"/>\n",
    "    <SEGUIDOR nome=\"D\"/>\n",
    "</PESSOA>\n",
    "<PESSOA nome=\"B\">\n",
    "    <SEGUIDOR nome=\"E\"/>\n",
    "</PESSOA>\n",
    "<PESSOA nome=\"C\">\n",
    "    <SEGUIDOR nome=\"E\"/>\n",
    "</PESSOA>\n",
    "<PESSOA nome=\"D\">\n",
    "    <SEGUIDOR nome=\"F\"/>\n",
    "</PESSOA>\n",
    "<PESSOA nome=\"E\">\n",
    "</PESSOA>\n",
    "<PESSOA nome=\"F\">\n",
    "</PESSOA>\n",
    "~~~\n",
    "\n",
    "## Parte 1\n",
    "\n",
    "Usando `Pipe&Filter` escreva um método que receba como parâmetro um objeto da classe `Pessoa` ou herdeira e a serialize.\n",
    "\n",
    "## Resolução"
   ]
  },
  {
   "cell_type": "code",
   "execution_count": null,
   "metadata": {},
   "outputs": [],
   "source": []
  },
  {
   "cell_type": "markdown",
   "metadata": {},
   "source": [
    "## Parte 2\n",
    "    \n",
    "Modifique o método da Parte 1 de modo que se comporte sob o pattern DAO.\n",
    "\n",
    "## Resolução"
   ]
  },
  {
   "cell_type": "code",
   "execution_count": null,
   "metadata": {},
   "outputs": [],
   "source": []
  },
  {
   "cell_type": "markdown",
   "metadata": {},
   "source": [
    "## Parte 3\n",
    "    \n",
    "Modifique o processo de serialização de forma que ele se comporte de forma recursiva, ou seja, dado uma `Pessoa` a ser serializada, ela também dispara o processo para a serialização de todos os seus assinantes, que por sua vez recursivamente também disparam a serialização de seus assinantes e assim sucessivamente.\n",
    "\n",
    "Considere que o grafo é acíclico.\n",
    "\n",
    "Veja como seria serializado um pedaço do grafo da **Figura 1** se fosse disparada a serialização da `Pessoa A`:\n",
    "~~~xml\n",
    "<PESSOA nome=\"A\">\n",
    "    <SEGUIDOR nome=\"B\"/>\n",
    "    <SEGUIDOR nome=\"C\"/>\n",
    "    <SEGUIDOR nome=\"D\"/>\n",
    "</PESSOA>\n",
    "<PESSOA nome=\"B\">\n",
    "    <SEGUIDOR nome=\"E\"/>\n",
    "</PESSOA>\n",
    "<PESSOA nome=\"C\">\n",
    "    <SEGUIDOR nome=\"E\"/>\n",
    "</PESSOA>\n",
    "<PESSOA nome=\"D\">\n",
    "    <SEGUIDOR nome=\"F\"/>\n",
    "</PESSOA>\n",
    "<PESSOA nome=\"E\">\n",
    "</PESSOA>\n",
    "<PESSOA nome=\"F\">\n",
    "</PESSOA>\n",
    "~~~\n",
    "\n",
    "## Resolução"
   ]
  },
  {
   "cell_type": "code",
   "execution_count": null,
   "metadata": {},
   "outputs": [],
   "source": []
  },
  {
   "cell_type": "markdown",
   "metadata": {},
   "source": [
    "# Exercício\n",
    "\n",
    "No exercício anterior, o nome dos elementos (tags) e atributos dos tags foi preestabelecido. Considere que você gostaria de usar anotações para configurar o modo como as classes e propriedades são mapeados para XML. Para que seja possível, por exemplo, produzir alternativas como a seguir:\n",
    "~~~xml\n",
    "<PERSON name=\"A\">\n",
    "    <FOLLOWER name=\"B\"/>\n",
    "    <FOLLOWER name=\"C\"/>\n",
    "    <FOLLOWER name=\"D\"/>\n",
    "</PERSON>\n",
    "~~~\n",
    "\n",
    "Escreva as interfaces de anotação propostas e elabore um exemplo ilustrativo.\n",
    "\n",
    "## Resolução"
   ]
  },
  {
   "cell_type": "code",
   "execution_count": null,
   "metadata": {},
   "outputs": [],
   "source": []
  },
  {
   "cell_type": "markdown",
   "metadata": {},
   "source": [
    "# Exercício\n",
    "\n",
    "Escreva dois *Factory Methods*, o primeiro produz uma `Pessoa` ou herdeiro de pessoa o segundo produz uma aresta entre duas `Pessoas` ou herdeiros de `Pessoa`.\n",
    "\n",
    "## Resolução"
   ]
  },
  {
   "cell_type": "code",
   "execution_count": null,
   "metadata": {},
   "outputs": [],
   "source": []
  },
  {
   "cell_type": "markdown",
   "metadata": {},
   "source": [
    "## Desafio\n",
    "\n",
    "Como você expandiria para uma fábrica abstrata? Por exemplo, pense em outra linha de produto, e.g., outro tipo de nó e conexão."
   ]
  }
 ],
 "metadata": {
  "kernelspec": {
   "display_name": "Java",
   "language": "java",
   "name": "java"
  },
  "language_info": {
   "codemirror_mode": "java",
   "file_extension": ".java",
   "mimetype": "text/x-java-source",
   "name": "Java",
   "pygments_lexer": "java",
   "version": "10.0.1+10-Debian-4"
  }
 },
 "nbformat": 4,
 "nbformat_minor": 2
}
