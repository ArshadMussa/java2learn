{
 "cells": [
  {
   "cell_type": "markdown",
   "metadata": {},
   "source": [
    "# Do C++ ao Java\n",
    "\n",
    "Você está em um kernel em Java. Da mesma forma que no C++, este é um ambiente simplificado em que você pode escrever comandos diretamente (diferente do Java original).\n",
    "\n",
    "Por exemplo, para escrever algo no console (semelhante ao `printf` e `std::cout`) use o `System.out.println`."
   ]
  },
  {
   "cell_type": "code",
   "execution_count": 1,
   "metadata": {},
   "outputs": [
    {
     "name": "stdout",
     "output_type": "stream",
     "text": [
      "O dinossauro pulou na lama\n"
     ]
    }
   ],
   "source": [
    "System.out.println(\"O dinossauro pulou na lama\");"
   ]
  },
  {
   "cell_type": "markdown",
   "metadata": {},
   "source": [
    "## Variáveis e impressão de múltiplos valores\n",
    "\n",
    "Muita coisa no Java é derivado do C. Por exemplo, a declaração e manipulação de variáveis é equivalente em sua maior parte, como verá no exemplo a seguir.\n",
    "\n",
    "Você pode imprimir múltiplos valores apenas os concatenando com `+`. O Java cuida de fazer as conversões para concatená-los."
   ]
  },
  {
   "cell_type": "code",
   "execution_count": 2,
   "metadata": {},
   "outputs": [
    {
     "name": "stdout",
     "output_type": "stream",
     "text": [
      "Valor da variavel: 5\n"
     ]
    }
   ],
   "source": [
    "int var = 5;\n",
    "System.out.println(\"Valor da variavel: \" + var);"
   ]
  },
  {
   "cell_type": "markdown",
   "metadata": {},
   "source": [
    "## Convertendo o `emprestimo` em Java\n",
    "\n",
    "A forma de se escrever a classe empréstimo em Java é muito semelhante àquela do C++, como você verá adiante. Alguns conceitos operam de forma diferente por trás dos bastidores, mas isso veremos adiante.\n",
    "\n",
    "Compare o código a seguir com aquele do C++ e encontre as diferenças."
   ]
  },
  {
   "cell_type": "code",
   "execution_count": 4,
   "metadata": {},
   "outputs": [
    {
     "name": "stdout",
     "output_type": "stream",
     "text": [
      "Emprestimo 1: parcela 1 eh 200.0\n",
      "Emprestimo 2: parcela 1 eh 500.0\n",
      "Emprestimo 1: parcela 2 eh 202.0\n",
      "Emprestimo 2: parcela 2 eh 510.0\n",
      "Emprestimo 1: parcela 3 eh 204.02\n",
      "Emprestimo 2: parcela 3 eh 520.2\n",
      "Emprestimo 1: parcela 4 eh 206.06021\n",
      "Emprestimo 2: parcela 4 eh 530.604\n",
      "Emprestimo 1: parcela 5 eh 208.12082\n",
      "Emprestimo 2: parcela 5 eh 541.21606\n",
      "Emprestimo 2: parcela 6 eh 552.0404\n",
      "Emprestimo 2: parcela 7 eh 563.08124\n"
     ]
    }
   ],
   "source": [
    "class Emprestimo {\n",
    "    float s;\n",
    "    int   n;\n",
    "    float j;\n",
    "    int   corrente;\n",
    "    float p;\n",
    "\n",
    "    Emprestimo(float ps, int pn, float pj) {\n",
    "        s = ps;\n",
    "        n = pn;\n",
    "        j = pj;\n",
    "        corrente = 1;\n",
    "        p = ps;\n",
    "    }\n",
    "\n",
    "    float proximaParcela() {\n",
    "        float retorno = p;\n",
    "        corrente++;\n",
    "        if (corrente <= n)\n",
    "            p = p + (p * (j/100));\n",
    "        else\n",
    "            p = 0;\n",
    "        return retorno;\n",
    "    }\n",
    "}\n",
    "\n",
    "// codigo principal\n",
    "\n",
    "Emprestimo emprestimo1 = new Emprestimo(200, 5, 1),\n",
    "           emprestimo2 = new Emprestimo(500, 7, 2);\n",
    "\n",
    "int i = 1;\n",
    "float p1 = emprestimo1.proximaParcela();\n",
    "float p2 = emprestimo2.proximaParcela();\n",
    "while (p1 > 0 || p2 > 0) {\n",
    "    if (p1 > 0)\n",
    "        System.out.println(\"Emprestimo 1: parcela \" + i + \" eh \" + p1);\n",
    "    if (p2 > 0)\n",
    "        System.out.println(\"Emprestimo 2: parcela \" + i + \" eh \" + p2);\n",
    "    p1 = emprestimo1.proximaParcela();\n",
    "    p2 = emprestimo2.proximaParcela();\n",
    "    i++;\n",
    "}"
   ]
  },
  {
   "cell_type": "markdown",
   "metadata": {},
   "source": [
    "## Acionando o construtor com `new`\n",
    "\n",
    "No Java o construtor (que instancia o objeto) tem que ser chamado explicitamente através do operador `new`. Então quando escrevemos:\n",
    "\n",
    "```java\n",
    "Emprestimo emprestimo1 = new Emprestimo(200, 5, 1);\n",
    "```\n",
    "Estamos declarando a variável `emprestimo1`, instanciando um objeto empréstimo e atribuindo a ela. Também poderíamos fazer em duas partes:\n",
    "\n",
    "```java\n",
    "Emprestimo emprestimo1;\n",
    "emprestimo1 = new Emprestimo(200, 5, 1);\n",
    "```"
   ]
  }
 ],
 "metadata": {
  "kernelspec": {
   "display_name": "Java",
   "language": "java",
   "name": "java"
  },
  "language_info": {
   "codemirror_mode": "java",
   "file_extension": ".java",
   "mimetype": "text/x-java-source",
   "name": "Java",
   "pygments_lexer": "java",
   "version": "10.0.1+10-Debian-4"
  }
 },
 "nbformat": 4,
 "nbformat_minor": 2
}
